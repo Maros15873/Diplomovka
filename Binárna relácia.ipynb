{
 "cells": [
  {
   "cell_type": "markdown",
   "metadata": {},
   "source": [
    "<b>Binárna relácia</b>\n",
    "<p>Množinu R nazveme binárnou reláciou, ak jej jediné prvky sú usporiadané dvojice, t.j.</p>\n",
    "<b>∀x ∈ R ∃y ∃z x = (y, z).</b>\n",
    "<div>Príkladom takejto relácie je ľubovoľná podmnožina karteziánskeho súčinu A x B. V takomto prípade ju nazveme binárnou reláciou medzi prvkami  množín A a B (v tomto poradí) alebo tiež binárnou reláciou z množiny A do množiny B, tak hovoríme o relácii na množine A.</div>"
   ]
  },
  {
   "cell_type": "code",
   "execution_count": 148,
   "metadata": {},
   "outputs": [],
   "source": [
    "class BinaryRelation:\n",
    "    \n",
    "    def __init__(self, name=\"R\"):\n",
    "        self.name = name\n",
    "        self.bRelation = set() #binarna relacia\n",
    "        \n",
    "    def setName(self, name):\n",
    "        self.name = name\n",
    "        \n",
    "    def __repr__(self):\n",
    "        dom = self.dom()\n",
    "        rng = self.rng()\n",
    "        r = f\"{self.name} = {self.bRelation}\\n\"\n",
    "        matrix = self.matrixRepresentation()\n",
    "        r += f\"   {str(rng)[1:-1]}\\n\"\n",
    "        i = 0\n",
    "        dom = list(dom)\n",
    "        for elem in matrix:\n",
    "            r += f\"{dom[i]} {elem}\\n\"\n",
    "            i += 1\n",
    "        return r\n",
    "        \n",
    "    def dom(self):\n",
    "        dom = set()\n",
    "        a = list(self.bRelation)\n",
    "        for elem in a:\n",
    "            x,_ = elem\n",
    "            dom.add(x)\n",
    "        return dom\n",
    "        \n",
    "    def rng(self):\n",
    "        rng = set()\n",
    "        a = list(self.bRelation)\n",
    "        for elem in a:\n",
    "            _,x = elem\n",
    "            rng.add(x)\n",
    "        return rng\n",
    "    \n",
    "    def union(self, S):\n",
    "        return self.bRelation.union(S)\n",
    "        \n",
    "    def intersection(self, S):\n",
    "        return self.bRelation.intersection(S.bRelation)\n",
    "    \n",
    "    def composition(self, S):\n",
    "        rng = self.rng()\n",
    "        y = rng.intersection(S.dom())\n",
    "        \n",
    "        a = list(self.bRelation)\n",
    "        b = list(S.bRelation)\n",
    "        n = set()\n",
    "        \n",
    "        for e1 in a:\n",
    "            i,j = e1\n",
    "            if j in y:\n",
    "                for e2 in b:\n",
    "                    k,l = e2\n",
    "                    if k == j:\n",
    "                        n.add((i,l))\n",
    "                        \n",
    "        comp = BinaryRelation()\n",
    "        comp.bRelation = n\n",
    "        \n",
    "        return comp\n",
    "        \n",
    "    def converse(self):\n",
    "        n = set()\n",
    "        \n",
    "        for e in self.bRelation:\n",
    "            i,j = e\n",
    "            n.add((j,i))\n",
    "        \n",
    "        comp = BinaryRelation()\n",
    "        comp.bRelation = n\n",
    "        \n",
    "        return comp\n",
    "        \n",
    "        \n",
    "    def complement(self):\n",
    "        n = set()\n",
    "        \n",
    "        for i in self.dom():\n",
    "            for j in self.rng():\n",
    "                if (i,j) not in self.bRelation:\n",
    "                    n.add((i,j))\n",
    "                    \n",
    "        comp = BinaryRelation()\n",
    "        comp.bRelation = n\n",
    "        \n",
    "        return comp\n",
    "        \n",
    "    def restriction(self, S):\n",
    "        inter = self.intersection(S)\n",
    "        n = set()\n",
    "        \n",
    "        for elem in self.bRelation:\n",
    "            if elem not in inter:\n",
    "                n.add(elem)\n",
    "                \n",
    "        res = BinaryRelation()\n",
    "        res.bRelation = n\n",
    "        \n",
    "        return res\n",
    "        \n",
    "    def matrixRepresentation(self):\n",
    "        dom = self.dom()\n",
    "        rng = self.rng()\n",
    "        matrix =  [[0 for col in range(len(rng))] for row in range(len(dom))]\n",
    "        dom = list(dom)\n",
    "        rng = list(rng)\n",
    "        for elem in self.bRelation:\n",
    "            i,j = elem\n",
    "            matrix[dom.index(i)][rng.index(j)] = 1\n",
    "        return matrix\n",
    "        "
   ]
  },
  {
   "cell_type": "code",
   "execution_count": 149,
   "metadata": {},
   "outputs": [
    {
     "name": "stdout",
     "output_type": "stream",
     "text": [
      "R = {(1, 7), (2, 5), (3, 4), (1, 4)}\n",
      "   4, 5, 7\n",
      "1 [1, 0, 1]\n",
      "2 [0, 1, 0]\n",
      "3 [1, 0, 0]\n",
      "\n"
     ]
    }
   ],
   "source": [
    "b = BinaryRelation(\"R\")\n",
    "b.bRelation = {(1,4),(1,7),(2,5),(3,4)}\n",
    "print(b)"
   ]
  },
  {
   "cell_type": "code",
   "execution_count": 151,
   "metadata": {},
   "outputs": [
    {
     "name": "stdout",
     "output_type": "stream",
     "text": [
      "R = {(1, 7), (2, 5)}\n",
      "   5, 7\n",
      "1 [0, 1]\n",
      "2 [1, 0]\n",
      "\n"
     ]
    }
   ],
   "source": [
    "bb = BinaryRelation(\"Rs\")\n",
    "bb.bRelation = {(1,4),(3,4)}\n",
    "print(b.restriction(bb))"
   ]
  },
  {
   "cell_type": "code",
   "execution_count": 138,
   "metadata": {},
   "outputs": [
    {
     "name": "stdout",
     "output_type": "stream",
     "text": [
      "R comlement = {(2, 4), (2, 7), (1, 5), (3, 7), (3, 5)}\n",
      "   4, 5, 7\n",
      "1 [0, 1, 0]\n",
      "2 [1, 0, 1]\n",
      "3 [0, 1, 1]\n",
      "\n"
     ]
    }
   ],
   "source": [
    "compl = b.complement()\n",
    "compl.setName(\"R comlement\")\n",
    "print(compl)"
   ]
  },
  {
   "cell_type": "code",
   "execution_count": 125,
   "metadata": {},
   "outputs": [
    {
     "name": "stdout",
     "output_type": "stream",
     "text": [
      "S = {(3, 7), (3, 2), (5, 7), (4, 8)}\n",
      "   8, 2, 7\n",
      "3 [0, 1, 1]\n",
      "4 [1, 0, 0]\n",
      "5 [0, 0, 1]\n",
      "\n"
     ]
    }
   ],
   "source": [
    "s = BinaryRelation(\"S\")\n",
    "s.bRelation = {(4,8),(3,7),(5,7),(3,2)}\n",
    "print(s)"
   ]
  },
  {
   "cell_type": "code",
   "execution_count": 126,
   "metadata": {},
   "outputs": [
    {
     "name": "stdout",
     "output_type": "stream",
     "text": [
      "R x S = {(3, 8), (1, 8), (2, 7)}\n",
      "   8, 7\n",
      "1 [1, 0]\n",
      "2 [0, 1]\n",
      "3 [1, 0]\n",
      "\n"
     ]
    }
   ],
   "source": [
    "comp = b.composition(s)\n",
    "comp.setName(\"R x S\")\n",
    "print(comp)"
   ]
  },
  {
   "cell_type": "code",
   "execution_count": 127,
   "metadata": {},
   "outputs": [
    {
     "name": "stdout",
     "output_type": "stream",
     "text": [
      "RT = {(4, 3), (7, 1), (4, 1), (5, 2)}\n",
      "   1, 2, 3\n",
      "4 [1, 0, 1]\n",
      "5 [0, 1, 0]\n",
      "7 [1, 0, 0]\n",
      "\n"
     ]
    }
   ],
   "source": [
    "conv = b.converse()\n",
    "conv.setName(\"RT\")\n",
    "print(conv)"
   ]
  }
 ],
 "metadata": {
  "kernelspec": {
   "display_name": "Python 3",
   "language": "python",
   "name": "python3"
  },
  "language_info": {
   "codemirror_mode": {
    "name": "ipython",
    "version": 3
   },
   "file_extension": ".py",
   "mimetype": "text/x-python",
   "name": "python",
   "nbconvert_exporter": "python",
   "pygments_lexer": "ipython3",
   "version": "3.8.5"
  }
 },
 "nbformat": 4,
 "nbformat_minor": 4
}
