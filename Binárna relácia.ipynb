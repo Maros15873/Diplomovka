{
 "cells": [
  {
   "cell_type": "markdown",
   "metadata": {},
   "source": [
    "# Binárna relácia\n",
    "<p>\n",
    "    Množinu R nazveme binárnou reláciou, ak jej jediné prvky sú usporiadané dvojice, t.j.\n",
    "</p>\n",
    "\n",
    "<p>\n",
    "$$∀x ∈ R ∃y ∃z x = (y, z).$$\n",
    "</p>\n",
    "\n",
    "<p>\n",
    "Príkladom takejto relácie je ľubovoľná podmnožina karteziánskeho súčinu A x B. V takomto prípade ju nazveme binárnou reláciou medzi prvkami  množín A a B (v tomto poradí) alebo tiež binárnou reláciou z množiny A do množiny B, tak hovoríme o relácii na množine A.\n",
    "</p>"
   ]
  },
  {
   "cell_type": "code",
   "execution_count": 521,
   "metadata": {},
   "outputs": [],
   "source": [
    "class BinaryRelation:\n",
    "    \n",
    "    def __init__(self,A=None,B=None,name=\"R\"):\n",
    "        self.name = name\n",
    "        self.A = A\n",
    "        self.B = B\n",
    "        self.bRelation = set() #binarna relacia\n",
    "        \n",
    "    def setName(self, name):\n",
    "        self.name = name\n",
    "        \n",
    "    def __repr__(self):\n",
    "        dom = self.getSetA()\n",
    "        rng = self.getSetB()\n",
    "        r = f\"{self.name} = {self.bRelation}\\n\"\n",
    "        matrix = self.matrixRepresentation()\n",
    "        r += f\"   {str(rng)[1:-1]}\\n\"\n",
    "        i = 0\n",
    "        dom = list(dom)\n",
    "        for elem in matrix:\n",
    "            r += f\"{dom[i]} {elem}\\n\"\n",
    "            i += 1\n",
    "        return r\n",
    "    \n",
    "    def getSetA(self):\n",
    "        return self.A\n",
    "    \n",
    "    def getSetB(self):\n",
    "        return self.B\n",
    "        \n",
    "    def dom(self):\n",
    "        dom = set()\n",
    "        a = list(self.bRelation)\n",
    "        for elem in a:\n",
    "            x,_ = elem\n",
    "            dom.add(x)\n",
    "        return dom\n",
    "        \n",
    "    def rng(self):\n",
    "        rng = set()\n",
    "        a = list(self.bRelation)\n",
    "        for elem in a:\n",
    "            _,x = elem\n",
    "            rng.add(x)\n",
    "        return rng\n",
    "    \n",
    "    def union(self, S):\n",
    "        return self.bRelation.union(S)\n",
    "        \n",
    "    def intersection(self, S):\n",
    "        return self.bRelation.intersection(S.bRelation)\n",
    "    \n",
    "    def composition(self, S):\n",
    "        rng = self.rng()\n",
    "        y = rng.intersection(S.dom())\n",
    "        \n",
    "        a = list(self.bRelation)\n",
    "        b = list(S.bRelation)\n",
    "        n = set()\n",
    "        \n",
    "        for e1 in a:\n",
    "            i,j = e1\n",
    "            if j in y:\n",
    "                for e2 in b:\n",
    "                    k,l = e2\n",
    "                    if k == j:\n",
    "                        n.add((i,l))\n",
    "                        \n",
    "        comp = BinaryRelation(self.A,self.B)\n",
    "        comp.bRelation = n\n",
    "        \n",
    "        return comp\n",
    "        \n",
    "        \n",
    "    def converse(self):\n",
    "        n = set()\n",
    "        \n",
    "        for e in self.bRelation:\n",
    "            i,j = e\n",
    "            n.add((j,i))\n",
    "        \n",
    "        comp = BinaryRelation(self.A,self.B)\n",
    "        comp.bRelation = n\n",
    "        \n",
    "        return comp\n",
    "        \n",
    "        \n",
    "    def complement(self):\n",
    "        n = set()\n",
    "        \n",
    "        for i in self.getSetA():\n",
    "            for j in self.getSetB():\n",
    "                if (i,j) not in self.bRelation:\n",
    "                    n.add((i,j))\n",
    "                    \n",
    "        comp = BinaryRelation(self.A,self.B)\n",
    "        comp.bRelation = n\n",
    "        \n",
    "        return comp\n",
    "        \n",
    "    def restriction(self, S):\n",
    "        inter = self.getSetA().intersection(S)\n",
    "        n = set()\n",
    "        \n",
    "        for elem in self.bRelation:\n",
    "            i,j = elem\n",
    "            if i in inter and j in inter:\n",
    "                n.add(elem)\n",
    "                \n",
    "        res = BinaryRelation(self.A,self.A)\n",
    "        res.bRelation = n\n",
    "        \n",
    "        return res\n",
    "        \n",
    "    def matrixRepresentation(self):\n",
    "        dom = self.getSetA()\n",
    "        rng = self.getSetB()\n",
    "        matrix =  [[0 for col in range(len(rng))] for row in range(len(dom))]\n",
    "        dom = list(dom)\n",
    "        rng = list(rng)\n",
    "        for elem in self.bRelation:\n",
    "            i,j = elem\n",
    "            matrix[dom.index(i)][rng.index(j)] = 1\n",
    "        return matrix\n",
    "    \n",
    "    def isReflexive(self):\n",
    "        for elem in self.bRelation:\n",
    "            a,b = elem\n",
    "            if (a,a) not in self.bRelation or (b,b) not in self.bRelation:\n",
    "                return False\n",
    "        return True\n",
    "    \n",
    "    def isSymetric(self):\n",
    "        for elem in self.bRelation:\n",
    "            a,b = elem\n",
    "            if (b,a) not in self.bRelation:\n",
    "                return False\n",
    "        return True\n",
    "        \n",
    "    def isAntisymetric(self):\n",
    "        for elem in self.bRelation:\n",
    "            a,b = elem\n",
    "            if (b,a) in self.bRelation and (a != b):\n",
    "                return False\n",
    "        return True\n",
    "    \n",
    "    def isTransitive(self):\n",
    "        \n",
    "        def relationWith():\n",
    "            d = dict()\n",
    "            for elem in self.bRelation:\n",
    "                a,b = elem\n",
    "                if a in d.keys():\n",
    "                    d[a].add(b)\n",
    "                else:\n",
    "                    d[a] = {b}\n",
    "                if b in d.keys():\n",
    "                    pass\n",
    "                else:\n",
    "                    d[b] = set()\n",
    "            return d\n",
    "        \n",
    "        d = relationWith()\n",
    "        for elem in self.bRelation:\n",
    "            a,b = elem\n",
    "            for e in d[b]:\n",
    "                if e not in d[a]:\n",
    "                    return False\n",
    "        return True\n",
    "        "
   ]
  },
  {
   "cell_type": "code",
   "execution_count": 522,
   "metadata": {},
   "outputs": [],
   "source": [
    "from graphviz import Digraph\n",
    "from IPython.display import IFrame, display\n",
    "\n",
    "def makeGraph(relation,name=\"graph\",filename='cluster.gv'):\n",
    "    g = Digraph(name=name, node_attr={'shape': 'plaintext'})\n",
    "    g.body.append(f'\\t label=\"{relation.name}\"')\n",
    "    g.body.append('\\t rankdir=LR;')\n",
    "    \n",
    "    with g.subgraph(name='cluster_dom', node_attr={'shape' : 'circle'}) as a:\n",
    "        a.body.append('\\t label=\"A\"')\n",
    "        for elem in relation.getSetA():\n",
    "            a.node(str(elem))\n",
    "    \n",
    "    with g.subgraph(name='cluster_rng', node_attr={'shape' : 'circle'}) as b:\n",
    "        b.body.append('\\t label=\"B\"')\n",
    "        for elem in relation.getSetB():\n",
    "            b.node(str(elem)+\"R\",str(elem))\n",
    "            #node(name, label=None, _attributes=None, **attrs)\n",
    "           \n",
    "    for elem in relation.bRelation:\n",
    "        a,b = elem\n",
    "        g.edge(str(a),str(b)+\"R\")\n",
    "        \n",
    "    return g"
   ]
  },
  {
   "cell_type": "code",
   "execution_count": 523,
   "metadata": {},
   "outputs": [
    {
     "name": "stdout",
     "output_type": "stream",
     "text": [
      "R(A→B) = {(4, 4), (2, 4), (3, 4), (2, 3), (3, 2), (1, 3), (3, 5)}\n",
      "   1, 2, 3, 4, 5\n",
      "1 [0, 0, 1, 0, 0]\n",
      "2 [0, 0, 1, 1, 0]\n",
      "3 [0, 1, 0, 1, 1]\n",
      "4 [0, 0, 0, 1, 0]\n",
      "5 [0, 0, 0, 0, 0]\n",
      "\n",
      "reflexive: False\n",
      "symetric: False\n",
      "antisymetric: False\n",
      "transitive: False\n"
     ]
    },
    {
     "data": {
      "text/html": [
       "\n",
       "        <iframe\n",
       "            width=\"400\"\n",
       "            height=\"800\"\n",
       "            src=\"graph_01.gv.pdf\"\n",
       "            frameborder=\"0\"\n",
       "            allowfullscreen\n",
       "        ></iframe>\n",
       "        "
      ],
      "text/plain": [
       "<IPython.lib.display.IFrame at 0x1d4c05a7ca0>"
      ]
     },
     "execution_count": 523,
     "metadata": {},
     "output_type": "execute_result"
    }
   ],
   "source": [
    "A = {1,2,3,4,5} \n",
    "B = {1,2,3,4,5}\n",
    "b = BinaryRelation(A,B,\"R(A→B)\")\n",
    "b.bRelation = {(1,3),(2,3),(2,4),(3,5),(3,2),(3,4),(4,4)}\n",
    "print(b)\n",
    "print(f\"reflexive: {b.isReflexive()}\")\n",
    "print(f\"symetric: {b.isSymetric()}\")\n",
    "print(f\"antisymetric: {b.isAntisymetric()}\")\n",
    "print(f\"transitive: {b.isTransitive()}\")\n",
    "\n",
    "\n",
    "g = makeGraph(b,\"graph_01\")\n",
    "#print(g.source)\n",
    "g.view()\n",
    "\n",
    "IFrame(\"graph_01.gv.pdf\", width=400, height=800)"
   ]
  },
  {
   "cell_type": "markdown",
   "metadata": {},
   "source": [
    "## Complement\n",
    "\n",
    "<p>\n",
    "Ak R je binárna relácia z množiny A do množiny B potom:\n",
    "</p>\n",
    "\n",
    "<p>\n",
    "$$ R = \\{(x, y) | ¬ xRy\\} $$\n",
    "</p>\n",
    "\n",
    "<p>\n",
    "je complement R.\n",
    "</p>"
   ]
  },
  {
   "cell_type": "code",
   "execution_count": 524,
   "metadata": {},
   "outputs": [
    {
     "name": "stdout",
     "output_type": "stream",
     "text": [
      "R comlement = {(3, 4), (4, 3), (3, 1), (5, 4), (5, 1), (2, 2), (2, 5), (4, 2), (4, 5), (3, 3), (5, 3), (1, 2), (2, 1), (1, 5), (3, 2), (4, 4), (5, 5), (1, 1), (1, 4)}\n",
      "   1, 2, 3, 4, 5\n",
      "1 [1, 1, 0, 1, 1]\n",
      "2 [1, 1, 0, 0, 1]\n",
      "3 [1, 1, 1, 1, 0]\n",
      "4 [0, 1, 1, 1, 1]\n",
      "5 [1, 0, 1, 1, 1]\n",
      "\n"
     ]
    },
    {
     "data": {
      "text/html": [
       "\n",
       "        <iframe\n",
       "            width=\"400\"\n",
       "            height=\"800\"\n",
       "            src=\"graph_02.gv.pdf\"\n",
       "            frameborder=\"0\"\n",
       "            allowfullscreen\n",
       "        ></iframe>\n",
       "        "
      ],
      "text/plain": [
       "<IPython.lib.display.IFrame at 0x1d4bfa45eb0>"
      ]
     },
     "execution_count": 524,
     "metadata": {},
     "output_type": "execute_result"
    }
   ],
   "source": [
    "A = {1,2,3,4,5} \n",
    "B = {1,2,3,4,5}\n",
    "b = BinaryRelation(A,B,\"R(A->B)\")\n",
    "b.bRelation = {(1,3),(2,3),(2,4),(5,2),(3,5),(4,1)}\n",
    "\n",
    "compl = b.complement()\n",
    "compl.setName(\"R comlement\")\n",
    "print(compl)\n",
    "\n",
    "g = makeGraph(compl,\"graph_02\")\n",
    "g.view()\n",
    "IFrame(\"graph_02.gv.pdf\", width=400, height=800)"
   ]
  },
  {
   "cell_type": "code",
   "execution_count": 525,
   "metadata": {},
   "outputs": [
    {
     "name": "stdout",
     "output_type": "stream",
     "text": [
      "S(A→B) = {(2, 4), (3, 3), (3, 2), (2, 5), (4, 1)}\n",
      "   1, 2, 3, 4, 5\n",
      "1 [0, 0, 0, 0, 0]\n",
      "2 [0, 0, 0, 1, 1]\n",
      "3 [0, 1, 1, 0, 0]\n",
      "4 [1, 0, 0, 0, 0]\n",
      "5 [0, 0, 0, 0, 0]\n",
      "\n"
     ]
    },
    {
     "data": {
      "text/html": [
       "\n",
       "        <iframe\n",
       "            width=\"400\"\n",
       "            height=\"800\"\n",
       "            src=\"graph_03.gv.pdf\"\n",
       "            frameborder=\"0\"\n",
       "            allowfullscreen\n",
       "        ></iframe>\n",
       "        "
      ],
      "text/plain": [
       "<IPython.lib.display.IFrame at 0x1d4bf80b8b0>"
      ]
     },
     "execution_count": 525,
     "metadata": {},
     "output_type": "execute_result"
    }
   ],
   "source": [
    "A = {1,2,3,4,5} \n",
    "B = {1,2,3,4,5}\n",
    "s = BinaryRelation(A,B,\"S(A→B)\")\n",
    "s.bRelation = {(3,3),(2,5),(2,4),(3,2),(4,1)}\n",
    "\n",
    "print(s)\n",
    "\n",
    "g = makeGraph(s,\"graph_03\")\n",
    "g.view()\n",
    "IFrame(\"graph_03.gv.pdf\", width=400, height=800)"
   ]
  },
  {
   "cell_type": "markdown",
   "metadata": {},
   "source": [
    "## Composition\n",
    "\n",
    "<p>\n",
    "Ak R je binárna relácia z množiny A do množiny B a S je binárna relácia z množiny B do množiny C, tak potom:\n",
    "</p>\n",
    "\n",
    "<p>\n",
    "$$ S ∘ R = \\{(a, c) |  ∃b∈B, aRb ∧ bSc\\} $$\n",
    "</p>\n",
    "\n",
    "<p>\n",
    "je composition binárnej relácie R a S.\n",
    "</p>"
   ]
  },
  {
   "cell_type": "code",
   "execution_count": 526,
   "metadata": {},
   "outputs": [
    {
     "name": "stdout",
     "output_type": "stream",
     "text": [
      "R x S = {(1, 3), (1, 2), (2, 1), (3, 4), (3, 1), (2, 3), (2, 2), (4, 1), (3, 5)}\n",
      "   1, 2, 3, 4, 5\n",
      "1 [0, 1, 1, 0, 0]\n",
      "2 [1, 1, 1, 0, 0]\n",
      "3 [1, 0, 0, 1, 1]\n",
      "4 [1, 0, 0, 0, 0]\n",
      "5 [0, 0, 0, 0, 0]\n",
      "\n"
     ]
    },
    {
     "data": {
      "text/html": [
       "\n",
       "        <iframe\n",
       "            width=\"400\"\n",
       "            height=\"800\"\n",
       "            src=\"graph_04.gv.pdf\"\n",
       "            frameborder=\"0\"\n",
       "            allowfullscreen\n",
       "        ></iframe>\n",
       "        "
      ],
      "text/plain": [
       "<IPython.lib.display.IFrame at 0x1d4bff6bc40>"
      ]
     },
     "execution_count": 526,
     "metadata": {},
     "output_type": "execute_result"
    }
   ],
   "source": [
    "A = {1,2,3,4,5} \n",
    "B = {1,2,3,4,5}\n",
    "\n",
    "b = BinaryRelation(A,B,\"R(A→B)\")\n",
    "b.bRelation = {(1,3),(2,3),(2,4),(3,5),(3,2),(3,4),(4,4)}\n",
    "\n",
    "s = BinaryRelation(A,B,\"S(A→B)\")\n",
    "s.bRelation = {(3,3),(2,5),(2,4),(3,2),(4,1)}\n",
    "\n",
    "comp = b.composition(s)\n",
    "comp.setName(\"R x S\")\n",
    "print(comp)\n",
    "\n",
    "g = makeGraph(comp,\"graph_04\")\n",
    "g.view()\n",
    "IFrame(\"graph_04.gv.pdf\", width=400, height=800)"
   ]
  },
  {
   "cell_type": "markdown",
   "metadata": {},
   "source": [
    "## Restriction\n",
    "\n",
    "<p>\n",
    "Ak R je binárna relácia nad množinou A a S je podmnožina A potom: \n",
    "</p>\n",
    "\n",
    "<p>\n",
    "$$ R_{|S} = \\{(x, y) | xRy ∧ x ∈ S ∧ y ∈ S\\} $$\n",
    "</p>\n",
    "\n",
    "<p>\n",
    "je restriction R ku S nad A.\n",
    "</p>"
   ]
  },
  {
   "cell_type": "code",
   "execution_count": 527,
   "metadata": {},
   "outputs": [
    {
     "name": "stdout",
     "output_type": "stream",
     "text": [
      "restriction = {(2, 3), (3, 2), (3, 5)}\n",
      "   1, 2, 3, 4, 5\n",
      "1 [0, 0, 0, 0, 0]\n",
      "2 [0, 0, 1, 0, 0]\n",
      "3 [0, 1, 0, 0, 1]\n",
      "4 [0, 0, 0, 0, 0]\n",
      "5 [0, 0, 0, 0, 0]\n",
      "\n"
     ]
    },
    {
     "data": {
      "text/html": [
       "\n",
       "        <iframe\n",
       "            width=\"400\"\n",
       "            height=\"800\"\n",
       "            src=\"graph_05.gv.pdf\"\n",
       "            frameborder=\"0\"\n",
       "            allowfullscreen\n",
       "        ></iframe>\n",
       "        "
      ],
      "text/plain": [
       "<IPython.lib.display.IFrame at 0x1d4bfa57220>"
      ]
     },
     "execution_count": 527,
     "metadata": {},
     "output_type": "execute_result"
    }
   ],
   "source": [
    "A = {1,2,3,4,5} \n",
    "\n",
    "b = BinaryRelation(A,A,\"R(A->A)\")\n",
    "b.bRelation = {(1,3),(2,3),(2,4),(3,5),(3,2),(3,4),(4,4)}\n",
    "\n",
    "s = {2,3,5}\n",
    "\n",
    "res = b.restriction(s)\n",
    "res.setName(\"restriction\")\n",
    "print(res)\n",
    "g = makeGraph(res,\"graph_05\")\n",
    "g.view()\n",
    "IFrame(\"graph_05.gv.pdf\", width=400, height=800)"
   ]
  },
  {
   "cell_type": "markdown",
   "metadata": {},
   "source": [
    "## Converse\n",
    "<p>\n",
    "Ak R je binárna relácia z množiny A do množiny B potom:\n",
    "</p>\n",
    "\n",
    "<p>\n",
    "$$ R^T = \\{(b, a) | a R b\\}  $$\n",
    "</p>\n",
    "\n",
    "<p>\n",
    "je converse R.\n",
    "</p>"
   ]
  },
  {
   "cell_type": "code",
   "execution_count": 528,
   "metadata": {},
   "outputs": [
    {
     "name": "stdout",
     "output_type": "stream",
     "text": [
      "converse = {(3, 1), (1, 4), (4, 2), (5, 3), (3, 2), (2, 5)}\n",
      "   1, 2, 3, 4, 5\n",
      "1 [0, 0, 0, 1, 0]\n",
      "2 [0, 0, 0, 0, 1]\n",
      "3 [1, 1, 0, 0, 0]\n",
      "4 [0, 1, 0, 0, 0]\n",
      "5 [0, 0, 1, 0, 0]\n",
      "\n"
     ]
    },
    {
     "data": {
      "text/html": [
       "\n",
       "        <iframe\n",
       "            width=\"400\"\n",
       "            height=\"800\"\n",
       "            src=\"graph_06.gv.pdf\"\n",
       "            frameborder=\"0\"\n",
       "            allowfullscreen\n",
       "        ></iframe>\n",
       "        "
      ],
      "text/plain": [
       "<IPython.lib.display.IFrame at 0x1d4bfba4400>"
      ]
     },
     "execution_count": 528,
     "metadata": {},
     "output_type": "execute_result"
    }
   ],
   "source": [
    "A = {1,2,3,4,5} \n",
    "B = {1,2,3,4,5}\n",
    "\n",
    "b = BinaryRelation(A,B,\"R(A->B)\")\n",
    "b.bRelation = {(1,3),(2,3),(2,4),(5,2),(3,5),(4,1)}\n",
    "\n",
    "conv = b.converse()\n",
    "conv.setName(\"converse\")\n",
    "\n",
    "print(conv)\n",
    "g = makeGraph(conv,\"graph_06\")\n",
    "g.view()\n",
    "IFrame(\"graph_06.gv.pdf\", width=400, height=800)"
   ]
  }
 ],
 "metadata": {
  "kernelspec": {
   "display_name": "Python 3",
   "language": "python",
   "name": "python3"
  },
  "language_info": {
   "codemirror_mode": {
    "name": "ipython",
    "version": 3
   },
   "file_extension": ".py",
   "mimetype": "text/x-python",
   "name": "python",
   "nbconvert_exporter": "python",
   "pygments_lexer": "ipython3",
   "version": "3.8.5"
  }
 },
 "nbformat": 4,
 "nbformat_minor": 4
}
