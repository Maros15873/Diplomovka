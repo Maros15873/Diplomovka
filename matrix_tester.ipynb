{
 "cells": [
  {
   "cell_type": "code",
   "execution_count": 1,
   "id": "fa512193",
   "metadata": {},
   "outputs": [
    {
     "name": "stderr",
     "output_type": "stream",
     "text": [
      "..........................................................................\n",
      "----------------------------------------------------------------------\n",
      "Ran 74 tests in 0.554s\n",
      "\n",
      "OK\n"
     ]
    }
   ],
   "source": [
    "%run binaryRelation.ipynb"
   ]
  },
  {
   "cell_type": "code",
   "execution_count": 5,
   "id": "4a66d09f",
   "metadata": {},
   "outputs": [],
   "source": [
    "from graphviz import Digraph, Graph\n",
    "from IPython.display import IFrame, display\n",
    "\n",
    "class BinaryRelationGraphRepr(BinaryRelation):\n",
    "        \n",
    "    def new_row(self, values, head=None):\n",
    "        row = \"<TR>\"\n",
    "        \n",
    "        if head is not None:\n",
    "            row += f\"<TD color=\\\"white\\\">{head}</TD>\"\n",
    "            \n",
    "        for p in values:\n",
    "            row += f\"<TD color=\\\"black\\\">{p}</TD>\"\n",
    "            \n",
    "        row += \"</TR>\"\n",
    "        \n",
    "        return row\n",
    "    \n",
    "    def new_header(self, values):\n",
    "        \n",
    "        row = \"<TR><TD color=\\\"white\\\"></TD>\"\n",
    "            \n",
    "        for p in values:\n",
    "            row += f\"<TD color=\\\"white\\\">{p}</TD>\"\n",
    "            \n",
    "        row += \"</TR>\"\n",
    "        \n",
    "        return row\n",
    "\n",
    "    \n",
    "    def create_matrix(self, name, values, label=None):\n",
    "        \n",
    "        label = f'\\t label=\"R(A→C)\"'\n",
    "        \n",
    "        matrix, dom, codom = values\n",
    "        \n",
    "        g = Graph(name=name, node_attr={'shape': 'none'})\n",
    "        \n",
    "        g.body.append(label)\n",
    "        \n",
    "        r = \"<<TABLE color=\\\"white\\\">\"\n",
    "        r += self.new_header(codom)\n",
    "        for i in range(len(matrix)):\n",
    "            r += self.new_row(matrix[i], dom[i])\n",
    "        r += \"</TABLE>>\"\n",
    "        g.node('tab', label=f'{r}')\n",
    "        return g\n",
    "            "
   ]
  },
  {
   "cell_type": "code",
   "execution_count": 6,
   "id": "8be2d898",
   "metadata": {},
   "outputs": [
    {
     "name": "stdout",
     "output_type": "stream",
     "text": [
      "graph matrix_23 {\n",
      "\tnode [shape=none]\n",
      "\t label=\"R(A→C)\"\n",
      "\ttab [label=<<TABLE color=\"white\"><TR><TD color=\"white\"></TD><TD color=\"white\">1</TD><TD color=\"white\">2</TD><TD color=\"white\">3</TD><TD color=\"white\">4</TD></TR><TR><TD color=\"white\">a</TD><TD color=\"black\">0</TD><TD color=\"black\">0</TD><TD color=\"black\">1</TD><TD color=\"black\">1</TD></TR><TR><TD color=\"white\">b</TD><TD color=\"black\">0</TD><TD color=\"black\">0</TD><TD color=\"black\">1</TD><TD color=\"black\">1</TD></TR><TR><TD color=\"white\">c</TD><TD color=\"black\">0</TD><TD color=\"black\">0</TD><TD color=\"black\">0</TD><TD color=\"black\">0</TD></TR></TABLE>>]\n",
      "}\n"
     ]
    },
    {
     "data": {
      "text/html": [
       "\n",
       "        <iframe\n",
       "            width=\"800\"\n",
       "            height=\"800\"\n",
       "            src=\"matrix_23.gv.pdf\"\n",
       "            frameborder=\"0\"\n",
       "            allowfullscreen\n",
       "        ></iframe>\n",
       "        "
      ],
      "text/plain": [
       "<IPython.lib.display.IFrame at 0x1f7861e4970>"
      ]
     },
     "execution_count": 6,
     "metadata": {},
     "output_type": "execute_result"
    }
   ],
   "source": [
    "r = BinaryRelationGraphRepr({('a',3),('b',3),('a',4),('b',4)},{'a','b','c'},{1,2,3,4})\n",
    "#print(r)\n",
    "\n",
    "g = r.create_matrix(\"matrix_23\", r.matrix_representation())\n",
    "print(g.source)\n",
    "#g.view() #vytvori pdf\n",
    "\n",
    "IFrame(\"matrix_23.gv.pdf\", width=800, height=800)"
   ]
  },
  {
   "cell_type": "code",
   "execution_count": 7,
   "id": "dab043ed",
   "metadata": {},
   "outputs": [
    {
     "name": "stdout",
     "output_type": "stream",
     "text": [
      "([[0, 0, 1, 1], [0, 0, 1, 1], [0, 0, 0, 0]], [a, b, c], [1, 2, 3, 4])\n"
     ]
    }
   ],
   "source": [
    "values = r.matrix_representation()\n",
    "print(values)"
   ]
  },
  {
   "cell_type": "code",
   "execution_count": null,
   "id": "334284e4",
   "metadata": {},
   "outputs": [],
   "source": []
  }
 ],
 "metadata": {
  "kernelspec": {
   "display_name": "Python 3",
   "language": "python",
   "name": "python3"
  },
  "language_info": {
   "codemirror_mode": {
    "name": "ipython",
    "version": 3
   },
   "file_extension": ".py",
   "mimetype": "text/x-python",
   "name": "python",
   "nbconvert_exporter": "python",
   "pygments_lexer": "ipython3",
   "version": "3.9.4"
  }
 },
 "nbformat": 4,
 "nbformat_minor": 5
}
