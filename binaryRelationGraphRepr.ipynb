{
 "cells": [
  {
   "cell_type": "code",
   "execution_count": 4,
   "id": "e1170474",
   "metadata": {},
   "outputs": [
    {
     "name": "stderr",
     "output_type": "stream",
     "text": [
      "..........................................................................\n",
      "----------------------------------------------------------------------\n",
      "Ran 74 tests in 0.498s\n",
      "\n",
      "OK\n"
     ]
    }
   ],
   "source": [
    "%run binaryRelation.ipynb"
   ]
  },
  {
   "cell_type": "code",
   "execution_count": 26,
   "id": "28f3609f",
   "metadata": {},
   "outputs": [],
   "source": [
    "from graphviz import Digraph, Graph\n",
    "from IPython.display import IFrame, display\n",
    "\n",
    "class BinaryRelationGraphRepr(BinaryRelation):\n",
    "    \n",
    "    def makeGraph(self, name=\"graph\",filename='cluster.gv'):\n",
    "        g = Digraph(name=name, node_attr={'shape': 'circle'})\n",
    "        g.body.append(f'\\t label=\"R(A→B)\"')\n",
    "        g.body.append('\\t rankdir=LR;')\n",
    "        \n",
    "        dom = self.get_domain()\n",
    "        codom = self.get_codomain()\n",
    "        relation = self.get_relation()\n",
    "\n",
    "        with g.subgraph(name='cluster_dom', node_attr={'shape' : 'circle'}) as s1:\n",
    "            s1.body.append('\\t label=\"A\"')\n",
    "            for x in dom:\n",
    "                s1.node(str(x))\n",
    "\n",
    "        with g.subgraph(name='cluster_rng', node_attr={'shape' : 'circle'}) as s2:\n",
    "            s2.body.append('\\t label=\"B\"')\n",
    "            for x in codom:\n",
    "                s2.node(str(x)+\"R\",str(x))\n",
    "\n",
    "        for x,y in relation:\n",
    "            g.edge(str(x),str(y)+\"R\")\n",
    "\n",
    "        return g\n",
    "    \n",
    "    def makeMatrix(self, name=\"graph\",filename='cluster.gv'):\n",
    "        g = Graph(name=name, node_attr={'shape': 'rectangle'})\n",
    "        #g.body.append(f'\\t label=\"R(A→B)\"')\n",
    "        #g.body.append('\\t rankdir=LR;')\n",
    "        \n",
    "        dom = self.get_domain()\n",
    "        codom = self.get_codomain()\n",
    "        relation = self.get_relation()\n",
    "        \n",
    "        matrix = self.set2matrix(dom, codom)\n",
    "        dictionary = self.matrix_relations_dictionary(matrix)\n",
    "\n",
    "        with g.subgraph(node_attr={'shape' : 'rectangle'}) as s1:\n",
    "\n",
    "            for p in matrix:\n",
    "                s1.node(str(p))\n",
    "        \n",
    "            for p in matrix:\n",
    "                for p1 in dictionary[p]:\n",
    "                    g.edge(str(p),str(p1))\n",
    "\n",
    "        return g\n",
    "    \n",
    "    def set2matrix(self, input_set1, input_set2 = None):\n",
    "        if input_set2 is None: input_set2 = input_set1;\n",
    "        return {(x,y) for x in input_set1 for y in input_set2}\n",
    "    \n",
    "    def matrix_relations_dictionary(self, matrix):\n",
    "        dictionary = dict()\n",
    "        for p in matrix:\n",
    "            dictionary[p] = set()\n",
    "            for p1 in matrix:\n",
    "                x0, y0 = p\n",
    "                x1, y1 = p1\n",
    "                if p != p1:\n",
    "                    if x0 == x1 and abs(y0 - y1) == 1:\n",
    "                        dictionary[p].add(p1)\n",
    "                    elif y0 == y1 and abs(x0 - x1) == 1:\n",
    "                        dictionary[p].add(p1)\n",
    "        return dictionary\n",
    "    \n",
    "    def foo(self):\n",
    "        s.node('struct3', '''<\n",
    "                <TABLE BORDER=\"0\" CELLBORDER=\"1\" CELLSPACING=\"0\" CELLPADDING=\"4\">\n",
    "                  <TR>\n",
    "                    <TD ROWSPAN=\"3\">hello<BR/>world</TD>\n",
    "                    <TD COLSPAN=\"3\">b</TD>\n",
    "                    <TD ROWSPAN=\"3\">g</TD>\n",
    "                    <TD ROWSPAN=\"3\">h</TD>\n",
    "                  </TR>\n",
    "                  <TR>\n",
    "                    <TD>c</TD>\n",
    "                    <TD PORT=\"here\">d</TD>\n",
    "                    <TD>e</TD>\n",
    "                  </TR>\n",
    "                  <TR>\n",
    "                    <TD COLSPAN=\"3\">f</TD>\n",
    "                  </TR>\n",
    "                </TABLE>>''')\n",
    "        \n",
    "    def foo2(self,name):\n",
    "        g = Graph(name=name, node_attr={'shape': 'none'}) \n",
    "        g.node('tab', label='''<<TABLE><TR><TD>left</TD><TD>right</TD></TR></TABLE>>''')\n",
    "        return g\n",
    "        \n"
   ]
  },
  {
   "cell_type": "code",
   "execution_count": 27,
   "id": "cf208ce2",
   "metadata": {},
   "outputs": [
    {
     "name": "stdout",
     "output_type": "stream",
     "text": [
      "graph matrix_04 {\n",
      "\tnode [shape=none]\n",
      "\ttab [label=<<TABLE><TR><TD>left</TD><TD>right</TD></TR></TABLE>>]\n",
      "}\n",
      "{(1, 2), (2, 1), (3, 1), (1, 1), (2, 3), (3, 3), (2, 2), (3, 2), (1, 3)}\n",
      "{(1, 2): {(1, 1), (1, 3), (2, 2)}, (2, 1): {(3, 1), (1, 1), (2, 2)}, (3, 1): {(3, 2), (2, 1)}, (1, 1): {(1, 2), (2, 1)}, (2, 3): {(3, 3), (1, 3), (2, 2)}, (3, 3): {(2, 3), (3, 2)}, (2, 2): {(2, 3), (3, 2), (1, 2), (2, 1)}, (3, 2): {(3, 1), (3, 3), (2, 2)}, (1, 3): {(2, 3), (1, 2)}}\n"
     ]
    }
   ],
   "source": [
    "r = BinaryRelationGraphRepr({(1,3),(2,3)},{1,2,3},{1,2,3})\n",
    "#print(r)\n",
    "\n",
    "g = r.foo2(\"matrix_04\")#r.makeMatrix(\"matrix_02\")\n",
    "print(g.source)\n",
    "g.view() #vytvori graph_01.gv.pdf\n",
    "\n",
    "matrix = r.set2matrix({1,2,3},{1,2,3})\n",
    "print(matrix)\n",
    "\n",
    "dictionary = r.matrix_relations_dictionary(matrix)\n",
    "print(dictionary)\n",
    "\n",
    "#IFrame(\"matrix_03.gv.pdf\", width=800, height=800)"
   ]
  },
  {
   "cell_type": "code",
   "execution_count": 12,
   "id": "0c037fba",
   "metadata": {},
   "outputs": [
    {
     "name": "stdout",
     "output_type": "stream",
     "text": [
      "\n",
      "domain:{1, 2, 3, 4, 5}\n",
      "codomain:{1, 2, 3, 4, 5}\n",
      "relation:{(1, 3),(2, 3),(2, 4),(3, 2),(3, 4),(3, 5),(4, 4)}\n",
      "\n",
      "digraph graph_01 {\n",
      "\tnode [shape=circle]\n",
      "\t label=\"R(A→B)\"\n",
      "\t rankdir=LR;\n",
      "\tsubgraph cluster_dom {\n",
      "\t\tnode [shape=circle]\n",
      "\t\t label=\"A\"\n",
      "\t\t1\n",
      "\t\t2\n",
      "\t\t3\n",
      "\t\t4\n",
      "\t\t5\n",
      "\t}\n",
      "\tsubgraph cluster_rng {\n",
      "\t\tnode [shape=circle]\n",
      "\t\t label=\"B\"\n",
      "\t\t\"1R\" [label=1]\n",
      "\t\t\"2R\" [label=2]\n",
      "\t\t\"3R\" [label=3]\n",
      "\t\t\"4R\" [label=4]\n",
      "\t\t\"5R\" [label=5]\n",
      "\t}\n",
      "\t1 -> \"3R\"\n",
      "\t2 -> \"3R\"\n",
      "\t2 -> \"4R\"\n",
      "\t3 -> \"2R\"\n",
      "\t3 -> \"4R\"\n",
      "\t3 -> \"5R\"\n",
      "\t4 -> \"4R\"\n",
      "}\n"
     ]
    },
    {
     "data": {
      "text/html": [
       "\n",
       "        <iframe\n",
       "            width=\"400\"\n",
       "            height=\"800\"\n",
       "            src=\"graph_01.gv.pdf\"\n",
       "            frameborder=\"0\"\n",
       "            allowfullscreen\n",
       "        ></iframe>\n",
       "        "
      ],
      "text/plain": [
       "<IPython.lib.display.IFrame at 0x1d9b2683b50>"
      ]
     },
     "execution_count": 12,
     "metadata": {},
     "output_type": "execute_result"
    }
   ],
   "source": [
    "r = BinaryRelationGraphRepr({(1,3),(2,3),(2,4),(3,5),(3,2),(3,4),(4,4)},{1,2,3,4,5},{1,2,3,4,5})\n",
    "print(r)\n",
    "\n",
    "g = r.makeGraph(\"graph_01\")\n",
    "print(g.source)\n",
    "#g.view() #vytvori graph_01.gv.pdf\n",
    "\n",
    "IFrame(\"graph_01.gv.pdf\", width=400, height=800)"
   ]
  },
  {
   "cell_type": "code",
   "execution_count": null,
   "id": "40fe2ff4",
   "metadata": {},
   "outputs": [],
   "source": []
  }
 ],
 "metadata": {
  "kernelspec": {
   "display_name": "Python 3",
   "language": "python",
   "name": "python3"
  },
  "language_info": {
   "codemirror_mode": {
    "name": "ipython",
    "version": 3
   },
   "file_extension": ".py",
   "mimetype": "text/x-python",
   "name": "python",
   "nbconvert_exporter": "python",
   "pygments_lexer": "ipython3",
   "version": "3.9.4"
  }
 },
 "nbformat": 4,
 "nbformat_minor": 5
}
