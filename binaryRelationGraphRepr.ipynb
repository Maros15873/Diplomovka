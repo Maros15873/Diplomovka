{
 "cells": [
  {
   "cell_type": "code",
   "execution_count": 4,
   "id": "e1170474",
   "metadata": {
    "collapsed": true
   },
   "outputs": [
    {
     "name": "stdout",
     "output_type": "stream",
     "text": [
      "R = {(1, 1),(1, 2),(2, 1),(3, 3)}\n",
      "S = {(1, 3),(2, 2),(3, 1)}\n",
      "R∘S = {(1, 2),(1, 3),(2, 3),(3, 1)}\n",
      "\n",
      "is binary relation? R = True\n",
      "is binary relation? S = True\n",
      "\n",
      "is homogeneous relation? R = True\n",
      "is homogeneous relation? S = True\n",
      "\n",
      "is identity relation? R = False\n",
      "is identity relation? S = False\n",
      "\n",
      "S[A] = FiniteSet(2, 3)\n",
      "S-1[A] = FiniteSet(2, 3)\n",
      "\n",
      "dom S = FiniteSet(1, 2, 3)\n",
      "rng S = FiniteSet(1, 2, 3)\n",
      "\n",
      "R == S: False\n",
      "R != S: True\n",
      "R < S: False\n",
      "R <= S: False\n",
      "R > S: False\n",
      "R >= S: False\n",
      "\n",
      "R union S = {(1, 1),(1, 2),(1, 3),(2, 1),(2, 2),(3, 1),(3, 3)}\n",
      "R intersection S = {}\n",
      "R difference S = {(1, 1),(1, 2),(2, 1),(3, 3)}\n",
      "\n",
      "R complement = {(1, 3),(2, 2),(2, 3),(3, 1),(3, 2)}\n",
      "R∘S converse = {(1, 3),(2, 1),(3, 1),(3, 2)}\n",
      "\n",
      "'1' is in relation with: FiniteSet(1, 2) in R\n",
      "<class 'sympy.core.numbers.One'>\n",
      "<class 'sympy.core.numbers.Integer'>\n",
      "<class 'sympy.core.numbers.Integer'>\n"
     ]
    }
   ],
   "source": [
    "%run binaryRelation.ipynb"
   ]
  },
  {
   "cell_type": "code",
   "execution_count": 7,
   "id": "28f3609f",
   "metadata": {},
   "outputs": [],
   "source": [
    "from graphviz import Digraph\n",
    "from IPython.display import IFrame, display\n",
    "\n",
    "class BinaryRelationGraphRepr(BinaryRelation):\n",
    "    \n",
    "    def makeGraph(self, name=\"graph\",filename='cluster.gv'):\n",
    "        g = Digraph(name=name, node_attr={'shape': 'circle'})\n",
    "        g.body.append(f'\\t label=\"R(A→B)\"')\n",
    "        g.body.append('\\t rankdir=LR;')\n",
    "        \n",
    "        dom = self.get_domain()\n",
    "        codom = self.get_codomain()\n",
    "        relation = self.get_relation()\n",
    "\n",
    "        with g.subgraph(name='cluster_dom', node_attr={'shape' : 'circle'}) as s1:\n",
    "            s1.body.append('\\t label=\"A\"')\n",
    "            for x in dom:\n",
    "                s1.node(str(x))\n",
    "\n",
    "        with g.subgraph(name='cluster_rng', node_attr={'shape' : 'circle'}) as s2:\n",
    "            s2.body.append('\\t label=\"B\"')\n",
    "            for x in codom:\n",
    "                s2.node(str(x)+\"R\",str(x))\n",
    "\n",
    "        for x,y in relation:\n",
    "            g.edge(str(x),str(y)+\"R\")\n",
    "\n",
    "        return g\n",
    "    "
   ]
  },
  {
   "cell_type": "code",
   "execution_count": 8,
   "id": "0c037fba",
   "metadata": {},
   "outputs": [
    {
     "name": "stdout",
     "output_type": "stream",
     "text": [
      "{(1, 3),(2, 3),(2, 4),(3, 2),(3, 4),(3, 5),(4, 4)}\n"
     ]
    },
    {
     "data": {
      "text/html": [
       "\n",
       "        <iframe\n",
       "            width=\"400\"\n",
       "            height=\"800\"\n",
       "            src=\"graph_01.gv.pdf\"\n",
       "            frameborder=\"0\"\n",
       "            allowfullscreen\n",
       "        ></iframe>\n",
       "        "
      ],
      "text/plain": [
       "<IPython.lib.display.IFrame at 0x10b59bc3a90>"
      ]
     },
     "execution_count": 8,
     "metadata": {},
     "output_type": "execute_result"
    }
   ],
   "source": [
    "r = BinaryRelationGraphRepr({(1,3),(2,3),(2,4),(3,5),(3,2),(3,4),(4,4)},{1,2,3,4,5},{1,2,3,4,5})\n",
    "print(r)\n",
    "\n",
    "g = r.makeGraph(\"graph_01\")\n",
    "#print(g.source)\n",
    "#g.view() #vytvori graph_01.gv.pdf\n",
    "\n",
    "IFrame(\"graph_01.gv.pdf\", width=400, height=800)"
   ]
  },
  {
   "cell_type": "code",
   "execution_count": null,
   "id": "61485782",
   "metadata": {},
   "outputs": [],
   "source": []
  }
 ],
 "metadata": {
  "kernelspec": {
   "display_name": "Python 3",
   "language": "python",
   "name": "python3"
  },
  "language_info": {
   "codemirror_mode": {
    "name": "ipython",
    "version": 3
   },
   "file_extension": ".py",
   "mimetype": "text/x-python",
   "name": "python",
   "nbconvert_exporter": "python",
   "pygments_lexer": "ipython3",
   "version": "3.9.4"
  }
 },
 "nbformat": 4,
 "nbformat_minor": 5
}
