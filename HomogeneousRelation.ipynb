{
 "cells": [
  {
   "cell_type": "code",
   "execution_count": 28,
   "id": "ec264616",
   "metadata": {},
   "outputs": [
    {
     "name": "stdout",
     "output_type": "stream",
     "text": [
      "R = {(1, 1),(1, 2),(2, 1),(3, 3)}\n",
      "S = {(1, 3),(2, 2),(3, 1)}\n",
      "R∘S = {(1, 2),(1, 3),(2, 3),(3, 1)}\n",
      "R complement = {(1, 3),(2, 2),(2, 3),(3, 1),(3, 2)}\n",
      "R∘S converse = {(1, 3),(2, 1),(3, 1),(3, 2)}\n",
      "(R) 1 is in relation with: FiniteSet(1, 2)\n"
     ]
    }
   ],
   "source": [
    "%run BinaryRelation.ipynb"
   ]
  },
  {
   "cell_type": "code",
   "execution_count": 29,
   "id": "67a234b6",
   "metadata": {},
   "outputs": [],
   "source": [
    "class HomogeneousRelation(BinaryRelation):\n",
    "    \n",
    "    def __init__(self,set_=None,relation=None):\n",
    "        self._dom = FiniteSet(EmptySet) if set_ is None else FiniteSet(*set_)\n",
    "        self._rng = FiniteSet(EmptySet) if set_ is None else FiniteSet(*set_)\n",
    "        self._relation = FiniteSet(EmptySet) if relation is None else FiniteSet(*relation)\n",
    "        \n",
    "    def isReflexive(self):\n",
    "        relation = self.getRelation()\n",
    "        dom = self.getDom()\n",
    "        for e in dom:\n",
    "            if (e,e) not in relation:\n",
    "                return False\n",
    "        return True\n",
    "    \n",
    "    def isSymetric(self):\n",
    "        relation = self.getRelation()\n",
    "        for a,b in relation:\n",
    "            if (b,a) not in relation:\n",
    "                return False\n",
    "        return True\n",
    "    \n",
    "    def isAsymetric(self):\n",
    "        relation = self.getRelation()\n",
    "        for a,b in relation:\n",
    "            if (b,a) in relation:\n",
    "                return False\n",
    "        return True\n",
    "        \n",
    "    def isAntisymetric(self):\n",
    "        relation = self.getRelation()\n",
    "        for a,b in relation:\n",
    "            if (b,a) in relation and (a != b):\n",
    "                return False\n",
    "        return True\n",
    "    \n",
    "    def isTransitive(self):\n",
    "        \n",
    "        d = dict()\n",
    "        relation = self.getRelation()\n",
    "        \n",
    "        for a,b in relation:\n",
    "            if a in d.keys():\n",
    "                d[a].add(b)\n",
    "            else:\n",
    "                d[a] = {b}\n",
    "            if b in d.keys():\n",
    "                pass\n",
    "            else:\n",
    "                d[b] = set()\n",
    "                \n",
    "        for a,b in relation:\n",
    "            for e in d[b]:\n",
    "                if e not in d[a]:\n",
    "                    return False\n",
    "        return True"
   ]
  },
  {
   "cell_type": "code",
   "execution_count": 30,
   "id": "16e64e4b",
   "metadata": {},
   "outputs": [
    {
     "name": "stdout",
     "output_type": "stream",
     "text": [
      "False\n",
      "False\n",
      "False\n",
      "False\n",
      "False\n"
     ]
    }
   ],
   "source": [
    "r = HomogeneousRelation({1,2,3},{(1,1),(3,3),(1,2),(2,3),(2,1)})\n",
    "print(r.isReflexive())\n",
    "print(r.isSymetric())\n",
    "print(r.isAsymetric())\n",
    "print(r.isAntisymetric())\n",
    "print(r.isTransitive())"
   ]
  }
 ],
 "metadata": {
  "kernelspec": {
   "display_name": "Python 3",
   "language": "python",
   "name": "python3"
  },
  "language_info": {
   "codemirror_mode": {
    "name": "ipython",
    "version": 3
   },
   "file_extension": ".py",
   "mimetype": "text/x-python",
   "name": "python",
   "nbconvert_exporter": "python",
   "pygments_lexer": "ipython3",
   "version": "3.9.4"
  }
 },
 "nbformat": 4,
 "nbformat_minor": 5
}
