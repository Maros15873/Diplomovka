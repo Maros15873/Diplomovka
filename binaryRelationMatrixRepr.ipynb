{
 "cells": [
  {
   "cell_type": "code",
   "execution_count": 1,
   "id": "3bfb6f88",
   "metadata": {},
   "outputs": [
    {
     "name": "stdout",
     "output_type": "stream",
     "text": [
      "R = {(1, 4),(1, 5),(2, 4),(3, 6)}\n",
      "S = {(4, 9),(5, 8),(6, 7)}\n",
      "R∘S = {(1, 8),(1, 9),(2, 9),(3, 7)}\n",
      "\n",
      "is binary relation? R = True\n",
      "is binary relation? S = True\n",
      "\n",
      "is homogeneous relation? R = False\n",
      "is homogeneous relation? S = False\n",
      "\n",
      "is identity relation? R = False\n",
      "is identity relation? S = False\n",
      "\n",
      "S[A] = FiniteSet(8, 9)\n",
      "S-1[A] = FiniteSet(5, 6)\n",
      "\n",
      "dom S = FiniteSet(4, 5, 6)\n",
      "rng S = FiniteSet(7, 8, 9)\n",
      "\n",
      "R == S: False\n",
      "R != S: True\n",
      "R < S: False\n",
      "R <= S: False\n",
      "R > S: False\n",
      "R >= S: False\n",
      "\n",
      "R | S = FiniteSet((1, 4), (1, 5), (2, 4), (3, 6), (4, 9), (5, 8), (6, 7))\n",
      "R & S = EmptySet\n",
      "R - S = FiniteSet((1, 4), (1, 5), (2, 4), (3, 6))\n",
      "R ^ S = FiniteSet((1, 4), (1, 5), (2, 4), (3, 6), (4, 9), (5, 8), (6, 7))\n",
      "R * S = ProductSet(FiniteSet((1, 4), (1, 5), (2, 4), (3, 6)), FiniteSet((4, 9), (5, 8), (6, 7)))\n",
      "\n",
      "R complement = {(1, 6),(2, 5),(2, 6),(3, 4),(3, 5)}\n",
      "R∘S converse = {(7, 3),(8, 1),(9, 1),(9, 2)}\n",
      "\n",
      "'1' is in relation with: FiniteSet(4, 5) in R\n"
     ]
    }
   ],
   "source": [
    "%run binaryRelation.ipynb"
   ]
  },
  {
   "cell_type": "code",
   "execution_count": 2,
   "id": "9aeea211",
   "metadata": {},
   "outputs": [],
   "source": [
    "class BinaryRelationMatrixRepr(BinaryRelation):\n",
    "    \n",
    "    def __repr__(self):\n",
    "        r = \"\"\n",
    "        dom = list(self.get_domain())\n",
    "        codom = list(self.get_codomain())\n",
    "        matrix = self.matrix_representation()\n",
    "        r += f\"   {str(codom)[1:-1]}\\n\"\n",
    "        i = 0\n",
    "        for elem in matrix:\n",
    "            r += f\"{dom[i]} {elem}\\n\"\n",
    "            i += 1\n",
    "        return r\n",
    "    \n",
    "    def matrix_representation(self):\n",
    "        dom = list(self.get_domain())\n",
    "        codom = list(self.get_codomain())\n",
    "        relation = self.get_relation()\n",
    "        matrix =  [[0 for col in range(len(codom))] for row in range(len(dom))]\n",
    "        for i,j in relation:\n",
    "            matrix[dom.index(i)][codom.index(j)] = 1\n",
    "        return matrix"
   ]
  },
  {
   "cell_type": "code",
   "execution_count": 3,
   "id": "df326773",
   "metadata": {},
   "outputs": [
    {
     "name": "stdout",
     "output_type": "stream",
     "text": [
      "   1, 2, 3, 4, 5\n",
      "1 [1, 1, 1, 0, 0]\n",
      "2 [0, 0, 0, 0, 0]\n",
      "3 [0, 0, 0, 1, 1]\n",
      "4 [0, 0, 0, 0, 1]\n",
      "5 [0, 0, 0, 0, 0]\n",
      "\n"
     ]
    }
   ],
   "source": [
    "r = BinaryRelationMatrixRepr({(1,1),(1,2),(1,3),(3,4),(3,5),(4,5)},{1,2,3,4,5},{1,2,3,4,5})\n",
    "print(r)"
   ]
  }
 ],
 "metadata": {
  "kernelspec": {
   "display_name": "Python 3",
   "language": "python",
   "name": "python3"
  },
  "language_info": {
   "codemirror_mode": {
    "name": "ipython",
    "version": 3
   },
   "file_extension": ".py",
   "mimetype": "text/x-python",
   "name": "python",
   "nbconvert_exporter": "python",
   "pygments_lexer": "ipython3",
   "version": "3.9.4"
  }
 },
 "nbformat": 4,
 "nbformat_minor": 5
}
