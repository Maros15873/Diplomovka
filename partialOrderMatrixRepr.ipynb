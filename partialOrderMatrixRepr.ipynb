{
 "cells": [
  {
   "cell_type": "code",
   "execution_count": 1,
   "id": "85a5f539",
   "metadata": {
    "collapsed": true
   },
   "outputs": [
    {
     "name": "stdout",
     "output_type": "stream",
     "text": [
      "R = {(1, 1),(1, 2),(2, 1),(3, 3)}\n",
      "S = {(1, 3),(2, 2),(3, 1)}\n",
      "R∘S = {(1, 2),(1, 3),(2, 3),(3, 1)}\n",
      "\n",
      "is binary relation? R = True\n",
      "is binary relation? S = True\n",
      "\n",
      "is homogeneous relation? R = True\n",
      "is homogeneous relation? S = True\n",
      "\n",
      "is identity relation? R = False\n",
      "is identity relation? S = False\n",
      "\n",
      "S[A] = FiniteSet(2, 3)\n",
      "S-1[A] = FiniteSet(2, 3)\n",
      "\n",
      "dom S = FiniteSet(1, 2, 3)\n",
      "rng S = FiniteSet(1, 2, 3)\n",
      "\n",
      "R == S: False\n",
      "R != S: True\n",
      "R < S: False\n",
      "R <= S: False\n",
      "R > S: False\n",
      "R >= S: False\n",
      "\n",
      "R union S = {(1, 1),(1, 2),(1, 3),(2, 1),(2, 2),(3, 1),(3, 3)}\n",
      "R intersection S = {}\n",
      "R difference S = {(1, 1),(1, 2),(2, 1),(3, 3)}\n",
      "\n",
      "R complement = {(1, 3),(2, 2),(2, 3),(3, 1),(3, 2)}\n",
      "R∘S converse = {(1, 3),(2, 1),(3, 1),(3, 2)}\n",
      "\n",
      "'1' is in relation with: FiniteSet(1, 2) in R\n",
      "<class 'sympy.core.numbers.One'>\n",
      "<class 'sympy.core.numbers.Integer'>\n",
      "<class 'sympy.core.numbers.Integer'>\n",
      "True\n",
      "True\n",
      "False\n",
      "False\n",
      "True\n",
      "R = {(1, 1),(2, 2),(3, 3)}\n"
     ]
    }
   ],
   "source": [
    "%run partialOrder.ipynb"
   ]
  },
  {
   "cell_type": "code",
   "execution_count": 5,
   "id": "08638083",
   "metadata": {},
   "outputs": [],
   "source": [
    "class PartialOrderMatrixRepr(PartialOrder):\n",
    "    \n",
    "    def __repr__(self):\n",
    "        r = \"\"\n",
    "        dom = list(self.get_domain())\n",
    "        codom = list(self.get_codomain())\n",
    "        matrix = self.matrix_representation()\n",
    "        r += f\"   {str(codom)[1:-1]}\\n\"\n",
    "        i = 0\n",
    "        for x in matrix:\n",
    "            r += f\"{dom[i]} {x}\\n\"\n",
    "            i += 1\n",
    "        return r\n",
    "    \n",
    "    def matrix_representation(self):\n",
    "        dom = list(self.get_domain())\n",
    "        codom = list(self.get_codomain())\n",
    "        relation = self.get_relation()\n",
    "        matrix =  [[0 for col in range(len(codom))] for row in range(len(dom))]\n",
    "        for i,j in relation:\n",
    "            matrix[dom.index(i)][codom.index(j)] = 1\n",
    "        return matrix"
   ]
  },
  {
   "cell_type": "code",
   "execution_count": 6,
   "id": "23b75b1c",
   "metadata": {},
   "outputs": [
    {
     "name": "stdout",
     "output_type": "stream",
     "text": [
      "   1, 2, 3, 4, 5\n",
      "1 [1, 0, 0, 0, 0]\n",
      "2 [0, 1, 0, 0, 0]\n",
      "3 [0, 0, 1, 0, 0]\n",
      "4 [0, 0, 0, 1, 0]\n",
      "5 [0, 0, 0, 0, 1]\n",
      "\n"
     ]
    }
   ],
   "source": [
    "r = PartialOrderMatrixRepr({(1,1),(2,2),(3,3),(4,4),(5,5)},{1,2,3,4,5})\n",
    "print(r)"
   ]
  },
  {
   "cell_type": "code",
   "execution_count": null,
   "id": "2a4c07b4",
   "metadata": {},
   "outputs": [],
   "source": []
  }
 ],
 "metadata": {
  "kernelspec": {
   "display_name": "Python 3",
   "language": "python",
   "name": "python3"
  },
  "language_info": {
   "codemirror_mode": {
    "name": "ipython",
    "version": 3
   },
   "file_extension": ".py",
   "mimetype": "text/x-python",
   "name": "python",
   "nbconvert_exporter": "python",
   "pygments_lexer": "ipython3",
   "version": "3.9.4"
  }
 },
 "nbformat": 4,
 "nbformat_minor": 5
}
