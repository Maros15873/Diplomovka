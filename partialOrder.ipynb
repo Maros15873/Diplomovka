{
 "cells": [
  {
   "cell_type": "code",
   "execution_count": 1,
   "id": "fe2e17d9",
   "metadata": {
    "collapsed": true
   },
   "outputs": [
    {
     "name": "stdout",
     "output_type": "stream",
     "text": [
      "R = {(1, 1),(1, 2),(2, 1),(3, 3)}\n",
      "S = {(1, 3),(2, 2),(3, 1)}\n",
      "R∘S = {(1, 2),(1, 3),(2, 3),(3, 1)}\n",
      "\n",
      "is binary relation? R = True\n",
      "is binary relation? S = True\n",
      "\n",
      "is homogeneous relation? R = True\n",
      "is homogeneous relation? S = True\n",
      "\n",
      "is identity relation? R = False\n",
      "is identity relation? S = False\n",
      "\n",
      "S[A] = FiniteSet(2, 3)\n",
      "S-1[A] = FiniteSet(2, 3)\n",
      "\n",
      "dom S = FiniteSet(1, 2, 3)\n",
      "rng S = FiniteSet(1, 2, 3)\n",
      "\n",
      "R == S: False\n",
      "R != S: True\n",
      "R < S: False\n",
      "R <= S: False\n",
      "R > S: False\n",
      "R >= S: False\n",
      "\n",
      "R union S = {(1, 1),(1, 2),(1, 3),(2, 1),(2, 2),(3, 1),(3, 3)}\n",
      "R intersection S = {}\n",
      "R difference S = {(1, 1),(1, 2),(2, 1),(3, 3)}\n",
      "\n",
      "R complement = {(1, 3),(2, 2),(2, 3),(3, 1),(3, 2)}\n",
      "R∘S converse = {(1, 3),(2, 1),(3, 1),(3, 2)}\n",
      "\n",
      "'1' is in relation with: FiniteSet(1, 2) in R\n",
      "<class 'sympy.core.numbers.One'>\n",
      "<class 'sympy.core.numbers.Integer'>\n",
      "<class 'sympy.core.numbers.Integer'>\n",
      "True\n",
      "True\n",
      "False\n",
      "False\n",
      "True\n"
     ]
    }
   ],
   "source": [
    "%run homogeneousRelation.ipynb"
   ]
  },
  {
   "cell_type": "code",
   "execution_count": 2,
   "id": "a00e35f8",
   "metadata": {},
   "outputs": [],
   "source": [
    "class PartialOrder(HomogeneousRelation):\n",
    "    \n",
    "    def __init__(self,relation=None,domain=None):\n",
    "        super().__init__(relation, domain)"
   ]
  },
  {
   "cell_type": "code",
   "execution_count": 4,
   "id": "ce80edda",
   "metadata": {},
   "outputs": [
    {
     "name": "stdout",
     "output_type": "stream",
     "text": [
      "R = {(1, 1),(2, 2),(3, 3)}\n"
     ]
    }
   ],
   "source": [
    "r = PartialOrder({(1,1),(2,2),(3,3)},{1,2,3})\n",
    "print(f\"R = {r}\")"
   ]
  }
 ],
 "metadata": {
  "kernelspec": {
   "display_name": "Python 3",
   "language": "python",
   "name": "python3"
  },
  "language_info": {
   "codemirror_mode": {
    "name": "ipython",
    "version": 3
   },
   "file_extension": ".py",
   "mimetype": "text/x-python",
   "name": "python",
   "nbconvert_exporter": "python",
   "pygments_lexer": "ipython3",
   "version": "3.9.4"
  }
 },
 "nbformat": 4,
 "nbformat_minor": 5
}
