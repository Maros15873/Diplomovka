{
 "cells": [
  {
   "cell_type": "code",
   "execution_count": 13,
   "id": "a9601abb",
   "metadata": {},
   "outputs": [
    {
     "name": "stderr",
     "output_type": "stream",
     "text": [
      "........................................................................\n",
      "----------------------------------------------------------------------\n",
      "Ran 72 tests in 0.106s\n",
      "\n",
      "OK\n"
     ]
    }
   ],
   "source": [
    "%run binaryRelation.ipynb"
   ]
  },
  {
   "cell_type": "code",
   "execution_count": 14,
   "id": "c1d1ca4a",
   "metadata": {},
   "outputs": [],
   "source": [
    "class Function(BinaryRelation):\n",
    "    \n",
    "    def __init__(self,relation,domain,codomain,check=False):\n",
    "        super().__init__(relation, domain, codomain, check)\n",
    "        if check == True and self.is_function() == False:\n",
    "            raise Exception(f\"Binary relation {(relation, domain)} is not function!\")\n",
    "     \n",
    "    def __binary_to_function(self, other):\n",
    "        return Function(other.get_relation(), other.get_domain(), other.get_codomain())\n",
    "    \n",
    "    def union(self, other,check=True):\n",
    "        return self.__binary_to_function(super().union(other,check))\n",
    "    \n",
    "    def __or__(self, other):\n",
    "        return self.union(other)\n",
    "        \n",
    "    def intersection(self, other,check=True):\n",
    "        return self.__binary_to_function(super().intersection(other,check))\n",
    "    \n",
    "    def __and__(self, other):\n",
    "        return self.intersection(other)\n",
    "        \n",
    "    def difference(self, other,check=True):\n",
    "        return self.__binary_to_function(super().difference(other,check))\n",
    "    \n",
    "    def __sub__(self, other):\n",
    "        return self.difference(other)\n",
    " \n",
    "    def symmetric_difference(self, other,check=True):\n",
    "        return self.__binary_to_function(super().symmetric_difference(other,check))\n",
    "    \n",
    "    def __xor__(self, other):\n",
    "        return self.symmetric_difference(other,True)\n",
    "        \n",
    "    def complement(self):\n",
    "        return self.__binary_to_function(super().complement())\n",
    "    \n",
    "    def composition(self, other):\n",
    "        return self.__binary_to_function(super().composition(other))\n",
    "    \n",
    "    def converse(self):\n",
    "        return self.__binary_to_function(super().converse())\n",
    "                \n",
    "    def is_injective(self):\n",
    "        visited = set()\n",
    "        for x,y in self.get_relation():\n",
    "            if y in visited:\n",
    "                return False\n",
    "            else:\n",
    "                visited.add(y)\n",
    "        return True\n",
    "       \n",
    "    def is_surjective(self):\n",
    "        return self.get_codomain() == {y for x,y in self.get_relation()}\n",
    "        \n",
    "    def is_bijective(self):\n",
    "        return self.is_injective() and self.is_surjective()\n"
   ]
  },
  {
   "cell_type": "code",
   "execution_count": 18,
   "id": "3dbdbd5d",
   "metadata": {},
   "outputs": [],
   "source": [
    "#relation1 = Function({(1,'a'),(2,'d'),(3,'c')},{1,2,3},{'a','b','c','d'}, True)\n",
    "#relation1\n",
    "#relation1.show_matrix()\n",
    "#relation1.show_graph()"
   ]
  },
  {
   "cell_type": "code",
   "execution_count": 11,
   "id": "71e94598",
   "metadata": {},
   "outputs": [
    {
     "name": "stderr",
     "output_type": "stream",
     "text": [
      "...........\n",
      "----------------------------------------------------------------------\n",
      "Ran 11 tests in 0.012s\n",
      "\n",
      "OK\n"
     ]
    },
    {
     "data": {
      "text/plain": [
       "<unittest.main.TestProgram at 0x169ae7f9460>"
      ]
     },
     "execution_count": 11,
     "metadata": {},
     "output_type": "execute_result"
    }
   ],
   "source": [
    "import unittest\n",
    "\n",
    "class TestNotebook_binaryRelation(unittest.TestCase):\n",
    "\n",
    "    A = {1,2,3}\n",
    "    B = {4,5,6}\n",
    "    C = {'a','b','c'}\n",
    "    D = {'8', 1, 'x'}\n",
    "    \n",
    "    def test_valid_function(self):\n",
    "        r = Function({('a',1),('b','x'),('c',1)},self.C,self.D,True)\n",
    "        self.assertEqual(r, Function({('a',1),('b','x'),('c',1)},self.C,self.D,True))\n",
    "    \n",
    "    def test_not_valid_function(self):\n",
    "        self.assertRaises(Exception, Function,{(1,4),(1,5),(2,4),(3,6)},self.A,self.B,True)\n",
    "        \n",
    "    def test_eq(self):\n",
    "        r = Function({(1,4),(2,4),(3,6)},self.A,self.B,True)\n",
    "        s = Function({(1,4),(2,4),(3,6)},self.A,self.B,True)\n",
    "        self.assertEqual(r.__eq__(s), True)\n",
    "        \n",
    "    def test_eq_same(self):\n",
    "        r = Function({(1,4),(2,4),(3,6)},self.A,self.B,True)\n",
    "        self.assertEqual(r.__eq__(r), True)\n",
    "        \n",
    "    def test_eq_different_domain(self):\n",
    "        r = Function({(1,4),(2,4),(3,6)},self.A,self.B,True)\n",
    "        s = Function({(1,4),(2,4),(3,6),(4,4)},self.A|{4},self.B,True)\n",
    "        self.assertEqual(r.__eq__(s), False)\n",
    "        \n",
    "    def test_eq_different_codomain(self):\n",
    "        r = Function({(1,4),(2,4),(3,6)},self.A,self.B,True)\n",
    "        s = Function({(1,4),(2,4),(3,6)},self.A,self.B|{7},True)\n",
    "        self.assertEqual(r.__eq__(s), False)\n",
    "        \n",
    "    def test_eq_different_relation(self):\n",
    "        r = Function({('a','8'),('b',1),('c',1)},self.C,self.D,True)\n",
    "        s = Function({('a','8'),('b','8'),('c',1)},self.C,self.D,True)\n",
    "        self.assertEqual(r.__eq__(s), False)\n",
    "        \n",
    "    def test_ne(self):\n",
    "        r = Function({(1,4),(2,4),(3,6)},self.A,self.B,True)\n",
    "        s = Function({(1,4),(2,4),(3,6)},self.A,self.B|{7},True)\n",
    "        self.assertEqual(r.__ne__(s), True)\n",
    "        \n",
    "    def test_ne_same(self):\n",
    "        r = Function({(1,4),(2,4),(3,6)},self.A,self.B,True)\n",
    "        self.assertEqual(r.__ne__(r), False)\n",
    "        \n",
    "    def test_contains(self):\n",
    "        r = Function({('a','8'),('b',1),('c','x')},self.C,self.D,True)\n",
    "        self.assertEqual(('a','8') in r, True)\n",
    "        \n",
    "    def test_contains_not(self):\n",
    "        r = Function({('a','8'),('b',1),('c','x')},self.C,self.D,True)\n",
    "        self.assertEqual(('b','8') in r, False)\n",
    "        \n",
    " \n",
    "        \n",
    "unittest.main(argv=[''], verbosity=1, exit=False)"
   ]
  },
  {
   "cell_type": "code",
   "execution_count": null,
   "id": "ebe2a8c0",
   "metadata": {},
   "outputs": [],
   "source": []
  }
 ],
 "metadata": {
  "kernelspec": {
   "display_name": "Python 3",
   "language": "python",
   "name": "python3"
  },
  "language_info": {
   "codemirror_mode": {
    "name": "ipython",
    "version": 3
   },
   "file_extension": ".py",
   "mimetype": "text/x-python",
   "name": "python",
   "nbconvert_exporter": "python",
   "pygments_lexer": "ipython3",
   "version": "3.9.4"
  }
 },
 "nbformat": 4,
 "nbformat_minor": 5
}
