{
 "cells": [
  {
   "cell_type": "code",
   "execution_count": 1,
   "id": "a9601abb",
   "metadata": {},
   "outputs": [
    {
     "name": "stderr",
     "output_type": "stream",
     "text": [
      "..........................................................................\n",
      "----------------------------------------------------------------------\n",
      "Ran 74 tests in 0.479s\n",
      "\n",
      "OK\n"
     ]
    }
   ],
   "source": [
    "%run binaryRelation.ipynb"
   ]
  },
  {
   "cell_type": "code",
   "execution_count": 2,
   "id": "c1d1ca4a",
   "metadata": {},
   "outputs": [],
   "source": [
    "from sympy import FiniteSet\n",
    "\n",
    "class Function(BinaryRelation):\n",
    "    \n",
    "    def __init__(self,relation,domain,codomain,check=False):\n",
    "        super().__init__(relation, domain, codomain, check)\n",
    "        if check == True:\n",
    "            if self.is_function() == False:\n",
    "                raise Exception(f\"Binary relation {(relation, domain)} is not function!\")\n",
    "                \n",
    "    def is_injective(self):\n",
    "        visited = set()\n",
    "        for x,y in self.get_relation():\n",
    "            if y in visited:\n",
    "                return False\n",
    "            else:\n",
    "                visited.add(y)\n",
    "        return True\n",
    "       \n",
    "    def is_surjective(self):\n",
    "        return self.get_codomain() == {y for x,y in self.get_relation()}\n",
    "        \n",
    "    def is_bijective(self):\n",
    "        return self.is_injective() and self.is_surjective()\n",
    "                \n",
    "    def __binary_to_function(self, other):\n",
    "        return Function(other.get_relation(), other.get_domain(), other.get_codomain())\n",
    "    \n",
    "    def __or__(self, other):\n",
    "        return self.union(other,True)\n",
    "\n",
    "    def __and__(self, other):\n",
    "        return self.intersection(other,True)\n",
    "\n",
    "    def __sub__(self, other):\n",
    "        return self.difference(other,True)\n",
    "\n",
    "    def __xor__(self, other):\n",
    "        return self.symmetric_difference(other,True)\n",
    "    \n",
    "    def union(self, other,check=True):\n",
    "        return self.__binary_to_function(super().union(other,check))\n",
    "        \n",
    "    def intersection(self, other,check=True):\n",
    "        return self.__binary_to_function(super().intersection(other,check))\n",
    "        \n",
    "    def difference(self, other,check=True):\n",
    "        return self.__binary_to_function(super().difference(other,check))\n",
    "    \n",
    "    def symmetric_difference(self, other,check=True):\n",
    "        return self.__binary_to_function(super().symmetric_difference(other,check))\n",
    "        \n",
    "    def complement(self):\n",
    "        return self.__binary_to_function(super().complement())\n",
    "    \n",
    "    def composition(self, other):\n",
    "        return self.__binary_to_function(super().composition(other))\n",
    "    \n",
    "    def converse(self):\n",
    "        return self.__binary_to_function(super().converse())"
   ]
  },
  {
   "cell_type": "code",
   "execution_count": null,
   "id": "71e94598",
   "metadata": {},
   "outputs": [],
   "source": []
  }
 ],
 "metadata": {
  "kernelspec": {
   "display_name": "Python 3",
   "language": "python",
   "name": "python3"
  },
  "language_info": {
   "codemirror_mode": {
    "name": "ipython",
    "version": 3
   },
   "file_extension": ".py",
   "mimetype": "text/x-python",
   "name": "python",
   "nbconvert_exporter": "python",
   "pygments_lexer": "ipython3",
   "version": "3.9.4"
  }
 },
 "nbformat": 4,
 "nbformat_minor": 5
}
