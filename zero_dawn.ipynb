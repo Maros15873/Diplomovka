{
 "cells": [
  {
   "cell_type": "code",
   "execution_count": 1,
   "id": "ebea0085",
   "metadata": {},
   "outputs": [
    {
     "name": "stderr",
     "output_type": "stream",
     "text": [
      "..........................................................................\n",
      "----------------------------------------------------------------------\n",
      "Ran 74 tests in 0.596s\n",
      "\n",
      "OK\n",
      "................................................................................\n",
      "----------------------------------------------------------------------\n",
      "Ran 80 tests in 0.574s\n",
      "\n",
      "OK\n",
      "..........................................................................................\n",
      "----------------------------------------------------------------------\n",
      "Ran 90 tests in 0.828s\n",
      "\n",
      "OK\n",
      "...............................................................................................................\n",
      "----------------------------------------------------------------------\n",
      "Ran 111 tests in 1.837s\n",
      "\n",
      "OK\n",
      "............................................................................E.....................................\n",
      "======================================================================\n",
      "ERROR: test_explanator_03 (__main__.TestNotebook_explanator)\n",
      "----------------------------------------------------------------------\n",
      "Traceback (most recent call last):\n",
      "  File \"<ipython-input-1-bd142e87457b>\", line 45, in test_explanator_03\n",
      "    for p in generator:\n",
      "  File \"<ipython-input-1-67dbd14c5107>\", line 366, in analyze\n",
      "    yield from self.analyze(node.children[1], level+1, True)\n",
      "  File \"<ipython-input-1-67dbd14c5107>\", line 368, in analyze\n",
      "    yield from self.explain(node.children[0].value, node.children[1].data)\n",
      "AttributeError: 'Tree' object has no attribute 'value'\n",
      "\n",
      "----------------------------------------------------------------------\n",
      "Ran 114 tests in 2.124s\n",
      "\n",
      "FAILED (errors=1)\n"
     ]
    }
   ],
   "source": [
    "%run interpreter.ipynb"
   ]
  },
  {
   "cell_type": "code",
   "execution_count": 22,
   "id": "29b38a57",
   "metadata": {},
   "outputs": [],
   "source": [
    "relation1 = HomogeneousRelation({(1,1),(2,2),(3,3),(1,2),(2,3)}, {1,2,3}, True)\n",
    "relation2 = HomogeneousRelation({(1,2),(2,1)}, {1,2,3}, True)\n",
    "relation3 = HomogeneousRelation({(1,1),(2,2),(3,3),(2,3)}, {1,2,3}, True)\n",
    "relation4 = HomogeneousRelation({(1,2)}, {1,2,3}, True)\n",
    "variables = {'A':relation1,\n",
    "             'B':relation1,\n",
    "             'C':relation1,\n",
    "             'D':relation1,\n",
    "             'E':relation1,\n",
    "             'F':relation2,\n",
    "             'R':relation3,\n",
    "             'S':relation4}\n",
    "interpreter = Interpreter(variables, {1,2,3}, True)\n",
    "\n",
    "condition1 = interpreter.parse(\"A | B is symmetric and F is reflexive\")\n",
    "condition2 = interpreter.parse(\"A is not reflexive and (B is not reflexive or C is not reflexive)\")\n",
    "condition3 = interpreter.parse(\"(A is not reflexive and B is reflexive) -> (C is not reflexive and D is not reflexive)\")\n",
    "condition4 = interpreter.parse(\"(A is not reflexive and (B is not reflexive or C is not reflexive)) -> D is not reflexive\")\n",
    "condition5 = interpreter.parse(\"A is  reflexive -> B is reflexive\")\n",
    "condition6 = interpreter.parse(\"A is  reflexive -> (B is reflexive or C is not reflexive)\")\n",
    "condition7 = interpreter.parse(\"A is  reflexive -> (B is reflexive and C is reflexive)\")\n",
    "condition8 = interpreter.parse(\"R is transitive and S is transitive -> R | S is transitive\")"
   ]
  },
  {
   "cell_type": "code",
   "execution_count": 23,
   "id": "fb1b8dd3",
   "metadata": {},
   "outputs": [
    {
     "data": {
      "text/plain": [
       "False"
      ]
     },
     "execution_count": 23,
     "metadata": {},
     "output_type": "execute_result"
    }
   ],
   "source": [
    "interpreter.interpret(condition1)"
   ]
  },
  {
   "cell_type": "code",
   "execution_count": 24,
   "id": "70cd64a8",
   "metadata": {},
   "outputs": [
    {
     "data": {
      "text/plain": [
       "Tree('conjunction', [Tree('is', [Tree('union', [Token('SET', 'A'), Token('SET', 'B')]), Tree('symmetric', [])]), Tree('is', [Token('SET', 'F'), Tree('reflexive', [])])])"
      ]
     },
     "execution_count": 24,
     "metadata": {},
     "output_type": "execute_result"
    }
   ],
   "source": [
    "condition1"
   ]
  },
  {
   "cell_type": "code",
   "execution_count": 6,
   "id": "eece335a",
   "metadata": {},
   "outputs": [
    {
     "data": {
      "text/plain": [
       "'(A is symmetric and F is reflexive)'"
      ]
     },
     "execution_count": 6,
     "metadata": {},
     "output_type": "execute_result"
    }
   ],
   "source": [
    "interpreter.node2string(condition1)"
   ]
  },
  {
   "cell_type": "code",
   "execution_count": 7,
   "id": "85470a2c",
   "metadata": {},
   "outputs": [],
   "source": [
    "def preorder(node, level=0, expected=True): #expected True/False/None\n",
    "    global interpreter\n",
    "    if isinstance(node, Tree):\n",
    "        if len(node.children) == 1:\n",
    "            print(f\"---interpreter: {interpreter.interpret(node)}---\")\n",
    "            print(level*\" \"+node.data)\n",
    "            preorder(node.children[0], level+1)\n",
    "        elif len(node.children) == 2:\n",
    "            print(f\"---interpreter: {interpreter.interpret(node)}---\")\n",
    "            print(level*\" \"+node.data)\n",
    "            preorder(node.children[0], level+1)\n",
    "            preorder(node.children[1], level+1)\n",
    "        else:\n",
    "            print(level*\" \"+node.data)\n",
    "            pass\n",
    "    elif isinstance(node, Token):\n",
    "        print(level*\" \"+node)\n",
    "    else:\n",
    "        print(f\"NODE:{node}\")"
   ]
  },
  {
   "cell_type": "code",
   "execution_count": 8,
   "id": "73635f2e",
   "metadata": {},
   "outputs": [
    {
     "name": "stdout",
     "output_type": "stream",
     "text": [
      "---interpreter: False---\n",
      "conjunction\n",
      "---interpreter: False---\n",
      " is\n",
      "  A\n",
      "  symmetric\n",
      "---interpreter: False---\n",
      " is\n",
      "  F\n",
      "  reflexive\n"
     ]
    }
   ],
   "source": [
    "preorder(condition1)"
   ]
  },
  {
   "cell_type": "code",
   "execution_count": 18,
   "id": "d6e9d6cd",
   "metadata": {},
   "outputs": [],
   "source": [
    "def explanator(interpreter, var, data):\n",
    "    \n",
    "    relation = interpreter.get_variables()[var]\n",
    "    \n",
    "    if data == \"lattice\":\n",
    "        yield from relation.why_lattice(var)\n",
    "    elif data == \"total_order\":\n",
    "        yield from relation.why_total_order(var)\n",
    "    elif data == \"reflexive\":\n",
    "        yield from relation.why_reflexive(var)\n",
    "    elif data == \"symmetric\":\n",
    "        yield from relation.why_symmetric(var)\n",
    "    elif data == \"asymmetric\":\n",
    "        yield from relation.why_asymmetric(var)\n",
    "    elif data == \"antisymmetric\":\n",
    "        yield from relation.why_antisymmetric(var)\n",
    "    elif data == \"transitive\":\n",
    "        yield from relation.why_transitive(var)\n",
    "        \n",
    "\n",
    "def analyze(interpreter, node, level=0, expected=True):\n",
    "    \n",
    "    actual = interpreter.interpret(node)\n",
    "\n",
    "    if actual != expected:\n",
    "\n",
    "        yield f\"<<<ERROR>>> {interpreter.node2string(node)}\"\n",
    "\n",
    "        if isinstance(node, Tree):\n",
    "            if len(node.children) <= 2:\n",
    "                if node.data == \"negation\":\n",
    "                    analyze(interpreter, node.children[0], level+1, not expected)\n",
    "                elif node.data == \"conjunction\":\n",
    "                    if expected == True:\n",
    "                        yield from analyze(interpreter, node.children[0], level+1, True)\n",
    "                        yield from analyze(interpreter, node.children[1], level+1, True)\n",
    "                    else:\n",
    "                        if interpreter.interpret(node.children[0]) == True:\n",
    "                            yield from analyze(interpreter, node.children[0], level+1, False)\n",
    "                        if interpreter.interpret(node.children[1]) == True:\n",
    "                            yield from analyze(interpreter, node.children[1], level+1, False)\n",
    "                elif node.data == \"disjunction\":\n",
    "                    if expected == False:\n",
    "                        yield from analyze(interpreter, node.children[0], level+1, False)\n",
    "                        yield from analyze(interpreter, node.children[1], level+1, False)\n",
    "                    else:\n",
    "                        if interpreter.interpret(node.children[0]) == False:\n",
    "                            yield from analyze(interpreter, node.children[0], level+1, True)\n",
    "                        if interpreter.interpret(node.children[1]) == False:\n",
    "                            yield from analyze(interpreter, node.children[1], level+1, True)\n",
    "                elif node.data == \"implication\":\n",
    "                    if expected == False:\n",
    "                        yield from analyze(interpreter, node.children[0], level+1, True)\n",
    "                        yield from analyze(interpreter, node.children[1], level+1, False)\n",
    "                    else:\n",
    "                        if interpreter.interpret(node.children[0]) == True:\n",
    "                            yield from analyze(interpreter, node.children[0], level+1, False)\n",
    "                        if interpreter.interpret(node.children[1]) == False:\n",
    "                            yield from analyze(interpreter, node.children[1], level+1, True)\n",
    "                elif node.data == 'is' or node.data == 'is_not':\n",
    "                    yield from explanator(interpreter, node.children[0].value, node.children[1].data)\n",
    "            \n",
    "                    \n",
    "            \n",
    "def analyze_all(interpreter, node):\n",
    "    \n",
    "    if isinstance(node, Tree):\n",
    "        if node.data == \"implication\":\n",
    "            condition, conclusion = node.children\n",
    "            if interpreter.interpret(condition) == True and interpreter.interpret(conclusion) == False:\n",
    "                yield f\"Good counterexample! {interpreter.get_variables()}\"\n",
    "            else:\n",
    "                yield from analyze(interpreter,condition,0,True)\n",
    "                yield from analyze(interpreter,conclusion,0,False)\n",
    "        else:\n",
    "            raise Exception(f\"ERROR! Input is NOT implication! {node}\")\n",
    "    else:\n",
    "        raise Exception(f\"ERROR! Unexpected input! {node}\")"
   ]
  },
  {
   "cell_type": "code",
   "execution_count": 19,
   "id": "b5d0de75",
   "metadata": {},
   "outputs": [
    {
     "name": "stdout",
     "output_type": "stream",
     "text": [
      "<<<ERROR>>> (A is symmetric and F is reflexive)\n",
      "<<<ERROR>>> A is symmetric\n",
      "<<EXPLAIN>> In relation A=FiniteSet((1, 1), (1, 2), (2, 2), (2, 3), (3, 3)) is element (1,2) but element (2,1) is missing to be symmetric! [domain: FiniteSet(1, 2, 3)]\n",
      "<<EXPLAIN>> In relation A=FiniteSet((1, 1), (1, 2), (2, 2), (2, 3), (3, 3)) is element (2,3) but element (3,2) is missing to be symmetric! [domain: FiniteSet(1, 2, 3)]\n",
      "<<<ERROR>>> F is reflexive\n",
      "<<EXPLAIN>> In relation F=FiniteSet((1, 2), (2, 1)) element (1,1) is missing to be reflexive! [domain: FiniteSet(1, 2, 3)]\n",
      "<<EXPLAIN>> In relation F=FiniteSet((1, 2), (2, 1)) element (2,2) is missing to be reflexive! [domain: FiniteSet(1, 2, 3)]\n",
      "<<EXPLAIN>> In relation F=FiniteSet((1, 2), (2, 1)) element (3,3) is missing to be reflexive! [domain: FiniteSet(1, 2, 3)]\n"
     ]
    }
   ],
   "source": [
    "for p in analyze(interpreter,condition1): print(p);"
   ]
  },
  {
   "cell_type": "code",
   "execution_count": 344,
   "id": "6996da83",
   "metadata": {},
   "outputs": [
    {
     "name": "stdout",
     "output_type": "stream",
     "text": [
      "<<<CHYBA>>> (A is not reflexive and (B is not reflexive or C is not reflexive))\n",
      "<<<CHYBA>>> A is not reflexive\n",
      "<<EXPLAIN>> Relation A=FiniteSet((1, 1), (1, 2), (2, 2), (2, 3), (3, 3)) is reflexive! [domain: FiniteSet(1, 2, 3)]\n",
      "<<<CHYBA>>> (B is not reflexive or C is not reflexive)\n",
      "<<<CHYBA>>> B is not reflexive\n",
      "<<EXPLAIN>> Relation B=FiniteSet((1, 1), (1, 2), (2, 2), (2, 3), (3, 3)) is reflexive! [domain: FiniteSet(1, 2, 3)]\n",
      "<<<CHYBA>>> C is not reflexive\n",
      "<<EXPLAIN>> Relation C=FiniteSet((1, 1), (1, 2), (2, 2), (2, 3), (3, 3)) is reflexive! [domain: FiniteSet(1, 2, 3)]\n"
     ]
    }
   ],
   "source": [
    "for p in analyze(interpreter,condition2): print(p);"
   ]
  },
  {
   "cell_type": "code",
   "execution_count": 345,
   "id": "4fd99134",
   "metadata": {},
   "outputs": [
    {
     "name": "stdout",
     "output_type": "stream",
     "text": [
      "<<<CHYBA>>> (A is not reflexive and B is reflexive)\n",
      "<<<CHYBA>>> A is not reflexive\n",
      "<<EXPLAIN>> Relation A=FiniteSet((1, 1), (1, 2), (2, 2), (2, 3), (3, 3)) is reflexive! [domain: FiniteSet(1, 2, 3)]\n"
     ]
    }
   ],
   "source": [
    "for p in analyze_all(interpreter,condition3): print(p);"
   ]
  },
  {
   "cell_type": "code",
   "execution_count": 346,
   "id": "e9d5e23f",
   "metadata": {},
   "outputs": [
    {
     "name": "stdout",
     "output_type": "stream",
     "text": [
      "<<<CHYBA>>> (A is not reflexive and (B is not reflexive or C is not reflexive))\n",
      "<<<CHYBA>>> A is not reflexive\n",
      "<<EXPLAIN>> Relation A=FiniteSet((1, 1), (1, 2), (2, 2), (2, 3), (3, 3)) is reflexive! [domain: FiniteSet(1, 2, 3)]\n",
      "<<<CHYBA>>> (B is not reflexive or C is not reflexive)\n",
      "<<<CHYBA>>> B is not reflexive\n",
      "<<EXPLAIN>> Relation B=FiniteSet((1, 1), (1, 2), (2, 2), (2, 3), (3, 3)) is reflexive! [domain: FiniteSet(1, 2, 3)]\n",
      "<<<CHYBA>>> C is not reflexive\n",
      "<<EXPLAIN>> Relation C=FiniteSet((1, 1), (1, 2), (2, 2), (2, 3), (3, 3)) is reflexive! [domain: FiniteSet(1, 2, 3)]\n"
     ]
    }
   ],
   "source": [
    "for p in analyze_all(interpreter,condition4): print(p);"
   ]
  },
  {
   "cell_type": "code",
   "execution_count": 347,
   "id": "9c186729",
   "metadata": {},
   "outputs": [
    {
     "name": "stdout",
     "output_type": "stream",
     "text": [
      "<<<CHYBA>>> B is reflexive\n",
      "<<EXPLAIN>> Relation B=FiniteSet((1, 1), (1, 2), (2, 2), (2, 3), (3, 3)) is reflexive! [domain: FiniteSet(1, 2, 3)]\n"
     ]
    }
   ],
   "source": [
    "for p in analyze_all(interpreter,condition5): print(p);"
   ]
  },
  {
   "cell_type": "code",
   "execution_count": 348,
   "id": "bb09b935",
   "metadata": {},
   "outputs": [
    {
     "name": "stdout",
     "output_type": "stream",
     "text": [
      "<<<CHYBA>>> (B is reflexive or C is not reflexive)\n",
      "<<<CHYBA>>> B is reflexive\n",
      "<<EXPLAIN>> Relation B=FiniteSet((1, 1), (1, 2), (2, 2), (2, 3), (3, 3)) is reflexive! [domain: FiniteSet(1, 2, 3)]\n"
     ]
    }
   ],
   "source": [
    "for p in analyze_all(interpreter,condition6): print(p);"
   ]
  },
  {
   "cell_type": "code",
   "execution_count": 354,
   "id": "a28f0975",
   "metadata": {},
   "outputs": [],
   "source": [
    "generator = analyze_all(interpreter,condition4)"
   ]
  },
  {
   "cell_type": "code",
   "execution_count": 364,
   "id": "97df7a7b",
   "metadata": {},
   "outputs": [
    {
     "ename": "StopIteration",
     "evalue": "",
     "output_type": "error",
     "traceback": [
      "\u001b[1;31m---------------------------------------------------------------------------\u001b[0m",
      "\u001b[1;31mStopIteration\u001b[0m                             Traceback (most recent call last)",
      "\u001b[1;32m<ipython-input-364-4e10fd096f6b>\u001b[0m in \u001b[0;36m<module>\u001b[1;34m\u001b[0m\n\u001b[1;32m----> 1\u001b[1;33m \u001b[0mgenerator\u001b[0m\u001b[1;33m.\u001b[0m\u001b[0m__next__\u001b[0m\u001b[1;33m(\u001b[0m\u001b[1;33m)\u001b[0m\u001b[1;33m\u001b[0m\u001b[1;33m\u001b[0m\u001b[0m\n\u001b[0m",
      "\u001b[1;31mStopIteration\u001b[0m: "
     ]
    }
   ],
   "source": [
    "generator.__next__()"
   ]
  },
  {
   "cell_type": "code",
   "execution_count": 351,
   "id": "53441774",
   "metadata": {},
   "outputs": [
    {
     "name": "stdout",
     "output_type": "stream",
     "text": [
      "<<<CHYBA>>> (B is reflexive and C is reflexive)\n",
      "<<<CHYBA>>> B is reflexive\n",
      "<<EXPLAIN>> Relation B=FiniteSet((1, 1), (1, 2), (2, 2), (2, 3), (3, 3)) is reflexive! [domain: FiniteSet(1, 2, 3)]\n",
      "<<<CHYBA>>> C is reflexive\n",
      "<<EXPLAIN>> Relation C=FiniteSet((1, 1), (1, 2), (2, 2), (2, 3), (3, 3)) is reflexive! [domain: FiniteSet(1, 2, 3)]\n"
     ]
    }
   ],
   "source": [
    "for p in analyze_all(interpreter,condition7): print(p);"
   ]
  },
  {
   "cell_type": "code",
   "execution_count": 21,
   "id": "4de875fe",
   "metadata": {},
   "outputs": [
    {
     "name": "stdout",
     "output_type": "stream",
     "text": [
      "Good counterexample! {'A': \n",
      "domain:{1, 2, 3}\n",
      "codomain:{1, 2, 3}\n",
      "relation:{(1, 1),(1, 2),(2, 2),(2, 3),(3, 3)}\n",
      ", 'B': \n",
      "domain:{1, 2, 3}\n",
      "codomain:{1, 2, 3}\n",
      "relation:{(1, 1),(1, 2),(2, 2),(2, 3),(3, 3)}\n",
      ", 'C': \n",
      "domain:{1, 2, 3}\n",
      "codomain:{1, 2, 3}\n",
      "relation:{(1, 1),(1, 2),(2, 2),(2, 3),(3, 3)}\n",
      ", 'D': \n",
      "domain:{1, 2, 3}\n",
      "codomain:{1, 2, 3}\n",
      "relation:{(1, 1),(1, 2),(2, 2),(2, 3),(3, 3)}\n",
      ", 'E': \n",
      "domain:{1, 2, 3}\n",
      "codomain:{1, 2, 3}\n",
      "relation:{(1, 1),(1, 2),(2, 2),(2, 3),(3, 3)}\n",
      ", 'F': \n",
      "domain:{1, 2, 3}\n",
      "codomain:{1, 2, 3}\n",
      "relation:{(1, 2),(2, 1)}\n",
      ", 'R': \n",
      "domain:{1, 2, 3}\n",
      "codomain:{1, 2, 3}\n",
      "relation:{(1, 1),(2, 2),(2, 3),(3, 3)}\n",
      ", 'S': \n",
      "domain:{1, 2, 3}\n",
      "codomain:{1, 2, 3}\n",
      "relation:{(1, 2)}\n",
      "}\n"
     ]
    }
   ],
   "source": [
    "for p in analyze_all(interpreter,condition8): print(p);"
   ]
  },
  {
   "cell_type": "code",
   "execution_count": 17,
   "id": "2cd3a7e4",
   "metadata": {},
   "outputs": [
    {
     "data": {
      "text/plain": [
       "False"
      ]
     },
     "execution_count": 17,
     "metadata": {},
     "output_type": "execute_result"
    }
   ],
   "source": [
    "interpreter.interpret(condition8)"
   ]
  },
  {
   "cell_type": "code",
   "execution_count": null,
   "id": "942cbdac",
   "metadata": {},
   "outputs": [],
   "source": []
  }
 ],
 "metadata": {
  "kernelspec": {
   "display_name": "Python 3",
   "language": "python",
   "name": "python3"
  },
  "language_info": {
   "codemirror_mode": {
    "name": "ipython",
    "version": 3
   },
   "file_extension": ".py",
   "mimetype": "text/x-python",
   "name": "python",
   "nbconvert_exporter": "python",
   "pygments_lexer": "ipython3",
   "version": "3.9.4"
  }
 },
 "nbformat": 4,
 "nbformat_minor": 5
}
