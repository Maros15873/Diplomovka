{
 "cells": [
  {
   "cell_type": "code",
   "execution_count": 107,
   "id": "ebea0085",
   "metadata": {
    "scrolled": true
   },
   "outputs": [
    {
     "name": "stderr",
     "output_type": "stream",
     "text": [
      ".................................................................................................................\n",
      "----------------------------------------------------------------------\n",
      "Ran 113 tests in 1.934s\n",
      "\n",
      "OK\n",
      ".................................................................................................................\n",
      "----------------------------------------------------------------------\n",
      "Ran 113 tests in 1.831s\n",
      "\n",
      "OK\n",
      ".................................................................................................................\n",
      "----------------------------------------------------------------------\n",
      "Ran 113 tests in 1.885s\n",
      "\n",
      "OK\n",
      ".................................................................................................................\n",
      "----------------------------------------------------------------------\n",
      "Ran 113 tests in 1.847s\n",
      "\n",
      "OK\n",
      ".................................................................................................................\n",
      "----------------------------------------------------------------------\n",
      "Ran 113 tests in 1.811s\n",
      "\n",
      "OK\n"
     ]
    }
   ],
   "source": [
    "%run interpreter.ipynb"
   ]
  },
  {
   "cell_type": "code",
   "execution_count": 85,
   "id": "942cbdac",
   "metadata": {},
   "outputs": [],
   "source": [
    "#reflexive, symmetric, antisymmetric, asymmetric, transitive\n",
    "relation0 = HomogeneousRelation({}, domain1, True)\n",
    "relation1 = HomogeneousRelation({(1,1),(2,2),(3,3)}, domain1, True) #reflexive, symmetric, antisymmetric, transitive\n",
    "relation2 = HomogeneousRelation({(1,2),(2,1),(3,3)}, domain1, True) #symmetric, transitive\n",
    "relation3 = HomogeneousRelation({(1,2),(2,3)}, domain1, True) #asymmetric, antisymmetric\n",
    "relation4 = HomogeneousRelation({(1,1),(2,3),(3,2),(1,2)}, domain1, True) # -- nothing --"
   ]
  },
  {
   "cell_type": "code",
   "execution_count": 86,
   "id": "ce72883b",
   "metadata": {},
   "outputs": [
    {
     "name": "stdout",
     "output_type": "stream",
     "text": [
      "<<<ERROR - CONDITION>>> (R is transitive and S is transitive)\n",
      "<<<ERROR - CONDITION>>> R is transitive\n",
      "<<EXPLAIN - CONDITION>> Relation R=FiniteSet((1, 2), (2, 1), (2, 3)) is not transitive because it contains elements (1,2) and (2,1), but element (1,1) is missing! [domain: FiniteSet(1, 2, 3)]\n",
      "<<EXPLAIN - CONDITION>> Relation R=FiniteSet((1, 2), (2, 1), (2, 3)) is not transitive because it contains elements (1,2) and (2,3), but element (1,3) is missing! [domain: FiniteSet(1, 2, 3)]\n",
      "<<EXPLAIN - CONDITION>> Relation R=FiniteSet((1, 2), (2, 1), (2, 3)) is not transitive because it contains elements (2,1) and (1,2), but element (2,2) is missing! [domain: FiniteSet(1, 2, 3)]\n",
      "<<<ERROR - CONDITION>>> S is transitive\n",
      "<<EXPLAIN - CONDITION>> Relation S=FiniteSet((1, 2), (2, 1)) is not transitive because it contains elements (1,2) and (2,1), but element (1,1) is missing! [domain: FiniteSet(1, 2, 3)]\n",
      "<<EXPLAIN - CONDITION>> Relation S=FiniteSet((1, 2), (2, 1)) is not transitive because it contains elements (2,1) and (1,2), but element (2,2) is missing! [domain: FiniteSet(1, 2, 3)]\n"
     ]
    }
   ],
   "source": [
    "expression1 = \"(R is transitive and S is transitive) -> R|S is transitive\"\n",
    "\n",
    "domain = {1,2,3}\n",
    "\n",
    "# --- good counterexample ---\n",
    "#relation1 = HomogeneousRelation({(2,3)}, domain, True)\n",
    "#relation2 = HomogeneousRelation({(1,2)}, domain, True)\n",
    "\n",
    "# --- error condition ----\n",
    "#relation1 = HomogeneousRelation({(1,2),(2,3)}, domain, True)\n",
    "#relation2 = HomogeneousRelation({(1,2),(2,1),(2,2)}, domain, True)\n",
    "\n",
    "# --- error conclusion ----\n",
    "#relation1 = HomogeneousRelation({(1,1)}, domain, True)\n",
    "#relation2 = HomogeneousRelation({(2,2)}, domain, True)\n",
    "\n",
    "# --- error condition + conclusion ----\n",
    "#relation1 = HomogeneousRelation({(1,2),(2,3)}, domain, True)\n",
    "#relation2 = HomogeneousRelation({(1,2),(2,1),(1,1),(1,3),(2,2)}, domain, True)\n",
    "\n",
    "# --- multiple error condition ----\n",
    "relation1 = HomogeneousRelation({(1,2),(2,3),(2,1)}, domain, True)\n",
    "relation2 = HomogeneousRelation({(1,2),(2,1)}, domain, True)\n",
    "\n",
    "variables = {'R':relation1, 'S':relation2}\n",
    "\n",
    "interpreter = Interpreter(variables, domain, True)\n",
    "\n",
    "#--------------------------------------------------------------------------------------------------------------\n",
    "\n",
    "generator = interpreter.analyze_all(expression1)\n",
    "\n",
    "for p in generator: print(p);"
   ]
  },
  {
   "cell_type": "code",
   "execution_count": 106,
   "id": "e5685c0a",
   "metadata": {},
   "outputs": [
    {
     "name": "stdout",
     "output_type": "stream",
     "text": [
      "<<<ERROR - CONDITION>>> (R is reflexive and S is symmetric)\n",
      "<<<ERROR - CONDITION>>> R is reflexive\n",
      "<<EXPLAIN - CONDITION>> Relation R=FiniteSet((2, 3), (3, 2)) is not reflexive because element (1,1) is missing ! [domain: FiniteSet(1, 2, 3)]\n",
      "<<EXPLAIN - CONDITION>> Relation R=FiniteSet((2, 3), (3, 2)) is not reflexive because element (2,2) is missing ! [domain: FiniteSet(1, 2, 3)]\n",
      "<<EXPLAIN - CONDITION>> Relation R=FiniteSet((2, 3), (3, 2)) is not reflexive because element (3,3) is missing ! [domain: FiniteSet(1, 2, 3)]\n",
      "<<<ERROR - CONDITION>>> S is symmetric\n",
      "<<EXPLAIN - CONDITION>> Relation S=FiniteSet((1, 2), (1, 3)) is not symmetric because it contains element (1,2), but element (2,1) is missing! [domain: FiniteSet(1, 2, 3)]\n",
      "<<EXPLAIN - CONDITION>> Relation S=FiniteSet((1, 2), (1, 3)) is not symmetric because it contains element (1,3), but element (3,1) is missing! [domain: FiniteSet(1, 2, 3)]\n"
     ]
    }
   ],
   "source": [
    "expression2 = \"(R is reflexive and S is symmetric) -> (R|S is transitive or R-S is antisymmetric)\"\n",
    "\n",
    "domain = {1,2,3}\n",
    "\n",
    "# --- good counterexample ---\n",
    "#relation1 = HomogeneousRelation({(1,1),(2,2),(3,3),(1,2),(2,3),(2,1)}, domain, True)\n",
    "#relation2 = HomogeneousRelation({(1,1)}, domain, True)\n",
    "\n",
    "# --- error condition ----\n",
    "#relation1 = HomogeneousRelation({(1,1),(2,2),(1,2),(2,3),(2,1)}, domain, True)\n",
    "#relation2 = HomogeneousRelation({(3,1)}, domain, True)\n",
    "\n",
    "# --- error conclusion ----\n",
    "#relation1 = HomogeneousRelation({(1,1),(2,2),(3,3)}, domain, True)\n",
    "#relation2 = HomogeneousRelation({(1,1)}, domain, True)\n",
    "\n",
    "# --- error condition + conclusion ----\n",
    "#relation1 = HomogeneousRelation({(1,1),(2,2),(1,2),(2,3),(2,1)}, domain, True)\n",
    "#relation2 = HomogeneousRelation({(3,3),(3,1),(3,2),(1,3),(1,2),(2,1)}, domain, True)\n",
    "\n",
    "# --- multiple error condition ----\n",
    "relation1 = HomogeneousRelation({(2,3),(3,2)}, domain, True)\n",
    "relation2 = HomogeneousRelation({(1,2),(1,3)}, domain, True)\n",
    "\n",
    "variables = {'R':relation1, 'S':relation2}\n",
    "\n",
    "interpreter = Interpreter(variables, domain, True)\n",
    "\n",
    "#--------------------------------------------------------------------------------------------------------------\n",
    "\n",
    "generator = interpreter.analyze_all(expression2)\n",
    "\n",
    "for p in generator: print(p);"
   ]
  },
  {
   "cell_type": "code",
   "execution_count": null,
   "id": "9ac3a97d",
   "metadata": {},
   "outputs": [],
   "source": []
  }
 ],
 "metadata": {
  "kernelspec": {
   "display_name": "Python 3",
   "language": "python",
   "name": "python3"
  },
  "language_info": {
   "codemirror_mode": {
    "name": "ipython",
    "version": 3
   },
   "file_extension": ".py",
   "mimetype": "text/x-python",
   "name": "python",
   "nbconvert_exporter": "python",
   "pygments_lexer": "ipython3",
   "version": "3.9.4"
  }
 },
 "nbformat": 4,
 "nbformat_minor": 5
}
