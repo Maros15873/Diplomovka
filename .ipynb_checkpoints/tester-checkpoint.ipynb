{
 "cells": [
  {
   "cell_type": "code",
   "execution_count": 178,
   "id": "dab4515b",
   "metadata": {},
   "outputs": [
    {
     "name": "stderr",
     "output_type": "stream",
     "text": [
      "....................................................................................................................\n",
      "----------------------------------------------------------------------\n",
      "Ran 116 tests in 2.214s\n",
      "\n",
      "OK\n",
      ".....................................................\n",
      "----------------------------------------------------------------------\n",
      "Ran 53 tests in 1.776s\n",
      "\n",
      "OK\n",
      ".....................................................\n",
      "----------------------------------------------------------------------\n",
      "Ran 53 tests in 2.182s\n",
      "\n",
      "OK\n",
      ".....................................................\n",
      "----------------------------------------------------------------------\n",
      "Ran 53 tests in 1.844s\n",
      "\n",
      "OK\n",
      ".....................................................\n",
      "----------------------------------------------------------------------\n",
      "Ran 53 tests in 1.821s\n",
      "\n",
      "OK\n",
      ".....................................................\n",
      "----------------------------------------------------------------------\n",
      "Ran 53 tests in 1.849s\n",
      "\n",
      "OK\n"
     ]
    }
   ],
   "source": [
    "%run interpreter.ipynb"
   ]
  },
  {
   "cell_type": "code",
   "execution_count": 179,
   "id": "2e71421d",
   "metadata": {
    "scrolled": false
   },
   "outputs": [],
   "source": [
    "expression = \"R is transitive and S is transitive -> R | S is transitive\"\n",
    "\n",
    "#domain = {1,2,3,4}\n",
    "#relation1 = HomogeneousRelation({(2,1),(1,2),(1,3),(2,3)}, domain, True)\n",
    "#relation2 = HomogeneousRelation({(2,3),(1,2),(4,4),(1,1),(2,2)}, domain, True)\n",
    "\n",
    "domain = {'a','b','c','d'}\n",
    "relation1 = HomogeneousRelation({('b','a'),('a','b'),('a','c'),('b','c')}, domain, True)\n",
    "relation2 = HomogeneousRelation({('b','c'),('a','b'),('d','d'),('a','a'),('b','b')}, domain, True)\n",
    "\n",
    "\n",
    "variables = {'R':relation1, 'S':relation2}\n",
    "\n",
    "interpreter = Interpreter(variables, domain, True)\n",
    "\n",
    "#--------------------------------------------------------------------------------------------------------------\n",
    "\n",
    "generator = interpreter.analyze_all(expression, 2)\n",
    "\n",
    "#for p in generator: display(p);\n",
    "\n",
    "#generator.next_why()"
   ]
  },
  {
   "cell_type": "code",
   "execution_count": 180,
   "id": "951b737e",
   "metadata": {},
   "outputs": [
    {
     "name": "stdout",
     "output_type": "stream",
     "text": [
      "n (next) / p (previous) / q (quit)n\n"
     ]
    },
    {
     "data": {
      "text/plain": [
       "'----------------------------------------------------------------------------------------------------'"
      ]
     },
     "metadata": {},
     "output_type": "display_data"
    },
    {
     "data": {
      "text/plain": [
       "'R = {(a, b), (a, c), (b, a), (b, c)}'"
      ]
     },
     "metadata": {},
     "output_type": "display_data"
    },
    {
     "data": {
      "text/plain": [
       "'S = {(a, a), (a, b), (b, b), (b, c), (d, d)}'"
      ]
     },
     "metadata": {},
     "output_type": "display_data"
    },
    {
     "data": {
      "text/plain": [
       "'R is transitive and S is transitive -> R | S is transitive'"
      ]
     },
     "metadata": {},
     "output_type": "display_data"
    },
    {
     "data": {
      "text/plain": [
       "'<<<ERROR - CONDITION>>> (R is transitive and S is transitive)'"
      ]
     },
     "metadata": {},
     "output_type": "display_data"
    },
    {
     "data": {
      "text/plain": [
       "'--------------------------------------------------0--------------------------------------------------'"
      ]
     },
     "metadata": {},
     "output_type": "display_data"
    },
    {
     "name": "stdout",
     "output_type": "stream",
     "text": [
      "n (next) / p (previous) / q (quit)n\n"
     ]
    },
    {
     "data": {
      "text/plain": [
       "'----------------------------------------------------------------------------------------------------'"
      ]
     },
     "metadata": {},
     "output_type": "display_data"
    },
    {
     "data": {
      "text/plain": [
       "'R = {(a, b), (a, c), (b, a), (b, c)}'"
      ]
     },
     "metadata": {},
     "output_type": "display_data"
    },
    {
     "data": {
      "text/plain": [
       "'S = {(a, a), (a, b), (b, b), (b, c), (d, d)}'"
      ]
     },
     "metadata": {},
     "output_type": "display_data"
    },
    {
     "data": {
      "text/plain": [
       "'R is transitive and S is transitive -> R | S is transitive'"
      ]
     },
     "metadata": {},
     "output_type": "display_data"
    },
    {
     "data": {
      "text/plain": [
       "'<<<ERROR - CONDITION>>> R is transitive'"
      ]
     },
     "metadata": {},
     "output_type": "display_data"
    },
    {
     "data": {
      "text/plain": [
       "'--------------------------------------------------1--------------------------------------------------'"
      ]
     },
     "metadata": {},
     "output_type": "display_data"
    },
    {
     "name": "stdout",
     "output_type": "stream",
     "text": [
      "n (next) / p (previous) / q (quit)n\n"
     ]
    },
    {
     "data": {
      "text/plain": [
       "'----------------------------------------------------------------------------------------------------'"
      ]
     },
     "metadata": {},
     "output_type": "display_data"
    },
    {
     "data": {
      "text/plain": [
       "'R = {(a, b), (a, c), (b, a), (b, c)}'"
      ]
     },
     "metadata": {},
     "output_type": "display_data"
    },
    {
     "data": {
      "text/plain": [
       "'S = {(a, a), (a, b), (b, b), (b, c), (d, d)}'"
      ]
     },
     "metadata": {},
     "output_type": "display_data"
    },
    {
     "data": {
      "text/plain": [
       "'R is transitive and S is transitive -> R | S is transitive'"
      ]
     },
     "metadata": {},
     "output_type": "display_data"
    },
    {
     "data": {
      "image/svg+xml": [
       "<?xml version=\"1.0\" encoding=\"UTF-8\" standalone=\"no\"?>\r\n",
       "<!DOCTYPE svg PUBLIC \"-//W3C//DTD SVG 1.1//EN\"\r\n",
       " \"http://www.w3.org/Graphics/SVG/1.1/DTD/svg11.dtd\">\r\n",
       "<!-- Generated by graphviz version 2.38.0 (20140413.2041)\r\n",
       " -->\r\n",
       "<!-- Title: %3 Pages: 1 -->\r\n",
       "<svg width=\"580pt\" height=\"297pt\"\r\n",
       " viewBox=\"0.00 0.00 580.00 297.00\" xmlns=\"http://www.w3.org/2000/svg\" xmlns:xlink=\"http://www.w3.org/1999/xlink\">\r\n",
       "<g id=\"graph0\" class=\"graph\" transform=\"scale(1 1) rotate(0) translate(4 293)\">\r\n",
       "<title>%3</title>\r\n",
       "<polygon fill=\"white\" stroke=\"none\" points=\"-4,4 -4,-293 576,-293 576,4 -4,4\"/>\r\n",
       "<text text-anchor=\"middle\" x=\"286\" y=\"-22.8\" font-family=\"Times New Roman,serif\" font-size=\"14.00\">&lt;&lt;EXPLAIN &#45; CONDITION&gt;&gt; </text>\r\n",
       "<text text-anchor=\"middle\" x=\"286\" y=\"-7.8\" font-family=\"Times New Roman,serif\" font-size=\"14.00\">Relation R is not transitive because it contains elements (a,b) and (b,a), but element (a,a) is missing!</text>\r\n",
       "<g id=\"clust1\" class=\"cluster\"><title>cluster_</title>\r\n",
       "<polygon fill=\"none\" stroke=\"white\" points=\"216,-46 216,-281 356,-281 356,-46 216,-46\"/>\r\n",
       "</g>\r\n",
       "<g id=\"clust2\" class=\"cluster\"><title>cluster_R</title>\r\n",
       "<polygon fill=\"none\" stroke=\"black\" points=\"224,-54 224,-273 348,-273 348,-54 224,-54\"/>\r\n",
       "<text text-anchor=\"middle\" x=\"286\" y=\"-61.8\" font-family=\"Times New Roman,serif\" font-size=\"14.00\">R</text>\r\n",
       "</g>\r\n",
       "<!-- a  -->\r\n",
       "<g id=\"node1\" class=\"node\"><title>a </title>\r\n",
       "<ellipse fill=\"red\" stroke=\"black\" cx=\"304\" cy=\"-103\" rx=\"18\" ry=\"18\"/>\r\n",
       "<text text-anchor=\"middle\" x=\"304\" y=\"-99.3\" font-family=\"Times New Roman,serif\" font-size=\"14.00\">a</text>\r\n",
       "</g>\r\n",
       "<!-- a &#45;&gt;a  -->\r\n",
       "<g id=\"edge5\" class=\"edge\"><title>a &#45;&gt;a </title>\r\n",
       "<path fill=\"none\" stroke=\"red\" stroke-dasharray=\"1,5\" d=\"M318.042,-91.2435C328.913,-86.8468 340,-90.7656 340,-103 340,-111.411 334.759,-115.892 327.952,-116.442\"/>\r\n",
       "<polygon fill=\"red\" stroke=\"red\" points=\"328.487,-112.983 318.042,-114.756 327.313,-119.884 328.487,-112.983\"/>\r\n",
       "</g>\r\n",
       "<!-- b  -->\r\n",
       "<g id=\"node2\" class=\"node\"><title>b </title>\r\n",
       "<ellipse fill=\"green\" stroke=\"black\" cx=\"302\" cy=\"-175\" rx=\"18\" ry=\"18\"/>\r\n",
       "<text text-anchor=\"middle\" x=\"302\" y=\"-171.3\" font-family=\"Times New Roman,serif\" font-size=\"14.00\">b</text>\r\n",
       "</g>\r\n",
       "<!-- a &#45;&gt;b  -->\r\n",
       "<g id=\"edge1\" class=\"edge\"><title>a &#45;&gt;b </title>\r\n",
       "<path fill=\"none\" stroke=\"green\" stroke-width=\"2\" d=\"M297.735,-120.235C296.607,-128.247 296.065,-138.122 296.183,-147.213\"/>\r\n",
       "<polygon fill=\"green\" stroke=\"green\" stroke-width=\"2\" points=\"292.694,-147.53 296.63,-157.367 299.687,-147.222 292.694,-147.53\"/>\r\n",
       "</g>\r\n",
       "<!-- c  -->\r\n",
       "<g id=\"node3\" class=\"node\"><title>c </title>\r\n",
       "<ellipse fill=\"none\" stroke=\"black\" cx=\"312\" cy=\"-247\" rx=\"18\" ry=\"18\"/>\r\n",
       "<text text-anchor=\"middle\" x=\"312\" y=\"-243.3\" font-family=\"Times New Roman,serif\" font-size=\"14.00\">c</text>\r\n",
       "</g>\r\n",
       "<!-- a &#45;&gt;c  -->\r\n",
       "<g id=\"edge2\" class=\"edge\"><title>a &#45;&gt;c </title>\r\n",
       "<path fill=\"none\" stroke=\"black\" stroke-width=\"2\" d=\"M313.082,-118.669C318.906,-128.969 325.931,-143.3 329,-157 333.794,-178.4 328.325,-202.887 322.349,-220.752\"/>\r\n",
       "<polygon fill=\"black\" stroke=\"black\" stroke-width=\"2\" points=\"319.048,-219.588 318.943,-230.182 325.632,-221.966 319.048,-219.588\"/>\r\n",
       "</g>\r\n",
       "<!-- b &#45;&gt;a  -->\r\n",
       "<g id=\"edge3\" class=\"edge\"><title>b &#45;&gt;a </title>\r\n",
       "<path fill=\"none\" stroke=\"green\" stroke-width=\"2\" d=\"M308.252,-157.853C309.401,-149.738 309.947,-139.697 309.813,-130.492\"/>\r\n",
       "<polygon fill=\"green\" stroke=\"green\" stroke-width=\"2\" points=\"313.297,-130.062 309.337,-120.235 306.304,-130.387 313.297,-130.062\"/>\r\n",
       "</g>\r\n",
       "<!-- b &#45;&gt;c  -->\r\n",
       "<g id=\"edge4\" class=\"edge\"><title>b &#45;&gt;c </title>\r\n",
       "<path fill=\"none\" stroke=\"black\" stroke-width=\"2\" d=\"M304.421,-192.945C305.522,-200.654 306.853,-209.973 308.091,-218.636\"/>\r\n",
       "<polygon fill=\"black\" stroke=\"black\" stroke-width=\"2\" points=\"304.653,-219.32 309.532,-228.725 311.583,-218.33 304.653,-219.32\"/>\r\n",
       "</g>\r\n",
       "<!-- d  -->\r\n",
       "<g id=\"node4\" class=\"node\"><title>d </title>\r\n",
       "<ellipse fill=\"none\" stroke=\"black\" cx=\"250\" cy=\"-103\" rx=\"18\" ry=\"18\"/>\r\n",
       "<text text-anchor=\"middle\" x=\"250\" y=\"-99.3\" font-family=\"Times New Roman,serif\" font-size=\"14.00\">d</text>\r\n",
       "</g>\r\n",
       "</g>\r\n",
       "</svg>\r\n"
      ],
      "text/plain": [
       "<graphviz.dot.Digraph at 0x22ae0ebe940>"
      ]
     },
     "metadata": {},
     "output_type": "display_data"
    },
    {
     "data": {
      "text/plain": [
       "'--------------------------------------------------2--------------------------------------------------'"
      ]
     },
     "metadata": {},
     "output_type": "display_data"
    },
    {
     "name": "stdout",
     "output_type": "stream",
     "text": [
      "n (next) / p (previous) / q (quit)n\n"
     ]
    },
    {
     "data": {
      "text/plain": [
       "'----------------------------------------------------------------------------------------------------'"
      ]
     },
     "metadata": {},
     "output_type": "display_data"
    },
    {
     "data": {
      "text/plain": [
       "'R = {(a, b), (a, c), (b, a), (b, c)}'"
      ]
     },
     "metadata": {},
     "output_type": "display_data"
    },
    {
     "data": {
      "text/plain": [
       "'S = {(a, a), (a, b), (b, b), (b, c), (d, d)}'"
      ]
     },
     "metadata": {},
     "output_type": "display_data"
    },
    {
     "data": {
      "text/plain": [
       "'R is transitive and S is transitive -> R | S is transitive'"
      ]
     },
     "metadata": {},
     "output_type": "display_data"
    },
    {
     "data": {
      "image/svg+xml": [
       "<?xml version=\"1.0\" encoding=\"UTF-8\" standalone=\"no\"?>\r\n",
       "<!DOCTYPE svg PUBLIC \"-//W3C//DTD SVG 1.1//EN\"\r\n",
       " \"http://www.w3.org/Graphics/SVG/1.1/DTD/svg11.dtd\">\r\n",
       "<!-- Generated by graphviz version 2.38.0 (20140413.2041)\r\n",
       " -->\r\n",
       "<!-- Title: %3 Pages: 1 -->\r\n",
       "<svg width=\"583pt\" height=\"297pt\"\r\n",
       " viewBox=\"0.00 0.00 583.00 297.00\" xmlns=\"http://www.w3.org/2000/svg\" xmlns:xlink=\"http://www.w3.org/1999/xlink\">\r\n",
       "<g id=\"graph0\" class=\"graph\" transform=\"scale(1 1) rotate(0) translate(4 293)\">\r\n",
       "<title>%3</title>\r\n",
       "<polygon fill=\"white\" stroke=\"none\" points=\"-4,4 -4,-293 579,-293 579,4 -4,4\"/>\r\n",
       "<text text-anchor=\"middle\" x=\"287.5\" y=\"-22.8\" font-family=\"Times New Roman,serif\" font-size=\"14.00\">&lt;&lt;EXPLAIN &#45; CONDITION&gt;&gt; </text>\r\n",
       "<text text-anchor=\"middle\" x=\"287.5\" y=\"-7.8\" font-family=\"Times New Roman,serif\" font-size=\"14.00\">Relation R is not transitive because it contains elements (b,a) and (a,b), but element (b,b) is missing!</text>\r\n",
       "<g id=\"clust1\" class=\"cluster\"><title>cluster_</title>\r\n",
       "<polygon fill=\"none\" stroke=\"white\" points=\"226.5,-46 226.5,-281 348.5,-281 348.5,-46 226.5,-46\"/>\r\n",
       "</g>\r\n",
       "<g id=\"clust2\" class=\"cluster\"><title>cluster_R</title>\r\n",
       "<polygon fill=\"none\" stroke=\"black\" points=\"234.5,-54 234.5,-273 340.5,-273 340.5,-54 234.5,-54\"/>\r\n",
       "<text text-anchor=\"middle\" x=\"287.5\" y=\"-61.8\" font-family=\"Times New Roman,serif\" font-size=\"14.00\">R</text>\r\n",
       "</g>\r\n",
       "<!-- a  -->\r\n",
       "<g id=\"node1\" class=\"node\"><title>a </title>\r\n",
       "<ellipse fill=\"green\" stroke=\"black\" cx=\"314.5\" cy=\"-103\" rx=\"18\" ry=\"18\"/>\r\n",
       "<text text-anchor=\"middle\" x=\"314.5\" y=\"-99.3\" font-family=\"Times New Roman,serif\" font-size=\"14.00\">a</text>\r\n",
       "</g>\r\n",
       "<!-- b  -->\r\n",
       "<g id=\"node2\" class=\"node\"><title>b </title>\r\n",
       "<ellipse fill=\"red\" stroke=\"black\" cx=\"276.5\" cy=\"-175\" rx=\"18\" ry=\"18\"/>\r\n",
       "<text text-anchor=\"middle\" x=\"276.5\" y=\"-171.3\" font-family=\"Times New Roman,serif\" font-size=\"14.00\">b</text>\r\n",
       "</g>\r\n",
       "<!-- a &#45;&gt;b  -->\r\n",
       "<g id=\"edge1\" class=\"edge\"><title>a &#45;&gt;b </title>\r\n",
       "<path fill=\"none\" stroke=\"green\" stroke-width=\"2\" d=\"M302.39,-116.515C296.378,-125.186 289.523,-137.05 284.192,-147.749\"/>\r\n",
       "<polygon fill=\"green\" stroke=\"green\" stroke-width=\"2\" points=\"280.873,-146.582 279.791,-157.122 287.209,-149.557 280.873,-146.582\"/>\r\n",
       "</g>\r\n",
       "<!-- c  -->\r\n",
       "<g id=\"node3\" class=\"node\"><title>c </title>\r\n",
       "<ellipse fill=\"none\" stroke=\"black\" cx=\"295.5\" cy=\"-247\" rx=\"18\" ry=\"18\"/>\r\n",
       "<text text-anchor=\"middle\" x=\"295.5\" y=\"-243.3\" font-family=\"Times New Roman,serif\" font-size=\"14.00\">c</text>\r\n",
       "</g>\r\n",
       "<!-- a &#45;&gt;c  -->\r\n",
       "<g id=\"edge2\" class=\"edge\"><title>a &#45;&gt;c </title>\r\n",
       "<path fill=\"none\" stroke=\"black\" stroke-width=\"2\" d=\"M318.789,-120.628C322.757,-138.678 327.246,-168.239 321.5,-193 319.152,-203.118 314.588,-213.531 309.931,-222.42\"/>\r\n",
       "<polygon fill=\"black\" stroke=\"black\" stroke-width=\"2\" points=\"306.749,-220.941 304.942,-231.381 312.864,-224.346 306.749,-220.941\"/>\r\n",
       "</g>\r\n",
       "<!-- b &#45;&gt;a  -->\r\n",
       "<g id=\"edge3\" class=\"edge\"><title>b &#45;&gt;a </title>\r\n",
       "<path fill=\"none\" stroke=\"green\" stroke-width=\"2\" d=\"M288.683,-161.379C294.673,-152.725 301.487,-140.926 306.795,-130.278\"/>\r\n",
       "<polygon fill=\"green\" stroke=\"green\" stroke-width=\"2\" points=\"310.095,-131.484 311.179,-120.945 303.76,-128.508 310.095,-131.484\"/>\r\n",
       "</g>\r\n",
       "<!-- b &#45;&gt;b  -->\r\n",
       "<g id=\"edge5\" class=\"edge\"><title>b &#45;&gt;b </title>\r\n",
       "<path fill=\"none\" stroke=\"red\" stroke-dasharray=\"1,5\" d=\"M290.542,-163.244C301.413,-158.847 312.5,-162.766 312.5,-175 312.5,-183.411 307.259,-187.892 300.452,-188.442\"/>\r\n",
       "<polygon fill=\"red\" stroke=\"red\" points=\"300.987,-184.983 290.542,-186.756 299.813,-191.884 300.987,-184.983\"/>\r\n",
       "</g>\r\n",
       "<!-- b &#45;&gt;c  -->\r\n",
       "<g id=\"edge4\" class=\"edge\"><title>b &#45;&gt;c </title>\r\n",
       "<path fill=\"none\" stroke=\"black\" stroke-width=\"2\" d=\"M281.003,-192.589C283.203,-200.696 285.904,-210.646 288.375,-219.752\"/>\r\n",
       "<polygon fill=\"black\" stroke=\"black\" stroke-width=\"2\" points=\"285.032,-220.796 291.03,-229.53 291.788,-218.962 285.032,-220.796\"/>\r\n",
       "</g>\r\n",
       "<!-- d  -->\r\n",
       "<g id=\"node4\" class=\"node\"><title>d </title>\r\n",
       "<ellipse fill=\"none\" stroke=\"black\" cx=\"260.5\" cy=\"-103\" rx=\"18\" ry=\"18\"/>\r\n",
       "<text text-anchor=\"middle\" x=\"260.5\" y=\"-99.3\" font-family=\"Times New Roman,serif\" font-size=\"14.00\">d</text>\r\n",
       "</g>\r\n",
       "</g>\r\n",
       "</svg>\r\n"
      ],
      "text/plain": [
       "<graphviz.dot.Digraph at 0x22ae077b340>"
      ]
     },
     "metadata": {},
     "output_type": "display_data"
    },
    {
     "data": {
      "text/plain": [
       "'--------------------------------------------------3--------------------------------------------------'"
      ]
     },
     "metadata": {},
     "output_type": "display_data"
    },
    {
     "name": "stdout",
     "output_type": "stream",
     "text": [
      "n (next) / p (previous) / q (quit)p\n"
     ]
    },
    {
     "data": {
      "text/plain": [
       "'----------------------------------------------------------------------------------------------------'"
      ]
     },
     "metadata": {},
     "output_type": "display_data"
    },
    {
     "data": {
      "text/plain": [
       "'R = {(a, b), (a, c), (b, a), (b, c)}'"
      ]
     },
     "metadata": {},
     "output_type": "display_data"
    },
    {
     "data": {
      "text/plain": [
       "'S = {(a, a), (a, b), (b, b), (b, c), (d, d)}'"
      ]
     },
     "metadata": {},
     "output_type": "display_data"
    },
    {
     "data": {
      "text/plain": [
       "'R is transitive and S is transitive -> R | S is transitive'"
      ]
     },
     "metadata": {},
     "output_type": "display_data"
    },
    {
     "data": {
      "image/svg+xml": [
       "<?xml version=\"1.0\" encoding=\"UTF-8\" standalone=\"no\"?>\r\n",
       "<!DOCTYPE svg PUBLIC \"-//W3C//DTD SVG 1.1//EN\"\r\n",
       " \"http://www.w3.org/Graphics/SVG/1.1/DTD/svg11.dtd\">\r\n",
       "<!-- Generated by graphviz version 2.38.0 (20140413.2041)\r\n",
       " -->\r\n",
       "<!-- Title: %3 Pages: 1 -->\r\n",
       "<svg width=\"580pt\" height=\"297pt\"\r\n",
       " viewBox=\"0.00 0.00 580.00 297.00\" xmlns=\"http://www.w3.org/2000/svg\" xmlns:xlink=\"http://www.w3.org/1999/xlink\">\r\n",
       "<g id=\"graph0\" class=\"graph\" transform=\"scale(1 1) rotate(0) translate(4 293)\">\r\n",
       "<title>%3</title>\r\n",
       "<polygon fill=\"white\" stroke=\"none\" points=\"-4,4 -4,-293 576,-293 576,4 -4,4\"/>\r\n",
       "<text text-anchor=\"middle\" x=\"286\" y=\"-22.8\" font-family=\"Times New Roman,serif\" font-size=\"14.00\">&lt;&lt;EXPLAIN &#45; CONDITION&gt;&gt; </text>\r\n",
       "<text text-anchor=\"middle\" x=\"286\" y=\"-7.8\" font-family=\"Times New Roman,serif\" font-size=\"14.00\">Relation R is not transitive because it contains elements (a,b) and (b,a), but element (a,a) is missing!</text>\r\n",
       "<g id=\"clust1\" class=\"cluster\"><title>cluster_</title>\r\n",
       "<polygon fill=\"none\" stroke=\"white\" points=\"216,-46 216,-281 356,-281 356,-46 216,-46\"/>\r\n",
       "</g>\r\n",
       "<g id=\"clust2\" class=\"cluster\"><title>cluster_R</title>\r\n",
       "<polygon fill=\"none\" stroke=\"black\" points=\"224,-54 224,-273 348,-273 348,-54 224,-54\"/>\r\n",
       "<text text-anchor=\"middle\" x=\"286\" y=\"-61.8\" font-family=\"Times New Roman,serif\" font-size=\"14.00\">R</text>\r\n",
       "</g>\r\n",
       "<!-- a  -->\r\n",
       "<g id=\"node1\" class=\"node\"><title>a </title>\r\n",
       "<ellipse fill=\"red\" stroke=\"black\" cx=\"304\" cy=\"-103\" rx=\"18\" ry=\"18\"/>\r\n",
       "<text text-anchor=\"middle\" x=\"304\" y=\"-99.3\" font-family=\"Times New Roman,serif\" font-size=\"14.00\">a</text>\r\n",
       "</g>\r\n",
       "<!-- a &#45;&gt;a  -->\r\n",
       "<g id=\"edge5\" class=\"edge\"><title>a &#45;&gt;a </title>\r\n",
       "<path fill=\"none\" stroke=\"red\" stroke-dasharray=\"1,5\" d=\"M318.042,-91.2435C328.913,-86.8468 340,-90.7656 340,-103 340,-111.411 334.759,-115.892 327.952,-116.442\"/>\r\n",
       "<polygon fill=\"red\" stroke=\"red\" points=\"328.487,-112.983 318.042,-114.756 327.313,-119.884 328.487,-112.983\"/>\r\n",
       "</g>\r\n",
       "<!-- b  -->\r\n",
       "<g id=\"node2\" class=\"node\"><title>b </title>\r\n",
       "<ellipse fill=\"green\" stroke=\"black\" cx=\"302\" cy=\"-175\" rx=\"18\" ry=\"18\"/>\r\n",
       "<text text-anchor=\"middle\" x=\"302\" y=\"-171.3\" font-family=\"Times New Roman,serif\" font-size=\"14.00\">b</text>\r\n",
       "</g>\r\n",
       "<!-- a &#45;&gt;b  -->\r\n",
       "<g id=\"edge1\" class=\"edge\"><title>a &#45;&gt;b </title>\r\n",
       "<path fill=\"none\" stroke=\"green\" stroke-width=\"2\" d=\"M297.735,-120.235C296.607,-128.247 296.065,-138.122 296.183,-147.213\"/>\r\n",
       "<polygon fill=\"green\" stroke=\"green\" stroke-width=\"2\" points=\"292.694,-147.53 296.63,-157.367 299.687,-147.222 292.694,-147.53\"/>\r\n",
       "</g>\r\n",
       "<!-- c  -->\r\n",
       "<g id=\"node3\" class=\"node\"><title>c </title>\r\n",
       "<ellipse fill=\"none\" stroke=\"black\" cx=\"312\" cy=\"-247\" rx=\"18\" ry=\"18\"/>\r\n",
       "<text text-anchor=\"middle\" x=\"312\" y=\"-243.3\" font-family=\"Times New Roman,serif\" font-size=\"14.00\">c</text>\r\n",
       "</g>\r\n",
       "<!-- a &#45;&gt;c  -->\r\n",
       "<g id=\"edge2\" class=\"edge\"><title>a &#45;&gt;c </title>\r\n",
       "<path fill=\"none\" stroke=\"black\" stroke-width=\"2\" d=\"M313.082,-118.669C318.906,-128.969 325.931,-143.3 329,-157 333.794,-178.4 328.325,-202.887 322.349,-220.752\"/>\r\n",
       "<polygon fill=\"black\" stroke=\"black\" stroke-width=\"2\" points=\"319.048,-219.588 318.943,-230.182 325.632,-221.966 319.048,-219.588\"/>\r\n",
       "</g>\r\n",
       "<!-- b &#45;&gt;a  -->\r\n",
       "<g id=\"edge3\" class=\"edge\"><title>b &#45;&gt;a </title>\r\n",
       "<path fill=\"none\" stroke=\"green\" stroke-width=\"2\" d=\"M308.252,-157.853C309.401,-149.738 309.947,-139.697 309.813,-130.492\"/>\r\n",
       "<polygon fill=\"green\" stroke=\"green\" stroke-width=\"2\" points=\"313.297,-130.062 309.337,-120.235 306.304,-130.387 313.297,-130.062\"/>\r\n",
       "</g>\r\n",
       "<!-- b &#45;&gt;c  -->\r\n",
       "<g id=\"edge4\" class=\"edge\"><title>b &#45;&gt;c </title>\r\n",
       "<path fill=\"none\" stroke=\"black\" stroke-width=\"2\" d=\"M304.421,-192.945C305.522,-200.654 306.853,-209.973 308.091,-218.636\"/>\r\n",
       "<polygon fill=\"black\" stroke=\"black\" stroke-width=\"2\" points=\"304.653,-219.32 309.532,-228.725 311.583,-218.33 304.653,-219.32\"/>\r\n",
       "</g>\r\n",
       "<!-- d  -->\r\n",
       "<g id=\"node4\" class=\"node\"><title>d </title>\r\n",
       "<ellipse fill=\"none\" stroke=\"black\" cx=\"250\" cy=\"-103\" rx=\"18\" ry=\"18\"/>\r\n",
       "<text text-anchor=\"middle\" x=\"250\" y=\"-99.3\" font-family=\"Times New Roman,serif\" font-size=\"14.00\">d</text>\r\n",
       "</g>\r\n",
       "</g>\r\n",
       "</svg>\r\n"
      ],
      "text/plain": [
       "<graphviz.dot.Digraph at 0x22ae0ebe940>"
      ]
     },
     "metadata": {},
     "output_type": "display_data"
    },
    {
     "data": {
      "text/plain": [
       "'--------------------------------------------------2--------------------------------------------------'"
      ]
     },
     "metadata": {},
     "output_type": "display_data"
    },
    {
     "name": "stdout",
     "output_type": "stream",
     "text": [
      "n (next) / p (previous) / q (quit)q\n"
     ]
    }
   ],
   "source": [
    "generator.explain()"
   ]
  },
  {
   "cell_type": "code",
   "execution_count": 174,
   "id": "26b3588d",
   "metadata": {
    "scrolled": false
   },
   "outputs": [],
   "source": [
    "expression = \"R is lattice -> R is reflexive\"\n",
    "\n",
    "s = FiniteSet(1,2,3,5,6,10,15,30)\n",
    "    \n",
    "r = s ** 2\n",
    "\n",
    "br = set()\n",
    "for a,b in r:\n",
    "    if b % a == 0:\n",
    "        br.add((a,b))\n",
    "\n",
    "#print(br)\n",
    "relation1 = PartialOrder(br, s, True)\n",
    "\n",
    "\n",
    "variables = {'R':relation1}\n",
    "\n",
    "interpreter = Interpreter(variables, s, True)\n",
    "\n",
    "#--------------------------------------------------------------------------------------------------------------\n",
    "\n",
    "generator = interpreter.analyze_all(expression, 2)\n",
    "\n",
    "#for p in generator: display(p);"
   ]
  },
  {
   "cell_type": "code",
   "execution_count": 175,
   "id": "9774ca40",
   "metadata": {},
   "outputs": [
    {
     "name": "stdout",
     "output_type": "stream",
     "text": [
      "n (next) / p (previous) / q (quit)n\n"
     ]
    },
    {
     "data": {
      "text/plain": [
       "'----------------------------------------------------------------------------------------------------'"
      ]
     },
     "metadata": {},
     "output_type": "display_data"
    },
    {
     "data": {
      "text/plain": [
       "'R = {(1, 1), (1, 2), (1, 3), (1, 5), (1, 6), (1, 10), (1, 15), (1, 30), (2, 2), (2, 6), (2, 10), (2, 30), (3, 3), (3, 6), (3, 15), (3, 30), (5, 5), (5, 10), (5, 15), (5, 30), (6, 6), (6, 30), (10, 10), (10, 30), (15, 15), (15, 30), (30, 30)}'"
      ]
     },
     "metadata": {},
     "output_type": "display_data"
    },
    {
     "data": {
      "text/plain": [
       "'R is lattice -> R is reflexive'"
      ]
     },
     "metadata": {},
     "output_type": "display_data"
    },
    {
     "data": {
      "text/plain": [
       "'<<<ERROR - CONCLUSION>>> R is reflexive'"
      ]
     },
     "metadata": {},
     "output_type": "display_data"
    },
    {
     "data": {
      "text/plain": [
       "'--------------------------------------------------0--------------------------------------------------'"
      ]
     },
     "metadata": {},
     "output_type": "display_data"
    },
    {
     "name": "stdout",
     "output_type": "stream",
     "text": [
      "n (next) / p (previous) / q (quit)p\n"
     ]
    },
    {
     "data": {
      "text/plain": [
       "'----------------------------------------------------------------------------------------------------'"
      ]
     },
     "metadata": {},
     "output_type": "display_data"
    },
    {
     "data": {
      "text/plain": [
       "'R = {(1, 1), (1, 2), (1, 3), (1, 5), (1, 6), (1, 10), (1, 15), (1, 30), (2, 2), (2, 6), (2, 10), (2, 30), (3, 3), (3, 6), (3, 15), (3, 30), (5, 5), (5, 10), (5, 15), (5, 30), (6, 6), (6, 30), (10, 10), (10, 30), (15, 15), (15, 30), (30, 30)}'"
      ]
     },
     "metadata": {},
     "output_type": "display_data"
    },
    {
     "data": {
      "text/plain": [
       "'R is lattice -> R is reflexive'"
      ]
     },
     "metadata": {},
     "output_type": "display_data"
    },
    {
     "data": {
      "text/plain": [
       "'<<<ERROR - CONCLUSION>>> R is reflexive'"
      ]
     },
     "metadata": {},
     "output_type": "display_data"
    },
    {
     "data": {
      "text/plain": [
       "'--------------------------------------------------0--------------------------------------------------'"
      ]
     },
     "metadata": {},
     "output_type": "display_data"
    },
    {
     "name": "stdout",
     "output_type": "stream",
     "text": [
      "n (next) / p (previous) / q (quit)p\n"
     ]
    },
    {
     "data": {
      "text/plain": [
       "'----------------------------------------------------------------------------------------------------'"
      ]
     },
     "metadata": {},
     "output_type": "display_data"
    },
    {
     "data": {
      "text/plain": [
       "'R = {(1, 1), (1, 2), (1, 3), (1, 5), (1, 6), (1, 10), (1, 15), (1, 30), (2, 2), (2, 6), (2, 10), (2, 30), (3, 3), (3, 6), (3, 15), (3, 30), (5, 5), (5, 10), (5, 15), (5, 30), (6, 6), (6, 30), (10, 10), (10, 30), (15, 15), (15, 30), (30, 30)}'"
      ]
     },
     "metadata": {},
     "output_type": "display_data"
    },
    {
     "data": {
      "text/plain": [
       "'R is lattice -> R is reflexive'"
      ]
     },
     "metadata": {},
     "output_type": "display_data"
    },
    {
     "data": {
      "text/plain": [
       "'<<<ERROR - CONCLUSION>>> R is reflexive'"
      ]
     },
     "metadata": {},
     "output_type": "display_data"
    },
    {
     "data": {
      "text/plain": [
       "'--------------------------------------------------0--------------------------------------------------'"
      ]
     },
     "metadata": {},
     "output_type": "display_data"
    },
    {
     "name": "stdout",
     "output_type": "stream",
     "text": [
      "n (next) / p (previous) / q (quit)n\n"
     ]
    },
    {
     "data": {
      "text/plain": [
       "'----------------------------------------------------------------------------------------------------'"
      ]
     },
     "metadata": {},
     "output_type": "display_data"
    },
    {
     "data": {
      "text/plain": [
       "'R = {(1, 1), (1, 2), (1, 3), (1, 5), (1, 6), (1, 10), (1, 15), (1, 30), (2, 2), (2, 6), (2, 10), (2, 30), (3, 3), (3, 6), (3, 15), (3, 30), (5, 5), (5, 10), (5, 15), (5, 30), (6, 6), (6, 30), (10, 10), (10, 30), (15, 15), (15, 30), (30, 30)}'"
      ]
     },
     "metadata": {},
     "output_type": "display_data"
    },
    {
     "data": {
      "text/plain": [
       "'R is lattice -> R is reflexive'"
      ]
     },
     "metadata": {},
     "output_type": "display_data"
    },
    {
     "data": {
      "image/svg+xml": [
       "<?xml version=\"1.0\" encoding=\"UTF-8\" standalone=\"no\"?>\r\n",
       "<!DOCTYPE svg PUBLIC \"-//W3C//DTD SVG 1.1//EN\"\r\n",
       " \"http://www.w3.org/Graphics/SVG/1.1/DTD/svg11.dtd\">\r\n",
       "<!-- Generated by graphviz version 2.38.0 (20140413.2041)\r\n",
       " -->\r\n",
       "<!-- Title: %3 Pages: 1 -->\r\n",
       "<svg width=\"223pt\" height=\"375pt\"\r\n",
       " viewBox=\"0.00 0.00 223.00 374.99\" xmlns=\"http://www.w3.org/2000/svg\" xmlns:xlink=\"http://www.w3.org/1999/xlink\">\r\n",
       "<g id=\"graph0\" class=\"graph\" transform=\"scale(1 1) rotate(0) translate(4 370.993)\">\r\n",
       "<title>%3</title>\r\n",
       "<polygon fill=\"white\" stroke=\"none\" points=\"-4,4 -4,-370.993 219,-370.993 219,4 -4,4\"/>\r\n",
       "<text text-anchor=\"middle\" x=\"107.5\" y=\"-22.8\" font-family=\"Times New Roman,serif\" font-size=\"14.00\">&lt;&lt;EXPLAIN &#45; CONCLUSION&gt;&gt; </text>\r\n",
       "<text text-anchor=\"middle\" x=\"107.5\" y=\"-7.8\" font-family=\"Times New Roman,serif\" font-size=\"14.00\">Relation R is reflexive!</text>\r\n",
       "<g id=\"clust1\" class=\"cluster\"><title>cluster_</title>\r\n",
       "<polygon fill=\"none\" stroke=\"white\" points=\"17,-46 17,-358.993 198,-358.993 198,-46 17,-46\"/>\r\n",
       "</g>\r\n",
       "<g id=\"clust2\" class=\"cluster\"><title>cluster_R</title>\r\n",
       "<polygon fill=\"none\" stroke=\"black\" points=\"25,-54 25,-350.993 190,-350.993 190,-54 25,-54\"/>\r\n",
       "<text text-anchor=\"middle\" x=\"107.5\" y=\"-61.8\" font-family=\"Times New Roman,serif\" font-size=\"14.00\">R</text>\r\n",
       "</g>\r\n",
       "<!-- 1  -->\r\n",
       "<g id=\"node1\" class=\"node\"><title>1 </title>\r\n",
       "<ellipse fill=\"green\" stroke=\"black\" cx=\"107\" cy=\"-103\" rx=\"18\" ry=\"18\"/>\r\n",
       "<text text-anchor=\"middle\" x=\"107\" y=\"-99.3\" font-family=\"Times New Roman,serif\" font-size=\"14.00\">1</text>\r\n",
       "</g>\r\n",
       "<!-- 2  -->\r\n",
       "<g id=\"node2\" class=\"node\"><title>2 </title>\r\n",
       "<ellipse fill=\"green\" stroke=\"black\" cx=\"53\" cy=\"-175\" rx=\"18\" ry=\"18\"/>\r\n",
       "<text text-anchor=\"middle\" x=\"53\" y=\"-171.3\" font-family=\"Times New Roman,serif\" font-size=\"14.00\">2</text>\r\n",
       "</g>\r\n",
       "<!-- 1 &#45;&gt;2  -->\r\n",
       "<g id=\"edge1\" class=\"edge\"><title>1 &#45;&gt;2 </title>\r\n",
       "<path fill=\"none\" stroke=\"black\" stroke-width=\"2\" d=\"M96.3313,-117.83C86.8644,-130.102 73.1067,-147.936 63.6465,-160.199\"/>\r\n",
       "</g>\r\n",
       "<!-- 3  -->\r\n",
       "<g id=\"node3\" class=\"node\"><title>3 </title>\r\n",
       "<ellipse fill=\"green\" stroke=\"black\" cx=\"107\" cy=\"-175\" rx=\"18\" ry=\"18\"/>\r\n",
       "<text text-anchor=\"middle\" x=\"107\" y=\"-171.3\" font-family=\"Times New Roman,serif\" font-size=\"14.00\">3</text>\r\n",
       "</g>\r\n",
       "<!-- 1 &#45;&gt;3  -->\r\n",
       "<g id=\"edge2\" class=\"edge\"><title>1 &#45;&gt;3 </title>\r\n",
       "<path fill=\"none\" stroke=\"black\" stroke-width=\"2\" d=\"M107,-121.303C107,-132.154 107,-146.083 107,-156.896\"/>\r\n",
       "</g>\r\n",
       "<!-- 5  -->\r\n",
       "<g id=\"node4\" class=\"node\"><title>5 </title>\r\n",
       "<ellipse fill=\"green\" stroke=\"black\" cx=\"161\" cy=\"-175\" rx=\"18\" ry=\"18\"/>\r\n",
       "<text text-anchor=\"middle\" x=\"161\" y=\"-171.3\" font-family=\"Times New Roman,serif\" font-size=\"14.00\">5</text>\r\n",
       "</g>\r\n",
       "<!-- 1 &#45;&gt;5  -->\r\n",
       "<g id=\"edge3\" class=\"edge\"><title>1 &#45;&gt;5 </title>\r\n",
       "<path fill=\"none\" stroke=\"black\" stroke-width=\"2\" d=\"M117.669,-117.83C127.136,-130.102 140.893,-147.936 150.354,-160.199\"/>\r\n",
       "</g>\r\n",
       "<!-- 6  -->\r\n",
       "<g id=\"node5\" class=\"node\"><title>6 </title>\r\n",
       "<ellipse fill=\"green\" stroke=\"black\" cx=\"51\" cy=\"-248.498\" rx=\"18\" ry=\"18\"/>\r\n",
       "<text text-anchor=\"middle\" x=\"51\" y=\"-244.798\" font-family=\"Times New Roman,serif\" font-size=\"14.00\">6</text>\r\n",
       "</g>\r\n",
       "<!-- 2 &#45;&gt;6  -->\r\n",
       "<g id=\"edge5\" class=\"edge\"><title>2 &#45;&gt;6 </title>\r\n",
       "<path fill=\"none\" stroke=\"black\" stroke-width=\"2\" d=\"M52.5159,-193.308C52.2014,-204.549 51.7932,-219.14 51.4797,-230.35\"/>\r\n",
       "</g>\r\n",
       "<!-- 10  -->\r\n",
       "<g id=\"node6\" class=\"node\"><title>10 </title>\r\n",
       "<ellipse fill=\"green\" stroke=\"black\" cx=\"106\" cy=\"-248.498\" rx=\"19.4965\" ry=\"19.4965\"/>\r\n",
       "<text text-anchor=\"middle\" x=\"106\" y=\"-244.798\" font-family=\"Times New Roman,serif\" font-size=\"14.00\">10</text>\r\n",
       "</g>\r\n",
       "<!-- 2 &#45;&gt;10  -->\r\n",
       "<g id=\"edge4\" class=\"edge\"><title>2 &#45;&gt;10 </title>\r\n",
       "<path fill=\"none\" stroke=\"black\" stroke-width=\"2\" d=\"M63.4711,-190.126C72.5214,-202.335 85.567,-219.934 94.8188,-232.415\"/>\r\n",
       "</g>\r\n",
       "<!-- 3 &#45;&gt;6  -->\r\n",
       "<g id=\"edge6\" class=\"edge\"><title>3 &#45;&gt;6 </title>\r\n",
       "<path fill=\"none\" stroke=\"black\" stroke-width=\"2\" d=\"M96.2026,-189.786C86.2863,-202.446 71.6701,-221.108 61.7642,-233.755\"/>\r\n",
       "</g>\r\n",
       "<!-- 15  -->\r\n",
       "<g id=\"node7\" class=\"node\"><title>15 </title>\r\n",
       "<ellipse fill=\"green\" stroke=\"black\" cx=\"163\" cy=\"-248.498\" rx=\"19.4965\" ry=\"19.4965\"/>\r\n",
       "<text text-anchor=\"middle\" x=\"163\" y=\"-244.798\" font-family=\"Times New Roman,serif\" font-size=\"14.00\">15</text>\r\n",
       "</g>\r\n",
       "<!-- 3 &#45;&gt;15  -->\r\n",
       "<g id=\"edge7\" class=\"edge\"><title>3 &#45;&gt;15 </title>\r\n",
       "<path fill=\"none\" stroke=\"black\" stroke-width=\"2\" d=\"M117.797,-189.786C127.459,-202.122 141.583,-220.155 151.465,-232.77\"/>\r\n",
       "</g>\r\n",
       "<!-- 5 &#45;&gt;10  -->\r\n",
       "<g id=\"edge8\" class=\"edge\"><title>5 &#45;&gt;10 </title>\r\n",
       "<path fill=\"none\" stroke=\"black\" stroke-width=\"2\" d=\"M150.395,-189.786C140.968,-202.041 127.216,-219.918 117.521,-232.521\"/>\r\n",
       "</g>\r\n",
       "<!-- 5 &#45;&gt;15  -->\r\n",
       "<g id=\"edge9\" class=\"edge\"><title>5 &#45;&gt;15 </title>\r\n",
       "<path fill=\"none\" stroke=\"black\" stroke-width=\"2\" d=\"M161.484,-193.308C161.785,-204.053 162.171,-217.86 162.478,-228.847\"/>\r\n",
       "</g>\r\n",
       "<!-- 30  -->\r\n",
       "<g id=\"node8\" class=\"node\"><title>30 </title>\r\n",
       "<ellipse fill=\"green\" stroke=\"black\" cx=\"106\" cy=\"-323.495\" rx=\"19.4965\" ry=\"19.4965\"/>\r\n",
       "<text text-anchor=\"middle\" x=\"106\" y=\"-319.795\" font-family=\"Times New Roman,serif\" font-size=\"14.00\">30</text>\r\n",
       "</g>\r\n",
       "<!-- 6 &#45;&gt;30  -->\r\n",
       "<g id=\"edge10\" class=\"edge\"><title>6 &#45;&gt;30 </title>\r\n",
       "<path fill=\"none\" stroke=\"black\" stroke-width=\"2\" d=\"M61.6046,-263.573C71.0941,-276.167 84.9659,-294.578 94.6707,-307.458\"/>\r\n",
       "</g>\r\n",
       "<!-- 10 &#45;&gt;30  -->\r\n",
       "<g id=\"edge11\" class=\"edge\"><title>10 &#45;&gt;30 </title>\r\n",
       "<path fill=\"none\" stroke=\"black\" stroke-width=\"2\" d=\"M106,-268.297C106,-279.195 106,-292.872 106,-303.76\"/>\r\n",
       "</g>\r\n",
       "<!-- 15 &#45;&gt;30  -->\r\n",
       "<g id=\"edge12\" class=\"edge\"><title>15 &#45;&gt;30 </title>\r\n",
       "<path fill=\"none\" stroke=\"black\" stroke-width=\"2\" d=\"M151.465,-264.27C141.576,-276.935 127.402,-295.087 117.518,-307.745\"/>\r\n",
       "</g>\r\n",
       "</g>\r\n",
       "</svg>\r\n"
      ],
      "text/plain": [
       "<graphviz.dot.Digraph at 0x22ae071c5e0>"
      ]
     },
     "metadata": {},
     "output_type": "display_data"
    },
    {
     "data": {
      "text/plain": [
       "'--------------------------------------------------1--------------------------------------------------'"
      ]
     },
     "metadata": {},
     "output_type": "display_data"
    },
    {
     "name": "stdout",
     "output_type": "stream",
     "text": [
      "n (next) / p (previous) / q (quit)n\n"
     ]
    },
    {
     "data": {
      "text/plain": [
       "'----------------------------------------------------------------------------------------------------'"
      ]
     },
     "metadata": {},
     "output_type": "display_data"
    },
    {
     "data": {
      "text/plain": [
       "'R = {(1, 1), (1, 2), (1, 3), (1, 5), (1, 6), (1, 10), (1, 15), (1, 30), (2, 2), (2, 6), (2, 10), (2, 30), (3, 3), (3, 6), (3, 15), (3, 30), (5, 5), (5, 10), (5, 15), (5, 30), (6, 6), (6, 30), (10, 10), (10, 30), (15, 15), (15, 30), (30, 30)}'"
      ]
     },
     "metadata": {},
     "output_type": "display_data"
    },
    {
     "data": {
      "text/plain": [
       "'R is lattice -> R is reflexive'"
      ]
     },
     "metadata": {},
     "output_type": "display_data"
    },
    {
     "data": {
      "text/plain": [
       "'<<EXPLAIN - END>>'"
      ]
     },
     "metadata": {},
     "output_type": "display_data"
    },
    {
     "name": "stdout",
     "output_type": "stream",
     "text": [
      "n (next) / p (previous) / q (quit)q\n"
     ]
    }
   ],
   "source": [
    "generator.explain()"
   ]
  },
  {
   "cell_type": "code",
   "execution_count": 6,
   "id": "39b8de3b",
   "metadata": {},
   "outputs": [
    {
     "data": {
      "text/plain": [
       "'Good counterexample!'"
      ]
     },
     "metadata": {},
     "output_type": "display_data"
    }
   ],
   "source": [
    "expression = \"R°S is injective -> S is injective\"\n",
    "\n",
    "domain = {'a','b','c'}\n",
    "codomain = {'a','b','c','d','e'}\n",
    "\n",
    "\n",
    "relation1 = Function({('a','a'),('b','b'),('c','c')}, {'a','b','c'},codomain, True)\n",
    "relation2 = Function({('a',1),('b',3),('c',2),('d',4),('e',4)}, codomain,{1,2,3,4,5}, True)\n",
    "\n",
    "variables = {'R':relation1, 'S':relation2}\n",
    "\n",
    "interpreter = Interpreter(variables, domain|codomain|{1,2,3,4,5}, True)\n",
    "\n",
    "#--------------------------------------------------------------------------------------------------------------\n",
    "\n",
    "generator = interpreter.analyze_all(expression, 2)\n",
    "\n",
    "for p in generator: display(p);"
   ]
  },
  {
   "cell_type": "code",
   "execution_count": 7,
   "id": "94f11f8a",
   "metadata": {},
   "outputs": [
    {
     "data": {
      "text/plain": [
       "'Good counterexample!'"
      ]
     },
     "metadata": {},
     "output_type": "display_data"
    }
   ],
   "source": [
    "expression = \"R°S is surjective -> R is surjective\"\n",
    "\n",
    "domain = {'a','b','c'}\n",
    "codomain = {'a','b','c'}\n",
    "\n",
    "\n",
    "relation1 = Function({('a','a'),('b','b'),('c','b')}, domain,codomain, True)\n",
    "relation2 = Function({('a',1),('b',2),('c',2)}, codomain,{1,2}, True)\n",
    "\n",
    "variables = {'R':relation1, 'S':relation2}\n",
    "\n",
    "interpreter = Interpreter(variables, domain|codomain|{1,2,3,4,5}, True)\n",
    "\n",
    "#--------------------------------------------------------------------------------------------------------------\n",
    "\n",
    "generator = interpreter.analyze_all(expression, 2)\n",
    "\n",
    "for p in generator: display(p);"
   ]
  },
  {
   "cell_type": "code",
   "execution_count": 177,
   "id": "301ff33b",
   "metadata": {},
   "outputs": [
    {
     "data": {
      "text/plain": [
       "'<<<ERROR - CONDITION>>> (R ° S) is bijective'"
      ]
     },
     "metadata": {},
     "output_type": "display_data"
    },
    {
     "data": {
      "image/svg+xml": [
       "<?xml version=\"1.0\" encoding=\"UTF-8\" standalone=\"no\"?>\r\n",
       "<!DOCTYPE svg PUBLIC \"-//W3C//DTD SVG 1.1//EN\"\r\n",
       " \"http://www.w3.org/Graphics/SVG/1.1/DTD/svg11.dtd\">\r\n",
       "<!-- Generated by graphviz version 2.38.0 (20140413.2041)\r\n",
       " -->\r\n",
       "<!-- Title: %3 Pages: 1 -->\r\n",
       "<svg width=\"503pt\" height=\"299pt\"\r\n",
       " viewBox=\"0.00 0.00 503.00 299.00\" xmlns=\"http://www.w3.org/2000/svg\" xmlns:xlink=\"http://www.w3.org/1999/xlink\">\r\n",
       "<g id=\"graph0\" class=\"graph\" transform=\"scale(1 1) rotate(0) translate(4 295)\">\r\n",
       "<title>%3</title>\r\n",
       "<polygon fill=\"white\" stroke=\"none\" points=\"-4,4 -4,-295 499,-295 499,4 -4,4\"/>\r\n",
       "<text text-anchor=\"middle\" x=\"247.5\" y=\"-37.8\" font-family=\"Times New Roman,serif\" font-size=\"14.00\">&lt;&lt;EXPLAIN &#45; CONDITION&gt;&gt; </text>\r\n",
       "<text text-anchor=\"middle\" x=\"247.5\" y=\"-22.8\" font-family=\"Times New Roman,serif\" font-size=\"14.00\"> Relation (R°S) is not bijective, because (R°S) is not injective!</text>\r\n",
       "<text text-anchor=\"middle\" x=\"247.5\" y=\"-7.8\" font-family=\"Times New Roman,serif\" font-size=\"14.00\"> Relation (R°S) is not injective, because elements {c, b} are in relation with element 2!</text>\r\n",
       "<g id=\"clust1\" class=\"cluster\"><title>cluster_(R°S)</title>\r\n",
       "<polygon fill=\"none\" stroke=\"white\" points=\"119,-61 119,-283 376,-283 376,-61 119,-61\"/>\r\n",
       "<text text-anchor=\"middle\" x=\"247.5\" y=\"-267.8\" font-family=\"Times New Roman,serif\" font-size=\"14.00\">(R°S)</text>\r\n",
       "</g>\r\n",
       "<g id=\"clust3\" class=\"cluster\"><title>cluster_(R°S)_codom</title>\r\n",
       "<polygon fill=\"none\" stroke=\"black\" points=\"258,-69 258,-252 368,-252 368,-69 258,-69\"/>\r\n",
       "<text text-anchor=\"middle\" x=\"313\" y=\"-236.8\" font-family=\"Times New Roman,serif\" font-size=\"14.00\">(R°S)&#45;codomain</text>\r\n",
       "</g>\r\n",
       "<g id=\"clust2\" class=\"cluster\"><title>cluster_(R°S)_dom</title>\r\n",
       "<polygon fill=\"none\" stroke=\"black\" points=\"127,-69 127,-252 222,-252 222,-69 127,-69\"/>\r\n",
       "<text text-anchor=\"middle\" x=\"174.5\" y=\"-236.8\" font-family=\"Times New Roman,serif\" font-size=\"14.00\">(R°S)&#45;domain</text>\r\n",
       "</g>\r\n",
       "<!-- a  -->\r\n",
       "<g id=\"node1\" class=\"node\"><title>a </title>\r\n",
       "<ellipse fill=\"none\" stroke=\"black\" cx=\"174\" cy=\"-203\" rx=\"18\" ry=\"18\"/>\r\n",
       "<text text-anchor=\"middle\" x=\"174\" y=\"-199.3\" font-family=\"Times New Roman,serif\" font-size=\"14.00\">a</text>\r\n",
       "</g>\r\n",
       "<!-- 1 &#160; -->\r\n",
       "<g id=\"node4\" class=\"node\"><title>1 &#160;</title>\r\n",
       "<ellipse fill=\"none\" stroke=\"black\" cx=\"313\" cy=\"-203\" rx=\"18\" ry=\"18\"/>\r\n",
       "<text text-anchor=\"middle\" x=\"313\" y=\"-199.3\" font-family=\"Times New Roman,serif\" font-size=\"14.00\">1</text>\r\n",
       "</g>\r\n",
       "<!-- a &#45;&gt;1 &#160; -->\r\n",
       "<g id=\"edge1\" class=\"edge\"><title>a &#45;&gt;1 &#160;</title>\r\n",
       "<path fill=\"none\" stroke=\"black\" stroke-width=\"2\" d=\"M192.074,-203C215.25,-203 256.936,-203 284.539,-203\"/>\r\n",
       "<polygon fill=\"black\" stroke=\"black\" stroke-width=\"2\" points=\"284.711,-206.5 294.711,-203 284.711,-199.5 284.711,-206.5\"/>\r\n",
       "</g>\r\n",
       "<!-- b  -->\r\n",
       "<g id=\"node2\" class=\"node\"><title>b </title>\r\n",
       "<ellipse fill=\"red\" stroke=\"black\" cx=\"174\" cy=\"-149\" rx=\"18\" ry=\"18\"/>\r\n",
       "<text text-anchor=\"middle\" x=\"174\" y=\"-145.3\" font-family=\"Times New Roman,serif\" font-size=\"14.00\">b</text>\r\n",
       "</g>\r\n",
       "<!-- 2 &#160; -->\r\n",
       "<g id=\"node5\" class=\"node\"><title>2 &#160;</title>\r\n",
       "<ellipse fill=\"red\" stroke=\"black\" cx=\"313\" cy=\"-149\" rx=\"18\" ry=\"18\"/>\r\n",
       "<text text-anchor=\"middle\" x=\"313\" y=\"-145.3\" font-family=\"Times New Roman,serif\" font-size=\"14.00\">2</text>\r\n",
       "</g>\r\n",
       "<!-- b &#45;&gt;2 &#160; -->\r\n",
       "<g id=\"edge2\" class=\"edge\"><title>b &#45;&gt;2 &#160;</title>\r\n",
       "<path fill=\"none\" stroke=\"red\" stroke-width=\"2\" d=\"M192.074,-149C215.25,-149 256.936,-149 284.539,-149\"/>\r\n",
       "<polygon fill=\"red\" stroke=\"red\" stroke-width=\"2\" points=\"284.711,-152.5 294.711,-149 284.711,-145.5 284.711,-152.5\"/>\r\n",
       "</g>\r\n",
       "<!-- c  -->\r\n",
       "<g id=\"node3\" class=\"node\"><title>c </title>\r\n",
       "<ellipse fill=\"red\" stroke=\"black\" cx=\"174\" cy=\"-95\" rx=\"18\" ry=\"18\"/>\r\n",
       "<text text-anchor=\"middle\" x=\"174\" y=\"-91.3\" font-family=\"Times New Roman,serif\" font-size=\"14.00\">c</text>\r\n",
       "</g>\r\n",
       "<!-- c &#45;&gt;2 &#160; -->\r\n",
       "<g id=\"edge3\" class=\"edge\"><title>c &#45;&gt;2 &#160;</title>\r\n",
       "<path fill=\"none\" stroke=\"red\" stroke-width=\"2\" d=\"M190.984,-101.3C214.495,-110.567 258.634,-127.965 286.61,-138.992\"/>\r\n",
       "<polygon fill=\"red\" stroke=\"red\" stroke-width=\"2\" points=\"285.531,-142.329 296.118,-142.74 288.098,-135.817 285.531,-142.329\"/>\r\n",
       "</g>\r\n",
       "<!-- 3 &#160; -->\r\n",
       "<g id=\"node6\" class=\"node\"><title>3 &#160;</title>\r\n",
       "<ellipse fill=\"none\" stroke=\"black\" cx=\"313\" cy=\"-95\" rx=\"18\" ry=\"18\"/>\r\n",
       "<text text-anchor=\"middle\" x=\"313\" y=\"-91.3\" font-family=\"Times New Roman,serif\" font-size=\"14.00\">3</text>\r\n",
       "</g>\r\n",
       "</g>\r\n",
       "</svg>\r\n"
      ],
      "text/plain": [
       "<graphviz.dot.Digraph at 0x22ae0872e80>"
      ]
     },
     "metadata": {},
     "output_type": "display_data"
    },
    {
     "data": {
      "image/svg+xml": [
       "<?xml version=\"1.0\" encoding=\"UTF-8\" standalone=\"no\"?>\r\n",
       "<!DOCTYPE svg PUBLIC \"-//W3C//DTD SVG 1.1//EN\"\r\n",
       " \"http://www.w3.org/Graphics/SVG/1.1/DTD/svg11.dtd\">\r\n",
       "<!-- Generated by graphviz version 2.38.0 (20140413.2041)\r\n",
       " -->\r\n",
       "<!-- Title: %3 Pages: 1 -->\r\n",
       "<svg width=\"499pt\" height=\"299pt\"\r\n",
       " viewBox=\"0.00 0.00 499.00 299.00\" xmlns=\"http://www.w3.org/2000/svg\" xmlns:xlink=\"http://www.w3.org/1999/xlink\">\r\n",
       "<g id=\"graph0\" class=\"graph\" transform=\"scale(1 1) rotate(0) translate(4 295)\">\r\n",
       "<title>%3</title>\r\n",
       "<polygon fill=\"white\" stroke=\"none\" points=\"-4,4 -4,-295 495,-295 495,4 -4,4\"/>\r\n",
       "<text text-anchor=\"middle\" x=\"245.5\" y=\"-37.8\" font-family=\"Times New Roman,serif\" font-size=\"14.00\">&lt;&lt;EXPLAIN &#45; CONDITION&gt;&gt; </text>\r\n",
       "<text text-anchor=\"middle\" x=\"245.5\" y=\"-22.8\" font-family=\"Times New Roman,serif\" font-size=\"14.00\">Relation (R°S) is not bijective, because (R°S) is not surjective!</text>\r\n",
       "<text text-anchor=\"middle\" x=\"245.5\" y=\"-7.8\" font-family=\"Times New Roman,serif\" font-size=\"14.00\">Relation (R°S) is not surjective, because elements {3} are in relation with no element!</text>\r\n",
       "<g id=\"clust1\" class=\"cluster\"><title>cluster_(R°S)</title>\r\n",
       "<polygon fill=\"none\" stroke=\"white\" points=\"117,-61 117,-283 374,-283 374,-61 117,-61\"/>\r\n",
       "<text text-anchor=\"middle\" x=\"245.5\" y=\"-267.8\" font-family=\"Times New Roman,serif\" font-size=\"14.00\">(R°S)</text>\r\n",
       "</g>\r\n",
       "<g id=\"clust3\" class=\"cluster\"><title>cluster_(R°S)_codom</title>\r\n",
       "<polygon fill=\"none\" stroke=\"black\" points=\"256,-69 256,-252 366,-252 366,-69 256,-69\"/>\r\n",
       "<text text-anchor=\"middle\" x=\"311\" y=\"-236.8\" font-family=\"Times New Roman,serif\" font-size=\"14.00\">(R°S)&#45;codomain</text>\r\n",
       "</g>\r\n",
       "<g id=\"clust2\" class=\"cluster\"><title>cluster_(R°S)_dom</title>\r\n",
       "<polygon fill=\"none\" stroke=\"black\" points=\"125,-69 125,-252 220,-252 220,-69 125,-69\"/>\r\n",
       "<text text-anchor=\"middle\" x=\"172.5\" y=\"-236.8\" font-family=\"Times New Roman,serif\" font-size=\"14.00\">(R°S)&#45;domain</text>\r\n",
       "</g>\r\n",
       "<!-- a  -->\r\n",
       "<g id=\"node1\" class=\"node\"><title>a </title>\r\n",
       "<ellipse fill=\"none\" stroke=\"black\" cx=\"172\" cy=\"-203\" rx=\"18\" ry=\"18\"/>\r\n",
       "<text text-anchor=\"middle\" x=\"172\" y=\"-199.3\" font-family=\"Times New Roman,serif\" font-size=\"14.00\">a</text>\r\n",
       "</g>\r\n",
       "<!-- 1 &#160; -->\r\n",
       "<g id=\"node4\" class=\"node\"><title>1 &#160;</title>\r\n",
       "<ellipse fill=\"none\" stroke=\"black\" cx=\"311\" cy=\"-203\" rx=\"18\" ry=\"18\"/>\r\n",
       "<text text-anchor=\"middle\" x=\"311\" y=\"-199.3\" font-family=\"Times New Roman,serif\" font-size=\"14.00\">1</text>\r\n",
       "</g>\r\n",
       "<!-- a &#45;&gt;1 &#160; -->\r\n",
       "<g id=\"edge1\" class=\"edge\"><title>a &#45;&gt;1 &#160;</title>\r\n",
       "<path fill=\"none\" stroke=\"black\" stroke-width=\"2\" d=\"M190.074,-203C213.25,-203 254.936,-203 282.539,-203\"/>\r\n",
       "<polygon fill=\"black\" stroke=\"black\" stroke-width=\"2\" points=\"282.711,-206.5 292.711,-203 282.711,-199.5 282.711,-206.5\"/>\r\n",
       "</g>\r\n",
       "<!-- b  -->\r\n",
       "<g id=\"node2\" class=\"node\"><title>b </title>\r\n",
       "<ellipse fill=\"none\" stroke=\"black\" cx=\"172\" cy=\"-149\" rx=\"18\" ry=\"18\"/>\r\n",
       "<text text-anchor=\"middle\" x=\"172\" y=\"-145.3\" font-family=\"Times New Roman,serif\" font-size=\"14.00\">b</text>\r\n",
       "</g>\r\n",
       "<!-- 2 &#160; -->\r\n",
       "<g id=\"node5\" class=\"node\"><title>2 &#160;</title>\r\n",
       "<ellipse fill=\"none\" stroke=\"black\" cx=\"311\" cy=\"-149\" rx=\"18\" ry=\"18\"/>\r\n",
       "<text text-anchor=\"middle\" x=\"311\" y=\"-145.3\" font-family=\"Times New Roman,serif\" font-size=\"14.00\">2</text>\r\n",
       "</g>\r\n",
       "<!-- b &#45;&gt;2 &#160; -->\r\n",
       "<g id=\"edge2\" class=\"edge\"><title>b &#45;&gt;2 &#160;</title>\r\n",
       "<path fill=\"none\" stroke=\"black\" stroke-width=\"2\" d=\"M190.074,-149C213.25,-149 254.936,-149 282.539,-149\"/>\r\n",
       "<polygon fill=\"black\" stroke=\"black\" stroke-width=\"2\" points=\"282.711,-152.5 292.711,-149 282.711,-145.5 282.711,-152.5\"/>\r\n",
       "</g>\r\n",
       "<!-- c  -->\r\n",
       "<g id=\"node3\" class=\"node\"><title>c </title>\r\n",
       "<ellipse fill=\"none\" stroke=\"black\" cx=\"172\" cy=\"-95\" rx=\"18\" ry=\"18\"/>\r\n",
       "<text text-anchor=\"middle\" x=\"172\" y=\"-91.3\" font-family=\"Times New Roman,serif\" font-size=\"14.00\">c</text>\r\n",
       "</g>\r\n",
       "<!-- c &#45;&gt;2 &#160; -->\r\n",
       "<g id=\"edge3\" class=\"edge\"><title>c &#45;&gt;2 &#160;</title>\r\n",
       "<path fill=\"none\" stroke=\"black\" stroke-width=\"2\" d=\"M188.984,-101.3C212.495,-110.567 256.634,-127.965 284.61,-138.992\"/>\r\n",
       "<polygon fill=\"black\" stroke=\"black\" stroke-width=\"2\" points=\"283.531,-142.329 294.118,-142.74 286.098,-135.817 283.531,-142.329\"/>\r\n",
       "</g>\r\n",
       "<!-- 3 &#160; -->\r\n",
       "<g id=\"node6\" class=\"node\"><title>3 &#160;</title>\r\n",
       "<ellipse fill=\"red\" stroke=\"black\" cx=\"311\" cy=\"-95\" rx=\"18\" ry=\"18\"/>\r\n",
       "<text text-anchor=\"middle\" x=\"311\" y=\"-91.3\" font-family=\"Times New Roman,serif\" font-size=\"14.00\">3</text>\r\n",
       "</g>\r\n",
       "</g>\r\n",
       "</svg>\r\n"
      ],
      "text/plain": [
       "<graphviz.dot.Digraph at 0x22ae0804be0>"
      ]
     },
     "metadata": {},
     "output_type": "display_data"
    }
   ],
   "source": [
    "expression = \"R°S is bijective -> R is bijective\" #ALWAYS TRUE\n",
    "\n",
    "domain = {'a','b','c'}\n",
    "codomain = {'a','b','c'}\n",
    "\n",
    "\n",
    "relation1 = Function({('a','a'),('b','b'),('c','b')}, domain,codomain, True)\n",
    "relation2 = Function({('a',1),('b',2),('c',3)}, codomain,{1,2,3}, True)\n",
    "\n",
    "variables = {'R':relation1, 'S':relation2}\n",
    "\n",
    "interpreter = Interpreter(variables, domain|codomain|{1,2,3,4,5}, True)\n",
    "\n",
    "#--------------------------------------------------------------------------------------------------------------\n",
    "\n",
    "generator = interpreter.analyze_all(expression, 2)\n",
    "\n",
    "for p in generator: display(p);"
   ]
  },
  {
   "cell_type": "code",
   "execution_count": 9,
   "id": "35d38925",
   "metadata": {},
   "outputs": [
    {
     "data": {
      "text/plain": [
       "'R is transitive -> R-1 is transitive'"
      ]
     },
     "metadata": {},
     "output_type": "display_data"
    },
    {
     "data": {
      "text/plain": [
       "'<<<ERROR - CONCLUSION>>> R-1 is transitive'"
      ]
     },
     "metadata": {},
     "output_type": "display_data"
    },
    {
     "data": {
      "image/svg+xml": [
       "<?xml version=\"1.0\" encoding=\"UTF-8\" standalone=\"no\"?>\r\n",
       "<!DOCTYPE svg PUBLIC \"-//W3C//DTD SVG 1.1//EN\"\r\n",
       " \"http://www.w3.org/Graphics/SVG/1.1/DTD/svg11.dtd\">\r\n",
       "<!-- Generated by graphviz version 2.38.0 (20140413.2041)\r\n",
       " -->\r\n",
       "<!-- Title: %3 Pages: 1 -->\r\n",
       "<svg width=\"223pt\" height=\"225pt\"\r\n",
       " viewBox=\"0.00 0.00 223.00 225.00\" xmlns=\"http://www.w3.org/2000/svg\" xmlns:xlink=\"http://www.w3.org/1999/xlink\">\r\n",
       "<g id=\"graph0\" class=\"graph\" transform=\"scale(1 1) rotate(0) translate(4 221)\">\r\n",
       "<title>%3</title>\r\n",
       "<polygon fill=\"white\" stroke=\"none\" points=\"-4,4 -4,-221 219,-221 219,4 -4,4\"/>\r\n",
       "<text text-anchor=\"middle\" x=\"107.5\" y=\"-22.8\" font-family=\"Times New Roman,serif\" font-size=\"14.00\">&lt;&lt;EXPLAIN &#45; CONCLUSION&gt;&gt; </text>\r\n",
       "<text text-anchor=\"middle\" x=\"107.5\" y=\"-7.8\" font-family=\"Times New Roman,serif\" font-size=\"14.00\">Relation (R&#45;1) is transitive!</text>\r\n",
       "<g id=\"clust1\" class=\"cluster\"><title>cluster_</title>\r\n",
       "<polygon fill=\"none\" stroke=\"white\" points=\"46.5,-46 46.5,-209 168.5,-209 168.5,-46 46.5,-46\"/>\r\n",
       "</g>\r\n",
       "<g id=\"clust2\" class=\"cluster\"><title>cluster_(R&#45;1)</title>\r\n",
       "<polygon fill=\"none\" stroke=\"black\" points=\"54.5,-54 54.5,-201 160.5,-201 160.5,-54 54.5,-54\"/>\r\n",
       "<text text-anchor=\"middle\" x=\"107.5\" y=\"-61.8\" font-family=\"Times New Roman,serif\" font-size=\"14.00\">(R&#45;1)</text>\r\n",
       "</g>\r\n",
       "<!-- a  -->\r\n",
       "<g id=\"node1\" class=\"node\"><title>a </title>\r\n",
       "<ellipse fill=\"none\" stroke=\"black\" cx=\"80.5\" cy=\"-175\" rx=\"18\" ry=\"18\"/>\r\n",
       "<text text-anchor=\"middle\" x=\"80.5\" y=\"-171.3\" font-family=\"Times New Roman,serif\" font-size=\"14.00\">a</text>\r\n",
       "</g>\r\n",
       "<!-- a &#45;&gt;a  -->\r\n",
       "<g id=\"edge1\" class=\"edge\"><title>a &#45;&gt;a </title>\r\n",
       "<path fill=\"none\" stroke=\"black\" stroke-width=\"2\" d=\"M94.5417,-163.244C105.413,-158.847 116.5,-162.766 116.5,-175 116.5,-183.411 111.259,-187.892 104.452,-188.442\"/>\r\n",
       "<polygon fill=\"black\" stroke=\"black\" stroke-width=\"2\" points=\"104.987,-184.983 94.5417,-186.756 103.813,-191.884 104.987,-184.983\"/>\r\n",
       "</g>\r\n",
       "<!-- b  -->\r\n",
       "<g id=\"node2\" class=\"node\"><title>b </title>\r\n",
       "<ellipse fill=\"none\" stroke=\"black\" cx=\"134.5\" cy=\"-103\" rx=\"18\" ry=\"18\"/>\r\n",
       "<text text-anchor=\"middle\" x=\"134.5\" y=\"-99.3\" font-family=\"Times New Roman,serif\" font-size=\"14.00\">b</text>\r\n",
       "</g>\r\n",
       "<!-- c  -->\r\n",
       "<g id=\"node3\" class=\"node\"><title>c </title>\r\n",
       "<ellipse fill=\"none\" stroke=\"black\" cx=\"80.5\" cy=\"-103\" rx=\"18\" ry=\"18\"/>\r\n",
       "<text text-anchor=\"middle\" x=\"80.5\" y=\"-99.3\" font-family=\"Times New Roman,serif\" font-size=\"14.00\">c</text>\r\n",
       "</g>\r\n",
       "<!-- c &#45;&gt;a  -->\r\n",
       "<g id=\"edge2\" class=\"edge\"><title>c &#45;&gt;a </title>\r\n",
       "<path fill=\"none\" stroke=\"black\" stroke-width=\"2\" d=\"M80.5,-121.303C80.5,-129.017 80.5,-138.288 80.5,-146.888\"/>\r\n",
       "<polygon fill=\"black\" stroke=\"black\" stroke-width=\"2\" points=\"77.0001,-146.896 80.5,-156.896 84.0001,-146.896 77.0001,-146.896\"/>\r\n",
       "</g>\r\n",
       "</g>\r\n",
       "</svg>\r\n"
      ],
      "text/plain": [
       "<graphviz.dot.Digraph at 0x22ae0a44790>"
      ]
     },
     "metadata": {},
     "output_type": "display_data"
    }
   ],
   "source": [
    "#expression = \"R is reflexive -> R-1 is reflexive\"\n",
    "#expression = \"R is symmetric -> R-1 is symmetric\"\n",
    "#expression = \"R is asymmetric -> R-1 is asymmetric\"\n",
    "#expression = \"R is antisymmetric -> R-1 is antisymmetric\"\n",
    "expression = \"R is transitive -> R-1 is transitive\" \n",
    "#----------------------------------------------------------ALWAYS TRUE\n",
    "\n",
    "domain = {'a','b','c'}\n",
    "relation1 = HomogeneousRelation({('a','a'),('a','c')}, domain, True)\n",
    "\n",
    "\n",
    "variables = {'R':relation1}\n",
    "\n",
    "interpreter = Interpreter(variables, domain, True)\n",
    "\n",
    "#--------------------------------------------------------------------------------------------------------------\n",
    "#interpreter.interpret(interpreter.parse(expression))\n",
    "generator = interpreter.analyze_all(expression, 2)\n",
    "\n",
    "display(expression)\n",
    "for p in generator: display(p);"
   ]
  },
  {
   "cell_type": "code",
   "execution_count": 10,
   "id": "d857d1cf",
   "metadata": {},
   "outputs": [
    {
     "data": {
      "text/plain": [
       "'(R & S) ° T == (R ° T) & (S ° T)'"
      ]
     },
     "metadata": {},
     "output_type": "display_data"
    },
    {
     "data": {
      "text/plain": [
       "'<<<ERROR - CONCLUSION>>> (((R & S) ° T) == ((R ° T) & (S ° T)))'"
      ]
     },
     "metadata": {},
     "output_type": "display_data"
    },
    {
     "data": {
      "image/svg+xml": [
       "<?xml version=\"1.0\" encoding=\"UTF-8\" standalone=\"no\"?>\r\n",
       "<!DOCTYPE svg PUBLIC \"-//W3C//DTD SVG 1.1//EN\"\r\n",
       " \"http://www.w3.org/Graphics/SVG/1.1/DTD/svg11.dtd\">\r\n",
       "<!-- Generated by graphviz version 2.38.0 (20140413.2041)\r\n",
       " -->\r\n",
       "<!-- Title: %3 Pages: 1 -->\r\n",
       "<svg width=\"388pt\" height=\"514pt\"\r\n",
       " viewBox=\"0.00 0.00 388.00 514.00\" xmlns=\"http://www.w3.org/2000/svg\" xmlns:xlink=\"http://www.w3.org/1999/xlink\">\r\n",
       "<g id=\"graph0\" class=\"graph\" transform=\"scale(1 1) rotate(0) translate(4 510)\">\r\n",
       "<title>%3</title>\r\n",
       "<polygon fill=\"white\" stroke=\"none\" points=\"-4,4 -4,-510 384,-510 384,4 -4,4\"/>\r\n",
       "<text text-anchor=\"middle\" x=\"190\" y=\"-22.8\" font-family=\"Times New Roman,serif\" font-size=\"14.00\">&lt;&lt;EXPLAIN &#45; CONCLUSION&gt;&gt; </text>\r\n",
       "<text text-anchor=\"middle\" x=\"190\" y=\"-7.8\" font-family=\"Times New Roman,serif\" font-size=\"14.00\">Relation ((R&amp;S)°T) is equal to relation ((R°T)&amp;(S°T))!</text>\r\n",
       "<g id=\"clust1\" class=\"cluster\"><title>cluster_((R&amp;S)°T)</title>\r\n",
       "<polygon fill=\"none\" stroke=\"white\" points=\"12,-46 12,-268 368,-268 368,-46 12,-46\"/>\r\n",
       "<text text-anchor=\"middle\" x=\"190\" y=\"-252.8\" font-family=\"Times New Roman,serif\" font-size=\"14.00\">((R&amp;S)°T)</text>\r\n",
       "</g>\r\n",
       "<g id=\"clust3\" class=\"cluster\"><title>cluster_((R&amp;S)°T)_codom</title>\r\n",
       "<polygon fill=\"none\" stroke=\"black\" points=\"221,-54 221,-237 360,-237 360,-54 221,-54\"/>\r\n",
       "<text text-anchor=\"middle\" x=\"290.5\" y=\"-221.8\" font-family=\"Times New Roman,serif\" font-size=\"14.00\">((R&amp;S)°T)&#45;codomain</text>\r\n",
       "</g>\r\n",
       "<g id=\"clust2\" class=\"cluster\"><title>cluster_((R&amp;S)°T)_dom</title>\r\n",
       "<polygon fill=\"none\" stroke=\"black\" points=\"20,-54 20,-237 145,-237 145,-54 20,-54\"/>\r\n",
       "<text text-anchor=\"middle\" x=\"82.5\" y=\"-221.8\" font-family=\"Times New Roman,serif\" font-size=\"14.00\">((R&amp;S)°T)&#45;domain</text>\r\n",
       "</g>\r\n",
       "<g id=\"clust4\" class=\"cluster\"><title>cluster_((R°T)&amp;(S°T))</title>\r\n",
       "<polygon fill=\"none\" stroke=\"white\" points=\"0,-276 0,-498 380,-498 380,-276 0,-276\"/>\r\n",
       "<text text-anchor=\"middle\" x=\"190\" y=\"-482.8\" font-family=\"Times New Roman,serif\" font-size=\"14.00\">((R°T)&amp;(S°T))</text>\r\n",
       "</g>\r\n",
       "<g id=\"clust6\" class=\"cluster\"><title>cluster_((R°T)&amp;(S°T))_codom</title>\r\n",
       "<polygon fill=\"none\" stroke=\"black\" points=\"209,-284 209,-467 372,-467 372,-284 209,-284\"/>\r\n",
       "<text text-anchor=\"middle\" x=\"290.5\" y=\"-451.8\" font-family=\"Times New Roman,serif\" font-size=\"14.00\">((R°T)&amp;(S°T))&#45;codomain</text>\r\n",
       "</g>\r\n",
       "<g id=\"clust5\" class=\"cluster\"><title>cluster_((R°T)&amp;(S°T))_dom</title>\r\n",
       "<polygon fill=\"none\" stroke=\"black\" points=\"8,-284 8,-467 157,-467 157,-284 8,-284\"/>\r\n",
       "<text text-anchor=\"middle\" x=\"82.5\" y=\"-451.8\" font-family=\"Times New Roman,serif\" font-size=\"14.00\">((R°T)&amp;(S°T))&#45;domain</text>\r\n",
       "</g>\r\n",
       "<!-- a  -->\r\n",
       "<g id=\"node1\" class=\"node\"><title>a </title>\r\n",
       "<ellipse fill=\"green\" stroke=\"black\" cx=\"82\" cy=\"-188\" rx=\"18\" ry=\"18\"/>\r\n",
       "<text text-anchor=\"middle\" x=\"82\" y=\"-184.3\" font-family=\"Times New Roman,serif\" font-size=\"14.00\">a</text>\r\n",
       "</g>\r\n",
       "<!-- a &#160; -->\r\n",
       "<g id=\"node4\" class=\"node\"><title>a &#160;</title>\r\n",
       "<ellipse fill=\"green\" stroke=\"black\" cx=\"290\" cy=\"-188\" rx=\"18\" ry=\"18\"/>\r\n",
       "<text text-anchor=\"middle\" x=\"290\" y=\"-184.3\" font-family=\"Times New Roman,serif\" font-size=\"14.00\">a</text>\r\n",
       "</g>\r\n",
       "<!-- a &#45;&gt;a &#160; -->\r\n",
       "<g id=\"edge1\" class=\"edge\"><title>a &#45;&gt;a &#160;</title>\r\n",
       "<path fill=\"none\" stroke=\"green\" stroke-width=\"2\" d=\"M100.209,-188C136.045,-188 218.913,-188 261.953,-188\"/>\r\n",
       "<polygon fill=\"green\" stroke=\"green\" stroke-width=\"2\" points=\"261.985,-191.5 271.985,-188 261.985,-184.5 261.985,-191.5\"/>\r\n",
       "</g>\r\n",
       "<!-- c &#160; -->\r\n",
       "<g id=\"node6\" class=\"node\"><title>c &#160;</title>\r\n",
       "<ellipse fill=\"green\" stroke=\"black\" cx=\"290\" cy=\"-80\" rx=\"18\" ry=\"18\"/>\r\n",
       "<text text-anchor=\"middle\" x=\"290\" y=\"-76.3\" font-family=\"Times New Roman,serif\" font-size=\"14.00\">c</text>\r\n",
       "</g>\r\n",
       "<!-- a &#45;&gt;c &#160; -->\r\n",
       "<g id=\"edge2\" class=\"edge\"><title>a &#45;&gt;c &#160;</title>\r\n",
       "<path fill=\"none\" stroke=\"green\" stroke-width=\"2\" d=\"M99.8685,-184.187C115.553,-180.119 139.121,-172.639 157,-161 184.923,-142.823 180.857,-124.836 209,-107 225.251,-96.7009 245.867,-89.8653 262.1,-85.6489\"/>\r\n",
       "<polygon fill=\"green\" stroke=\"green\" stroke-width=\"2\" points=\"263.147,-88.9968 272.045,-83.2463 261.503,-82.1926 263.147,-88.9968\"/>\r\n",
       "</g>\r\n",
       "<!-- b  -->\r\n",
       "<g id=\"node2\" class=\"node\"><title>b </title>\r\n",
       "<ellipse fill=\"none\" stroke=\"black\" cx=\"82\" cy=\"-134\" rx=\"18\" ry=\"18\"/>\r\n",
       "<text text-anchor=\"middle\" x=\"82\" y=\"-130.3\" font-family=\"Times New Roman,serif\" font-size=\"14.00\">b</text>\r\n",
       "</g>\r\n",
       "<!-- c  -->\r\n",
       "<g id=\"node3\" class=\"node\"><title>c </title>\r\n",
       "<ellipse fill=\"none\" stroke=\"black\" cx=\"82\" cy=\"-80\" rx=\"18\" ry=\"18\"/>\r\n",
       "<text text-anchor=\"middle\" x=\"82\" y=\"-76.3\" font-family=\"Times New Roman,serif\" font-size=\"14.00\">c</text>\r\n",
       "</g>\r\n",
       "<!-- b &#160; -->\r\n",
       "<g id=\"node5\" class=\"node\"><title>b &#160;</title>\r\n",
       "<ellipse fill=\"none\" stroke=\"black\" cx=\"290\" cy=\"-134\" rx=\"18\" ry=\"18\"/>\r\n",
       "<text text-anchor=\"middle\" x=\"290\" y=\"-130.3\" font-family=\"Times New Roman,serif\" font-size=\"14.00\">b</text>\r\n",
       "</g>\r\n",
       "<!-- a &#160;&#160; -->\r\n",
       "<g id=\"node7\" class=\"node\"><title>a &#160;&#160;</title>\r\n",
       "<ellipse fill=\"green\" stroke=\"black\" cx=\"82\" cy=\"-418\" rx=\"18\" ry=\"18\"/>\r\n",
       "<text text-anchor=\"middle\" x=\"82\" y=\"-414.3\" font-family=\"Times New Roman,serif\" font-size=\"14.00\">a</text>\r\n",
       "</g>\r\n",
       "<!-- a &#160;&#160;&#160; -->\r\n",
       "<g id=\"node10\" class=\"node\"><title>a &#160;&#160;&#160;</title>\r\n",
       "<ellipse fill=\"green\" stroke=\"black\" cx=\"290\" cy=\"-418\" rx=\"18\" ry=\"18\"/>\r\n",
       "<text text-anchor=\"middle\" x=\"290\" y=\"-414.3\" font-family=\"Times New Roman,serif\" font-size=\"14.00\">a</text>\r\n",
       "</g>\r\n",
       "<!-- a &#160;&#160;&#45;&gt;a &#160;&#160;&#160; -->\r\n",
       "<g id=\"edge3\" class=\"edge\"><title>a &#160;&#160;&#45;&gt;a &#160;&#160;&#160;</title>\r\n",
       "<path fill=\"none\" stroke=\"green\" stroke-width=\"2\" d=\"M100.209,-418C136.045,-418 218.913,-418 261.953,-418\"/>\r\n",
       "<polygon fill=\"green\" stroke=\"green\" stroke-width=\"2\" points=\"261.985,-421.5 271.985,-418 261.985,-414.5 261.985,-421.5\"/>\r\n",
       "</g>\r\n",
       "<!-- c &#160;&#160;&#160; -->\r\n",
       "<g id=\"node12\" class=\"node\"><title>c &#160;&#160;&#160;</title>\r\n",
       "<ellipse fill=\"green\" stroke=\"black\" cx=\"290\" cy=\"-310\" rx=\"18\" ry=\"18\"/>\r\n",
       "<text text-anchor=\"middle\" x=\"290\" y=\"-306.3\" font-family=\"Times New Roman,serif\" font-size=\"14.00\">c</text>\r\n",
       "</g>\r\n",
       "<!-- a &#160;&#160;&#45;&gt;c &#160;&#160;&#160; -->\r\n",
       "<g id=\"edge4\" class=\"edge\"><title>a &#160;&#160;&#45;&gt;c &#160;&#160;&#160;</title>\r\n",
       "<path fill=\"none\" stroke=\"green\" stroke-width=\"2\" d=\"M99.8685,-414.187C115.553,-410.119 139.121,-402.639 157,-391 184.923,-372.823 180.857,-354.836 209,-337 225.251,-326.701 245.867,-319.865 262.1,-315.649\"/>\r\n",
       "<polygon fill=\"green\" stroke=\"green\" stroke-width=\"2\" points=\"263.147,-318.997 272.045,-313.246 261.503,-312.193 263.147,-318.997\"/>\r\n",
       "</g>\r\n",
       "<!-- b &#160;&#160; -->\r\n",
       "<g id=\"node8\" class=\"node\"><title>b &#160;&#160;</title>\r\n",
       "<ellipse fill=\"none\" stroke=\"black\" cx=\"82\" cy=\"-364\" rx=\"18\" ry=\"18\"/>\r\n",
       "<text text-anchor=\"middle\" x=\"82\" y=\"-360.3\" font-family=\"Times New Roman,serif\" font-size=\"14.00\">b</text>\r\n",
       "</g>\r\n",
       "<!-- c &#160;&#160; -->\r\n",
       "<g id=\"node9\" class=\"node\"><title>c &#160;&#160;</title>\r\n",
       "<ellipse fill=\"none\" stroke=\"black\" cx=\"82\" cy=\"-310\" rx=\"18\" ry=\"18\"/>\r\n",
       "<text text-anchor=\"middle\" x=\"82\" y=\"-306.3\" font-family=\"Times New Roman,serif\" font-size=\"14.00\">c</text>\r\n",
       "</g>\r\n",
       "<!-- b &#160;&#160;&#160; -->\r\n",
       "<g id=\"node11\" class=\"node\"><title>b &#160;&#160;&#160;</title>\r\n",
       "<ellipse fill=\"none\" stroke=\"black\" cx=\"290\" cy=\"-364\" rx=\"18\" ry=\"18\"/>\r\n",
       "<text text-anchor=\"middle\" x=\"290\" y=\"-360.3\" font-family=\"Times New Roman,serif\" font-size=\"14.00\">b</text>\r\n",
       "</g>\r\n",
       "</g>\r\n",
       "</svg>\r\n"
      ],
      "text/plain": [
       "<graphviz.dot.Digraph at 0x22ade410580>"
      ]
     },
     "metadata": {},
     "output_type": "display_data"
    }
   ],
   "source": [
    "#Binary relation\n",
    "expression = \"R ° (S & T) == (R ° S) & (R ° T)\"\n",
    "expression = \"(R & S) ° T == (R ° T) & (S ° T)\"\n",
    "\n",
    "#----------------------------------------------------------ALWAYS TRUE\n",
    "\n",
    "domain = {'a','b','c'}\n",
    "codomain = {'a','b','c'}\n",
    "relation1 = BinaryRelation({('a','a'),('a','c')}, domain,codomain, True)\n",
    "relation2 = BinaryRelation({('a','a'),('a','c')}, domain,codomain, True)\n",
    "relation3 = BinaryRelation({('a','a'),('a','c')}, domain,codomain, True)\n",
    "\n",
    "\n",
    "variables = {'R':relation1,'S':relation2,'T':relation3}\n",
    "\n",
    "interpreter = Interpreter(variables, domain, True)\n",
    "\n",
    "#--------------------------------------------------------------------------------------------------------------\n",
    "#interpreter.interpret(interpreter.parse(expression))\n",
    "generator = interpreter.analyze_all(expression, 2)\n",
    "\n",
    "display(expression)\n",
    "for p in generator: display(p);\n"
   ]
  },
  {
   "cell_type": "code",
   "execution_count": 11,
   "id": "84837afd",
   "metadata": {},
   "outputs": [],
   "source": [
    "#Homogeneous relation\n",
    "\n",
    "expression41 = \"R is reflexive -> R-1 is reflexive\"         #always true\n",
    "expression42 = \"R is symmetric -> R-1 is symmetric\"         #always true\n",
    "expression43 = \"R is asymmetric -> R-1 is asymmetric\"       #always true\n",
    "expression44 = \"R is antisymmetric -> R-1 is antisymmetric\" #always true\n",
    "expression45 = \"R is transitive -> R-1 is transitive\"       #always true\n",
    "\n",
    "expression01 = \"(R is reflexive and S is reflexive) -> R | S is reflexive\"             #\n",
    "expression02 = \"(R is symmetric and S is symmetric) -> R | S is symmetric\"             #\n",
    "expression03 = \"(R is asymmetric and S is asymmetric) -> R | S is asymmetric\"          #exists\n",
    "expression04 = \"(R is antisymmetric and S is antisymmetric) -> R | S is antisymmetric\" #exists\n",
    "expression05 = \"(R is transitive and S is transitive) -> R | S is transitive\"          #exists\n",
    "\n",
    "expression06 = \"(R is reflexive and S is reflexive) -> R & S is reflexive\"             #\n",
    "expression07 = \"(R is symmetric and S is symmetric) -> R & S is symmetric\"             #\n",
    "expression08 = \"(R is asymmetric and S is asymmetric) -> R & S is asymmetric\"          # \n",
    "expression09 = \"(R is antisymmetric and S is antisymmetric) -> R & S is antisymmetric\" #\n",
    "expression10 = \"(R is transitive and S is transitive) -> R & S is transitive\"          #\n",
    "\n",
    "expression11 = \"(R is reflexive and S is reflexive) -> R - S is reflexive\"             #exists\n",
    "expression12 = \"(R is symmetric and S is symmetric) -> R - S is symmetric\"             #\n",
    "expression13 = \"(R is asymmetric and S is asymmetric) -> R - S is asymmetric\"          #\n",
    "expression14 = \"(R is antisymmetric and S is antisymmetric) -> R - S is antisymmetric\" #\n",
    "expression15 = \"(R is transitive and S is transitive) -> R - S is transitive\"          #exists\n",
    "\n",
    "expression16 = \"(R is reflexive and S is reflexive) -> R ° S is reflexive\"             #\n",
    "expression17 = \"(R is symmetric and S is symmetric) -> R ° S is symmetric\"             #exists\n",
    "expression18 = \"(R is asymmetric and S is asymmetric) -> R ° S is asymmetric\"          #exists\n",
    "expression19 = \"(R is antisymmetric and S is antisymmetric) -> R ° S is antisymmetric\" #exists\n",
    "expression20 = \"(R is transitive and S is transitive) -> R ° S is transitive\"          #exists\n",
    "\n",
    "expression21 = \"(R is reflexive or S is reflexive) -> R | S is reflexive\"              #\n",
    "expression22 = \"(R is symmetric or S is symmetric) -> R | S is symmetric\"              #exists\n",
    "expression23 = \"(R is asymmetric or S is asymmetric) -> R | S is asymmetric\"           #exists\n",
    "expression24 = \"(R is antisymmetric or S is antisymmetric) -> R | S is antisymmetric\"  #exists\n",
    "expression25 = \"(R is transitive or S is transitive) -> R | S is transitive\"           #exists\n",
    "\n",
    "expression26 = \"(R is reflexive or S is reflexive) -> R & S is reflexive\"              #exists\n",
    "expression27 = \"(R is symmetric or S is symmetric) -> R & S is symmetric\"              #\n",
    "expression28 = \"(R is asymmetric or S is asymmetric) -> R & S is asymmetric\"           #\n",
    "expression29 = \"(R is antisymmetric or S is antisymmetric) -> R & S is antisymmetric\"  #\n",
    "expression30 = \"(R is transitive or S is transitive) -> R & S is transitive\"           #exists\n",
    "\n",
    "expression31 = \"(R is reflexive or S is reflexive) -> R - S is reflexive\"              #exists\n",
    "expression32 = \"(R is symmetric or S is symmetric) -> R - S is symmetric\"              #exists\n",
    "expression33 = \"(R is asymmetric or S is asymmetric) -> R - S is asymmetric\"           #exists\n",
    "expression34 = \"(R is antisymmetric or S is antisymmetric) -> R - S is antisymmetric\"  #exists\n",
    "expression35 = \"(R is transitive or S is transitive) -> R - S is transitive\"           #exists\n",
    "\n",
    "expression36 = \"(R is reflexive or S is reflexive) -> R ° S is reflexive\"              #exists\n",
    "expression37 = \"(R is symmetric or S is symmetric) -> R ° S is symmetric\"              #exists\n",
    "expression38 = \"(R is asymmetric or S is asymmetric) -> R ° S is asymmetric\"           #exists\n",
    "expression39 = \"(R is antisymmetric or S is antisymmetric) -> R ° S is antisymmetric\"  #exists\n",
    "expression40 = \"(R is transitive or S is transitive) -> R ° S is transitive\"           #exists"
   ]
  },
  {
   "cell_type": "code",
   "execution_count": 12,
   "id": "5a0609e8",
   "metadata": {},
   "outputs": [],
   "source": [
    "#Function\n",
    "expression001 = \"R ° S is injective -> R is injective\"    #always true\n",
    "expression002 = \"R ° S is surjective -> R is surjective\"  #exists\n",
    "expression003 = \"R ° S is bijective -> R is bijective\"    #always true\n",
    "\n",
    "expression004 = \"R ° S is injective -> S is injective\"    #exists\n",
    "expression005 = \"R ° S is surjective -> S is surjective\"  #always true\n",
    "expression006 = \"R ° S is bijective -> S is bijective\"    #always true"
   ]
  },
  {
   "cell_type": "code",
   "execution_count": 13,
   "id": "e3613e38",
   "metadata": {},
   "outputs": [
    {
     "data": {
      "text/plain": [
       "'(R is reflexive and S is reflexive) -> R | S is reflexive'"
      ]
     },
     "metadata": {},
     "output_type": "display_data"
    },
    {
     "data": {
      "text/plain": [
       "'<<<ERROR - CONCLUSION>>> (R | S) is reflexive'"
      ]
     },
     "metadata": {},
     "output_type": "display_data"
    },
    {
     "data": {
      "image/svg+xml": [
       "<?xml version=\"1.0\" encoding=\"UTF-8\" standalone=\"no\"?>\r\n",
       "<!DOCTYPE svg PUBLIC \"-//W3C//DTD SVG 1.1//EN\"\r\n",
       " \"http://www.w3.org/Graphics/SVG/1.1/DTD/svg11.dtd\">\r\n",
       "<!-- Generated by graphviz version 2.38.0 (20140413.2041)\r\n",
       " -->\r\n",
       "<!-- Title: %3 Pages: 1 -->\r\n",
       "<svg width=\"254pt\" height=\"153pt\"\r\n",
       " viewBox=\"0.00 0.00 254.00 153.00\" xmlns=\"http://www.w3.org/2000/svg\" xmlns:xlink=\"http://www.w3.org/1999/xlink\">\r\n",
       "<g id=\"graph0\" class=\"graph\" transform=\"scale(1 1) rotate(0) translate(4 149)\">\r\n",
       "<title>%3</title>\r\n",
       "<polygon fill=\"white\" stroke=\"none\" points=\"-4,4 -4,-149 250,-149 250,4 -4,4\"/>\r\n",
       "<text text-anchor=\"middle\" x=\"123\" y=\"-22.8\" font-family=\"Times New Roman,serif\" font-size=\"14.00\">&lt;&lt;EXPLAIN &#45; CONCLUSION&gt;&gt; </text>\r\n",
       "<text text-anchor=\"middle\" x=\"123\" y=\"-7.8\" font-family=\"Times New Roman,serif\" font-size=\"14.00\">Relation (R|S) is reflexive!</text>\r\n",
       "<g id=\"clust1\" class=\"cluster\"><title>cluster_</title>\r\n",
       "<polygon fill=\"none\" stroke=\"white\" points=\"8,-46 8,-137 238,-137 238,-46 8,-46\"/>\r\n",
       "</g>\r\n",
       "<g id=\"clust2\" class=\"cluster\"><title>cluster_(R|S)</title>\r\n",
       "<polygon fill=\"none\" stroke=\"black\" points=\"16,-54 16,-129 230,-129 230,-54 16,-54\"/>\r\n",
       "<text text-anchor=\"middle\" x=\"123\" y=\"-61.8\" font-family=\"Times New Roman,serif\" font-size=\"14.00\">(R|S)</text>\r\n",
       "</g>\r\n",
       "<!-- a  -->\r\n",
       "<g id=\"node1\" class=\"node\"><title>a </title>\r\n",
       "<ellipse fill=\"green\" stroke=\"black\" cx=\"186\" cy=\"-103\" rx=\"18\" ry=\"18\"/>\r\n",
       "<text text-anchor=\"middle\" x=\"186\" y=\"-99.3\" font-family=\"Times New Roman,serif\" font-size=\"14.00\">a</text>\r\n",
       "</g>\r\n",
       "<!-- a &#45;&gt;a  -->\r\n",
       "<g id=\"edge1\" class=\"edge\"><title>a &#45;&gt;a </title>\r\n",
       "<path fill=\"none\" stroke=\"green\" stroke-width=\"2\" d=\"M203.037,-96.6208C212.858,-95.3189 222,-97.4453 222,-103 222,-106.472 218.429,-108.604 213.353,-109.398\"/>\r\n",
       "<polygon fill=\"green\" stroke=\"green\" stroke-width=\"2\" points=\"213.044,-105.897 203.037,-109.379 213.031,-112.897 213.044,-105.897\"/>\r\n",
       "</g>\r\n",
       "<!-- b  -->\r\n",
       "<g id=\"node2\" class=\"node\"><title>b </title>\r\n",
       "<ellipse fill=\"green\" stroke=\"black\" cx=\"114\" cy=\"-103\" rx=\"18\" ry=\"18\"/>\r\n",
       "<text text-anchor=\"middle\" x=\"114\" y=\"-99.3\" font-family=\"Times New Roman,serif\" font-size=\"14.00\">b</text>\r\n",
       "</g>\r\n",
       "<!-- b &#45;&gt;b  -->\r\n",
       "<g id=\"edge2\" class=\"edge\"><title>b &#45;&gt;b </title>\r\n",
       "<path fill=\"none\" stroke=\"green\" stroke-width=\"2\" d=\"M131.037,-96.6208C140.858,-95.3189 150,-97.4453 150,-103 150,-106.472 146.429,-108.604 141.353,-109.398\"/>\r\n",
       "<polygon fill=\"green\" stroke=\"green\" stroke-width=\"2\" points=\"141.044,-105.897 131.037,-109.379 141.031,-112.897 141.044,-105.897\"/>\r\n",
       "</g>\r\n",
       "<!-- c  -->\r\n",
       "<g id=\"node3\" class=\"node\"><title>c </title>\r\n",
       "<ellipse fill=\"green\" stroke=\"black\" cx=\"42\" cy=\"-103\" rx=\"18\" ry=\"18\"/>\r\n",
       "<text text-anchor=\"middle\" x=\"42\" y=\"-99.3\" font-family=\"Times New Roman,serif\" font-size=\"14.00\">c</text>\r\n",
       "</g>\r\n",
       "<!-- c &#45;&gt;c  -->\r\n",
       "<g id=\"edge3\" class=\"edge\"><title>c &#45;&gt;c </title>\r\n",
       "<path fill=\"none\" stroke=\"green\" stroke-width=\"2\" d=\"M59.0373,-96.6208C68.8579,-95.3189 78,-97.4453 78,-103 78,-106.472 74.4289,-108.604 69.3529,-109.398\"/>\r\n",
       "<polygon fill=\"green\" stroke=\"green\" stroke-width=\"2\" points=\"69.0435,-105.897 59.0373,-109.379 69.031,-112.897 69.0435,-105.897\"/>\r\n",
       "</g>\r\n",
       "</g>\r\n",
       "</svg>\r\n"
      ],
      "text/plain": [
       "<graphviz.dot.Digraph at 0x22ae0894fa0>"
      ]
     },
     "metadata": {},
     "output_type": "display_data"
    }
   ],
   "source": [
    "expression = expression01\n",
    "\n",
    "domain = {'a','b','c'}\n",
    "\n",
    "relation1 = HomogeneousRelation({('a','a'),('b','b'),('c','c')}, domain, True)\n",
    "relation2 = HomogeneousRelation({('a','a'),('b','b'),('c','c')}, domain, True)\n",
    "\n",
    "variables = {'R':relation1, 'S':relation2}\n",
    "\n",
    "interpreter = Interpreter(variables, domain, True)\n",
    "\n",
    "#--------------------------------------------------------------------------------------------------------------\n",
    "\n",
    "generator = interpreter.analyze_all(expression, 2)\n",
    "\n",
    "display(expression)\n",
    "for p in generator: display(p);"
   ]
  },
  {
   "cell_type": "code",
   "execution_count": 14,
   "id": "21616b15",
   "metadata": {},
   "outputs": [
    {
     "data": {
      "text/plain": [
       "'(R is symmetric and S is symmetric) -> R | S is symmetric'"
      ]
     },
     "metadata": {},
     "output_type": "display_data"
    },
    {
     "data": {
      "text/plain": [
       "'<<<ERROR - CONCLUSION>>> (R | S) is symmetric'"
      ]
     },
     "metadata": {},
     "output_type": "display_data"
    },
    {
     "data": {
      "image/svg+xml": [
       "<?xml version=\"1.0\" encoding=\"UTF-8\" standalone=\"no\"?>\r\n",
       "<!DOCTYPE svg PUBLIC \"-//W3C//DTD SVG 1.1//EN\"\r\n",
       " \"http://www.w3.org/Graphics/SVG/1.1/DTD/svg11.dtd\">\r\n",
       "<!-- Generated by graphviz version 2.38.0 (20140413.2041)\r\n",
       " -->\r\n",
       "<!-- Title: %3 Pages: 1 -->\r\n",
       "<svg width=\"254pt\" height=\"153pt\"\r\n",
       " viewBox=\"0.00 0.00 254.00 153.00\" xmlns=\"http://www.w3.org/2000/svg\" xmlns:xlink=\"http://www.w3.org/1999/xlink\">\r\n",
       "<g id=\"graph0\" class=\"graph\" transform=\"scale(1 1) rotate(0) translate(4 149)\">\r\n",
       "<title>%3</title>\r\n",
       "<polygon fill=\"white\" stroke=\"none\" points=\"-4,4 -4,-149 250,-149 250,4 -4,4\"/>\r\n",
       "<text text-anchor=\"middle\" x=\"123\" y=\"-22.8\" font-family=\"Times New Roman,serif\" font-size=\"14.00\">&lt;&lt;EXPLAIN &#45; CONCLUSION&gt;&gt; </text>\r\n",
       "<text text-anchor=\"middle\" x=\"123\" y=\"-7.8\" font-family=\"Times New Roman,serif\" font-size=\"14.00\">Relation (R|S) is symmetric!</text>\r\n",
       "<g id=\"clust1\" class=\"cluster\"><title>cluster_</title>\r\n",
       "<polygon fill=\"none\" stroke=\"white\" points=\"8,-46 8,-137 238,-137 238,-46 8,-46\"/>\r\n",
       "</g>\r\n",
       "<g id=\"clust2\" class=\"cluster\"><title>cluster_(R|S)</title>\r\n",
       "<polygon fill=\"none\" stroke=\"black\" points=\"16,-54 16,-129 230,-129 230,-54 16,-54\"/>\r\n",
       "<text text-anchor=\"middle\" x=\"123\" y=\"-61.8\" font-family=\"Times New Roman,serif\" font-size=\"14.00\">(R|S)</text>\r\n",
       "</g>\r\n",
       "<!-- a  -->\r\n",
       "<g id=\"node1\" class=\"node\"><title>a </title>\r\n",
       "<ellipse fill=\"none\" stroke=\"black\" cx=\"186\" cy=\"-103\" rx=\"18\" ry=\"18\"/>\r\n",
       "<text text-anchor=\"middle\" x=\"186\" y=\"-99.3\" font-family=\"Times New Roman,serif\" font-size=\"14.00\">a</text>\r\n",
       "</g>\r\n",
       "<!-- a &#45;&gt;a  -->\r\n",
       "<g id=\"edge1\" class=\"edge\"><title>a &#45;&gt;a </title>\r\n",
       "<path fill=\"none\" stroke=\"black\" stroke-width=\"2\" d=\"M203.037,-96.6208C212.858,-95.3189 222,-97.4453 222,-103 222,-106.472 218.429,-108.604 213.353,-109.398\"/>\r\n",
       "<polygon fill=\"black\" stroke=\"black\" stroke-width=\"2\" points=\"213.044,-105.897 203.037,-109.379 213.031,-112.897 213.044,-105.897\"/>\r\n",
       "</g>\r\n",
       "<!-- b  -->\r\n",
       "<g id=\"node2\" class=\"node\"><title>b </title>\r\n",
       "<ellipse fill=\"none\" stroke=\"black\" cx=\"114\" cy=\"-103\" rx=\"18\" ry=\"18\"/>\r\n",
       "<text text-anchor=\"middle\" x=\"114\" y=\"-99.3\" font-family=\"Times New Roman,serif\" font-size=\"14.00\">b</text>\r\n",
       "</g>\r\n",
       "<!-- b &#45;&gt;b  -->\r\n",
       "<g id=\"edge2\" class=\"edge\"><title>b &#45;&gt;b </title>\r\n",
       "<path fill=\"none\" stroke=\"black\" stroke-width=\"2\" d=\"M131.037,-96.6208C140.858,-95.3189 150,-97.4453 150,-103 150,-106.472 146.429,-108.604 141.353,-109.398\"/>\r\n",
       "<polygon fill=\"black\" stroke=\"black\" stroke-width=\"2\" points=\"141.044,-105.897 131.037,-109.379 141.031,-112.897 141.044,-105.897\"/>\r\n",
       "</g>\r\n",
       "<!-- c  -->\r\n",
       "<g id=\"node3\" class=\"node\"><title>c </title>\r\n",
       "<ellipse fill=\"none\" stroke=\"black\" cx=\"42\" cy=\"-103\" rx=\"18\" ry=\"18\"/>\r\n",
       "<text text-anchor=\"middle\" x=\"42\" y=\"-99.3\" font-family=\"Times New Roman,serif\" font-size=\"14.00\">c</text>\r\n",
       "</g>\r\n",
       "<!-- c &#45;&gt;c  -->\r\n",
       "<g id=\"edge3\" class=\"edge\"><title>c &#45;&gt;c </title>\r\n",
       "<path fill=\"none\" stroke=\"black\" stroke-width=\"2\" d=\"M59.0373,-96.6208C68.8579,-95.3189 78,-97.4453 78,-103 78,-106.472 74.4289,-108.604 69.3529,-109.398\"/>\r\n",
       "<polygon fill=\"black\" stroke=\"black\" stroke-width=\"2\" points=\"69.0435,-105.897 59.0373,-109.379 69.031,-112.897 69.0435,-105.897\"/>\r\n",
       "</g>\r\n",
       "</g>\r\n",
       "</svg>\r\n"
      ],
      "text/plain": [
       "<graphviz.dot.Digraph at 0x22ae086d1c0>"
      ]
     },
     "metadata": {},
     "output_type": "display_data"
    }
   ],
   "source": [
    "expression = expression02\n",
    "\n",
    "domain = {'a','b','c'}\n",
    "\n",
    "relation1 = HomogeneousRelation({('a','a'),('b','b'),('c','c')}, domain, True)\n",
    "relation2 = HomogeneousRelation({('a','a'),('b','b'),('c','c')}, domain, True)\n",
    "\n",
    "variables = {'R':relation1, 'S':relation2}\n",
    "\n",
    "interpreter = Interpreter(variables, domain, True)\n",
    "\n",
    "#--------------------------------------------------------------------------------------------------------------\n",
    "\n",
    "generator = interpreter.analyze_all(expression, 2)\n",
    "display(expression)\n",
    "for p in generator: display(p);"
   ]
  },
  {
   "cell_type": "code",
   "execution_count": 15,
   "id": "874c15d7",
   "metadata": {},
   "outputs": [
    {
     "data": {
      "text/plain": [
       "'(R is asymmetric and S is asymmetric) -> R | S is asymmetric'"
      ]
     },
     "metadata": {},
     "output_type": "display_data"
    },
    {
     "data": {
      "text/plain": [
       "'Good counterexample!'"
      ]
     },
     "metadata": {},
     "output_type": "display_data"
    }
   ],
   "source": [
    "expression = expression03\n",
    "\n",
    "domain = {'a','b','c'}\n",
    "\n",
    "relation1 = HomogeneousRelation({('a','b'),('b','c'),('a','c')}, domain, True)\n",
    "relation2 = HomogeneousRelation({('b','a'),('c','b'),('c','a')}, domain, True)\n",
    "\n",
    "variables = {'R':relation1, 'S':relation2}\n",
    "\n",
    "interpreter = Interpreter(variables, domain, True)\n",
    "\n",
    "#--------------------------------------------------------------------------------------------------------------\n",
    "\n",
    "generator = interpreter.analyze_all(expression, 2)\n",
    "display(expression)\n",
    "for p in generator: display(p);"
   ]
  },
  {
   "cell_type": "code",
   "execution_count": 16,
   "id": "a3ea3db5",
   "metadata": {},
   "outputs": [
    {
     "data": {
      "text/plain": [
       "'(R is antisymmetric and S is antisymmetric) -> R | S is antisymmetric'"
      ]
     },
     "metadata": {},
     "output_type": "display_data"
    },
    {
     "data": {
      "text/plain": [
       "'Good counterexample!'"
      ]
     },
     "metadata": {},
     "output_type": "display_data"
    }
   ],
   "source": [
    "expression = expression04\n",
    "\n",
    "domain = {'a','b','c'}\n",
    "\n",
    "relation1 = HomogeneousRelation({('a','b'),('b','c'),('a','c')}, domain, True)\n",
    "relation2 = HomogeneousRelation({('b','a'),('c','b'),('c','a')}, domain, True)\n",
    "\n",
    "variables = {'R':relation1, 'S':relation2}\n",
    "\n",
    "interpreter = Interpreter(variables, domain, True)\n",
    "\n",
    "#--------------------------------------------------------------------------------------------------------------\n",
    "\n",
    "generator = interpreter.analyze_all(expression, 2)\n",
    "display(expression)\n",
    "for p in generator: display(p);"
   ]
  },
  {
   "cell_type": "code",
   "execution_count": 17,
   "id": "5c8d5a56",
   "metadata": {},
   "outputs": [
    {
     "data": {
      "text/plain": [
       "'(R is transitive and S is transitive) -> R | S is transitive'"
      ]
     },
     "metadata": {},
     "output_type": "display_data"
    },
    {
     "data": {
      "text/plain": [
       "'Good counterexample!'"
      ]
     },
     "metadata": {},
     "output_type": "display_data"
    }
   ],
   "source": [
    "expression = expression05\n",
    "\n",
    "domain = {'a','b','c'}\n",
    "\n",
    "relation1 = HomogeneousRelation({('a','b'),('b','c'),('a','c')}, domain, True)\n",
    "relation2 = HomogeneousRelation({('b','a'),('c','b'),('c','a')}, domain, True)\n",
    "\n",
    "variables = {'R':relation1, 'S':relation2}\n",
    "\n",
    "interpreter = Interpreter(variables, domain, True)\n",
    "\n",
    "#--------------------------------------------------------------------------------------------------------------\n",
    "\n",
    "generator = interpreter.analyze_all(expression, 2)\n",
    "display(expression)\n",
    "for p in generator: display(p);"
   ]
  },
  {
   "cell_type": "code",
   "execution_count": 18,
   "id": "6587f545",
   "metadata": {},
   "outputs": [
    {
     "data": {
      "text/plain": [
       "'(R is reflexive and S is reflexive) -> R & S is reflexive'"
      ]
     },
     "metadata": {},
     "output_type": "display_data"
    },
    {
     "data": {
      "text/plain": [
       "'<<<ERROR - CONCLUSION>>> (R & S) is reflexive'"
      ]
     },
     "metadata": {},
     "output_type": "display_data"
    },
    {
     "data": {
      "image/svg+xml": [
       "<?xml version=\"1.0\" encoding=\"UTF-8\" standalone=\"no\"?>\r\n",
       "<!DOCTYPE svg PUBLIC \"-//W3C//DTD SVG 1.1//EN\"\r\n",
       " \"http://www.w3.org/Graphics/SVG/1.1/DTD/svg11.dtd\">\r\n",
       "<!-- Generated by graphviz version 2.38.0 (20140413.2041)\r\n",
       " -->\r\n",
       "<!-- Title: %3 Pages: 1 -->\r\n",
       "<svg width=\"254pt\" height=\"153pt\"\r\n",
       " viewBox=\"0.00 0.00 254.00 153.00\" xmlns=\"http://www.w3.org/2000/svg\" xmlns:xlink=\"http://www.w3.org/1999/xlink\">\r\n",
       "<g id=\"graph0\" class=\"graph\" transform=\"scale(1 1) rotate(0) translate(4 149)\">\r\n",
       "<title>%3</title>\r\n",
       "<polygon fill=\"white\" stroke=\"none\" points=\"-4,4 -4,-149 250,-149 250,4 -4,4\"/>\r\n",
       "<text text-anchor=\"middle\" x=\"123\" y=\"-22.8\" font-family=\"Times New Roman,serif\" font-size=\"14.00\">&lt;&lt;EXPLAIN &#45; CONCLUSION&gt;&gt; </text>\r\n",
       "<text text-anchor=\"middle\" x=\"123\" y=\"-7.8\" font-family=\"Times New Roman,serif\" font-size=\"14.00\">Relation (R&amp;S) is reflexive!</text>\r\n",
       "<g id=\"clust1\" class=\"cluster\"><title>cluster_</title>\r\n",
       "<polygon fill=\"none\" stroke=\"white\" points=\"8,-46 8,-137 238,-137 238,-46 8,-46\"/>\r\n",
       "</g>\r\n",
       "<g id=\"clust2\" class=\"cluster\"><title>cluster_(R&amp;S)</title>\r\n",
       "<polygon fill=\"none\" stroke=\"black\" points=\"16,-54 16,-129 230,-129 230,-54 16,-54\"/>\r\n",
       "<text text-anchor=\"middle\" x=\"123\" y=\"-61.8\" font-family=\"Times New Roman,serif\" font-size=\"14.00\">(R&amp;S)</text>\r\n",
       "</g>\r\n",
       "<!-- a  -->\r\n",
       "<g id=\"node1\" class=\"node\"><title>a </title>\r\n",
       "<ellipse fill=\"green\" stroke=\"black\" cx=\"186\" cy=\"-103\" rx=\"18\" ry=\"18\"/>\r\n",
       "<text text-anchor=\"middle\" x=\"186\" y=\"-99.3\" font-family=\"Times New Roman,serif\" font-size=\"14.00\">a</text>\r\n",
       "</g>\r\n",
       "<!-- a &#45;&gt;a  -->\r\n",
       "<g id=\"edge1\" class=\"edge\"><title>a &#45;&gt;a </title>\r\n",
       "<path fill=\"none\" stroke=\"green\" stroke-width=\"2\" d=\"M203.037,-96.6208C212.858,-95.3189 222,-97.4453 222,-103 222,-106.472 218.429,-108.604 213.353,-109.398\"/>\r\n",
       "<polygon fill=\"green\" stroke=\"green\" stroke-width=\"2\" points=\"213.044,-105.897 203.037,-109.379 213.031,-112.897 213.044,-105.897\"/>\r\n",
       "</g>\r\n",
       "<!-- b  -->\r\n",
       "<g id=\"node2\" class=\"node\"><title>b </title>\r\n",
       "<ellipse fill=\"green\" stroke=\"black\" cx=\"114\" cy=\"-103\" rx=\"18\" ry=\"18\"/>\r\n",
       "<text text-anchor=\"middle\" x=\"114\" y=\"-99.3\" font-family=\"Times New Roman,serif\" font-size=\"14.00\">b</text>\r\n",
       "</g>\r\n",
       "<!-- b &#45;&gt;b  -->\r\n",
       "<g id=\"edge2\" class=\"edge\"><title>b &#45;&gt;b </title>\r\n",
       "<path fill=\"none\" stroke=\"green\" stroke-width=\"2\" d=\"M131.037,-96.6208C140.858,-95.3189 150,-97.4453 150,-103 150,-106.472 146.429,-108.604 141.353,-109.398\"/>\r\n",
       "<polygon fill=\"green\" stroke=\"green\" stroke-width=\"2\" points=\"141.044,-105.897 131.037,-109.379 141.031,-112.897 141.044,-105.897\"/>\r\n",
       "</g>\r\n",
       "<!-- c  -->\r\n",
       "<g id=\"node3\" class=\"node\"><title>c </title>\r\n",
       "<ellipse fill=\"green\" stroke=\"black\" cx=\"42\" cy=\"-103\" rx=\"18\" ry=\"18\"/>\r\n",
       "<text text-anchor=\"middle\" x=\"42\" y=\"-99.3\" font-family=\"Times New Roman,serif\" font-size=\"14.00\">c</text>\r\n",
       "</g>\r\n",
       "<!-- c &#45;&gt;c  -->\r\n",
       "<g id=\"edge3\" class=\"edge\"><title>c &#45;&gt;c </title>\r\n",
       "<path fill=\"none\" stroke=\"green\" stroke-width=\"2\" d=\"M59.0373,-96.6208C68.8579,-95.3189 78,-97.4453 78,-103 78,-106.472 74.4289,-108.604 69.3529,-109.398\"/>\r\n",
       "<polygon fill=\"green\" stroke=\"green\" stroke-width=\"2\" points=\"69.0435,-105.897 59.0373,-109.379 69.031,-112.897 69.0435,-105.897\"/>\r\n",
       "</g>\r\n",
       "</g>\r\n",
       "</svg>\r\n"
      ],
      "text/plain": [
       "<graphviz.dot.Digraph at 0x22ade3af730>"
      ]
     },
     "metadata": {},
     "output_type": "display_data"
    }
   ],
   "source": [
    "expression = expression06\n",
    "\n",
    "domain = {'a','b','c'}\n",
    "\n",
    "relation1 = HomogeneousRelation({('a','a'),('b','b'),('c','c')}, domain, True)\n",
    "relation2 = HomogeneousRelation({('a','a'),('b','b'),('c','c')}, domain, True)\n",
    "\n",
    "variables = {'R':relation1, 'S':relation2}\n",
    "\n",
    "interpreter = Interpreter(variables, domain, True)\n",
    "\n",
    "#--------------------------------------------------------------------------------------------------------------\n",
    "\n",
    "generator = interpreter.analyze_all(expression, 2)\n",
    "display(expression)\n",
    "for p in generator: display(p);"
   ]
  },
  {
   "cell_type": "code",
   "execution_count": 19,
   "id": "146bc0f5",
   "metadata": {},
   "outputs": [
    {
     "data": {
      "text/plain": [
       "'(R is symmetric and S is symmetric) -> R & S is symmetric'"
      ]
     },
     "metadata": {},
     "output_type": "display_data"
    },
    {
     "data": {
      "text/plain": [
       "'<<<ERROR - CONCLUSION>>> (R & S) is symmetric'"
      ]
     },
     "metadata": {},
     "output_type": "display_data"
    },
    {
     "data": {
      "image/svg+xml": [
       "<?xml version=\"1.0\" encoding=\"UTF-8\" standalone=\"no\"?>\r\n",
       "<!DOCTYPE svg PUBLIC \"-//W3C//DTD SVG 1.1//EN\"\r\n",
       " \"http://www.w3.org/Graphics/SVG/1.1/DTD/svg11.dtd\">\r\n",
       "<!-- Generated by graphviz version 2.38.0 (20140413.2041)\r\n",
       " -->\r\n",
       "<!-- Title: %3 Pages: 1 -->\r\n",
       "<svg width=\"254pt\" height=\"153pt\"\r\n",
       " viewBox=\"0.00 0.00 254.00 153.00\" xmlns=\"http://www.w3.org/2000/svg\" xmlns:xlink=\"http://www.w3.org/1999/xlink\">\r\n",
       "<g id=\"graph0\" class=\"graph\" transform=\"scale(1 1) rotate(0) translate(4 149)\">\r\n",
       "<title>%3</title>\r\n",
       "<polygon fill=\"white\" stroke=\"none\" points=\"-4,4 -4,-149 250,-149 250,4 -4,4\"/>\r\n",
       "<text text-anchor=\"middle\" x=\"123\" y=\"-22.8\" font-family=\"Times New Roman,serif\" font-size=\"14.00\">&lt;&lt;EXPLAIN &#45; CONCLUSION&gt;&gt; </text>\r\n",
       "<text text-anchor=\"middle\" x=\"123\" y=\"-7.8\" font-family=\"Times New Roman,serif\" font-size=\"14.00\">Relation (R&amp;S) is symmetric!</text>\r\n",
       "<g id=\"clust1\" class=\"cluster\"><title>cluster_</title>\r\n",
       "<polygon fill=\"none\" stroke=\"white\" points=\"8,-46 8,-137 238,-137 238,-46 8,-46\"/>\r\n",
       "</g>\r\n",
       "<g id=\"clust2\" class=\"cluster\"><title>cluster_(R&amp;S)</title>\r\n",
       "<polygon fill=\"none\" stroke=\"black\" points=\"16,-54 16,-129 230,-129 230,-54 16,-54\"/>\r\n",
       "<text text-anchor=\"middle\" x=\"123\" y=\"-61.8\" font-family=\"Times New Roman,serif\" font-size=\"14.00\">(R&amp;S)</text>\r\n",
       "</g>\r\n",
       "<!-- a  -->\r\n",
       "<g id=\"node1\" class=\"node\"><title>a </title>\r\n",
       "<ellipse fill=\"none\" stroke=\"black\" cx=\"186\" cy=\"-103\" rx=\"18\" ry=\"18\"/>\r\n",
       "<text text-anchor=\"middle\" x=\"186\" y=\"-99.3\" font-family=\"Times New Roman,serif\" font-size=\"14.00\">a</text>\r\n",
       "</g>\r\n",
       "<!-- a &#45;&gt;a  -->\r\n",
       "<g id=\"edge1\" class=\"edge\"><title>a &#45;&gt;a </title>\r\n",
       "<path fill=\"none\" stroke=\"black\" stroke-width=\"2\" d=\"M203.037,-96.6208C212.858,-95.3189 222,-97.4453 222,-103 222,-106.472 218.429,-108.604 213.353,-109.398\"/>\r\n",
       "<polygon fill=\"black\" stroke=\"black\" stroke-width=\"2\" points=\"213.044,-105.897 203.037,-109.379 213.031,-112.897 213.044,-105.897\"/>\r\n",
       "</g>\r\n",
       "<!-- b  -->\r\n",
       "<g id=\"node2\" class=\"node\"><title>b </title>\r\n",
       "<ellipse fill=\"none\" stroke=\"black\" cx=\"114\" cy=\"-103\" rx=\"18\" ry=\"18\"/>\r\n",
       "<text text-anchor=\"middle\" x=\"114\" y=\"-99.3\" font-family=\"Times New Roman,serif\" font-size=\"14.00\">b</text>\r\n",
       "</g>\r\n",
       "<!-- b &#45;&gt;b  -->\r\n",
       "<g id=\"edge2\" class=\"edge\"><title>b &#45;&gt;b </title>\r\n",
       "<path fill=\"none\" stroke=\"black\" stroke-width=\"2\" d=\"M131.037,-96.6208C140.858,-95.3189 150,-97.4453 150,-103 150,-106.472 146.429,-108.604 141.353,-109.398\"/>\r\n",
       "<polygon fill=\"black\" stroke=\"black\" stroke-width=\"2\" points=\"141.044,-105.897 131.037,-109.379 141.031,-112.897 141.044,-105.897\"/>\r\n",
       "</g>\r\n",
       "<!-- c  -->\r\n",
       "<g id=\"node3\" class=\"node\"><title>c </title>\r\n",
       "<ellipse fill=\"none\" stroke=\"black\" cx=\"42\" cy=\"-103\" rx=\"18\" ry=\"18\"/>\r\n",
       "<text text-anchor=\"middle\" x=\"42\" y=\"-99.3\" font-family=\"Times New Roman,serif\" font-size=\"14.00\">c</text>\r\n",
       "</g>\r\n",
       "<!-- c &#45;&gt;c  -->\r\n",
       "<g id=\"edge3\" class=\"edge\"><title>c &#45;&gt;c </title>\r\n",
       "<path fill=\"none\" stroke=\"black\" stroke-width=\"2\" d=\"M59.0373,-96.6208C68.8579,-95.3189 78,-97.4453 78,-103 78,-106.472 74.4289,-108.604 69.3529,-109.398\"/>\r\n",
       "<polygon fill=\"black\" stroke=\"black\" stroke-width=\"2\" points=\"69.0435,-105.897 59.0373,-109.379 69.031,-112.897 69.0435,-105.897\"/>\r\n",
       "</g>\r\n",
       "</g>\r\n",
       "</svg>\r\n"
      ],
      "text/plain": [
       "<graphviz.dot.Digraph at 0x22ade410790>"
      ]
     },
     "metadata": {},
     "output_type": "display_data"
    }
   ],
   "source": [
    "expression = expression07\n",
    "\n",
    "domain = {'a','b','c'}\n",
    "\n",
    "relation1 = HomogeneousRelation({('a','a'),('b','b'),('c','c')}, domain, True)\n",
    "relation2 = HomogeneousRelation({('a','a'),('b','b'),('c','c')}, domain, True)\n",
    "\n",
    "variables = {'R':relation1, 'S':relation2}\n",
    "\n",
    "interpreter = Interpreter(variables, domain, True)\n",
    "\n",
    "#--------------------------------------------------------------------------------------------------------------\n",
    "\n",
    "generator = interpreter.analyze_all(expression, 2)\n",
    "display(expression)\n",
    "for p in generator: display(p);"
   ]
  },
  {
   "cell_type": "code",
   "execution_count": 20,
   "id": "35098248",
   "metadata": {},
   "outputs": [
    {
     "data": {
      "text/plain": [
       "'(R is asymmetric and S is asymmetric) -> R & S is asymmetric'"
      ]
     },
     "metadata": {},
     "output_type": "display_data"
    },
    {
     "data": {
      "text/plain": [
       "'<<<ERROR - CONCLUSION>>> (R & S) is asymmetric'"
      ]
     },
     "metadata": {},
     "output_type": "display_data"
    },
    {
     "data": {
      "image/svg+xml": [
       "<?xml version=\"1.0\" encoding=\"UTF-8\" standalone=\"no\"?>\r\n",
       "<!DOCTYPE svg PUBLIC \"-//W3C//DTD SVG 1.1//EN\"\r\n",
       " \"http://www.w3.org/Graphics/SVG/1.1/DTD/svg11.dtd\">\r\n",
       "<!-- Generated by graphviz version 2.38.0 (20140413.2041)\r\n",
       " -->\r\n",
       "<!-- Title: %3 Pages: 1 -->\r\n",
       "<svg width=\"223pt\" height=\"225pt\"\r\n",
       " viewBox=\"0.00 0.00 223.00 225.00\" xmlns=\"http://www.w3.org/2000/svg\" xmlns:xlink=\"http://www.w3.org/1999/xlink\">\r\n",
       "<g id=\"graph0\" class=\"graph\" transform=\"scale(1 1) rotate(0) translate(4 221)\">\r\n",
       "<title>%3</title>\r\n",
       "<polygon fill=\"white\" stroke=\"none\" points=\"-4,4 -4,-221 219,-221 219,4 -4,4\"/>\r\n",
       "<text text-anchor=\"middle\" x=\"107.5\" y=\"-22.8\" font-family=\"Times New Roman,serif\" font-size=\"14.00\">&lt;&lt;EXPLAIN &#45; CONCLUSION&gt;&gt; </text>\r\n",
       "<text text-anchor=\"middle\" x=\"107.5\" y=\"-7.8\" font-family=\"Times New Roman,serif\" font-size=\"14.00\">Relation (R&amp;S) is asymmetric!</text>\r\n",
       "<g id=\"clust1\" class=\"cluster\"><title>cluster_</title>\r\n",
       "<polygon fill=\"none\" stroke=\"white\" points=\"46.5,-46 46.5,-209 168.5,-209 168.5,-46 46.5,-46\"/>\r\n",
       "</g>\r\n",
       "<g id=\"clust2\" class=\"cluster\"><title>cluster_(R&amp;S)</title>\r\n",
       "<polygon fill=\"none\" stroke=\"black\" points=\"54.5,-54 54.5,-201 160.5,-201 160.5,-54 54.5,-54\"/>\r\n",
       "<text text-anchor=\"middle\" x=\"107.5\" y=\"-61.8\" font-family=\"Times New Roman,serif\" font-size=\"14.00\">(R&amp;S)</text>\r\n",
       "</g>\r\n",
       "<!-- a  -->\r\n",
       "<g id=\"node1\" class=\"node\"><title>a </title>\r\n",
       "<ellipse fill=\"green\" stroke=\"black\" cx=\"134.5\" cy=\"-103\" rx=\"18\" ry=\"18\"/>\r\n",
       "<text text-anchor=\"middle\" x=\"134.5\" y=\"-99.3\" font-family=\"Times New Roman,serif\" font-size=\"14.00\">a</text>\r\n",
       "</g>\r\n",
       "<!-- b  -->\r\n",
       "<g id=\"node2\" class=\"node\"><title>b </title>\r\n",
       "<ellipse fill=\"green\" stroke=\"black\" cx=\"134.5\" cy=\"-175\" rx=\"18\" ry=\"18\"/>\r\n",
       "<text text-anchor=\"middle\" x=\"134.5\" y=\"-171.3\" font-family=\"Times New Roman,serif\" font-size=\"14.00\">b</text>\r\n",
       "</g>\r\n",
       "<!-- a &#45;&gt;b  -->\r\n",
       "<g id=\"edge1\" class=\"edge\"><title>a &#45;&gt;b </title>\r\n",
       "<path fill=\"none\" stroke=\"green\" stroke-width=\"2\" d=\"M134.5,-121.303C134.5,-129.017 134.5,-138.288 134.5,-146.888\"/>\r\n",
       "<polygon fill=\"green\" stroke=\"green\" stroke-width=\"2\" points=\"131,-146.896 134.5,-156.896 138,-146.896 131,-146.896\"/>\r\n",
       "</g>\r\n",
       "<!-- c  -->\r\n",
       "<g id=\"node3\" class=\"node\"><title>c </title>\r\n",
       "<ellipse fill=\"none\" stroke=\"black\" cx=\"80.5\" cy=\"-103\" rx=\"18\" ry=\"18\"/>\r\n",
       "<text text-anchor=\"middle\" x=\"80.5\" y=\"-99.3\" font-family=\"Times New Roman,serif\" font-size=\"14.00\">c</text>\r\n",
       "</g>\r\n",
       "</g>\r\n",
       "</svg>\r\n"
      ],
      "text/plain": [
       "<graphviz.dot.Digraph at 0x22ae092f280>"
      ]
     },
     "metadata": {},
     "output_type": "display_data"
    }
   ],
   "source": [
    "expression = expression08\n",
    "\n",
    "domain = {'a','b','c'}\n",
    "\n",
    "relation1 = HomogeneousRelation({('a','b')}, domain, True)\n",
    "relation2 = HomogeneousRelation({('a','b')}, domain, True)\n",
    "\n",
    "variables = {'R':relation1, 'S':relation2}\n",
    "\n",
    "interpreter = Interpreter(variables, domain, True)\n",
    "\n",
    "#--------------------------------------------------------------------------------------------------------------\n",
    "\n",
    "generator = interpreter.analyze_all(expression, 2)\n",
    "display(expression)\n",
    "for p in generator: display(p);"
   ]
  },
  {
   "cell_type": "code",
   "execution_count": 21,
   "id": "5f2cb75d",
   "metadata": {},
   "outputs": [
    {
     "data": {
      "text/plain": [
       "'(R is antisymmetric and S is antisymmetric) -> R & S is antisymmetric'"
      ]
     },
     "metadata": {},
     "output_type": "display_data"
    },
    {
     "data": {
      "text/plain": [
       "'<<<ERROR - CONCLUSION>>> (R & S) is antisymmetric'"
      ]
     },
     "metadata": {},
     "output_type": "display_data"
    },
    {
     "data": {
      "image/svg+xml": [
       "<?xml version=\"1.0\" encoding=\"UTF-8\" standalone=\"no\"?>\r\n",
       "<!DOCTYPE svg PUBLIC \"-//W3C//DTD SVG 1.1//EN\"\r\n",
       " \"http://www.w3.org/Graphics/SVG/1.1/DTD/svg11.dtd\">\r\n",
       "<!-- Generated by graphviz version 2.38.0 (20140413.2041)\r\n",
       " -->\r\n",
       "<!-- Title: %3 Pages: 1 -->\r\n",
       "<svg width=\"223pt\" height=\"225pt\"\r\n",
       " viewBox=\"0.00 0.00 223.00 225.00\" xmlns=\"http://www.w3.org/2000/svg\" xmlns:xlink=\"http://www.w3.org/1999/xlink\">\r\n",
       "<g id=\"graph0\" class=\"graph\" transform=\"scale(1 1) rotate(0) translate(4 221)\">\r\n",
       "<title>%3</title>\r\n",
       "<polygon fill=\"white\" stroke=\"none\" points=\"-4,4 -4,-221 219,-221 219,4 -4,4\"/>\r\n",
       "<text text-anchor=\"middle\" x=\"107.5\" y=\"-22.8\" font-family=\"Times New Roman,serif\" font-size=\"14.00\">&lt;&lt;EXPLAIN &#45; CONCLUSION&gt;&gt; </text>\r\n",
       "<text text-anchor=\"middle\" x=\"107.5\" y=\"-7.8\" font-family=\"Times New Roman,serif\" font-size=\"14.00\">Relation (R&amp;S) is antisymmetric!</text>\r\n",
       "<g id=\"clust1\" class=\"cluster\"><title>cluster_</title>\r\n",
       "<polygon fill=\"none\" stroke=\"white\" points=\"46.5,-46 46.5,-209 168.5,-209 168.5,-46 46.5,-46\"/>\r\n",
       "</g>\r\n",
       "<g id=\"clust2\" class=\"cluster\"><title>cluster_(R&amp;S)</title>\r\n",
       "<polygon fill=\"none\" stroke=\"black\" points=\"54.5,-54 54.5,-201 160.5,-201 160.5,-54 54.5,-54\"/>\r\n",
       "<text text-anchor=\"middle\" x=\"107.5\" y=\"-61.8\" font-family=\"Times New Roman,serif\" font-size=\"14.00\">(R&amp;S)</text>\r\n",
       "</g>\r\n",
       "<!-- a  -->\r\n",
       "<g id=\"node1\" class=\"node\"><title>a </title>\r\n",
       "<ellipse fill=\"green\" stroke=\"black\" cx=\"134.5\" cy=\"-103\" rx=\"18\" ry=\"18\"/>\r\n",
       "<text text-anchor=\"middle\" x=\"134.5\" y=\"-99.3\" font-family=\"Times New Roman,serif\" font-size=\"14.00\">a</text>\r\n",
       "</g>\r\n",
       "<!-- b  -->\r\n",
       "<g id=\"node2\" class=\"node\"><title>b </title>\r\n",
       "<ellipse fill=\"green\" stroke=\"black\" cx=\"134.5\" cy=\"-175\" rx=\"18\" ry=\"18\"/>\r\n",
       "<text text-anchor=\"middle\" x=\"134.5\" y=\"-171.3\" font-family=\"Times New Roman,serif\" font-size=\"14.00\">b</text>\r\n",
       "</g>\r\n",
       "<!-- a &#45;&gt;b  -->\r\n",
       "<g id=\"edge1\" class=\"edge\"><title>a &#45;&gt;b </title>\r\n",
       "<path fill=\"none\" stroke=\"green\" stroke-width=\"2\" d=\"M134.5,-121.303C134.5,-129.017 134.5,-138.288 134.5,-146.888\"/>\r\n",
       "<polygon fill=\"green\" stroke=\"green\" stroke-width=\"2\" points=\"131,-146.896 134.5,-156.896 138,-146.896 131,-146.896\"/>\r\n",
       "</g>\r\n",
       "<!-- c  -->\r\n",
       "<g id=\"node3\" class=\"node\"><title>c </title>\r\n",
       "<ellipse fill=\"none\" stroke=\"black\" cx=\"80.5\" cy=\"-103\" rx=\"18\" ry=\"18\"/>\r\n",
       "<text text-anchor=\"middle\" x=\"80.5\" y=\"-99.3\" font-family=\"Times New Roman,serif\" font-size=\"14.00\">c</text>\r\n",
       "</g>\r\n",
       "</g>\r\n",
       "</svg>\r\n"
      ],
      "text/plain": [
       "<graphviz.dot.Digraph at 0x22ae0a4cc10>"
      ]
     },
     "metadata": {},
     "output_type": "display_data"
    }
   ],
   "source": [
    "expression = expression09\n",
    "\n",
    "domain = {'a','b','c'}\n",
    "\n",
    "relation1 = HomogeneousRelation({('a','b')}, domain, True)\n",
    "relation2 = HomogeneousRelation({('a','b')}, domain, True)\n",
    "\n",
    "variables = {'R':relation1, 'S':relation2}\n",
    "\n",
    "interpreter = Interpreter(variables, domain, True)\n",
    "\n",
    "#--------------------------------------------------------------------------------------------------------------\n",
    "\n",
    "generator = interpreter.analyze_all(expression, 2)\n",
    "display(expression)\n",
    "for p in generator: display(p);"
   ]
  },
  {
   "cell_type": "code",
   "execution_count": 22,
   "id": "00a9caec",
   "metadata": {},
   "outputs": [
    {
     "data": {
      "text/plain": [
       "'(R is transitive and S is transitive) -> R & S is transitive'"
      ]
     },
     "metadata": {},
     "output_type": "display_data"
    },
    {
     "data": {
      "text/plain": [
       "'<<<ERROR - CONCLUSION>>> (R & S) is transitive'"
      ]
     },
     "metadata": {},
     "output_type": "display_data"
    },
    {
     "data": {
      "image/svg+xml": [
       "<?xml version=\"1.0\" encoding=\"UTF-8\" standalone=\"no\"?>\r\n",
       "<!DOCTYPE svg PUBLIC \"-//W3C//DTD SVG 1.1//EN\"\r\n",
       " \"http://www.w3.org/Graphics/SVG/1.1/DTD/svg11.dtd\">\r\n",
       "<!-- Generated by graphviz version 2.38.0 (20140413.2041)\r\n",
       " -->\r\n",
       "<!-- Title: %3 Pages: 1 -->\r\n",
       "<svg width=\"223pt\" height=\"225pt\"\r\n",
       " viewBox=\"0.00 0.00 223.00 225.00\" xmlns=\"http://www.w3.org/2000/svg\" xmlns:xlink=\"http://www.w3.org/1999/xlink\">\r\n",
       "<g id=\"graph0\" class=\"graph\" transform=\"scale(1 1) rotate(0) translate(4 221)\">\r\n",
       "<title>%3</title>\r\n",
       "<polygon fill=\"white\" stroke=\"none\" points=\"-4,4 -4,-221 219,-221 219,4 -4,4\"/>\r\n",
       "<text text-anchor=\"middle\" x=\"107.5\" y=\"-22.8\" font-family=\"Times New Roman,serif\" font-size=\"14.00\">&lt;&lt;EXPLAIN &#45; CONCLUSION&gt;&gt; </text>\r\n",
       "<text text-anchor=\"middle\" x=\"107.5\" y=\"-7.8\" font-family=\"Times New Roman,serif\" font-size=\"14.00\">Relation (R&amp;S) is transitive!</text>\r\n",
       "<g id=\"clust1\" class=\"cluster\"><title>cluster_</title>\r\n",
       "<polygon fill=\"none\" stroke=\"white\" points=\"46.5,-46 46.5,-209 168.5,-209 168.5,-46 46.5,-46\"/>\r\n",
       "</g>\r\n",
       "<g id=\"clust2\" class=\"cluster\"><title>cluster_(R&amp;S)</title>\r\n",
       "<polygon fill=\"none\" stroke=\"black\" points=\"54.5,-54 54.5,-201 160.5,-201 160.5,-54 54.5,-54\"/>\r\n",
       "<text text-anchor=\"middle\" x=\"107.5\" y=\"-61.8\" font-family=\"Times New Roman,serif\" font-size=\"14.00\">(R&amp;S)</text>\r\n",
       "</g>\r\n",
       "<!-- a  -->\r\n",
       "<g id=\"node1\" class=\"node\"><title>a </title>\r\n",
       "<ellipse fill=\"none\" stroke=\"black\" cx=\"134.5\" cy=\"-103\" rx=\"18\" ry=\"18\"/>\r\n",
       "<text text-anchor=\"middle\" x=\"134.5\" y=\"-99.3\" font-family=\"Times New Roman,serif\" font-size=\"14.00\">a</text>\r\n",
       "</g>\r\n",
       "<!-- b  -->\r\n",
       "<g id=\"node2\" class=\"node\"><title>b </title>\r\n",
       "<ellipse fill=\"none\" stroke=\"black\" cx=\"134.5\" cy=\"-175\" rx=\"18\" ry=\"18\"/>\r\n",
       "<text text-anchor=\"middle\" x=\"134.5\" y=\"-171.3\" font-family=\"Times New Roman,serif\" font-size=\"14.00\">b</text>\r\n",
       "</g>\r\n",
       "<!-- a &#45;&gt;b  -->\r\n",
       "<g id=\"edge1\" class=\"edge\"><title>a &#45;&gt;b </title>\r\n",
       "<path fill=\"none\" stroke=\"black\" stroke-width=\"2\" d=\"M134.5,-121.303C134.5,-129.017 134.5,-138.288 134.5,-146.888\"/>\r\n",
       "<polygon fill=\"black\" stroke=\"black\" stroke-width=\"2\" points=\"131,-146.896 134.5,-156.896 138,-146.896 131,-146.896\"/>\r\n",
       "</g>\r\n",
       "<!-- c  -->\r\n",
       "<g id=\"node3\" class=\"node\"><title>c </title>\r\n",
       "<ellipse fill=\"none\" stroke=\"black\" cx=\"80.5\" cy=\"-103\" rx=\"18\" ry=\"18\"/>\r\n",
       "<text text-anchor=\"middle\" x=\"80.5\" y=\"-99.3\" font-family=\"Times New Roman,serif\" font-size=\"14.00\">c</text>\r\n",
       "</g>\r\n",
       "</g>\r\n",
       "</svg>\r\n"
      ],
      "text/plain": [
       "<graphviz.dot.Digraph at 0x22ade36ad60>"
      ]
     },
     "metadata": {},
     "output_type": "display_data"
    }
   ],
   "source": [
    "expression = expression10\n",
    "\n",
    "domain = {'a','b','c'}\n",
    "\n",
    "relation1 = HomogeneousRelation({('a','b')}, domain, True)\n",
    "relation2 = HomogeneousRelation({('a','b')}, domain, True)\n",
    "\n",
    "variables = {'R':relation1, 'S':relation2}\n",
    "\n",
    "interpreter = Interpreter(variables, domain, True)\n",
    "\n",
    "#--------------------------------------------------------------------------------------------------------------\n",
    "\n",
    "generator = interpreter.analyze_all(expression, 2)\n",
    "display(expression)\n",
    "for p in generator: display(p);"
   ]
  },
  {
   "cell_type": "code",
   "execution_count": 23,
   "id": "5f316804",
   "metadata": {},
   "outputs": [
    {
     "data": {
      "text/plain": [
       "'(R is reflexive and S is reflexive) -> R - S is reflexive'"
      ]
     },
     "metadata": {},
     "output_type": "display_data"
    },
    {
     "data": {
      "text/plain": [
       "'Good counterexample!'"
      ]
     },
     "metadata": {},
     "output_type": "display_data"
    }
   ],
   "source": [
    "expression = expression11\n",
    "\n",
    "domain = {'a','b','c'}\n",
    "\n",
    "relation1 = HomogeneousRelation({('a','a'),('b','b'),('c','c')}, domain, True)\n",
    "relation2 = HomogeneousRelation({('a','a'),('b','b'),('c','c')}, domain, True)\n",
    "\n",
    "variables = {'R':relation1, 'S':relation2}\n",
    "\n",
    "interpreter = Interpreter(variables, domain, True)\n",
    "\n",
    "#--------------------------------------------------------------------------------------------------------------\n",
    "\n",
    "generator = interpreter.analyze_all(expression, 2)\n",
    "display(expression)\n",
    "for p in generator: display(p);"
   ]
  },
  {
   "cell_type": "code",
   "execution_count": 24,
   "id": "e9ec827f",
   "metadata": {
    "scrolled": false
   },
   "outputs": [
    {
     "data": {
      "text/plain": [
       "'(R is symmetric and S is symmetric) -> R - S is symmetric'"
      ]
     },
     "metadata": {},
     "output_type": "display_data"
    },
    {
     "data": {
      "text/plain": [
       "'<<<ERROR - CONCLUSION>>> (R - S) is symmetric'"
      ]
     },
     "metadata": {},
     "output_type": "display_data"
    },
    {
     "data": {
      "image/svg+xml": [
       "<?xml version=\"1.0\" encoding=\"UTF-8\" standalone=\"no\"?>\r\n",
       "<!DOCTYPE svg PUBLIC \"-//W3C//DTD SVG 1.1//EN\"\r\n",
       " \"http://www.w3.org/Graphics/SVG/1.1/DTD/svg11.dtd\">\r\n",
       "<!-- Generated by graphviz version 2.38.0 (20140413.2041)\r\n",
       " -->\r\n",
       "<!-- Title: %3 Pages: 1 -->\r\n",
       "<svg width=\"223pt\" height=\"153pt\"\r\n",
       " viewBox=\"0.00 0.00 223.00 153.00\" xmlns=\"http://www.w3.org/2000/svg\" xmlns:xlink=\"http://www.w3.org/1999/xlink\">\r\n",
       "<g id=\"graph0\" class=\"graph\" transform=\"scale(1 1) rotate(0) translate(4 149)\">\r\n",
       "<title>%3</title>\r\n",
       "<polygon fill=\"white\" stroke=\"none\" points=\"-4,4 -4,-149 219,-149 219,4 -4,4\"/>\r\n",
       "<text text-anchor=\"middle\" x=\"107.5\" y=\"-22.8\" font-family=\"Times New Roman,serif\" font-size=\"14.00\">&lt;&lt;EXPLAIN &#45; CONCLUSION&gt;&gt; </text>\r\n",
       "<text text-anchor=\"middle\" x=\"107.5\" y=\"-7.8\" font-family=\"Times New Roman,serif\" font-size=\"14.00\">Relation (R&#45;S) is symmetric!</text>\r\n",
       "<g id=\"clust1\" class=\"cluster\"><title>cluster_</title>\r\n",
       "<polygon fill=\"none\" stroke=\"white\" points=\"19.5,-46 19.5,-137 195.5,-137 195.5,-46 19.5,-46\"/>\r\n",
       "</g>\r\n",
       "<g id=\"clust2\" class=\"cluster\"><title>cluster_(R&#45;S)</title>\r\n",
       "<polygon fill=\"none\" stroke=\"black\" points=\"27.5,-54 27.5,-129 187.5,-129 187.5,-54 27.5,-54\"/>\r\n",
       "<text text-anchor=\"middle\" x=\"107.5\" y=\"-61.8\" font-family=\"Times New Roman,serif\" font-size=\"14.00\">(R&#45;S)</text>\r\n",
       "</g>\r\n",
       "<!-- a  -->\r\n",
       "<g id=\"node1\" class=\"node\"><title>a </title>\r\n",
       "<ellipse fill=\"none\" stroke=\"black\" cx=\"161.5\" cy=\"-103\" rx=\"18\" ry=\"18\"/>\r\n",
       "<text text-anchor=\"middle\" x=\"161.5\" y=\"-99.3\" font-family=\"Times New Roman,serif\" font-size=\"14.00\">a</text>\r\n",
       "</g>\r\n",
       "<!-- b  -->\r\n",
       "<g id=\"node2\" class=\"node\"><title>b </title>\r\n",
       "<ellipse fill=\"none\" stroke=\"black\" cx=\"107.5\" cy=\"-103\" rx=\"18\" ry=\"18\"/>\r\n",
       "<text text-anchor=\"middle\" x=\"107.5\" y=\"-99.3\" font-family=\"Times New Roman,serif\" font-size=\"14.00\">b</text>\r\n",
       "</g>\r\n",
       "<!-- c  -->\r\n",
       "<g id=\"node3\" class=\"node\"><title>c </title>\r\n",
       "<ellipse fill=\"none\" stroke=\"black\" cx=\"53.5\" cy=\"-103\" rx=\"18\" ry=\"18\"/>\r\n",
       "<text text-anchor=\"middle\" x=\"53.5\" y=\"-99.3\" font-family=\"Times New Roman,serif\" font-size=\"14.00\">c</text>\r\n",
       "</g>\r\n",
       "</g>\r\n",
       "</svg>\r\n"
      ],
      "text/plain": [
       "<graphviz.dot.Digraph at 0x22ade3671f0>"
      ]
     },
     "metadata": {},
     "output_type": "display_data"
    }
   ],
   "source": [
    "expression = expression12\n",
    "\n",
    "domain1 = {'a','b','c'}\n",
    "domain2 = {'a','b','c'}\n",
    "\n",
    "relation1 = HomogeneousRelation({('a','a'),('b','b')}, domain1, True)\n",
    "relation2 = HomogeneousRelation({('a','a'),('b','b'),('c','c')}, domain2, True)\n",
    "\n",
    "variables = {'R':relation1, 'S':relation2}\n",
    "\n",
    "interpreter = Interpreter(variables, domain1|domain2, True)\n",
    "\n",
    "#--------------------------------------------------------------------------------------------------------------\n",
    "\n",
    "generator = interpreter.analyze_all(expression, 2)\n",
    "display(expression)\n",
    "for p in generator: display(p);"
   ]
  },
  {
   "cell_type": "code",
   "execution_count": 25,
   "id": "0f851da4",
   "metadata": {
    "scrolled": false
   },
   "outputs": [
    {
     "data": {
      "text/plain": [
       "'(R is asymmetric and S is asymmetric) -> R - S is asymmetric'"
      ]
     },
     "metadata": {},
     "output_type": "display_data"
    },
    {
     "data": {
      "text/plain": [
       "'<<<ERROR - CONCLUSION>>> (R - S) is asymmetric'"
      ]
     },
     "metadata": {},
     "output_type": "display_data"
    },
    {
     "data": {
      "image/svg+xml": [
       "<?xml version=\"1.0\" encoding=\"UTF-8\" standalone=\"no\"?>\r\n",
       "<!DOCTYPE svg PUBLIC \"-//W3C//DTD SVG 1.1//EN\"\r\n",
       " \"http://www.w3.org/Graphics/SVG/1.1/DTD/svg11.dtd\">\r\n",
       "<!-- Generated by graphviz version 2.38.0 (20140413.2041)\r\n",
       " -->\r\n",
       "<!-- Title: %3 Pages: 1 -->\r\n",
       "<svg width=\"223pt\" height=\"297pt\"\r\n",
       " viewBox=\"0.00 0.00 223.00 297.00\" xmlns=\"http://www.w3.org/2000/svg\" xmlns:xlink=\"http://www.w3.org/1999/xlink\">\r\n",
       "<g id=\"graph0\" class=\"graph\" transform=\"scale(1 1) rotate(0) translate(4 293)\">\r\n",
       "<title>%3</title>\r\n",
       "<polygon fill=\"white\" stroke=\"none\" points=\"-4,4 -4,-293 219,-293 219,4 -4,4\"/>\r\n",
       "<text text-anchor=\"middle\" x=\"107.5\" y=\"-22.8\" font-family=\"Times New Roman,serif\" font-size=\"14.00\">&lt;&lt;EXPLAIN &#45; CONCLUSION&gt;&gt; </text>\r\n",
       "<text text-anchor=\"middle\" x=\"107.5\" y=\"-7.8\" font-family=\"Times New Roman,serif\" font-size=\"14.00\">Relation (R&#45;S) is asymmetric!</text>\r\n",
       "<g id=\"clust1\" class=\"cluster\"><title>cluster_</title>\r\n",
       "<polygon fill=\"none\" stroke=\"white\" points=\"73.5,-46 73.5,-281 141.5,-281 141.5,-46 73.5,-46\"/>\r\n",
       "</g>\r\n",
       "<g id=\"clust2\" class=\"cluster\"><title>cluster_(R&#45;S)</title>\r\n",
       "<polygon fill=\"none\" stroke=\"black\" points=\"81.5,-54 81.5,-273 133.5,-273 133.5,-54 81.5,-54\"/>\r\n",
       "<text text-anchor=\"middle\" x=\"107.5\" y=\"-61.8\" font-family=\"Times New Roman,serif\" font-size=\"14.00\">(R&#45;S)</text>\r\n",
       "</g>\r\n",
       "<!-- a  -->\r\n",
       "<g id=\"node1\" class=\"node\"><title>a </title>\r\n",
       "<ellipse fill=\"green\" stroke=\"black\" cx=\"107.5\" cy=\"-103\" rx=\"18\" ry=\"18\"/>\r\n",
       "<text text-anchor=\"middle\" x=\"107.5\" y=\"-99.3\" font-family=\"Times New Roman,serif\" font-size=\"14.00\">a</text>\r\n",
       "</g>\r\n",
       "<!-- b  -->\r\n",
       "<g id=\"node2\" class=\"node\"><title>b </title>\r\n",
       "<ellipse fill=\"green\" stroke=\"black\" cx=\"107.5\" cy=\"-175\" rx=\"18\" ry=\"18\"/>\r\n",
       "<text text-anchor=\"middle\" x=\"107.5\" y=\"-171.3\" font-family=\"Times New Roman,serif\" font-size=\"14.00\">b</text>\r\n",
       "</g>\r\n",
       "<!-- a &#45;&gt;b  -->\r\n",
       "<g id=\"edge1\" class=\"edge\"><title>a &#45;&gt;b </title>\r\n",
       "<path fill=\"none\" stroke=\"green\" stroke-width=\"2\" d=\"M107.5,-121.303C107.5,-129.017 107.5,-138.288 107.5,-146.888\"/>\r\n",
       "<polygon fill=\"green\" stroke=\"green\" stroke-width=\"2\" points=\"104,-146.896 107.5,-156.896 111,-146.896 104,-146.896\"/>\r\n",
       "</g>\r\n",
       "<!-- c  -->\r\n",
       "<g id=\"node3\" class=\"node\"><title>c </title>\r\n",
       "<ellipse fill=\"green\" stroke=\"black\" cx=\"107.5\" cy=\"-247\" rx=\"18\" ry=\"18\"/>\r\n",
       "<text text-anchor=\"middle\" x=\"107.5\" y=\"-243.3\" font-family=\"Times New Roman,serif\" font-size=\"14.00\">c</text>\r\n",
       "</g>\r\n",
       "<!-- b &#45;&gt;c  -->\r\n",
       "<g id=\"edge2\" class=\"edge\"><title>b &#45;&gt;c </title>\r\n",
       "<path fill=\"none\" stroke=\"green\" stroke-width=\"2\" d=\"M107.5,-193.303C107.5,-201.017 107.5,-210.288 107.5,-218.888\"/>\r\n",
       "<polygon fill=\"green\" stroke=\"green\" stroke-width=\"2\" points=\"104,-218.896 107.5,-228.896 111,-218.896 104,-218.896\"/>\r\n",
       "</g>\r\n",
       "</g>\r\n",
       "</svg>\r\n"
      ],
      "text/plain": [
       "<graphviz.dot.Digraph at 0x22ae06ae040>"
      ]
     },
     "metadata": {},
     "output_type": "display_data"
    }
   ],
   "source": [
    "expression = expression13\n",
    "\n",
    "domain1 = {'a','b','c'}\n",
    "domain2 = {'a','b','c'}\n",
    "\n",
    "relation1 = HomogeneousRelation({('a','b'),('b','c')}, domain1, True)\n",
    "relation2 = HomogeneousRelation({('b','a'),('c','b')}, domain2, True)\n",
    "\n",
    "variables = {'R':relation1, 'S':relation2}\n",
    "\n",
    "interpreter = Interpreter(variables, domain1|domain2, True)\n",
    "\n",
    "#--------------------------------------------------------------------------------------------------------------\n",
    "\n",
    "generator = interpreter.analyze_all(expression, 2)\n",
    "display(expression)\n",
    "for p in generator: display(p);"
   ]
  },
  {
   "cell_type": "code",
   "execution_count": 26,
   "id": "2f44f8ec",
   "metadata": {},
   "outputs": [
    {
     "data": {
      "text/plain": [
       "'(R is antisymmetric and S is antisymmetric) -> R - S is antisymmetric'"
      ]
     },
     "metadata": {},
     "output_type": "display_data"
    },
    {
     "data": {
      "text/plain": [
       "'<<<ERROR - CONCLUSION>>> (R - S) is antisymmetric'"
      ]
     },
     "metadata": {},
     "output_type": "display_data"
    },
    {
     "data": {
      "image/svg+xml": [
       "<?xml version=\"1.0\" encoding=\"UTF-8\" standalone=\"no\"?>\r\n",
       "<!DOCTYPE svg PUBLIC \"-//W3C//DTD SVG 1.1//EN\"\r\n",
       " \"http://www.w3.org/Graphics/SVG/1.1/DTD/svg11.dtd\">\r\n",
       "<!-- Generated by graphviz version 2.38.0 (20140413.2041)\r\n",
       " -->\r\n",
       "<!-- Title: %3 Pages: 1 -->\r\n",
       "<svg width=\"223pt\" height=\"297pt\"\r\n",
       " viewBox=\"0.00 0.00 223.00 297.00\" xmlns=\"http://www.w3.org/2000/svg\" xmlns:xlink=\"http://www.w3.org/1999/xlink\">\r\n",
       "<g id=\"graph0\" class=\"graph\" transform=\"scale(1 1) rotate(0) translate(4 293)\">\r\n",
       "<title>%3</title>\r\n",
       "<polygon fill=\"white\" stroke=\"none\" points=\"-4,4 -4,-293 219,-293 219,4 -4,4\"/>\r\n",
       "<text text-anchor=\"middle\" x=\"107.5\" y=\"-22.8\" font-family=\"Times New Roman,serif\" font-size=\"14.00\">&lt;&lt;EXPLAIN &#45; CONCLUSION&gt;&gt; </text>\r\n",
       "<text text-anchor=\"middle\" x=\"107.5\" y=\"-7.8\" font-family=\"Times New Roman,serif\" font-size=\"14.00\">Relation (R&#45;S) is antisymmetric!</text>\r\n",
       "<g id=\"clust1\" class=\"cluster\"><title>cluster_</title>\r\n",
       "<polygon fill=\"none\" stroke=\"white\" points=\"73.5,-46 73.5,-281 141.5,-281 141.5,-46 73.5,-46\"/>\r\n",
       "</g>\r\n",
       "<g id=\"clust2\" class=\"cluster\"><title>cluster_(R&#45;S)</title>\r\n",
       "<polygon fill=\"none\" stroke=\"black\" points=\"81.5,-54 81.5,-273 133.5,-273 133.5,-54 81.5,-54\"/>\r\n",
       "<text text-anchor=\"middle\" x=\"107.5\" y=\"-61.8\" font-family=\"Times New Roman,serif\" font-size=\"14.00\">(R&#45;S)</text>\r\n",
       "</g>\r\n",
       "<!-- a  -->\r\n",
       "<g id=\"node1\" class=\"node\"><title>a </title>\r\n",
       "<ellipse fill=\"green\" stroke=\"black\" cx=\"107.5\" cy=\"-103\" rx=\"18\" ry=\"18\"/>\r\n",
       "<text text-anchor=\"middle\" x=\"107.5\" y=\"-99.3\" font-family=\"Times New Roman,serif\" font-size=\"14.00\">a</text>\r\n",
       "</g>\r\n",
       "<!-- b  -->\r\n",
       "<g id=\"node2\" class=\"node\"><title>b </title>\r\n",
       "<ellipse fill=\"green\" stroke=\"black\" cx=\"107.5\" cy=\"-175\" rx=\"18\" ry=\"18\"/>\r\n",
       "<text text-anchor=\"middle\" x=\"107.5\" y=\"-171.3\" font-family=\"Times New Roman,serif\" font-size=\"14.00\">b</text>\r\n",
       "</g>\r\n",
       "<!-- a &#45;&gt;b  -->\r\n",
       "<g id=\"edge1\" class=\"edge\"><title>a &#45;&gt;b </title>\r\n",
       "<path fill=\"none\" stroke=\"green\" stroke-width=\"2\" d=\"M107.5,-121.303C107.5,-129.017 107.5,-138.288 107.5,-146.888\"/>\r\n",
       "<polygon fill=\"green\" stroke=\"green\" stroke-width=\"2\" points=\"104,-146.896 107.5,-156.896 111,-146.896 104,-146.896\"/>\r\n",
       "</g>\r\n",
       "<!-- c  -->\r\n",
       "<g id=\"node3\" class=\"node\"><title>c </title>\r\n",
       "<ellipse fill=\"green\" stroke=\"black\" cx=\"107.5\" cy=\"-247\" rx=\"18\" ry=\"18\"/>\r\n",
       "<text text-anchor=\"middle\" x=\"107.5\" y=\"-243.3\" font-family=\"Times New Roman,serif\" font-size=\"14.00\">c</text>\r\n",
       "</g>\r\n",
       "<!-- b &#45;&gt;c  -->\r\n",
       "<g id=\"edge2\" class=\"edge\"><title>b &#45;&gt;c </title>\r\n",
       "<path fill=\"none\" stroke=\"green\" stroke-width=\"2\" d=\"M107.5,-193.303C107.5,-201.017 107.5,-210.288 107.5,-218.888\"/>\r\n",
       "<polygon fill=\"green\" stroke=\"green\" stroke-width=\"2\" points=\"104,-218.896 107.5,-228.896 111,-218.896 104,-218.896\"/>\r\n",
       "</g>\r\n",
       "</g>\r\n",
       "</svg>\r\n"
      ],
      "text/plain": [
       "<graphviz.dot.Digraph at 0x22ade2c65e0>"
      ]
     },
     "metadata": {},
     "output_type": "display_data"
    }
   ],
   "source": [
    "expression = expression14\n",
    "\n",
    "domain = {'a','b','c'}\n",
    "\n",
    "relation1 = HomogeneousRelation({('a','b'),('b','c')}, domain, True)\n",
    "relation2 = HomogeneousRelation({('b','a'),('c','b')}, domain, True)\n",
    "\n",
    "variables = {'R':relation1, 'S':relation2}\n",
    "\n",
    "interpreter = Interpreter(variables, domain, True)\n",
    "\n",
    "#--------------------------------------------------------------------------------------------------------------\n",
    "\n",
    "generator = interpreter.analyze_all(expression, 2)\n",
    "display(expression)\n",
    "for p in generator: display(p);"
   ]
  },
  {
   "cell_type": "code",
   "execution_count": 27,
   "id": "9d151efb",
   "metadata": {},
   "outputs": [
    {
     "data": {
      "text/plain": [
       "'(R is transitive and S is transitive) -> R - S is transitive'"
      ]
     },
     "metadata": {},
     "output_type": "display_data"
    },
    {
     "data": {
      "text/plain": [
       "'Good counterexample!'"
      ]
     },
     "metadata": {},
     "output_type": "display_data"
    }
   ],
   "source": [
    "expression = expression15\n",
    "\n",
    "domain = {'a','b','c'}\n",
    "\n",
    "relation1 = HomogeneousRelation({('a','b'),('b','c'),('a','c')}, domain, True)\n",
    "relation2 = HomogeneousRelation({('c','c'),('a','c')}, domain, True)\n",
    "\n",
    "variables = {'R':relation1, 'S':relation2}\n",
    "\n",
    "interpreter = Interpreter(variables, domain, True)\n",
    "\n",
    "#--------------------------------------------------------------------------------------------------------------\n",
    "\n",
    "generator = interpreter.analyze_all(expression, 2)\n",
    "display(expression)\n",
    "for p in generator: display(p);"
   ]
  },
  {
   "cell_type": "code",
   "execution_count": 28,
   "id": "a1cb74c1",
   "metadata": {
    "scrolled": false
   },
   "outputs": [
    {
     "data": {
      "text/plain": [
       "'(R is reflexive and S is reflexive) -> R ° S is reflexive'"
      ]
     },
     "metadata": {},
     "output_type": "display_data"
    },
    {
     "data": {
      "text/plain": [
       "'<<<ERROR - CONCLUSION>>> (R ° S) is reflexive'"
      ]
     },
     "metadata": {},
     "output_type": "display_data"
    },
    {
     "data": {
      "image/svg+xml": [
       "<?xml version=\"1.0\" encoding=\"UTF-8\" standalone=\"no\"?>\r\n",
       "<!DOCTYPE svg PUBLIC \"-//W3C//DTD SVG 1.1//EN\"\r\n",
       " \"http://www.w3.org/Graphics/SVG/1.1/DTD/svg11.dtd\">\r\n",
       "<!-- Generated by graphviz version 2.38.0 (20140413.2041)\r\n",
       " -->\r\n",
       "<!-- Title: %3 Pages: 1 -->\r\n",
       "<svg width=\"254pt\" height=\"153pt\"\r\n",
       " viewBox=\"0.00 0.00 254.00 153.00\" xmlns=\"http://www.w3.org/2000/svg\" xmlns:xlink=\"http://www.w3.org/1999/xlink\">\r\n",
       "<g id=\"graph0\" class=\"graph\" transform=\"scale(1 1) rotate(0) translate(4 149)\">\r\n",
       "<title>%3</title>\r\n",
       "<polygon fill=\"white\" stroke=\"none\" points=\"-4,4 -4,-149 250,-149 250,4 -4,4\"/>\r\n",
       "<text text-anchor=\"middle\" x=\"123\" y=\"-22.8\" font-family=\"Times New Roman,serif\" font-size=\"14.00\">&lt;&lt;EXPLAIN &#45; CONCLUSION&gt;&gt; </text>\r\n",
       "<text text-anchor=\"middle\" x=\"123\" y=\"-7.8\" font-family=\"Times New Roman,serif\" font-size=\"14.00\">Relation (R°S) is reflexive!</text>\r\n",
       "<g id=\"clust1\" class=\"cluster\"><title>cluster_</title>\r\n",
       "<polygon fill=\"none\" stroke=\"white\" points=\"8,-46 8,-137 238,-137 238,-46 8,-46\"/>\r\n",
       "</g>\r\n",
       "<g id=\"clust2\" class=\"cluster\"><title>cluster_(R°S)</title>\r\n",
       "<polygon fill=\"none\" stroke=\"black\" points=\"16,-54 16,-129 230,-129 230,-54 16,-54\"/>\r\n",
       "<text text-anchor=\"middle\" x=\"123\" y=\"-61.8\" font-family=\"Times New Roman,serif\" font-size=\"14.00\">(R°S)</text>\r\n",
       "</g>\r\n",
       "<!-- a  -->\r\n",
       "<g id=\"node1\" class=\"node\"><title>a </title>\r\n",
       "<ellipse fill=\"green\" stroke=\"black\" cx=\"186\" cy=\"-103\" rx=\"18\" ry=\"18\"/>\r\n",
       "<text text-anchor=\"middle\" x=\"186\" y=\"-99.3\" font-family=\"Times New Roman,serif\" font-size=\"14.00\">a</text>\r\n",
       "</g>\r\n",
       "<!-- a &#45;&gt;a  -->\r\n",
       "<g id=\"edge1\" class=\"edge\"><title>a &#45;&gt;a </title>\r\n",
       "<path fill=\"none\" stroke=\"green\" stroke-width=\"2\" d=\"M203.037,-96.6208C212.858,-95.3189 222,-97.4453 222,-103 222,-106.472 218.429,-108.604 213.353,-109.398\"/>\r\n",
       "<polygon fill=\"green\" stroke=\"green\" stroke-width=\"2\" points=\"213.044,-105.897 203.037,-109.379 213.031,-112.897 213.044,-105.897\"/>\r\n",
       "</g>\r\n",
       "<!-- b  -->\r\n",
       "<g id=\"node2\" class=\"node\"><title>b </title>\r\n",
       "<ellipse fill=\"green\" stroke=\"black\" cx=\"114\" cy=\"-103\" rx=\"18\" ry=\"18\"/>\r\n",
       "<text text-anchor=\"middle\" x=\"114\" y=\"-99.3\" font-family=\"Times New Roman,serif\" font-size=\"14.00\">b</text>\r\n",
       "</g>\r\n",
       "<!-- b &#45;&gt;b  -->\r\n",
       "<g id=\"edge2\" class=\"edge\"><title>b &#45;&gt;b </title>\r\n",
       "<path fill=\"none\" stroke=\"green\" stroke-width=\"2\" d=\"M131.037,-96.6208C140.858,-95.3189 150,-97.4453 150,-103 150,-106.472 146.429,-108.604 141.353,-109.398\"/>\r\n",
       "<polygon fill=\"green\" stroke=\"green\" stroke-width=\"2\" points=\"141.044,-105.897 131.037,-109.379 141.031,-112.897 141.044,-105.897\"/>\r\n",
       "</g>\r\n",
       "<!-- c  -->\r\n",
       "<g id=\"node3\" class=\"node\"><title>c </title>\r\n",
       "<ellipse fill=\"green\" stroke=\"black\" cx=\"42\" cy=\"-103\" rx=\"18\" ry=\"18\"/>\r\n",
       "<text text-anchor=\"middle\" x=\"42\" y=\"-99.3\" font-family=\"Times New Roman,serif\" font-size=\"14.00\">c</text>\r\n",
       "</g>\r\n",
       "<!-- c &#45;&gt;c  -->\r\n",
       "<g id=\"edge3\" class=\"edge\"><title>c &#45;&gt;c </title>\r\n",
       "<path fill=\"none\" stroke=\"green\" stroke-width=\"2\" d=\"M59.0373,-96.6208C68.8579,-95.3189 78,-97.4453 78,-103 78,-106.472 74.4289,-108.604 69.3529,-109.398\"/>\r\n",
       "<polygon fill=\"green\" stroke=\"green\" stroke-width=\"2\" points=\"69.0435,-105.897 59.0373,-109.379 69.031,-112.897 69.0435,-105.897\"/>\r\n",
       "</g>\r\n",
       "</g>\r\n",
       "</svg>\r\n"
      ],
      "text/plain": [
       "<graphviz.dot.Digraph at 0x22ae07ccdc0>"
      ]
     },
     "metadata": {},
     "output_type": "display_data"
    }
   ],
   "source": [
    "expression = expression16\n",
    "\n",
    "domain = {'a','b','c'}\n",
    "\n",
    "relation1 = HomogeneousRelation({('a','a'),('b','b'),('c','c')}, domain, True)\n",
    "relation2 = HomogeneousRelation({('a','a'),('b','b'),('c','c')}, domain, True)\n",
    "\n",
    "variables = {'R':relation1, 'S':relation2}\n",
    "\n",
    "interpreter = Interpreter(variables, domain, True)\n",
    "\n",
    "#--------------------------------------------------------------------------------------------------------------\n",
    "\n",
    "generator = interpreter.analyze_all(expression, 2)\n",
    "display(expression)\n",
    "for p in generator: display(p);"
   ]
  },
  {
   "cell_type": "code",
   "execution_count": 29,
   "id": "21509f34",
   "metadata": {},
   "outputs": [
    {
     "data": {
      "text/plain": [
       "'(R is symmetric and S is symmetric) -> R ° S is symmetric'"
      ]
     },
     "metadata": {},
     "output_type": "display_data"
    },
    {
     "data": {
      "text/plain": [
       "'Good counterexample!'"
      ]
     },
     "metadata": {},
     "output_type": "display_data"
    }
   ],
   "source": [
    "expression = expression17\n",
    "\n",
    "domain = {'a','b','c'}\n",
    "\n",
    "relation1 = HomogeneousRelation({('a','b'),('b','a')}, domain, True)\n",
    "relation2 = HomogeneousRelation({('a','a')}, domain, True)\n",
    "\n",
    "variables = {'R':relation1, 'S':relation2}\n",
    "\n",
    "interpreter = Interpreter(variables, domain, True)\n",
    "\n",
    "#--------------------------------------------------------------------------------------------------------------\n",
    "\n",
    "generator = interpreter.analyze_all(expression, 2)\n",
    "display(expression)\n",
    "for p in generator: display(p);"
   ]
  },
  {
   "cell_type": "code",
   "execution_count": 30,
   "id": "09afa01d",
   "metadata": {},
   "outputs": [
    {
     "data": {
      "text/plain": [
       "'(R is asymmetric and S is asymmetric) -> R ° S is asymmetric'"
      ]
     },
     "metadata": {},
     "output_type": "display_data"
    },
    {
     "data": {
      "text/plain": [
       "'Good counterexample!'"
      ]
     },
     "metadata": {},
     "output_type": "display_data"
    }
   ],
   "source": [
    "expression = expression18\n",
    "\n",
    "domain = {'a','b','c'}\n",
    "\n",
    "relation1 = HomogeneousRelation({('a','b')}, domain, True)\n",
    "relation2 = HomogeneousRelation({('b','a')}, domain, True)\n",
    "\n",
    "variables = {'R':relation1, 'S':relation2}\n",
    "\n",
    "interpreter = Interpreter(variables, domain, True)\n",
    "\n",
    "#--------------------------------------------------------------------------------------------------------------\n",
    "\n",
    "generator = interpreter.analyze_all(expression, 2)\n",
    "display(expression)\n",
    "for p in generator: display(p);"
   ]
  },
  {
   "cell_type": "code",
   "execution_count": 31,
   "id": "3872018c",
   "metadata": {},
   "outputs": [
    {
     "data": {
      "text/plain": [
       "'(R is antisymmetric and S is antisymmetric) -> R ° S is antisymmetric'"
      ]
     },
     "metadata": {},
     "output_type": "display_data"
    },
    {
     "data": {
      "text/plain": [
       "'Good counterexample!'"
      ]
     },
     "metadata": {},
     "output_type": "display_data"
    }
   ],
   "source": [
    "expression = expression19\n",
    "\n",
    "domain = {'a','b','c'}\n",
    "\n",
    "relation1 = HomogeneousRelation({('a','b'),('c','c')}, domain, True)\n",
    "relation2 = HomogeneousRelation({('b','c'),('c','a')}, domain, True)\n",
    "\n",
    "variables = {'R':relation1, 'S':relation2}\n",
    "\n",
    "interpreter = Interpreter(variables, domain, True)\n",
    "\n",
    "#--------------------------------------------------------------------------------------------------------------\n",
    "\n",
    "generator = interpreter.analyze_all(expression, 2)\n",
    "display(expression)\n",
    "for p in generator: display(p);"
   ]
  },
  {
   "cell_type": "code",
   "execution_count": 32,
   "id": "e443c26b",
   "metadata": {},
   "outputs": [
    {
     "data": {
      "text/plain": [
       "'(R is transitive and S is transitive) -> R ° S is transitive'"
      ]
     },
     "metadata": {},
     "output_type": "display_data"
    },
    {
     "data": {
      "text/plain": [
       "'Good counterexample!'"
      ]
     },
     "metadata": {},
     "output_type": "display_data"
    }
   ],
   "source": [
    "expression = expression20\n",
    "\n",
    "domain = {'a','b','c'}\n",
    "\n",
    "relation1 = HomogeneousRelation({('a','b'),('c','c')}, domain, True)\n",
    "relation2 = HomogeneousRelation({('b','c'),('c','a'),('b','a')}, domain, True)\n",
    "\n",
    "variables = {'R':relation1, 'S':relation2}\n",
    "\n",
    "interpreter = Interpreter(variables, domain, True)\n",
    "\n",
    "#--------------------------------------------------------------------------------------------------------------\n",
    "\n",
    "generator = interpreter.analyze_all(expression, 2)\n",
    "display(expression)\n",
    "for p in generator: display(p);"
   ]
  },
  {
   "cell_type": "code",
   "execution_count": 33,
   "id": "f9c7fa88",
   "metadata": {
    "scrolled": false
   },
   "outputs": [
    {
     "data": {
      "text/plain": [
       "'(R is reflexive or S is reflexive) -> R | S is reflexive'"
      ]
     },
     "metadata": {},
     "output_type": "display_data"
    },
    {
     "data": {
      "text/plain": [
       "'<<<ERROR - CONCLUSION>>> (R | S) is reflexive'"
      ]
     },
     "metadata": {},
     "output_type": "display_data"
    },
    {
     "data": {
      "image/svg+xml": [
       "<?xml version=\"1.0\" encoding=\"UTF-8\" standalone=\"no\"?>\r\n",
       "<!DOCTYPE svg PUBLIC \"-//W3C//DTD SVG 1.1//EN\"\r\n",
       " \"http://www.w3.org/Graphics/SVG/1.1/DTD/svg11.dtd\">\r\n",
       "<!-- Generated by graphviz version 2.38.0 (20140413.2041)\r\n",
       " -->\r\n",
       "<!-- Title: %3 Pages: 1 -->\r\n",
       "<svg width=\"223pt\" height=\"297pt\"\r\n",
       " viewBox=\"0.00 0.00 223.00 297.00\" xmlns=\"http://www.w3.org/2000/svg\" xmlns:xlink=\"http://www.w3.org/1999/xlink\">\r\n",
       "<g id=\"graph0\" class=\"graph\" transform=\"scale(1 1) rotate(0) translate(4 293)\">\r\n",
       "<title>%3</title>\r\n",
       "<polygon fill=\"white\" stroke=\"none\" points=\"-4,4 -4,-293 219,-293 219,4 -4,4\"/>\r\n",
       "<text text-anchor=\"middle\" x=\"107.5\" y=\"-22.8\" font-family=\"Times New Roman,serif\" font-size=\"14.00\">&lt;&lt;EXPLAIN &#45; CONCLUSION&gt;&gt; </text>\r\n",
       "<text text-anchor=\"middle\" x=\"107.5\" y=\"-7.8\" font-family=\"Times New Roman,serif\" font-size=\"14.00\">Relation (R|S) is reflexive!</text>\r\n",
       "<g id=\"clust1\" class=\"cluster\"><title>cluster_</title>\r\n",
       "<polygon fill=\"none\" stroke=\"white\" points=\"54.5,-46 54.5,-281 160.5,-281 160.5,-46 54.5,-46\"/>\r\n",
       "</g>\r\n",
       "<g id=\"clust2\" class=\"cluster\"><title>cluster_(R|S)</title>\r\n",
       "<polygon fill=\"none\" stroke=\"black\" points=\"62.5,-54 62.5,-273 152.5,-273 152.5,-54 62.5,-54\"/>\r\n",
       "<text text-anchor=\"middle\" x=\"107.5\" y=\"-61.8\" font-family=\"Times New Roman,serif\" font-size=\"14.00\">(R|S)</text>\r\n",
       "</g>\r\n",
       "<!-- a  -->\r\n",
       "<g id=\"node1\" class=\"node\"><title>a </title>\r\n",
       "<ellipse fill=\"green\" stroke=\"black\" cx=\"98.5\" cy=\"-247\" rx=\"18\" ry=\"18\"/>\r\n",
       "<text text-anchor=\"middle\" x=\"98.5\" y=\"-243.3\" font-family=\"Times New Roman,serif\" font-size=\"14.00\">a</text>\r\n",
       "</g>\r\n",
       "<!-- a &#45;&gt;a  -->\r\n",
       "<g id=\"edge1\" class=\"edge\"><title>a &#45;&gt;a </title>\r\n",
       "<path fill=\"none\" stroke=\"green\" stroke-width=\"2\" d=\"M112.542,-235.244C123.413,-230.847 134.5,-234.766 134.5,-247 134.5,-255.411 129.259,-259.892 122.452,-260.442\"/>\r\n",
       "<polygon fill=\"green\" stroke=\"green\" stroke-width=\"2\" points=\"122.987,-256.983 112.542,-258.756 121.813,-263.884 122.987,-256.983\"/>\r\n",
       "</g>\r\n",
       "<!-- b  -->\r\n",
       "<g id=\"node2\" class=\"node\"><title>b </title>\r\n",
       "<ellipse fill=\"green\" stroke=\"black\" cx=\"98.5\" cy=\"-103\" rx=\"18\" ry=\"18\"/>\r\n",
       "<text text-anchor=\"middle\" x=\"98.5\" y=\"-99.3\" font-family=\"Times New Roman,serif\" font-size=\"14.00\">b</text>\r\n",
       "</g>\r\n",
       "<!-- b &#45;&gt;a  -->\r\n",
       "<g id=\"edge2\" class=\"edge\"><title>b &#45;&gt;a </title>\r\n",
       "<path fill=\"none\" stroke=\"black\" stroke-width=\"2\" d=\"M91.9609,-119.922C88.0654,-130.285 83.5015,-144.207 81.5,-157 79.0269,-172.808 79.0269,-177.192 81.5,-193 82.9386,-202.195 85.7009,-211.973 88.5874,-220.594\"/>\r\n",
       "<polygon fill=\"black\" stroke=\"black\" stroke-width=\"2\" points=\"85.312,-221.829 91.9609,-230.078 91.9072,-219.484 85.312,-221.829\"/>\r\n",
       "</g>\r\n",
       "<!-- b &#45;&gt;b  -->\r\n",
       "<g id=\"edge3\" class=\"edge\"><title>b &#45;&gt;b </title>\r\n",
       "<path fill=\"none\" stroke=\"green\" stroke-width=\"2\" d=\"M112.542,-91.2435C123.413,-86.8468 134.5,-90.7656 134.5,-103 134.5,-111.411 129.259,-115.892 122.452,-116.442\"/>\r\n",
       "<polygon fill=\"green\" stroke=\"green\" stroke-width=\"2\" points=\"122.987,-112.983 112.542,-114.756 121.813,-119.884 122.987,-112.983\"/>\r\n",
       "</g>\r\n",
       "<!-- c  -->\r\n",
       "<g id=\"node3\" class=\"node\"><title>c </title>\r\n",
       "<ellipse fill=\"green\" stroke=\"black\" cx=\"108.5\" cy=\"-175\" rx=\"18\" ry=\"18\"/>\r\n",
       "<text text-anchor=\"middle\" x=\"108.5\" y=\"-171.3\" font-family=\"Times New Roman,serif\" font-size=\"14.00\">c</text>\r\n",
       "</g>\r\n",
       "<!-- b &#45;&gt;c  -->\r\n",
       "<g id=\"edge4\" class=\"edge\"><title>b &#45;&gt;c </title>\r\n",
       "<path fill=\"none\" stroke=\"black\" stroke-width=\"2\" d=\"M100.921,-120.945C102.022,-128.654 103.353,-137.973 104.591,-146.636\"/>\r\n",
       "<polygon fill=\"black\" stroke=\"black\" stroke-width=\"2\" points=\"101.153,-147.32 106.032,-156.725 108.083,-146.33 101.153,-147.32\"/>\r\n",
       "</g>\r\n",
       "<!-- c &#45;&gt;a  -->\r\n",
       "<g id=\"edge5\" class=\"edge\"><title>c &#45;&gt;a </title>\r\n",
       "<path fill=\"none\" stroke=\"black\" stroke-width=\"2\" d=\"M106.079,-192.945C104.978,-200.654 103.647,-209.973 102.409,-218.636\"/>\r\n",
       "<polygon fill=\"black\" stroke=\"black\" stroke-width=\"2\" points=\"98.9174,-218.33 100.968,-228.725 105.847,-219.32 98.9174,-218.33\"/>\r\n",
       "</g>\r\n",
       "<!-- c &#45;&gt;c  -->\r\n",
       "<g id=\"edge6\" class=\"edge\"><title>c &#45;&gt;c </title>\r\n",
       "<path fill=\"none\" stroke=\"green\" stroke-width=\"2\" d=\"M122.542,-163.244C133.413,-158.847 144.5,-162.766 144.5,-175 144.5,-183.411 139.259,-187.892 132.452,-188.442\"/>\r\n",
       "<polygon fill=\"green\" stroke=\"green\" stroke-width=\"2\" points=\"132.987,-184.983 122.542,-186.756 131.813,-191.884 132.987,-184.983\"/>\r\n",
       "</g>\r\n",
       "</g>\r\n",
       "</svg>\r\n"
      ],
      "text/plain": [
       "<graphviz.dot.Digraph at 0x22ae0a40790>"
      ]
     },
     "metadata": {},
     "output_type": "display_data"
    }
   ],
   "source": [
    "expression = expression21\n",
    "\n",
    "domain = {'a','b','c'}\n",
    "\n",
    "relation1 = HomogeneousRelation({('a','a'),('b','b'),('c','c')}, domain, True)\n",
    "relation2 = HomogeneousRelation({('b','c'),('c','a'),('b','a')}, domain, True)\n",
    "\n",
    "variables = {'R':relation1, 'S':relation2}\n",
    "\n",
    "interpreter = Interpreter(variables, domain, True)\n",
    "\n",
    "#--------------------------------------------------------------------------------------------------------------\n",
    "\n",
    "generator = interpreter.analyze_all(expression, 2)\n",
    "display(expression)\n",
    "for p in generator: display(p);"
   ]
  },
  {
   "cell_type": "code",
   "execution_count": 34,
   "id": "73e51280",
   "metadata": {},
   "outputs": [
    {
     "data": {
      "text/plain": [
       "'(R is symmetric or S is symmetric) -> R | S is symmetric'"
      ]
     },
     "metadata": {},
     "output_type": "display_data"
    },
    {
     "data": {
      "text/plain": [
       "'Good counterexample!'"
      ]
     },
     "metadata": {},
     "output_type": "display_data"
    }
   ],
   "source": [
    "expression = expression22\n",
    "\n",
    "domain = {'a','b','c'}\n",
    "\n",
    "relation1 = HomogeneousRelation({('a','a'),('b','b'),('c','c')}, domain, True)\n",
    "relation2 = HomogeneousRelation({('b','c'),('c','a'),('b','a')}, domain, True)\n",
    "\n",
    "variables = {'R':relation1, 'S':relation2}\n",
    "\n",
    "interpreter = Interpreter(variables, domain, True)\n",
    "\n",
    "#--------------------------------------------------------------------------------------------------------------\n",
    "\n",
    "generator = interpreter.analyze_all(expression, 2)\n",
    "display(expression)\n",
    "for p in generator: display(p);"
   ]
  },
  {
   "cell_type": "code",
   "execution_count": 35,
   "id": "e984549a",
   "metadata": {},
   "outputs": [
    {
     "data": {
      "text/plain": [
       "'(R is asymmetric or S is asymmetric) -> R | S is asymmetric'"
      ]
     },
     "metadata": {},
     "output_type": "display_data"
    },
    {
     "data": {
      "text/plain": [
       "'Good counterexample!'"
      ]
     },
     "metadata": {},
     "output_type": "display_data"
    }
   ],
   "source": [
    "expression = expression23\n",
    "\n",
    "domain = {'a','b','c'}\n",
    "\n",
    "relation1 = HomogeneousRelation({('a','a'),('b','b'),('c','c')}, domain, True)\n",
    "relation2 = HomogeneousRelation({('b','c'),('c','a'),('b','a')}, domain, True)\n",
    "\n",
    "variables = {'R':relation1, 'S':relation2}\n",
    "\n",
    "interpreter = Interpreter(variables, domain, True)\n",
    "\n",
    "#--------------------------------------------------------------------------------------------------------------\n",
    "\n",
    "generator = interpreter.analyze_all(expression, 2)\n",
    "display(expression)\n",
    "for p in generator: display(p);"
   ]
  },
  {
   "cell_type": "code",
   "execution_count": 36,
   "id": "dab9cd33",
   "metadata": {},
   "outputs": [
    {
     "data": {
      "text/plain": [
       "'(R is antisymmetric or S is antisymmetric) -> R | S is antisymmetric'"
      ]
     },
     "metadata": {},
     "output_type": "display_data"
    },
    {
     "data": {
      "text/plain": [
       "'Good counterexample!'"
      ]
     },
     "metadata": {},
     "output_type": "display_data"
    }
   ],
   "source": [
    "expression = expression24\n",
    "\n",
    "domain = {'a','b','c'}\n",
    "\n",
    "relation1 = HomogeneousRelation({('c','b')}, domain, True)\n",
    "relation2 = HomogeneousRelation({('b','c'),('c','a'),('b','a')}, domain, True)\n",
    "\n",
    "variables = {'R':relation1, 'S':relation2}\n",
    "\n",
    "interpreter = Interpreter(variables, domain, True)\n",
    "\n",
    "#--------------------------------------------------------------------------------------------------------------\n",
    "\n",
    "generator = interpreter.analyze_all(expression, 2)\n",
    "display(expression)\n",
    "for p in generator: display(p);"
   ]
  },
  {
   "cell_type": "code",
   "execution_count": 37,
   "id": "f7eb3481",
   "metadata": {},
   "outputs": [
    {
     "data": {
      "text/plain": [
       "'(R is transitive or S is transitive) -> R | S is transitive'"
      ]
     },
     "metadata": {},
     "output_type": "display_data"
    },
    {
     "data": {
      "text/plain": [
       "'Good counterexample!'"
      ]
     },
     "metadata": {},
     "output_type": "display_data"
    }
   ],
   "source": [
    "expression = expression25\n",
    "\n",
    "domain = {'a','b','c'}\n",
    "\n",
    "relation1 = HomogeneousRelation({('c','b')}, domain, True)\n",
    "relation2 = HomogeneousRelation({('b','c'),('c','a'),('b','a')}, domain, True)\n",
    "\n",
    "variables = {'R':relation1, 'S':relation2}\n",
    "\n",
    "interpreter = Interpreter(variables, domain, True)\n",
    "\n",
    "#--------------------------------------------------------------------------------------------------------------\n",
    "\n",
    "generator = interpreter.analyze_all(expression, 2)\n",
    "display(expression)\n",
    "for p in generator: display(p);"
   ]
  },
  {
   "cell_type": "code",
   "execution_count": 38,
   "id": "d2b65684",
   "metadata": {
    "scrolled": false
   },
   "outputs": [
    {
     "data": {
      "text/plain": [
       "'(R is reflexive or S is reflexive) -> R & S is reflexive'"
      ]
     },
     "metadata": {},
     "output_type": "display_data"
    },
    {
     "data": {
      "text/plain": [
       "'Good counterexample!'"
      ]
     },
     "metadata": {},
     "output_type": "display_data"
    }
   ],
   "source": [
    "expression = expression26\n",
    "\n",
    "domain = {'a','b','c'}\n",
    "\n",
    "relation1 = HomogeneousRelation({('c','c')}, domain, True)\n",
    "relation2 = HomogeneousRelation({('c','c'),('a','a'),('b','b')}, domain, True)\n",
    "\n",
    "variables = {'R':relation1, 'S':relation2}\n",
    "\n",
    "interpreter = Interpreter(variables, domain, True)\n",
    "\n",
    "#--------------------------------------------------------------------------------------------------------------\n",
    "\n",
    "generator = interpreter.analyze_all(expression, 2)\n",
    "display(expression)\n",
    "for p in generator: display(p);"
   ]
  },
  {
   "cell_type": "code",
   "execution_count": 39,
   "id": "95b0e235",
   "metadata": {},
   "outputs": [
    {
     "data": {
      "text/plain": [
       "'(R is symmetric or S is symmetric) -> R & S is symmetric'"
      ]
     },
     "metadata": {},
     "output_type": "display_data"
    },
    {
     "data": {
      "text/plain": [
       "'<<<ERROR - CONCLUSION>>> (R & S) is symmetric'"
      ]
     },
     "metadata": {},
     "output_type": "display_data"
    },
    {
     "data": {
      "image/svg+xml": [
       "<?xml version=\"1.0\" encoding=\"UTF-8\" standalone=\"no\"?>\r\n",
       "<!DOCTYPE svg PUBLIC \"-//W3C//DTD SVG 1.1//EN\"\r\n",
       " \"http://www.w3.org/Graphics/SVG/1.1/DTD/svg11.dtd\">\r\n",
       "<!-- Generated by graphviz version 2.38.0 (20140413.2041)\r\n",
       " -->\r\n",
       "<!-- Title: %3 Pages: 1 -->\r\n",
       "<svg width=\"223pt\" height=\"153pt\"\r\n",
       " viewBox=\"0.00 0.00 223.00 153.00\" xmlns=\"http://www.w3.org/2000/svg\" xmlns:xlink=\"http://www.w3.org/1999/xlink\">\r\n",
       "<g id=\"graph0\" class=\"graph\" transform=\"scale(1 1) rotate(0) translate(4 149)\">\r\n",
       "<title>%3</title>\r\n",
       "<polygon fill=\"white\" stroke=\"none\" points=\"-4,4 -4,-149 219,-149 219,4 -4,4\"/>\r\n",
       "<text text-anchor=\"middle\" x=\"107.5\" y=\"-22.8\" font-family=\"Times New Roman,serif\" font-size=\"14.00\">&lt;&lt;EXPLAIN &#45; CONCLUSION&gt;&gt; </text>\r\n",
       "<text text-anchor=\"middle\" x=\"107.5\" y=\"-7.8\" font-family=\"Times New Roman,serif\" font-size=\"14.00\">Relation (R&amp;S) is symmetric!</text>\r\n",
       "<g id=\"clust1\" class=\"cluster\"><title>cluster_</title>\r\n",
       "<polygon fill=\"none\" stroke=\"white\" points=\"10.5,-46 10.5,-137 204.5,-137 204.5,-46 10.5,-46\"/>\r\n",
       "</g>\r\n",
       "<g id=\"clust2\" class=\"cluster\"><title>cluster_(R&amp;S)</title>\r\n",
       "<polygon fill=\"none\" stroke=\"black\" points=\"18.5,-54 18.5,-129 196.5,-129 196.5,-54 18.5,-54\"/>\r\n",
       "<text text-anchor=\"middle\" x=\"107.5\" y=\"-61.8\" font-family=\"Times New Roman,serif\" font-size=\"14.00\">(R&amp;S)</text>\r\n",
       "</g>\r\n",
       "<!-- a  -->\r\n",
       "<g id=\"node1\" class=\"node\"><title>a </title>\r\n",
       "<ellipse fill=\"none\" stroke=\"black\" cx=\"170.5\" cy=\"-103\" rx=\"18\" ry=\"18\"/>\r\n",
       "<text text-anchor=\"middle\" x=\"170.5\" y=\"-99.3\" font-family=\"Times New Roman,serif\" font-size=\"14.00\">a</text>\r\n",
       "</g>\r\n",
       "<!-- b  -->\r\n",
       "<g id=\"node2\" class=\"node\"><title>b </title>\r\n",
       "<ellipse fill=\"none\" stroke=\"black\" cx=\"116.5\" cy=\"-103\" rx=\"18\" ry=\"18\"/>\r\n",
       "<text text-anchor=\"middle\" x=\"116.5\" y=\"-99.3\" font-family=\"Times New Roman,serif\" font-size=\"14.00\">b</text>\r\n",
       "</g>\r\n",
       "<!-- c  -->\r\n",
       "<g id=\"node3\" class=\"node\"><title>c </title>\r\n",
       "<ellipse fill=\"none\" stroke=\"black\" cx=\"44.5\" cy=\"-103\" rx=\"18\" ry=\"18\"/>\r\n",
       "<text text-anchor=\"middle\" x=\"44.5\" y=\"-99.3\" font-family=\"Times New Roman,serif\" font-size=\"14.00\">c</text>\r\n",
       "</g>\r\n",
       "<!-- c &#45;&gt;c  -->\r\n",
       "<g id=\"edge1\" class=\"edge\"><title>c &#45;&gt;c </title>\r\n",
       "<path fill=\"none\" stroke=\"black\" stroke-width=\"2\" d=\"M61.5373,-96.6208C71.3579,-95.3189 80.5,-97.4453 80.5,-103 80.5,-106.472 76.9289,-108.604 71.8529,-109.398\"/>\r\n",
       "<polygon fill=\"black\" stroke=\"black\" stroke-width=\"2\" points=\"71.5435,-105.897 61.5373,-109.379 71.531,-112.897 71.5435,-105.897\"/>\r\n",
       "</g>\r\n",
       "</g>\r\n",
       "</svg>\r\n"
      ],
      "text/plain": [
       "<graphviz.dot.Digraph at 0x22ade368160>"
      ]
     },
     "metadata": {},
     "output_type": "display_data"
    }
   ],
   "source": [
    "expression = expression27\n",
    "\n",
    "domain = {'a','b','c'}\n",
    "\n",
    "relation1 = HomogeneousRelation({('c','c')}, domain, True)\n",
    "relation2 = HomogeneousRelation({('c','c'),('a','a'),('b','b')}, domain, True)\n",
    "\n",
    "variables = {'R':relation1, 'S':relation2}\n",
    "\n",
    "interpreter = Interpreter(variables, domain, True)\n",
    "\n",
    "#--------------------------------------------------------------------------------------------------------------\n",
    "\n",
    "generator = interpreter.analyze_all(expression, 2)\n",
    "display(expression)\n",
    "for p in generator: display(p);"
   ]
  },
  {
   "cell_type": "code",
   "execution_count": 40,
   "id": "0d1b9455",
   "metadata": {},
   "outputs": [
    {
     "data": {
      "text/plain": [
       "'(R is asymmetric or S is asymmetric) -> R & S is asymmetric'"
      ]
     },
     "metadata": {},
     "output_type": "display_data"
    },
    {
     "data": {
      "text/plain": [
       "'<<<ERROR - CONCLUSION>>> (R & S) is asymmetric'"
      ]
     },
     "metadata": {},
     "output_type": "display_data"
    },
    {
     "data": {
      "image/svg+xml": [
       "<?xml version=\"1.0\" encoding=\"UTF-8\" standalone=\"no\"?>\r\n",
       "<!DOCTYPE svg PUBLIC \"-//W3C//DTD SVG 1.1//EN\"\r\n",
       " \"http://www.w3.org/Graphics/SVG/1.1/DTD/svg11.dtd\">\r\n",
       "<!-- Generated by graphviz version 2.38.0 (20140413.2041)\r\n",
       " -->\r\n",
       "<!-- Title: %3 Pages: 1 -->\r\n",
       "<svg width=\"223pt\" height=\"225pt\"\r\n",
       " viewBox=\"0.00 0.00 223.00 225.00\" xmlns=\"http://www.w3.org/2000/svg\" xmlns:xlink=\"http://www.w3.org/1999/xlink\">\r\n",
       "<g id=\"graph0\" class=\"graph\" transform=\"scale(1 1) rotate(0) translate(4 221)\">\r\n",
       "<title>%3</title>\r\n",
       "<polygon fill=\"white\" stroke=\"none\" points=\"-4,4 -4,-221 219,-221 219,4 -4,4\"/>\r\n",
       "<text text-anchor=\"middle\" x=\"107.5\" y=\"-22.8\" font-family=\"Times New Roman,serif\" font-size=\"14.00\">&lt;&lt;EXPLAIN &#45; CONCLUSION&gt;&gt; </text>\r\n",
       "<text text-anchor=\"middle\" x=\"107.5\" y=\"-7.8\" font-family=\"Times New Roman,serif\" font-size=\"14.00\">Relation (R&amp;S) is asymmetric!</text>\r\n",
       "<g id=\"clust1\" class=\"cluster\"><title>cluster_</title>\r\n",
       "<polygon fill=\"none\" stroke=\"white\" points=\"46.5,-46 46.5,-209 168.5,-209 168.5,-46 46.5,-46\"/>\r\n",
       "</g>\r\n",
       "<g id=\"clust2\" class=\"cluster\"><title>cluster_(R&amp;S)</title>\r\n",
       "<polygon fill=\"none\" stroke=\"black\" points=\"54.5,-54 54.5,-201 160.5,-201 160.5,-54 54.5,-54\"/>\r\n",
       "<text text-anchor=\"middle\" x=\"107.5\" y=\"-61.8\" font-family=\"Times New Roman,serif\" font-size=\"14.00\">(R&amp;S)</text>\r\n",
       "</g>\r\n",
       "<!-- a  -->\r\n",
       "<g id=\"node1\" class=\"node\"><title>a </title>\r\n",
       "<ellipse fill=\"green\" stroke=\"black\" cx=\"134.5\" cy=\"-103\" rx=\"18\" ry=\"18\"/>\r\n",
       "<text text-anchor=\"middle\" x=\"134.5\" y=\"-99.3\" font-family=\"Times New Roman,serif\" font-size=\"14.00\">a</text>\r\n",
       "</g>\r\n",
       "<!-- c  -->\r\n",
       "<g id=\"node3\" class=\"node\"><title>c </title>\r\n",
       "<ellipse fill=\"green\" stroke=\"black\" cx=\"134.5\" cy=\"-175\" rx=\"18\" ry=\"18\"/>\r\n",
       "<text text-anchor=\"middle\" x=\"134.5\" y=\"-171.3\" font-family=\"Times New Roman,serif\" font-size=\"14.00\">c</text>\r\n",
       "</g>\r\n",
       "<!-- a &#45;&gt;c  -->\r\n",
       "<g id=\"edge1\" class=\"edge\"><title>a &#45;&gt;c </title>\r\n",
       "<path fill=\"none\" stroke=\"green\" stroke-width=\"2\" d=\"M134.5,-121.303C134.5,-129.017 134.5,-138.288 134.5,-146.888\"/>\r\n",
       "<polygon fill=\"green\" stroke=\"green\" stroke-width=\"2\" points=\"131,-146.896 134.5,-156.896 138,-146.896 131,-146.896\"/>\r\n",
       "</g>\r\n",
       "<!-- b  -->\r\n",
       "<g id=\"node2\" class=\"node\"><title>b </title>\r\n",
       "<ellipse fill=\"none\" stroke=\"black\" cx=\"80.5\" cy=\"-103\" rx=\"18\" ry=\"18\"/>\r\n",
       "<text text-anchor=\"middle\" x=\"80.5\" y=\"-99.3\" font-family=\"Times New Roman,serif\" font-size=\"14.00\">b</text>\r\n",
       "</g>\r\n",
       "</g>\r\n",
       "</svg>\r\n"
      ],
      "text/plain": [
       "<graphviz.dot.Digraph at 0x22ade2e4340>"
      ]
     },
     "metadata": {},
     "output_type": "display_data"
    }
   ],
   "source": [
    "expression = expression28\n",
    "\n",
    "domain = {'a','b','c'}\n",
    "\n",
    "relation1 = HomogeneousRelation({('a','c')}, domain, True)\n",
    "relation2 = HomogeneousRelation({('a','c'),('a','b'),('b','c')}, domain, True)\n",
    "\n",
    "variables = {'R':relation1, 'S':relation2}\n",
    "\n",
    "interpreter = Interpreter(variables, domain, True)\n",
    "\n",
    "#--------------------------------------------------------------------------------------------------------------\n",
    "\n",
    "generator = interpreter.analyze_all(expression, 2)\n",
    "display(expression)\n",
    "for p in generator: display(p);"
   ]
  },
  {
   "cell_type": "code",
   "execution_count": 41,
   "id": "aa41db99",
   "metadata": {},
   "outputs": [
    {
     "data": {
      "text/plain": [
       "'(R is antisymmetric or S is antisymmetric) -> R & S is antisymmetric'"
      ]
     },
     "metadata": {},
     "output_type": "display_data"
    },
    {
     "data": {
      "text/plain": [
       "'<<<ERROR - CONCLUSION>>> (R & S) is antisymmetric'"
      ]
     },
     "metadata": {},
     "output_type": "display_data"
    },
    {
     "data": {
      "image/svg+xml": [
       "<?xml version=\"1.0\" encoding=\"UTF-8\" standalone=\"no\"?>\r\n",
       "<!DOCTYPE svg PUBLIC \"-//W3C//DTD SVG 1.1//EN\"\r\n",
       " \"http://www.w3.org/Graphics/SVG/1.1/DTD/svg11.dtd\">\r\n",
       "<!-- Generated by graphviz version 2.38.0 (20140413.2041)\r\n",
       " -->\r\n",
       "<!-- Title: %3 Pages: 1 -->\r\n",
       "<svg width=\"223pt\" height=\"153pt\"\r\n",
       " viewBox=\"0.00 0.00 223.00 153.00\" xmlns=\"http://www.w3.org/2000/svg\" xmlns:xlink=\"http://www.w3.org/1999/xlink\">\r\n",
       "<g id=\"graph0\" class=\"graph\" transform=\"scale(1 1) rotate(0) translate(4 149)\">\r\n",
       "<title>%3</title>\r\n",
       "<polygon fill=\"white\" stroke=\"none\" points=\"-4,4 -4,-149 219,-149 219,4 -4,4\"/>\r\n",
       "<text text-anchor=\"middle\" x=\"107.5\" y=\"-22.8\" font-family=\"Times New Roman,serif\" font-size=\"14.00\">&lt;&lt;EXPLAIN &#45; CONCLUSION&gt;&gt; </text>\r\n",
       "<text text-anchor=\"middle\" x=\"107.5\" y=\"-7.8\" font-family=\"Times New Roman,serif\" font-size=\"14.00\">Relation (R&amp;S) is antisymmetric!</text>\r\n",
       "<g id=\"clust1\" class=\"cluster\"><title>cluster_</title>\r\n",
       "<polygon fill=\"none\" stroke=\"white\" points=\"10.5,-46 10.5,-137 204.5,-137 204.5,-46 10.5,-46\"/>\r\n",
       "</g>\r\n",
       "<g id=\"clust2\" class=\"cluster\"><title>cluster_(R&amp;S)</title>\r\n",
       "<polygon fill=\"none\" stroke=\"black\" points=\"18.5,-54 18.5,-129 196.5,-129 196.5,-54 18.5,-54\"/>\r\n",
       "<text text-anchor=\"middle\" x=\"107.5\" y=\"-61.8\" font-family=\"Times New Roman,serif\" font-size=\"14.00\">(R&amp;S)</text>\r\n",
       "</g>\r\n",
       "<!-- a  -->\r\n",
       "<g id=\"node1\" class=\"node\"><title>a </title>\r\n",
       "<ellipse fill=\"none\" stroke=\"black\" cx=\"170.5\" cy=\"-103\" rx=\"18\" ry=\"18\"/>\r\n",
       "<text text-anchor=\"middle\" x=\"170.5\" y=\"-99.3\" font-family=\"Times New Roman,serif\" font-size=\"14.00\">a</text>\r\n",
       "</g>\r\n",
       "<!-- b  -->\r\n",
       "<g id=\"node2\" class=\"node\"><title>b </title>\r\n",
       "<ellipse fill=\"none\" stroke=\"black\" cx=\"116.5\" cy=\"-103\" rx=\"18\" ry=\"18\"/>\r\n",
       "<text text-anchor=\"middle\" x=\"116.5\" y=\"-99.3\" font-family=\"Times New Roman,serif\" font-size=\"14.00\">b</text>\r\n",
       "</g>\r\n",
       "<!-- c  -->\r\n",
       "<g id=\"node3\" class=\"node\"><title>c </title>\r\n",
       "<ellipse fill=\"green\" stroke=\"black\" cx=\"44.5\" cy=\"-103\" rx=\"18\" ry=\"18\"/>\r\n",
       "<text text-anchor=\"middle\" x=\"44.5\" y=\"-99.3\" font-family=\"Times New Roman,serif\" font-size=\"14.00\">c</text>\r\n",
       "</g>\r\n",
       "<!-- c &#45;&gt;c  -->\r\n",
       "<g id=\"edge1\" class=\"edge\"><title>c &#45;&gt;c </title>\r\n",
       "<path fill=\"none\" stroke=\"green\" stroke-width=\"2\" d=\"M61.5373,-96.6208C71.3579,-95.3189 80.5,-97.4453 80.5,-103 80.5,-106.472 76.9289,-108.604 71.8529,-109.398\"/>\r\n",
       "<polygon fill=\"green\" stroke=\"green\" stroke-width=\"2\" points=\"71.5435,-105.897 61.5373,-109.379 71.531,-112.897 71.5435,-105.897\"/>\r\n",
       "</g>\r\n",
       "</g>\r\n",
       "</svg>\r\n"
      ],
      "text/plain": [
       "<graphviz.dot.Digraph at 0x22ae0b39ac0>"
      ]
     },
     "metadata": {},
     "output_type": "display_data"
    }
   ],
   "source": [
    "expression = expression29\n",
    "\n",
    "domain = {'a','b','c'}\n",
    "\n",
    "relation1 = HomogeneousRelation({('c','c')}, domain, True)\n",
    "relation2 = HomogeneousRelation({('c','c'),('a','a'),('b','b')}, domain, True)\n",
    "\n",
    "variables = {'R':relation1, 'S':relation2}\n",
    "\n",
    "interpreter = Interpreter(variables, domain, True)\n",
    "\n",
    "#--------------------------------------------------------------------------------------------------------------\n",
    "\n",
    "generator = interpreter.analyze_all(expression, 2)\n",
    "display(expression)\n",
    "for p in generator: display(p);"
   ]
  },
  {
   "cell_type": "code",
   "execution_count": 42,
   "id": "87257452",
   "metadata": {},
   "outputs": [
    {
     "data": {
      "text/plain": [
       "'(R is transitive or S is transitive) -> R & S is transitive'"
      ]
     },
     "metadata": {},
     "output_type": "display_data"
    },
    {
     "data": {
      "text/plain": [
       "'Good counterexample!'"
      ]
     },
     "metadata": {},
     "output_type": "display_data"
    }
   ],
   "source": [
    "expression = expression30\n",
    "\n",
    "domain = {'a','b','c'}\n",
    "\n",
    "relation1 = HomogeneousRelation({('a','b'),('b','a')}, domain, True)\n",
    "relation2 = HomogeneousRelation({('a','b'),('b','a'),('a','a'),('b','b')}, domain, True)\n",
    "\n",
    "variables = {'R':relation1, 'S':relation2}\n",
    "\n",
    "interpreter = Interpreter(variables, domain, True)\n",
    "\n",
    "#--------------------------------------------------------------------------------------------------------------\n",
    "\n",
    "generator = interpreter.analyze_all(expression, 2)\n",
    "display(expression)\n",
    "for p in generator: display(p);"
   ]
  },
  {
   "cell_type": "code",
   "execution_count": 43,
   "id": "6d883438",
   "metadata": {},
   "outputs": [
    {
     "data": {
      "text/plain": [
       "'(R is reflexive or S is reflexive) -> R - S is reflexive'"
      ]
     },
     "metadata": {},
     "output_type": "display_data"
    },
    {
     "data": {
      "text/plain": [
       "'Good counterexample!'"
      ]
     },
     "metadata": {},
     "output_type": "display_data"
    }
   ],
   "source": [
    "expression = expression31\n",
    "\n",
    "domain = {'a','b','c'}\n",
    "\n",
    "relation1 = HomogeneousRelation({('a','b'),('b','a')}, domain, True)\n",
    "relation2 = HomogeneousRelation({('a','a'),('b','b'),('c','c')}, domain, True)\n",
    "\n",
    "variables = {'R':relation1, 'S':relation2}\n",
    "\n",
    "interpreter = Interpreter(variables, domain, True)\n",
    "\n",
    "#--------------------------------------------------------------------------------------------------------------\n",
    "\n",
    "generator = interpreter.analyze_all(expression, 2)\n",
    "display(expression)\n",
    "for p in generator: display(p);"
   ]
  },
  {
   "cell_type": "code",
   "execution_count": 44,
   "id": "b7ca03ee",
   "metadata": {},
   "outputs": [
    {
     "data": {
      "text/plain": [
       "'(R is symmetric or S is symmetric) -> R - S is symmetric'"
      ]
     },
     "metadata": {},
     "output_type": "display_data"
    },
    {
     "data": {
      "text/plain": [
       "'Good counterexample!'"
      ]
     },
     "metadata": {},
     "output_type": "display_data"
    }
   ],
   "source": [
    "expression = expression32\n",
    "\n",
    "domain = {'a','b','c'}\n",
    "\n",
    "relation1 = HomogeneousRelation({('a','b'),('b','a')}, domain, True)\n",
    "relation2 = HomogeneousRelation({('b','a')}, domain, True)\n",
    "\n",
    "variables = {'R':relation1, 'S':relation2}\n",
    "\n",
    "interpreter = Interpreter(variables, domain, True)\n",
    "\n",
    "#--------------------------------------------------------------------------------------------------------------\n",
    "\n",
    "generator = interpreter.analyze_all(expression, 2)\n",
    "display(expression)\n",
    "for p in generator: display(p);"
   ]
  },
  {
   "cell_type": "code",
   "execution_count": 45,
   "id": "e740451d",
   "metadata": {
    "scrolled": false
   },
   "outputs": [
    {
     "data": {
      "text/plain": [
       "'(R is asymmetric or S is asymmetric) -> R - S is asymmetric'"
      ]
     },
     "metadata": {},
     "output_type": "display_data"
    },
    {
     "data": {
      "text/plain": [
       "'Good counterexample!'"
      ]
     },
     "metadata": {},
     "output_type": "display_data"
    }
   ],
   "source": [
    "expression = expression33\n",
    "\n",
    "domain = {'a','b','c'}\n",
    "\n",
    "relation1 = HomogeneousRelation({('a','b'),('b','a'),('b','c')}, domain, True)\n",
    "relation2 = HomogeneousRelation({('b','c')}, domain, True)\n",
    "\n",
    "variables = {'R':relation1, 'S':relation2}\n",
    "\n",
    "interpreter = Interpreter(variables, domain, True)\n",
    "\n",
    "#--------------------------------------------------------------------------------------------------------------\n",
    "\n",
    "generator = interpreter.analyze_all(expression, 2)\n",
    "display(expression)\n",
    "for p in generator: display(p);"
   ]
  },
  {
   "cell_type": "code",
   "execution_count": 46,
   "id": "ff36d866",
   "metadata": {},
   "outputs": [
    {
     "data": {
      "text/plain": [
       "'(R is antisymmetric or S is antisymmetric) -> R - S is antisymmetric'"
      ]
     },
     "metadata": {},
     "output_type": "display_data"
    },
    {
     "data": {
      "text/plain": [
       "'Good counterexample!'"
      ]
     },
     "metadata": {},
     "output_type": "display_data"
    }
   ],
   "source": [
    "expression = expression34\n",
    "\n",
    "domain = {'a','b','c'}\n",
    "\n",
    "relation1 = HomogeneousRelation({('a','b'),('b','a'),('b','c')}, domain, True)\n",
    "relation2 = HomogeneousRelation({('b','c')}, domain, True)\n",
    "\n",
    "variables = {'R':relation1, 'S':relation2}\n",
    "\n",
    "interpreter = Interpreter(variables, domain, True)\n",
    "\n",
    "#--------------------------------------------------------------------------------------------------------------\n",
    "\n",
    "generator = interpreter.analyze_all(expression, 2)\n",
    "display(expression)\n",
    "for p in generator: display(p);"
   ]
  },
  {
   "cell_type": "code",
   "execution_count": 47,
   "id": "36db2980",
   "metadata": {},
   "outputs": [
    {
     "data": {
      "text/plain": [
       "'(R is transitive or S is transitive) -> R - S is transitive'"
      ]
     },
     "metadata": {},
     "output_type": "display_data"
    },
    {
     "data": {
      "text/plain": [
       "'Good counterexample!'"
      ]
     },
     "metadata": {},
     "output_type": "display_data"
    }
   ],
   "source": [
    "expression = expression35\n",
    "\n",
    "domain = {'a','b','c'}\n",
    "\n",
    "relation1 = HomogeneousRelation({('a','b'),('b','a'),('b','c')}, domain, True)\n",
    "relation2 = HomogeneousRelation({('b','c')}, domain, True)\n",
    "\n",
    "variables = {'R':relation1, 'S':relation2}\n",
    "\n",
    "interpreter = Interpreter(variables, domain, True)\n",
    "\n",
    "#--------------------------------------------------------------------------------------------------------------\n",
    "\n",
    "generator = interpreter.analyze_all(expression, 2)\n",
    "display(expression)\n",
    "for p in generator: display(p);"
   ]
  },
  {
   "cell_type": "code",
   "execution_count": 48,
   "id": "a2d87728",
   "metadata": {
    "scrolled": false
   },
   "outputs": [
    {
     "data": {
      "text/plain": [
       "'(R is reflexive or S is reflexive) -> R ° S is reflexive'"
      ]
     },
     "metadata": {},
     "output_type": "display_data"
    },
    {
     "data": {
      "text/plain": [
       "'Good counterexample!'"
      ]
     },
     "metadata": {},
     "output_type": "display_data"
    }
   ],
   "source": [
    "expression = expression36\n",
    "\n",
    "domain = {'a','b','c'}\n",
    "\n",
    "relation1 = HomogeneousRelation({('a','a'),('b','b'),('c','c')}, domain, True)\n",
    "relation2 = HomogeneousRelation({('b','b')}, domain, True)\n",
    "\n",
    "variables = {'R':relation1, 'S':relation2}\n",
    "\n",
    "interpreter = Interpreter(variables, domain, True)\n",
    "\n",
    "#--------------------------------------------------------------------------------------------------------------\n",
    "\n",
    "generator = interpreter.analyze_all(expression, 2)\n",
    "display(expression)\n",
    "for p in generator: display(p);"
   ]
  },
  {
   "cell_type": "code",
   "execution_count": 49,
   "id": "2c6969e5",
   "metadata": {},
   "outputs": [
    {
     "data": {
      "text/plain": [
       "'(R is symmetric or S is symmetric) -> R ° S is symmetric'"
      ]
     },
     "metadata": {},
     "output_type": "display_data"
    },
    {
     "data": {
      "text/plain": [
       "'Good counterexample!'"
      ]
     },
     "metadata": {},
     "output_type": "display_data"
    }
   ],
   "source": [
    "expression = expression37\n",
    "\n",
    "domain = {'a','b','c'}\n",
    "\n",
    "relation1 = HomogeneousRelation({('a','b'),('b','a')}, domain, True)\n",
    "relation2 = HomogeneousRelation({('a','c')}, domain, True)\n",
    "\n",
    "variables = {'R':relation1, 'S':relation2}\n",
    "\n",
    "interpreter = Interpreter(variables, domain, True)\n",
    "\n",
    "#--------------------------------------------------------------------------------------------------------------\n",
    "\n",
    "generator = interpreter.analyze_all(expression, 2)\n",
    "display(expression)\n",
    "for p in generator: display(p);"
   ]
  },
  {
   "cell_type": "code",
   "execution_count": 50,
   "id": "d5a65258",
   "metadata": {},
   "outputs": [
    {
     "data": {
      "text/plain": [
       "'(R is asymmetric or S is asymmetric) -> R ° S is asymmetric'"
      ]
     },
     "metadata": {},
     "output_type": "display_data"
    },
    {
     "data": {
      "text/plain": [
       "'Good counterexample!'"
      ]
     },
     "metadata": {},
     "output_type": "display_data"
    }
   ],
   "source": [
    "expression = expression38\n",
    "\n",
    "domain = {'a','b','c'}\n",
    "\n",
    "relation1 = HomogeneousRelation({('a','b')}, domain, True)\n",
    "relation2 = HomogeneousRelation({('b','a')}, domain, True)\n",
    "\n",
    "variables = {'R':relation1, 'S':relation2}\n",
    "\n",
    "interpreter = Interpreter(variables, domain, True)\n",
    "\n",
    "#--------------------------------------------------------------------------------------------------------------\n",
    "\n",
    "generator = interpreter.analyze_all(expression, 2)\n",
    "display(expression)\n",
    "for p in generator: display(p);"
   ]
  },
  {
   "cell_type": "code",
   "execution_count": 51,
   "id": "fc32ead6",
   "metadata": {},
   "outputs": [
    {
     "data": {
      "text/plain": [
       "'(R is antisymmetric or S is antisymmetric) -> R ° S is antisymmetric'"
      ]
     },
     "metadata": {},
     "output_type": "display_data"
    },
    {
     "data": {
      "text/plain": [
       "'Good counterexample!'"
      ]
     },
     "metadata": {},
     "output_type": "display_data"
    }
   ],
   "source": [
    "expression = expression39\n",
    "\n",
    "domain = {'a','b','c'}\n",
    "\n",
    "relation1 = HomogeneousRelation({('a','b'),('c','b')}, domain, True)\n",
    "relation2 = HomogeneousRelation({('b','c'),('b','a')}, domain, True)\n",
    "\n",
    "variables = {'R':relation1, 'S':relation2}\n",
    "\n",
    "interpreter = Interpreter(variables, domain, True)\n",
    "\n",
    "#--------------------------------------------------------------------------------------------------------------\n",
    "\n",
    "generator = interpreter.analyze_all(expression, 2)\n",
    "display(expression)\n",
    "for p in generator: display(p);"
   ]
  },
  {
   "cell_type": "code",
   "execution_count": 52,
   "id": "2fcca002",
   "metadata": {},
   "outputs": [
    {
     "data": {
      "text/plain": [
       "'(R is transitive or S is transitive) -> R ° S is transitive'"
      ]
     },
     "metadata": {},
     "output_type": "display_data"
    },
    {
     "data": {
      "text/plain": [
       "'Good counterexample!'"
      ]
     },
     "metadata": {},
     "output_type": "display_data"
    }
   ],
   "source": [
    "expression = expression40\n",
    "\n",
    "domain = {'a','b','c'}\n",
    "\n",
    "relation1 = HomogeneousRelation({('a','b'),('b','c')}, domain, True)\n",
    "relation2 = HomogeneousRelation({('b','b'),('c','c')}, domain, True)\n",
    "\n",
    "variables = {'R':relation1, 'S':relation2}\n",
    "\n",
    "interpreter = Interpreter(variables, domain, True)\n",
    "\n",
    "#--------------------------------------------------------------------------------------------------------------\n",
    "\n",
    "generator = interpreter.analyze_all(expression, 2)\n",
    "display(expression)\n",
    "for p in generator: display(p);"
   ]
  },
  {
   "cell_type": "code",
   "execution_count": null,
   "id": "8da661d5",
   "metadata": {},
   "outputs": [],
   "source": []
  },
  {
   "cell_type": "code",
   "execution_count": null,
   "id": "75616d67",
   "metadata": {},
   "outputs": [],
   "source": []
  }
 ],
 "metadata": {
  "kernelspec": {
   "display_name": "Python 3",
   "language": "python",
   "name": "python3"
  },
  "language_info": {
   "codemirror_mode": {
    "name": "ipython",
    "version": 3
   },
   "file_extension": ".py",
   "mimetype": "text/x-python",
   "name": "python",
   "nbconvert_exporter": "python",
   "pygments_lexer": "ipython3",
   "version": "3.9.4"
  }
 },
 "nbformat": 4,
 "nbformat_minor": 5
}
