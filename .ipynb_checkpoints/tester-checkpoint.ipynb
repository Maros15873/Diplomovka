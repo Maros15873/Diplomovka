{
 "cells": [
  {
   "cell_type": "code",
   "execution_count": 162,
   "id": "acdf00ff",
   "metadata": {
    "collapsed": true
   },
   "outputs": [
    {
     "name": "stderr",
     "output_type": "stream",
     "text": [
      "..........................................................................................\n",
      "----------------------------------------------------------------------\n",
      "Ran 90 tests in 0.713s\n",
      "\n",
      "OK\n",
      "..........................................................................................\n",
      "----------------------------------------------------------------------\n",
      "Ran 90 tests in 0.787s\n",
      "\n",
      "OK\n",
      "..........................................................................................\n",
      "----------------------------------------------------------------------\n",
      "Ran 90 tests in 0.821s\n",
      "\n",
      "OK\n"
     ]
    },
    {
     "name": "stdout",
     "output_type": "stream",
     "text": [
      "[TREE]\n",
      "implication\n",
      "  conjunction\n",
      "    is\n",
      "      R\n",
      "      transitive\n",
      "    is\n",
      "      S\n",
      "      transitive\n",
      "  is\n",
      "    union\n",
      "      R\n",
      "      S\n",
      "    transitive\n",
      "[/TREE]\n",
      "\n",
      "[RESULT -> True]\n",
      "[TREE]\n",
      "conjunction\n",
      "  conjunction\n",
      "    is\n",
      "      R\n",
      "      transitive\n",
      "    is\n",
      "      S\n",
      "      transitive\n",
      "  is_not\n",
      "    union\n",
      "      R\n",
      "      S\n",
      "    transitive\n",
      "[/TREE]\n",
      "\n",
      "[RESULT -> False]\n",
      "[TREE]\n",
      "conjunction\n",
      "  conjunction\n",
      "    is\n",
      "      R\n",
      "      transitive\n",
      "    is\n",
      "      S\n",
      "      transitive\n",
      "  negation\n",
      "    is\n",
      "      union\n",
      "        R\n",
      "        S\n",
      "      transitive\n",
      "[/TREE]\n",
      "\n",
      "[RESULT -> False]\n",
      "[TREE]\n",
      "implication\n",
      "  conjunction\n",
      "    is\n",
      "      S\n",
      "      lattice\n",
      "    is\n",
      "      union\n",
      "        R\n",
      "        S\n",
      "      transitive\n",
      "  is\n",
      "    S\n",
      "    total_order\n",
      "[/TREE]\n",
      "\n",
      "[RESULT -> True]\n",
      "[TREE]\n",
      "implication\n",
      "  not_equal\n",
      "    S\n",
      "    S\n",
      "  is\n",
      "    S\n",
      "    total_order\n",
      "[/TREE]\n",
      "\n",
      "[RESULT -> True]\n"
     ]
    }
   ],
   "source": [
    "%run generator.ipynb"
   ]
  },
  {
   "cell_type": "code",
   "execution_count": 163,
   "id": "9fc4584b",
   "metadata": {
    "collapsed": true
   },
   "outputs": [
    {
     "name": "stdout",
     "output_type": "stream",
     "text": [
      "1 16\n",
      "1 12\n",
      "1 13\n",
      "1 17\n",
      "1 12\n",
      "1 10\n",
      "1 12\n",
      "1 12\n",
      "1 16\n",
      "1 13\n",
      "1 14\n",
      "1 9\n",
      "1 19\n",
      "1 14\n",
      "1 12\n",
      "1 15\n",
      "1 10\n",
      "1 17\n",
      "1 9\n",
      "1 15\n",
      "1 11\n",
      "1 16\n",
      "1 13\n",
      "1 13\n",
      "1 9\n",
      "1 5\n",
      "1 16\n",
      "1 16\n",
      "1 15\n",
      "1 14\n",
      "1 13\n",
      "1 11\n",
      "1 10\n",
      "1 7\n",
      "1 15\n",
      "1 16\n",
      "1 14\n",
      "1 15\n",
      "1 10\n",
      "1 11\n",
      "1 10\n",
      "1 11\n",
      "1 10\n",
      "1 17\n",
      "1 12\n",
      "1 15\n",
      "1 17\n",
      "1 10\n",
      "1 11\n",
      "1 14\n",
      "1 10\n",
      "1 10\n",
      "1 6\n",
      "1 13\n",
      "1 12\n",
      "1 13\n",
      "1 15\n",
      "1 11\n",
      "1 16\n",
      "1 15\n",
      "1 10\n",
      "1 14\n",
      "1 13\n",
      "1 13\n",
      "1 11\n",
      "1 10\n",
      "1 13\n",
      "1 14\n",
      "1 14\n",
      "1 13\n",
      "1 15\n",
      "1 16\n",
      "1 15\n",
      "1 7\n",
      "1 11\n",
      "1 15\n",
      "1 12\n",
      "1 14\n",
      "1 14\n",
      "1 8\n",
      "1 10\n",
      "1 19\n",
      "1 11\n",
      "1 17\n",
      "1 10\n",
      "1 17\n",
      "1 10\n",
      "1 13\n",
      "1 13\n",
      "1 15\n",
      "1 11\n",
      "1 13\n",
      "1 13\n",
      "1 10\n",
      "1 13\n",
      "1 11\n",
      "1 13\n",
      "1 12\n",
      "1 10\n",
      "1 13\n"
     ]
    }
   ],
   "source": [
    "d = 5\n",
    "c = 5\n",
    "generator = RelationGenerator(d,c)\n",
    "\n",
    "count = 100\n",
    "i = 1\n",
    "\n",
    "#for p in generator.generate_binary_relation(count):\n",
    "for p in generator.generate_homogeneous_relation(count):\n",
    "#for p in generator.generate_partial_order(count):\n",
    "    print(i,len(p))\n",
    "    #i += 1\n",
    "    pass\n"
   ]
  },
  {
   "cell_type": "code",
   "execution_count": 100,
   "id": "4daca69f",
   "metadata": {},
   "outputs": [
    {
     "name": "stdout",
     "output_type": "stream",
     "text": [
      "[TREE]\n",
      "implication\n",
      "  conjunction\n",
      "    is\n",
      "      R\n",
      "      transitive\n",
      "    is\n",
      "      S\n",
      "      transitive\n",
      "  is\n",
      "    union\n",
      "      R\n",
      "      S\n",
      "    transitive\n",
      "[/TREE]\n",
      "\n",
      "[RESULT -> True]\n"
     ]
    }
   ],
   "source": [
    "R = HomogeneousRelation({(1,1),(2,2),(3,3)},{1,2,3}, True)\n",
    "S = HomogeneousRelation({(1,1),(2,2),(3,3)},{1,2,3}, True)\n",
    "\n",
    "tree = parser.parse(\"R is transitive and S is transitive -> R | S is transitive\")\n",
    "\n",
    "print(f\"[TREE]\\n{tree.pretty()}[/TREE]\\n\")\n",
    "print(f\"[RESULT -> {interpret(tree)}]\")"
   ]
  },
  {
   "cell_type": "code",
   "execution_count": 101,
   "id": "9014b456",
   "metadata": {},
   "outputs": [],
   "source": [
    "def identify(statement):\n",
    "    node = parser.parse(statement)\n",
    "    if isinstance(node, Tree):\n",
    "        if node.data == 'implication':\n",
    "            condition, conclusion = node.children  \n",
    "            return (condition, conclusion)\n",
    "        else:\n",
    "            raise Exception(\"Couldn't find condition and conclusion! It is not implication!\")\n",
    "    else:\n",
    "        raise Exception(\"Couldn't find condition and conclusion! Statement is not Tree!\")\n",
    "    "
   ]
  },
  {
   "cell_type": "code",
   "execution_count": 102,
   "id": "c152a71a",
   "metadata": {
    "collapsed": true
   },
   "outputs": [
    {
     "name": "stdout",
     "output_type": "stream",
     "text": [
      "implication\n",
      "  conjunction\n",
      "    is\n",
      "      R\n",
      "      transitive\n",
      "    is\n",
      "      S\n",
      "      transitive\n",
      "  is\n",
      "    union\n",
      "      R\n",
      "      S\n",
      "    transitive\n",
      "\n",
      "condition: conjunction\n",
      "  is\n",
      "    R\n",
      "    transitive\n",
      "  is\n",
      "    S\n",
      "    transitive\n",
      "\n",
      "conclusion: is\n",
      "  union\n",
      "    R\n",
      "    S\n",
      "  transitive\n",
      "\n"
     ]
    },
    {
     "data": {
      "text/plain": [
       "True"
      ]
     },
     "execution_count": 102,
     "metadata": {},
     "output_type": "execute_result"
    }
   ],
   "source": [
    "statement = \"R is transitive and S is transitive -> R | S is transitive\"\n",
    "node = parser.parse(statement)\n",
    "condition, conclusion = identify(statement)\n",
    "print(node.pretty())\n",
    "print(f\"condition: {condition.pretty()}\") #must be True\n",
    "print(f\"conclusion: {conclusion.pretty()}\") #must be False\n",
    "interpret(node)"
   ]
  },
  {
   "cell_type": "code",
   "execution_count": 121,
   "id": "d85f4cac",
   "metadata": {},
   "outputs": [],
   "source": [
    "def get_tokens(*nodes):\n",
    "    tokens = []\n",
    "    for node in nodes:\n",
    "        if isinstance(node, Tree):\n",
    "            for child in node.children:\n",
    "                tokens += get_tokens(child)\n",
    "        elif isinstance(node, Token):\n",
    "            tokens.append(node.value)\n",
    "    return list(set(tokens))"
   ]
  },
  {
   "cell_type": "code",
   "execution_count": 122,
   "id": "559283d4",
   "metadata": {},
   "outputs": [
    {
     "data": {
      "text/plain": [
       "['S', 'R']"
      ]
     },
     "execution_count": 122,
     "metadata": {},
     "output_type": "execute_result"
    }
   ],
   "source": [
    "get_tokens(condition,conclusion)"
   ]
  },
  {
   "cell_type": "code",
   "execution_count": 73,
   "id": "200c0e24",
   "metadata": {},
   "outputs": [],
   "source": [
    "tokens = get_tokens(conclusion)"
   ]
  },
  {
   "cell_type": "code",
   "execution_count": 75,
   "id": "19676349",
   "metadata": {},
   "outputs": [],
   "source": [
    "for p in tokens:\n",
    "    globals()[p] = 10"
   ]
  },
  {
   "cell_type": "code",
   "execution_count": 76,
   "id": "a14f12f5",
   "metadata": {},
   "outputs": [
    {
     "data": {
      "text/plain": [
       "10"
      ]
     },
     "execution_count": 76,
     "metadata": {},
     "output_type": "execute_result"
    }
   ],
   "source": [
    "R"
   ]
  },
  {
   "cell_type": "code",
   "execution_count": 77,
   "id": "f1b37c78",
   "metadata": {},
   "outputs": [
    {
     "data": {
      "text/plain": [
       "10"
      ]
     },
     "execution_count": 77,
     "metadata": {},
     "output_type": "execute_result"
    }
   ],
   "source": [
    "S"
   ]
  },
  {
   "cell_type": "code",
   "execution_count": 184,
   "id": "25feeb06",
   "metadata": {},
   "outputs": [],
   "source": [
    "def find_counterexample(statement):\n",
    "    \n",
    "    condition, conclusion = identify(statement)\n",
    "    tokens = get_tokens(condition, conclusion)\n",
    "    \n",
    "    d = 5\n",
    "    c = 5\n",
    "    generator = RelationGenerator(d,c)\n",
    "    count = 100000\n",
    "    \n",
    "    generator_list = []\n",
    "    for i in range(len(tokens)):\n",
    "        generator_list.append(generator.generate_homogeneous_relation(count))\n",
    "    \n",
    "    for i in range(count):\n",
    "        for j in range(len(tokens)):\n",
    "            globals()[tokens[j]] = next(generator_list[j])\n",
    "            if interpret(condition) == True and interpret(conclusion) == False:\n",
    "                return [globals()[token] for token in tokens]\n",
    "            \n",
    "    raise Exception(\"I couldn't find counterexample!\")"
   ]
  },
  {
   "cell_type": "code",
   "execution_count": 185,
   "id": "db88428e",
   "metadata": {},
   "outputs": [],
   "source": [
    "statement = \"R is transitive and S is transitive -> R | S is transitive\""
   ]
  },
  {
   "cell_type": "code",
   "execution_count": null,
   "id": "8a43ecc8",
   "metadata": {},
   "outputs": [
    {
     "name": "stdout",
     "output_type": "stream",
     "text": [
      "0) 434.9087598999977 seconds\n",
      "1) 185.82388580000406 seconds\n",
      "2) 13.299648799998977 seconds\n",
      "3) 947.6424314999967 seconds\n",
      "4) 42.2907309000002 seconds\n",
      "5) 32.535302699994645 seconds\n",
      "6) 28.05999029999657 seconds\n",
      "7) 331.16589340000064 seconds\n"
     ]
    }
   ],
   "source": [
    "from timeit import default_timer as timer\n",
    "\n",
    "for i in range(10):\n",
    "    start = timer()\n",
    "\n",
    "    try:\n",
    "        find_counterexample(statement)\n",
    "    except:\n",
    "        pass\n",
    "\n",
    "    end = timer()\n",
    "    print(f\"{i}) {end - start} seconds\")"
   ]
  },
  {
   "cell_type": "code",
   "execution_count": 168,
   "id": "9b12b035",
   "metadata": {
    "collapsed": true
   },
   "outputs": [
    {
     "name": "stdout",
     "output_type": "stream",
     "text": [
      "[TREE]\n",
      "implication\n",
      "  conjunction\n",
      "    is\n",
      "      R\n",
      "      transitive\n",
      "    is\n",
      "      S\n",
      "      transitive\n",
      "  is\n",
      "    union\n",
      "      R\n",
      "      S\n",
      "    transitive\n",
      "[/TREE]\n",
      "\n",
      "[RESULT -> False]\n",
      "--------------------------------------------------\n",
      "[TREE]\n",
      "conjunction\n",
      "  is\n",
      "    R\n",
      "    transitive\n",
      "  is\n",
      "    S\n",
      "    transitive\n",
      "[/TREE]\n",
      "\n",
      "[RESULT -> True]\n",
      "--------------------------------------------------\n",
      "[TREE]\n",
      "is\n",
      "  union\n",
      "    R\n",
      "    S\n",
      "  transitive\n",
      "[/TREE]\n",
      "\n",
      "[RESULT -> False]\n",
      "--------------------------------------------------\n"
     ]
    }
   ],
   "source": [
    "R = HomogeneousRelation({(1, 1),(2, 1),(2, 2),(2, 4),(2, 5),(3, 1),(3, 5),(4, 1),(4, 2),(4, 4),(4, 5),(5, 1),(5, 5)},{1,2,3,4,5}) \n",
    "S = HomogeneousRelation({(1, 1),(1, 2),(1, 3),(1, 5),(2, 2),(2, 3),(2, 5),(5, 3),(5, 5)},{1,2,3,4,5})\n",
    "\n",
    "tree = parser.parse(\"R is transitive and S is transitive -> R | S is transitive\")\n",
    "\n",
    "print(f\"[TREE]\\n{tree.pretty()}[/TREE]\\n\")\n",
    "print(f\"[RESULT -> {interpret(tree)}]\")\n",
    "print(\"-\"*50)\n",
    "\n",
    "condition, conclusion = identify(statement)\n",
    "\n",
    "print(f\"[TREE]\\n{condition.pretty()}[/TREE]\\n\")\n",
    "print(f\"[RESULT -> {interpret(condition)}]\")\n",
    "print(\"-\"*50)\n",
    "\n",
    "print(f\"[TREE]\\n{conclusion.pretty()}[/TREE]\\n\")\n",
    "print(f\"[RESULT -> {interpret(conclusion)}]\")\n",
    "print(\"-\"*50)"
   ]
  },
  {
   "cell_type": "code",
   "execution_count": 172,
   "id": "858b8e9c",
   "metadata": {
    "collapsed": true
   },
   "outputs": [
    {
     "name": "stdout",
     "output_type": "stream",
     "text": [
      "[TREE]\n",
      "implication\n",
      "  conjunction\n",
      "    is\n",
      "      R\n",
      "      transitive\n",
      "    is\n",
      "      S\n",
      "      transitive\n",
      "  is\n",
      "    union\n",
      "      R\n",
      "      S\n",
      "    transitive\n",
      "[/TREE]\n",
      "\n",
      "[RESULT -> False]\n",
      "--------------------------------------------------\n",
      "[TREE]\n",
      "conjunction\n",
      "  is\n",
      "    R\n",
      "    transitive\n",
      "  is\n",
      "    S\n",
      "    transitive\n",
      "[/TREE]\n",
      "\n",
      "[RESULT -> True]\n",
      "--------------------------------------------------\n",
      "[TREE]\n",
      "is\n",
      "  union\n",
      "    R\n",
      "    S\n",
      "  transitive\n",
      "[/TREE]\n",
      "\n",
      "[RESULT -> False]\n",
      "--------------------------------------------------\n"
     ]
    }
   ],
   "source": [
    "R = HomogeneousRelation({(1, 2),(1, 3),(1, 5),(3, 3),(4, 1),(4, 2),(4, 3),(4, 5),(5, 2),(5, 3)},{1,2,3,4,5}) \n",
    "S = HomogeneousRelation({(1, 1),(2, 1),(2, 2),(2, 4),(2, 5),(3, 1),(3, 5),(4, 1),(4, 2),(4, 4),(4, 5),(5, 1),(5, 5)},{1,2,3,4,5})\n",
    "\n",
    "tree = parser.parse(\"R is transitive and S is transitive -> R | S is transitive\")\n",
    "\n",
    "print(f\"[TREE]\\n{tree.pretty()}[/TREE]\\n\")\n",
    "print(f\"[RESULT -> {interpret(tree)}]\")\n",
    "print(\"-\"*50)\n",
    "\n",
    "condition, conclusion = identify(statement)\n",
    "\n",
    "print(f\"[TREE]\\n{condition.pretty()}[/TREE]\\n\")\n",
    "print(f\"[RESULT -> {interpret(condition)}]\")\n",
    "print(\"-\"*50)\n",
    "\n",
    "print(f\"[TREE]\\n{conclusion.pretty()}[/TREE]\\n\")\n",
    "print(f\"[RESULT -> {interpret(conclusion)}]\")\n",
    "print(\"-\"*50)"
   ]
  },
  {
   "cell_type": "code",
   "execution_count": 176,
   "id": "065c125f",
   "metadata": {
    "collapsed": true
   },
   "outputs": [
    {
     "name": "stdout",
     "output_type": "stream",
     "text": [
      "[TREE]\n",
      "implication\n",
      "  conjunction\n",
      "    is\n",
      "      R\n",
      "      transitive\n",
      "    is\n",
      "      S\n",
      "      transitive\n",
      "  is\n",
      "    union\n",
      "      R\n",
      "      S\n",
      "    transitive\n",
      "[/TREE]\n",
      "\n",
      "[RESULT -> False]\n",
      "--------------------------------------------------\n",
      "[TREE]\n",
      "conjunction\n",
      "  is\n",
      "    R\n",
      "    transitive\n",
      "  is\n",
      "    S\n",
      "    transitive\n",
      "[/TREE]\n",
      "\n",
      "[RESULT -> True]\n",
      "--------------------------------------------------\n",
      "[TREE]\n",
      "is\n",
      "  union\n",
      "    R\n",
      "    S\n",
      "  transitive\n",
      "[/TREE]\n",
      "\n",
      "[RESULT -> False]\n",
      "--------------------------------------------------\n"
     ]
    }
   ],
   "source": [
    "R = HomogeneousRelation({(2, 1),(2, 2),(2, 3),(2, 4),(2, 5),(3, 1),(4, 1),(4, 2),(4, 3),(4, 4),(4, 5),(5, 1)},{1,2,3,4,5}) \n",
    "S = HomogeneousRelation({(1, 3),(2, 2),(2, 3),(3, 3),(4, 1),(4, 3),(4, 4),(4, 5),(5, 5)},{1,2,3,4,5})\n",
    "\n",
    "tree = parser.parse(\"R is transitive and S is transitive -> R | S is transitive\")\n",
    "\n",
    "print(f\"[TREE]\\n{tree.pretty()}[/TREE]\\n\")\n",
    "print(f\"[RESULT -> {interpret(tree)}]\")\n",
    "print(\"-\"*50)\n",
    "\n",
    "condition, conclusion = identify(statement)\n",
    "\n",
    "print(f\"[TREE]\\n{condition.pretty()}[/TREE]\\n\")\n",
    "print(f\"[RESULT -> {interpret(condition)}]\")\n",
    "print(\"-\"*50)\n",
    "\n",
    "print(f\"[TREE]\\n{conclusion.pretty()}[/TREE]\\n\")\n",
    "print(f\"[RESULT -> {interpret(conclusion)}]\")\n",
    "print(\"-\"*50)"
   ]
  },
  {
   "cell_type": "code",
   "execution_count": null,
   "id": "d91f318c",
   "metadata": {},
   "outputs": [],
   "source": []
  }
 ],
 "metadata": {
  "kernelspec": {
   "display_name": "Python 3",
   "language": "python",
   "name": "python3"
  },
  "language_info": {
   "codemirror_mode": {
    "name": "ipython",
    "version": 3
   },
   "file_extension": ".py",
   "mimetype": "text/x-python",
   "name": "python",
   "nbconvert_exporter": "python",
   "pygments_lexer": "ipython3",
   "version": "3.9.4"
  }
 },
 "nbformat": 4,
 "nbformat_minor": 5
}
