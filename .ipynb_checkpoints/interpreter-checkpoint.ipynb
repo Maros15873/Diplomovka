{
 "cells": [
  {
   "cell_type": "code",
   "execution_count": 214,
   "id": "c5136ce1",
   "metadata": {},
   "outputs": [
    {
     "name": "stderr",
     "output_type": "stream",
     "text": [
      "..........................................................................................\n",
      "----------------------------------------------------------------------\n",
      "Ran 90 tests in 0.714s\n",
      "\n",
      "OK\n",
      "..........................................................................................\n",
      "----------------------------------------------------------------------\n",
      "Ran 90 tests in 0.727s\n",
      "\n",
      "OK\n",
      "..........................................................................................\n",
      "----------------------------------------------------------------------\n",
      "Ran 90 tests in 0.716s\n",
      "\n",
      "OK\n"
     ]
    }
   ],
   "source": [
    "%run partialOrder.ipynb"
   ]
  },
  {
   "cell_type": "code",
   "execution_count": 215,
   "id": "e8224766",
   "metadata": {},
   "outputs": [],
   "source": [
    "from lark import Lark, Tree, Token\n",
    "\n",
    "class Interpreter:\n",
    "    \n",
    "    def is_valid(self, relation, universe):\n",
    "        if not (relation.get_domain() | relation.get_codomain()) <= FiniteSet(*universe):\n",
    "            raise Exception(f\"Relation - {relation} not valid for universe - {universe}!\")\n",
    "    \n",
    "    def __init__(self, variables=dict(), universe=FiniteSet(), check=False):\n",
    "        if check == True:\n",
    "            for value in variables.values():\n",
    "                self.is_valid(value, universe)\n",
    "                \n",
    "        self._variables = variables\n",
    "        self._universe = FiniteSet(*universe)\n",
    "        self.parser = Lark('''\n",
    "                        RELATION: \"P\"..\"Z\"\n",
    "                        SET: \"A\"..\"O\"\n",
    "                        ?logical_operator: special_operator\n",
    "                             | logical_operator \"and\" special_operator  -> conjunction\n",
    "                             | logical_operator \"or\"  special_operator  -> disjunction                   \n",
    "                             | logical_operator \"->\"  special_operator  -> implication\n",
    "                             | logical_operator \"==\"  special_operator  -> equal\n",
    "                             | logical_operator \"!=\"  special_operator  -> not_equal\n",
    "                             | logical_operator \">\"   special_operator  -> greater_than\n",
    "                             | logical_operator \"<\"   special_operator  -> lower_than\n",
    "                             | logical_operator \">=\"  special_operator  -> greater_equal\n",
    "                             | logical_operator \"<=\"  special_operator  -> lower_equal                   \n",
    "                        ?special_operator: properties\n",
    "                             | \"not\" logical_operator      -> negation\n",
    "                             | product \"is\" properties     -> is\n",
    "                             | product \"is not\" properties -> is_not\n",
    "                        ?properties: product    \n",
    "                             | \"total_order\"   -> total_order\n",
    "                             | \"transitive\"    -> transitive\n",
    "                             | \"lattice\"       -> lattice\n",
    "                             | \"reflexive\"     -> reflexive\n",
    "                             | \"symmetric\"     -> symmetric\n",
    "                             | \"asymmetric\"    -> asymmetric\n",
    "                             | \"antisymmetric\" -> antisymmetric\n",
    "                        ?product: atom\n",
    "                             | product \"°\" atom   -> composition\n",
    "                             | product \"&\" atom   -> intersection\n",
    "                             | product \"|\" atom   -> union\n",
    "                             | product \"-\" atom   -> difference\n",
    "                             | product \"^\" atom   -> symmetric_difference\n",
    "                             | product \"*\" atom   -> multiplication\n",
    "                        ?atom: \"(\"logical_operator\")\"\n",
    "                             | SET \n",
    "                             | RELATION\n",
    "                        %import common.WS\n",
    "                        %ignore WS\n",
    "                 ''', start='logical_operator')\n",
    "        \n",
    "    def set_variables(self, variables=dict(), check=False):\n",
    "        if check == True:\n",
    "            for value in variables.values():\n",
    "                self.is_valid(value, self.get_universe())\n",
    "        self._variables = variables\n",
    "        \n",
    "    def get_variables(self, *variables):\n",
    "        if len(variables) == 0:\n",
    "            return self._variables\n",
    "        else:\n",
    "            selected_variables = dict()\n",
    "            for variable in variables:\n",
    "                selected_variables[variable] = self._variables[variable]\n",
    "            return selected_variables\n",
    "    \n",
    "    def add_variable(self, variable, value, check=False):\n",
    "        if check == True:\n",
    "            self.is_valid(value, self.get_universe())\n",
    "        variables = self.get_variables()\n",
    "        if variable in variables.keys():\n",
    "            raise Exception(f\"Variable - '{variable}' is already defined!\")\n",
    "        variables[variable] = value\n",
    "        self.set_variables(variables)\n",
    "        \n",
    "    def set_variable(self, variable, new_value, check=False):\n",
    "        if check == True:\n",
    "            self.is_valid(new_value, self.get_universe())\n",
    "        variables = self.get_variables()\n",
    "        if variable not in variables.keys():\n",
    "            raise Exception(f\"Variable - '{variable}' has not been defined yet!\")\n",
    "        variables[variable] = new_value\n",
    "        self.set_variables(variables)\n",
    "        \n",
    "    def set_universe(self, universe=FiniteSet(), check=False):\n",
    "        if check == True:\n",
    "            for relation in self.get_variables().values():\n",
    "                if not (relation.get_domain() | relation.get_codomain()) <= FiniteSet(*universe):\n",
    "                    raise Exception(f\"Universe - {universe} not valid for relation - {relation}!\") \n",
    "        self._universe = FiniteSet(*universe)\n",
    "        \n",
    "    def get_universe(self):\n",
    "        return self._universe\n",
    "        \n",
    "    def constant(self,data):\n",
    "        try:\n",
    "            variables = self.get_variables()\n",
    "            return variables[data]\n",
    "        except:\n",
    "            raise Exception(f\"Variable - '{data}' doesn't exist!\")\n",
    "\n",
    "    def interpret(self,node):\n",
    "        if isinstance(node, Tree):\n",
    "            if node.data == 'negation':\n",
    "                return not self.interpret(node.children[0])\n",
    "            elif len(node.children) == 2:\n",
    "                left, right = node.children  \n",
    "                if node.data == 'equal':\n",
    "                    return self.interpret(left) == self.interpret(right)\n",
    "                elif node.data == 'not_equal':\n",
    "                    return self.interpret(left) != self.interpret(right)\n",
    "                elif node.data == 'greater_than':\n",
    "                    return self.interpret(left) > self.interpret(right)\n",
    "                elif node.data == 'lower_than':\n",
    "                    return self.interpret(left) < self.interpret(right)\n",
    "                elif node.data == 'greater_equal':\n",
    "                    return self.interpret(left) >= self.interpret(right)\n",
    "                elif node.data == 'lower_equal':\n",
    "                    return self.interpret(left) <= self.interpret(right)\n",
    "                elif node.data == 'conjunction':\n",
    "                    return self.interpret(left) and self.interpret(right)\n",
    "                elif node.data == 'disjunction':\n",
    "                    return self.interpret(left) or self.interpret(right)\n",
    "                elif node.data == 'implication':\n",
    "                    return (not self.interpret(left)) or self.interpret(right)\n",
    "                elif node.data == 'intersection':\n",
    "                    return self.interpret(left) & self.interpret(right)\n",
    "                elif node.data == 'union':\n",
    "                    return self.interpret(left) | self.interpret(right)\n",
    "                elif node.data == 'difference':\n",
    "                    return self.interpret(left) - self.interpret(right)\n",
    "                elif node.data == 'symmetric_difference':\n",
    "                    return self.interpret(left) ^ self.interpret(right)\n",
    "                elif node.data == 'multiplication':\n",
    "                    return self.interpret(left) * self.interpret(right)\n",
    "                elif node.data == 'composition':\n",
    "                    return self.interpret(left).composition(self.interpret(right))\n",
    "                elif node.data == 'is' or node.data == 'is_not':\n",
    "                    if right.data == 'lattice':\n",
    "                        return self.interpret(left).is_lattice() if node.data == 'is' else not self.interpret(left).is_lattice()\n",
    "                    elif right.data == 'total_order':\n",
    "                        return self.interpret(left).is_total_order() if node.data == 'is' else not self.interpret(left).is_total_order()\n",
    "                    elif right.data == 'reflexive':\n",
    "                        return self.interpret(left).is_reflexive() if node.data == 'is' else not self.interpret(left).is_reflexive()\n",
    "                    elif right.data == 'symmetric':\n",
    "                        return self.interpret(left).is_symmetric() if node.data == 'is' else not self.interpret(left).is_symmetric()\n",
    "                    elif right.data == 'asymmetric':\n",
    "                        return self.interpret(left).is_asymmetric() if node.data == 'is' else not self.interpret(left).is_asymmetric()\n",
    "                    elif right.data == 'antisymmetric':\n",
    "                        return self.interpret(left).is_antisymmetric() if node.data == 'is' else not self.interpret(left).is_antisymmetric()\n",
    "                    elif right.data == 'transitive':\n",
    "                        return self.interpret(left).is_transitive() if node.data == 'is' else not self.interpret(left).is_transitive()\n",
    "                else:\n",
    "                    raise Exception(f\"ERROR! {node.data}\")\n",
    "        elif isinstance(node, Token):\n",
    "            node = self.constant(node.value)\n",
    "            return node\n",
    "        else:\n",
    "            raise Exception(f\"ERROR! unkonown instance {type(node)}\")"
   ]
  },
  {
   "cell_type": "code",
   "execution_count": 216,
   "id": "8f2df9e8",
   "metadata": {},
   "outputs": [],
   "source": [
    "relation1 = HomogeneousRelation({(1,1),(2,2),(3,3)},{1,2,3}, True)\n",
    "relation2 = HomogeneousRelation({(1,1),(2,2),(3,3)},{1,2,3}, True)\n",
    "\n",
    "interpreter = Interpreter({'R':relation1,'S':relation2}, {1,2,3}, True)\n",
    "#interpreter.set_variables({'R':relation1,'X':HomogeneousRelation({(1,1),(2,2),(3,3)},{1,2,3,4}, True)}, True) #Error"
   ]
  },
  {
   "cell_type": "code",
   "execution_count": 217,
   "id": "ec03cdcf",
   "metadata": {
    "scrolled": false
   },
   "outputs": [],
   "source": [
    "# abc = HomogeneousRelation({(1,1),(2,2),(3,3)},{1,2,3}, True)\n",
    "# dr = HomogeneousRelation({(1,1),(2,2),(3,3)},{1,2,3}, True)\n",
    "\n",
    "# tree = parser.parse(\"R is reflexive and S is transitive -> R | S is transitive\", {'R':abc, 'S':dr}, {'d','e',1,2,3})\n",
    "\n",
    "# print(f\"[TREE]\\n{tree.pretty()}[/TREE]\\n\")\n",
    "# print(f\"[RESULT -> {interpret(tree)}]\")"
   ]
  },
  {
   "cell_type": "code",
   "execution_count": 218,
   "id": "20cd9e53",
   "metadata": {},
   "outputs": [
    {
     "name": "stdout",
     "output_type": "stream",
     "text": [
      "[TREE]\n",
      "conjunction\n",
      "  conjunction\n",
      "    is\n",
      "      R\n",
      "      transitive\n",
      "    is\n",
      "      S\n",
      "      transitive\n",
      "  is_not\n",
      "    union\n",
      "      R\n",
      "      S\n",
      "    transitive\n",
      "[/TREE]\n",
      "\n",
      "[RESULT -> False]\n"
     ]
    }
   ],
   "source": [
    "tree = interpreter.parser.parse(\"R is transitive and S is transitive and R | S is not transitive\")\n",
    "\n",
    "print(f\"[TREE]\\n{tree.pretty()}[/TREE]\\n\")\n",
    "print(f\"[RESULT -> {interpreter.interpret(tree)}]\")"
   ]
  },
  {
   "cell_type": "code",
   "execution_count": 219,
   "id": "4415d1f9",
   "metadata": {},
   "outputs": [
    {
     "name": "stdout",
     "output_type": "stream",
     "text": [
      "[TREE]\n",
      "conjunction\n",
      "  conjunction\n",
      "    is\n",
      "      R\n",
      "      transitive\n",
      "    is\n",
      "      S\n",
      "      transitive\n",
      "  negation\n",
      "    is\n",
      "      union\n",
      "        R\n",
      "        S\n",
      "      transitive\n",
      "[/TREE]\n",
      "\n",
      "[RESULT -> False]\n"
     ]
    }
   ],
   "source": [
    "tree = interpreter.parser.parse(\"R is transitive and S is transitive and not R | S is transitive\")\n",
    "\n",
    "print(f\"[TREE]\\n{tree.pretty()}[/TREE]\\n\")\n",
    "print(f\"[RESULT -> {interpreter.interpret(tree)}]\")"
   ]
  },
  {
   "cell_type": "code",
   "execution_count": 220,
   "id": "2963e441",
   "metadata": {},
   "outputs": [
    {
     "name": "stdout",
     "output_type": "stream",
     "text": [
      "[TREE]\n",
      "implication\n",
      "  conjunction\n",
      "    is\n",
      "      V\n",
      "      lattice\n",
      "    is\n",
      "      union\n",
      "        U\n",
      "        V\n",
      "      transitive\n",
      "  is\n",
      "    V\n",
      "    total_order\n",
      "[/TREE]\n",
      "\n",
      "[RESULT -> True]\n",
      "\n",
      "variables:\n",
      " {'R': \n",
      "domain:{1, 2, 3}\n",
      "codomain:{1, 2, 3}\n",
      "relation:{(1, 1),(2, 2),(3, 3)}\n",
      ", 'S': \n",
      "domain:{1, 2, 3}\n",
      "codomain:{1, 2, 3}\n",
      "relation:{(1, 1),(2, 2),(3, 3)}\n",
      ", 'U': \n",
      "domain:{1, 2, 3}\n",
      "codomain:{1, 2, 3}\n",
      "relation:{(1, 1),(2, 2),(3, 3)}\n",
      ", 'V': \n",
      "domain:{1, 2, 3}\n",
      "codomain:{1, 2, 3}\n",
      "relation:{(1, 1),(1, 2),(1, 3),(2, 2),(2, 3),(3, 3)}\n",
      "}\n"
     ]
    }
   ],
   "source": [
    "U = HomogeneousRelation({(1,1),(2,2),(3,3)},{1,2,3}, True)\n",
    "V = PartialOrder({(1,1),(1,2),(1,3),(2,2),(2,3),(3,3)}, {1,2,3},True)\n",
    "\n",
    "interpreter.add_variable('U',U, True)\n",
    "interpreter.add_variable('V',V, True)\n",
    "tree = interpreter.parser.parse(\"V is lattice and U|V is transitive ->  V is total_order\")\n",
    "\n",
    "print(f\"[TREE]\\n{tree.pretty()}[/TREE]\\n\")\n",
    "print(f\"[RESULT -> {interpreter.interpret(tree)}]\")\n",
    "\n",
    "print(f\"\\nvariables:\\n {interpreter.get_variables()}\")"
   ]
  },
  {
   "cell_type": "code",
   "execution_count": 224,
   "id": "0a7a2e0e",
   "metadata": {},
   "outputs": [
    {
     "name": "stdout",
     "output_type": "stream",
     "text": [
      "[TREE]\n",
      "implication\n",
      "  not_equal\n",
      "    V\n",
      "    V\n",
      "  is\n",
      "    S\n",
      "    total_order\n",
      "[/TREE]\n",
      "\n",
      "[RESULT -> True]\n",
      "\n",
      "variables:\n",
      " {'V': \n",
      "domain:{1, 2, 3}\n",
      "codomain:{1, 2, 3}\n",
      "relation:{(1, 1),(2, 2),(3, 3)}\n",
      ", 'S': \n",
      "domain:{1, 2, 3}\n",
      "codomain:{1, 2, 3}\n",
      "relation:{(1, 1),(2, 2),(3, 3)}\n",
      "}\n"
     ]
    }
   ],
   "source": [
    "V = PartialOrder({(1,1),(2,2),(3,3)}, {1,2,3},True)\n",
    "\n",
    "#interpreter.add_variable('V',V) #Error - already defined variable\n",
    "interpreter.set_variable('V',V,True)\n",
    "#interpreter.set_universe({1,2},True) #Error - not valid universe\n",
    "\n",
    "tree = interpreter.parser.parse(\"V != V ->  S is total_order\")\n",
    "\n",
    "\n",
    "\n",
    "\n",
    "print(f\"[TREE]\\n{tree.pretty()}[/TREE]\\n\")\n",
    "print(f\"[RESULT -> {interpreter.interpret(tree)}]\")\n",
    "\n",
    "print(f\"\\nvariables:\\n {interpreter.get_variables('V','S')}\")"
   ]
  },
  {
   "cell_type": "code",
   "execution_count": 225,
   "id": "f5c5703f",
   "metadata": {},
   "outputs": [
    {
     "data": {
      "text/plain": [
       "{'R': \n",
       " domain:{1, 2, 3}\n",
       " codomain:{1, 2, 3}\n",
       " relation:{(1, 1),(2, 2),(3, 3)},\n",
       " 'S': \n",
       " domain:{1, 2, 3}\n",
       " codomain:{1, 2, 3}\n",
       " relation:{(1, 1),(2, 2),(3, 3)},\n",
       " 'U': \n",
       " domain:{1, 2, 3}\n",
       " codomain:{1, 2, 3}\n",
       " relation:{(1, 1),(2, 2),(3, 3)},\n",
       " 'V': \n",
       " domain:{1, 2, 3}\n",
       " codomain:{1, 2, 3}\n",
       " relation:{(1, 1),(2, 2),(3, 3)}}"
      ]
     },
     "execution_count": 225,
     "metadata": {},
     "output_type": "execute_result"
    }
   ],
   "source": [
    "interpreter.get_variables()"
   ]
  },
  {
   "cell_type": "code",
   "execution_count": 226,
   "id": "dfd8ed21",
   "metadata": {},
   "outputs": [
    {
     "data": {
      "text/latex": [
       "$\\displaystyle \\left\\{1, 2, 3\\right\\}$"
      ],
      "text/plain": [
       "FiniteSet(1, 2, 3)"
      ]
     },
     "execution_count": 226,
     "metadata": {},
     "output_type": "execute_result"
    }
   ],
   "source": [
    "interpreter.get_universe()"
   ]
  },
  {
   "cell_type": "code",
   "execution_count": null,
   "id": "31bf43fb",
   "metadata": {},
   "outputs": [],
   "source": []
  }
 ],
 "metadata": {
  "kernelspec": {
   "display_name": "Python 3",
   "language": "python",
   "name": "python3"
  },
  "language_info": {
   "codemirror_mode": {
    "name": "ipython",
    "version": 3
   },
   "file_extension": ".py",
   "mimetype": "text/x-python",
   "name": "python",
   "nbconvert_exporter": "python",
   "pygments_lexer": "ipython3",
   "version": "3.9.4"
  }
 },
 "nbformat": 4,
 "nbformat_minor": 5
}
