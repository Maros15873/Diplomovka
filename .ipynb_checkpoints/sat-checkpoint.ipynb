{
 "cells": [
  {
   "cell_type": "code",
   "execution_count": 53,
   "id": "e139e98c",
   "metadata": {},
   "outputs": [
    {
     "name": "stderr",
     "output_type": "stream",
     "text": [
      "..........................................................................................\n",
      "----------------------------------------------------------------------\n",
      "Ran 90 tests in 0.670s\n",
      "\n",
      "OK\n",
      "..........................................................................................\n",
      "----------------------------------------------------------------------\n",
      "Ran 90 tests in 0.653s\n",
      "\n",
      "OK\n",
      "..........................................................................................\n",
      "----------------------------------------------------------------------\n",
      "Ran 90 tests in 0.639s\n",
      "\n",
      "OK\n"
     ]
    },
    {
     "name": "stdout",
     "output_type": "stream",
     "text": [
      "[TREE]\n",
      "implication\n",
      "  conjunction\n",
      "    is\n",
      "      R\n",
      "      transitive\n",
      "    is\n",
      "      S\n",
      "      transitive\n",
      "  is\n",
      "    union\n",
      "      R\n",
      "      S\n",
      "    transitive\n",
      "[/TREE]\n",
      "\n",
      "[RESULT -> True]\n",
      "[TREE]\n",
      "conjunction\n",
      "  conjunction\n",
      "    is\n",
      "      R\n",
      "      transitive\n",
      "    is\n",
      "      S\n",
      "      transitive\n",
      "  is_not\n",
      "    union\n",
      "      R\n",
      "      S\n",
      "    transitive\n",
      "[/TREE]\n",
      "\n",
      "[RESULT -> False]\n",
      "[TREE]\n",
      "conjunction\n",
      "  conjunction\n",
      "    is\n",
      "      R\n",
      "      transitive\n",
      "    is\n",
      "      S\n",
      "      transitive\n",
      "  negation\n",
      "    is\n",
      "      union\n",
      "        R\n",
      "        S\n",
      "      transitive\n",
      "[/TREE]\n",
      "\n",
      "[RESULT -> False]\n",
      "[TREE]\n",
      "implication\n",
      "  conjunction\n",
      "    is\n",
      "      S\n",
      "      lattice\n",
      "    is\n",
      "      union\n",
      "        R\n",
      "        S\n",
      "      transitive\n",
      "  is\n",
      "    S\n",
      "    total_order\n",
      "[/TREE]\n",
      "\n",
      "[RESULT -> True]\n",
      "[TREE]\n",
      "implication\n",
      "  not_equal\n",
      "    S\n",
      "    S\n",
      "  is\n",
      "    S\n",
      "    total_order\n",
      "[/TREE]\n",
      "\n",
      "[RESULT -> True]\n"
     ]
    }
   ],
   "source": [
    "%run interpreter.ipynb"
   ]
  },
  {
   "cell_type": "code",
   "execution_count": 54,
   "id": "c8028d32",
   "metadata": {},
   "outputs": [],
   "source": [
    "# p1[-1:] last\n",
    "# p1[-2:-1] before last\n",
    "\n",
    "#PRODUCT\n",
    "\n",
    "def relation_multiplication(token1,token2,size=2):\n",
    "    ...\n",
    "\n",
    "def relation_to_cnf(token,size=2): #not Product just subfunction\n",
    "    for i in range(1,size+1):\n",
    "        for j in range(1,size+1):\n",
    "            yield token + str(i) + str(j)\n",
    "\n",
    "def relation_composition_to_cnf(token1,token2,size=2):\n",
    "    for p1 in relation_to_cnf(token1,size):\n",
    "        for p2 in relation_to_cnf(token2,size):\n",
    "            if p1[-1:] == p2[-2:-1]:\n",
    "                yield \"-\" + token1 + p1[-2:] +\" -\" + token2 + p2[-2:] +\" \" + p1[:-2] + \"°\" + p2[:-2] + p1[-1:] + p2[-1:]\n",
    "                \n",
    "def relation_intersection_to_cnf(token1,token2,size=2):\n",
    "    for p1 in relation_to_cnf(token1,size):\n",
    "        for p2 in relation_to_cnf(token2,size):\n",
    "            if p1[-2:] == p2[-2:]:\n",
    "                yield \"-\" + token1 + \"\"+p1[-2:]+\" -\" + token2 +p2[-2:]+\" \" + p1[:-2] + \"&\" + p2[:-2] + p1[-2:]\n",
    "                \n",
    "def relation_union_to_cnf(token1,token2,size=2):\n",
    "    for p1 in relation_to_cnf(token1,size):\n",
    "        for p2 in relation_to_cnf(token2,size):\n",
    "            yield \"-\" + token1 +p1[-2:]+\" \" + p1[:-2] + \"|\" + p2[:-2]  + p1[-2:]\n",
    "            yield \"-\" + token2 +p2[-2:]+\" \" + p1[:-2] + \"|\" + p2[:-2]  +p2[-2:]\n",
    "            \n",
    "def relation_difference_to_cnf(token1,token2,size=2):\n",
    "    for p1 in relation_to_cnf(token1,size):\n",
    "        yield \"-\" + token1 +p1[-2:]+\" \" + token2 + p1[-2:] + \" \" + p1[:-2] + \"-\" + token2 + \"\" + p1[-2:]\n",
    "        \n",
    "def relation_symmetric_difference_to_cnf(token1,token2,size=2):\n",
    "    for p1 in relation_to_cnf(token1,size):\n",
    "        yield \"-\" + token1+p1[-2:]+\" -\" + token2 + p1[-2:] + \" -\" + p1[:-2] + \"^\" + token2 + \"\" + p1[-2:]"
   ]
  },
  {
   "cell_type": "code",
   "execution_count": 55,
   "id": "d4e227b3",
   "metadata": {},
   "outputs": [
    {
     "name": "stdout",
     "output_type": "stream",
     "text": [
      "-R11 -S11 -R^S11\n",
      "-R12 -S12 -R^S12\n",
      "-R21 -S21 -R^S21\n",
      "-R22 -S22 -R^S22\n"
     ]
    }
   ],
   "source": [
    "y = relation_symmetric_difference_to_cnf('R','S')\n",
    "for p in y:\n",
    "    print(p)"
   ]
  },
  {
   "cell_type": "code",
   "execution_count": 56,
   "id": "7edd20fc",
   "metadata": {},
   "outputs": [
    {
     "name": "stdout",
     "output_type": "stream",
     "text": [
      "-R11 S11 R-S11\n",
      "-R12 S12 R-S12\n",
      "-R21 S21 R-S21\n",
      "-R22 S22 R-S22\n"
     ]
    }
   ],
   "source": [
    "y = relation_difference_to_cnf('R','S')\n",
    "for p in y:\n",
    "    print(p)"
   ]
  },
  {
   "cell_type": "code",
   "execution_count": 57,
   "id": "f22a8179",
   "metadata": {},
   "outputs": [
    {
     "name": "stdout",
     "output_type": "stream",
     "text": [
      "-R11 R|S11\n",
      "-S11 R|S11\n",
      "-R11 R|S11\n",
      "-S12 R|S12\n",
      "-R11 R|S11\n",
      "-S21 R|S21\n",
      "-R11 R|S11\n",
      "-S22 R|S22\n",
      "-R12 R|S12\n",
      "-S11 R|S11\n",
      "-R12 R|S12\n",
      "-S12 R|S12\n",
      "-R12 R|S12\n",
      "-S21 R|S21\n",
      "-R12 R|S12\n",
      "-S22 R|S22\n",
      "-R21 R|S21\n",
      "-S11 R|S11\n",
      "-R21 R|S21\n",
      "-S12 R|S12\n",
      "-R21 R|S21\n",
      "-S21 R|S21\n",
      "-R21 R|S21\n",
      "-S22 R|S22\n",
      "-R22 R|S22\n",
      "-S11 R|S11\n",
      "-R22 R|S22\n",
      "-S12 R|S12\n",
      "-R22 R|S22\n",
      "-S21 R|S21\n",
      "-R22 R|S22\n",
      "-S22 R|S22\n"
     ]
    }
   ],
   "source": [
    "y = relation_union_to_cnf('R','S',2)\n",
    "for p in y:\n",
    "    print(p)"
   ]
  },
  {
   "cell_type": "code",
   "execution_count": 58,
   "id": "4e631958",
   "metadata": {},
   "outputs": [
    {
     "name": "stdout",
     "output_type": "stream",
     "text": [
      "-R11 -S11 R&S11\n",
      "-R12 -S12 R&S12\n",
      "-R21 -S21 R&S21\n",
      "-R22 -S22 R&S22\n"
     ]
    }
   ],
   "source": [
    "y = relation_intersection_to_cnf('R','S')\n",
    "for p in y:\n",
    "    print(p)"
   ]
  },
  {
   "cell_type": "code",
   "execution_count": 59,
   "id": "2c3f1535",
   "metadata": {},
   "outputs": [
    {
     "name": "stdout",
     "output_type": "stream",
     "text": [
      "-R11 -S11 R°S11\n",
      "-R11 -S12 R°S12\n",
      "-R12 -S21 R°S21\n",
      "-R12 -S22 R°S22\n",
      "-R21 -S11 R°S11\n",
      "-R21 -S12 R°S12\n",
      "-R22 -S21 R°S21\n",
      "-R22 -S22 R°S22\n"
     ]
    }
   ],
   "source": [
    "y = relation_composition_to_cnf('R','S')\n",
    "for p in y:\n",
    "    print(p)"
   ]
  },
  {
   "cell_type": "code",
   "execution_count": 89,
   "id": "fc762924",
   "metadata": {},
   "outputs": [],
   "source": [
    "#PROPERTIES\n",
    "\n",
    "def is_total_order_to_cnf(token,size=2):\n",
    "    ...\n",
    "    \n",
    "def is_lattice_order_to_cnf(token,size=2):\n",
    "    ...\n",
    "\n",
    "def is_transitive_to_cnf(token,size=2):\n",
    "    for p1 in relation_to_cnf(token,size):\n",
    "        for p2 in relation_to_cnf(token,size):\n",
    "            if p1[-1:] != p2[-2:-1]:\n",
    "                continue\n",
    "            else:\n",
    "                yield \"-\" + p1 + \" -\" + p2 + \" \" + p1[:-1] + p2[-1:]  \n",
    "\n",
    "def is_reflexive_to_cnf(token,size=2):\n",
    "    for i in range(1,size+1):\n",
    "        yield token + str(i) + str(i)\n",
    "        \n",
    "def is_symmetric_to_cnf(token,size=2):\n",
    "    for p1 in relation_to_cnf(token,size):\n",
    "        yield \"-\" + p1 + \" \" + p1[:-2] + p1[-1:] + p1[-2:-1]        \n",
    "        \n",
    "def is_asymmetric_to_cnf(token,size=2): \n",
    "    for p1 in relation_to_cnf(token,size):\n",
    "        yield \"-\" + p1 + \" -\" + p1[:-2] + p1[-1:] + p1[-2:-1]\n",
    "        \n",
    "def is_antisymmetric_to_cnf(token,size=2):\n",
    "    for p1 in relation_to_cnf(token,size):\n",
    "        if p1[-2:-1] == p1[-1:]:\n",
    "            continue\n",
    "        else:\n",
    "            yield \"-\" + p1 + \" -\" + p1[:-2] + p1[-1:] + p1[-2:-1]"
   ]
  },
  {
   "cell_type": "code",
   "execution_count": 90,
   "id": "b83957e1",
   "metadata": {},
   "outputs": [
    {
     "name": "stdout",
     "output_type": "stream",
     "text": [
      "-R11 -R11 R11\n",
      "-R11 -R12 R12\n",
      "-R12 -R21 R11\n",
      "-R12 -R22 R12\n",
      "-R21 -R11 R21\n",
      "-R21 -R12 R22\n",
      "-R22 -R21 R21\n",
      "-R22 -R22 R22\n"
     ]
    }
   ],
   "source": [
    "y = is_transitive_to_cnf('R')\n",
    "for p in y:\n",
    "    print(p)"
   ]
  },
  {
   "cell_type": "code",
   "execution_count": 84,
   "id": "e0a8631f",
   "metadata": {},
   "outputs": [
    {
     "name": "stdout",
     "output_type": "stream",
     "text": [
      "R11\n",
      "R22\n"
     ]
    }
   ],
   "source": [
    "y = is_reflexive_to_cnf('R')\n",
    "for p in y:\n",
    "    print(p)"
   ]
  },
  {
   "cell_type": "code",
   "execution_count": 63,
   "id": "bbfe4042",
   "metadata": {},
   "outputs": [
    {
     "name": "stdout",
     "output_type": "stream",
     "text": [
      "-R11 R11\n",
      "-R12 R21\n",
      "-R21 R12\n",
      "-R22 R22\n"
     ]
    }
   ],
   "source": [
    "y = is_symmetric_to_cnf('R')\n",
    "for p in y:\n",
    "    print(p)"
   ]
  },
  {
   "cell_type": "code",
   "execution_count": 85,
   "id": "9b5891de",
   "metadata": {},
   "outputs": [
    {
     "name": "stdout",
     "output_type": "stream",
     "text": [
      "-R11 -R11\n",
      "-R12 -R21\n",
      "-R21 -R12\n",
      "-R22 -R22\n"
     ]
    }
   ],
   "source": [
    "y = is_asymmetric_to_cnf('R')\n",
    "for p in y:\n",
    "    print(p)"
   ]
  },
  {
   "cell_type": "code",
   "execution_count": 83,
   "id": "bf987108",
   "metadata": {},
   "outputs": [
    {
     "name": "stdout",
     "output_type": "stream",
     "text": [
      "-R12 -R21\n",
      "-R21 -R12\n"
     ]
    }
   ],
   "source": [
    "y = is_antisymmetric_to_cnf('R')\n",
    "for p in y:\n",
    "    print(p)"
   ]
  },
  {
   "cell_type": "code",
   "execution_count": 91,
   "id": "176a01fc",
   "metadata": {},
   "outputs": [],
   "source": [
    "def to_dimacs(*cnf):\n",
    "    dimacs = \"\"\n",
    "    number_of_variables = 0\n",
    "    number_of_clauses = 0\n",
    "    slovnik = dict()\n",
    "    variable_number = 1\n",
    "    \n",
    "    for generator in cnf:\n",
    "        for p in generator:\n",
    "            pole = p.split(\" \")\n",
    "            for element in pole:\n",
    "                if element[:1] == \"-\":\n",
    "                    if element[1:] not in slovnik.keys():\n",
    "                        slovnik[element[1:]] = variable_number \n",
    "                        variable_number += 1\n",
    "                        dimacs += f\"-{slovnik[element[1:]]} \"\n",
    "                        number_of_variables += 1\n",
    "                    else:\n",
    "                        dimacs += f\"-{slovnik[element[1:]]} \"\n",
    "                else:\n",
    "                    if element not in slovnik.keys():\n",
    "                        slovnik[element] = variable_number \n",
    "                        variable_number += 1\n",
    "                        dimacs += f\"{slovnik[element]} \"\n",
    "                        number_of_variables += 1\n",
    "                    else:\n",
    "                        dimacs += f\"{slovnik[element]} \"\n",
    "            dimacs += \"0\\n\"\n",
    "            number_of_clauses += 1\n",
    "            \n",
    "    head = f\"p cnf {number_of_variables} {number_of_clauses}\\n\"\n",
    "    return head + dimacs, slovnik"
   ]
  },
  {
   "cell_type": "code",
   "execution_count": 1,
   "id": "a2dadb69",
   "metadata": {},
   "outputs": [
    {
     "ename": "NameError",
     "evalue": "name 'is_transitive_to_cnf' is not defined",
     "output_type": "error",
     "traceback": [
      "\u001b[1;31m---------------------------------------------------------------------------\u001b[0m",
      "\u001b[1;31mNameError\u001b[0m                                 Traceback (most recent call last)",
      "\u001b[1;32m<ipython-input-1-611a4f92daab>\u001b[0m in \u001b[0;36m<module>\u001b[1;34m\u001b[0m\n\u001b[0;32m      1\u001b[0m \u001b[0msize\u001b[0m \u001b[1;33m=\u001b[0m \u001b[1;36m3\u001b[0m\u001b[1;33m\u001b[0m\u001b[1;33m\u001b[0m\u001b[0m\n\u001b[0;32m      2\u001b[0m \u001b[1;33m\u001b[0m\u001b[0m\n\u001b[1;32m----> 3\u001b[1;33m \u001b[0ma\u001b[0m \u001b[1;33m=\u001b[0m \u001b[0mis_transitive_to_cnf\u001b[0m\u001b[1;33m(\u001b[0m\u001b[1;34m'R'\u001b[0m\u001b[1;33m,\u001b[0m\u001b[0msize\u001b[0m\u001b[1;33m)\u001b[0m\u001b[1;33m\u001b[0m\u001b[1;33m\u001b[0m\u001b[0m\n\u001b[0m\u001b[0;32m      4\u001b[0m \u001b[0mb\u001b[0m \u001b[1;33m=\u001b[0m \u001b[0mis_symmetric_to_cnf\u001b[0m\u001b[1;33m(\u001b[0m\u001b[1;34m'R'\u001b[0m\u001b[1;33m,\u001b[0m\u001b[0msize\u001b[0m\u001b[1;33m)\u001b[0m\u001b[1;33m\u001b[0m\u001b[1;33m\u001b[0m\u001b[0m\n\u001b[0;32m      5\u001b[0m \u001b[0mc\u001b[0m \u001b[1;33m=\u001b[0m \u001b[0mis_reflexive_to_cnf\u001b[0m\u001b[1;33m(\u001b[0m\u001b[1;34m'R'\u001b[0m\u001b[1;33m,\u001b[0m\u001b[0msize\u001b[0m\u001b[1;33m)\u001b[0m\u001b[1;33m\u001b[0m\u001b[1;33m\u001b[0m\u001b[0m\n",
      "\u001b[1;31mNameError\u001b[0m: name 'is_transitive_to_cnf' is not defined"
     ]
    }
   ],
   "source": [
    "size = 9\n",
    "a = is_transitive_to_cnf('R',size)\n",
    "b = is_symmetric_to_cnf('R',size)\n",
    "c = is_reflexive_to_cnf('R',size)\n",
    "d = is_asymmetric_to_cnf('R',size)\n",
    "e = is_antisymmetric_to_cnf('R',size)\n",
    "\n",
    "dimacs, slovnik = to_dimacs(a,c,e)\n",
    "print(dimacs)\n",
    "print()\n",
    "print(slovnik)"
   ]
  },
  {
   "cell_type": "code",
   "execution_count": 68,
   "id": "632b1603",
   "metadata": {},
   "outputs": [
    {
     "name": "stdout",
     "output_type": "stream",
     "text": [
      "p cnf 12 4\n",
      "-1 -2 3 0\n",
      "-4 -5 6 0\n",
      "-7 -8 9 0\n",
      "-10 -11 12 0\n",
      "\n",
      "\n",
      "{'R11': 1, 'S11': 2, 'R&S11': 3, 'R12': 4, 'S12': 5, 'R&S12': 6, 'R21': 7, 'S21': 8, 'R&S21': 9, 'R22': 10, 'S22': 11, 'R&S22': 12}\n"
     ]
    }
   ],
   "source": [
    "x = relation_intersection_to_cnf('R','S')\n",
    "#x = relation_symmetric_difference_to_cnf('R','S')\n",
    "#x = relation_difference_to_cnf('R','S')\n",
    "#x = relation_union_to_cnf('R','S',2)\n",
    "#x = relation_composition_to_cnf('R','S')\n",
    "dimacs, slovnik = to_dimacs(x)\n",
    "print(dimacs)\n",
    "print()\n",
    "print(slovnik)"
   ]
  }
 ],
 "metadata": {
  "kernelspec": {
   "display_name": "Python 3",
   "language": "python",
   "name": "python3"
  },
  "language_info": {
   "codemirror_mode": {
    "name": "ipython",
    "version": 3
   },
   "file_extension": ".py",
   "mimetype": "text/x-python",
   "name": "python",
   "nbconvert_exporter": "python",
   "pygments_lexer": "ipython3",
   "version": "3.9.4"
  }
 },
 "nbformat": 4,
 "nbformat_minor": 5
}
