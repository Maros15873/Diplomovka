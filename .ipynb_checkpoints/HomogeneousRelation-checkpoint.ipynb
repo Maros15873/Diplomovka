{
 "cells": [
  {
   "cell_type": "code",
   "execution_count": 1,
   "id": "ec264616",
   "metadata": {
    "collapsed": true
   },
   "outputs": [
    {
     "name": "stdout",
     "output_type": "stream",
     "text": [
      "R = {(1, 1),(1, 2),(2, 1),(3, 3)}\n",
      "S = {(1, 3),(2, 2),(3, 1)}\n",
      "R∘S = {(1, 2),(1, 3),(2, 3),(3, 1)}\n",
      "\n",
      "is binary relation? R = True\n",
      "is binary relation? S = True\n",
      "\n",
      "is homogeneous relation? R = True\n",
      "is homogeneous relation? S = True\n",
      "\n",
      "is identity relation? R = False\n",
      "is identity relation? S = False\n",
      "\n",
      "S[A] = FiniteSet(2, 3)\n",
      "S-1[A] = FiniteSet(2, 3)\n",
      "\n",
      "dom S = FiniteSet(1, 2, 3)\n",
      "rng S = FiniteSet(1, 2, 3)\n",
      "\n",
      "R == S: False\n",
      "R != S: True\n",
      "R < S: False\n",
      "R <= S: False\n",
      "R > S: False\n",
      "R >= S: False\n",
      "\n",
      "R union S = {(1, 1),(1, 2),(1, 3),(2, 1),(2, 2),(3, 1),(3, 3)}\n",
      "R intersection S = {}\n",
      "R difference S = {(1, 1),(1, 2),(2, 1),(3, 3)}\n",
      "\n",
      "R complement = {(1, 3),(2, 2),(2, 3),(3, 1),(3, 2)}\n",
      "R∘S converse = {(1, 3),(2, 1),(3, 1),(3, 2)}\n",
      "\n",
      "'1' is in relation with: FiniteSet(1, 2) in R\n",
      "<class 'sympy.core.numbers.One'>\n",
      "<class 'sympy.core.numbers.Integer'>\n",
      "<class 'sympy.core.numbers.Integer'>\n"
     ]
    }
   ],
   "source": [
    "%run binaryRelation.ipynb"
   ]
  },
  {
   "cell_type": "code",
   "execution_count": 9,
   "id": "67a234b6",
   "metadata": {},
   "outputs": [],
   "source": [
    "class HomogeneousRelation(BinaryRelation):\n",
    "    \n",
    "    def __init__(self,relation=None,domain=None):\n",
    "        super().__init__(relation, domain, domain)\n",
    "        \n",
    "    def is_reflexive(self):\n",
    "        relation = self.get_relation()\n",
    "        domain = self.get_domain()\n",
    "        for x in domain:\n",
    "            if (x,x) not in relation:\n",
    "                return False\n",
    "        return True\n",
    "    \n",
    "    def is_symetric(self):\n",
    "        relation = self.get_relation()\n",
    "        for x,y in relation:\n",
    "            if (y,x) not in relation:\n",
    "                return False\n",
    "        return True\n",
    "    \n",
    "    def is_asymetric(self):\n",
    "        relation = self.get_relation()\n",
    "        for x,y in relation:\n",
    "            if (y,x) in relation:\n",
    "                return False\n",
    "        return True\n",
    "        \n",
    "    def is_antisymetric(self):\n",
    "        relation = self.get_relation()\n",
    "        for x,y in relation:\n",
    "            if (y,x) in relation and (x != y):\n",
    "                return False\n",
    "        return True\n",
    "    \n",
    "    def is_transitive(self):\n",
    "        \n",
    "        d = dict()\n",
    "        relation = self.get_relation()\n",
    "        \n",
    "        for x,y in relation:\n",
    "            if x in d.keys():\n",
    "                d[x].add(y)\n",
    "            else:\n",
    "                d[x] = {y}\n",
    "            if y in d.keys():\n",
    "                pass\n",
    "            else:\n",
    "                d[y] = set()\n",
    "                \n",
    "        for x,y in relation:\n",
    "            for z in d[y]:\n",
    "                if z not in d[x]:\n",
    "                    return False\n",
    "        return True\n",
    "    \n",
    "    def is_partial_order(self):\n",
    "        return is_reflexive() and is_antisymetric() and is_transitive()"
   ]
  },
  {
   "cell_type": "code",
   "execution_count": 12,
   "id": "16e64e4b",
   "metadata": {},
   "outputs": [
    {
     "name": "stdout",
     "output_type": "stream",
     "text": [
      "True\n",
      "True\n",
      "False\n",
      "False\n",
      "True\n"
     ]
    }
   ],
   "source": [
    "r = HomogeneousRelation({(1,1),(3,3),(1,2),(2,1),(2,2)},{1,2,3})\n",
    "print(r.is_reflexive())\n",
    "print(r.is_symetric())\n",
    "print(r.is_asymetric())\n",
    "print(r.is_antisymetric())\n",
    "print(r.is_transitive())"
   ]
  },
  {
   "cell_type": "code",
   "execution_count": null,
   "id": "c70302c9",
   "metadata": {},
   "outputs": [],
   "source": []
  }
 ],
 "metadata": {
  "kernelspec": {
   "display_name": "Python 3",
   "language": "python",
   "name": "python3"
  },
  "language_info": {
   "codemirror_mode": {
    "name": "ipython",
    "version": 3
   },
   "file_extension": ".py",
   "mimetype": "text/x-python",
   "name": "python",
   "nbconvert_exporter": "python",
   "pygments_lexer": "ipython3",
   "version": "3.9.4"
  }
 },
 "nbformat": 4,
 "nbformat_minor": 5
}
