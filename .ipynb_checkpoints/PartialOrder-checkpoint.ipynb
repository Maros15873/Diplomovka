{
 "cells": [
  {
   "cell_type": "code",
   "execution_count": 13,
   "id": "fe2e17d9",
   "metadata": {
    "collapsed": true
   },
   "outputs": [
    {
     "name": "stdout",
     "output_type": "stream",
     "text": [
      "R = {(1, 1),(1, 2),(2, 1),(3, 3)}\n",
      "S = {(1, 3),(2, 2),(3, 1)}\n",
      "R∘S = {(1, 2),(1, 3),(2, 3),(3, 1)}\n",
      "R complement = {(1, 3),(2, 2),(2, 3),(3, 1),(3, 2)}\n",
      "R∘S converse = {(1, 3),(2, 1),(3, 1),(3, 2)}\n",
      "(R) 1 is in relation with: FiniteSet(1, 2)\n",
      "False\n",
      "False\n",
      "False\n",
      "False\n",
      "False\n"
     ]
    }
   ],
   "source": [
    "%run HomogeneousRelation.ipynb"
   ]
  },
  {
   "cell_type": "code",
   "execution_count": 14,
   "id": "a00e35f8",
   "metadata": {},
   "outputs": [],
   "source": [
    "class PartialOrder(HomogeneousRelation):\n",
    "    \n",
    "    def __init__(self,set_=None,relation=None):\n",
    "        self._dom = FiniteSet(EmptySet) if set_ is None else FiniteSet(*set_)\n",
    "        self._rng = FiniteSet(EmptySet) if set_ is None else FiniteSet(*set_)\n",
    "        self._relation = FiniteSet(EmptySet) if relation is None else FiniteSet(*relation)\n",
    "        \n",
    "        if self._relation is not None:\n",
    "            if (self.isReflexive()) and (self.isAntisymetric()) and (self.isTransitive()):\n",
    "                pass\n",
    "            else:\n",
    "                raise Exception(\"Not Partial Order!\")"
   ]
  },
  {
   "cell_type": "code",
   "execution_count": 15,
   "id": "ce80edda",
   "metadata": {},
   "outputs": [
    {
     "name": "stdout",
     "output_type": "stream",
     "text": [
      "R = {(1, 1),(2, 2),(3, 3)}\n"
     ]
    }
   ],
   "source": [
    "r = PartialOrder({1,2,3},{(1,1),(2,2),(3,3)})\n",
    "print(f\"R = {r}\")"
   ]
  }
 ],
 "metadata": {
  "kernelspec": {
   "display_name": "Python 3",
   "language": "python",
   "name": "python3"
  },
  "language_info": {
   "codemirror_mode": {
    "name": "ipython",
    "version": 3
   },
   "file_extension": ".py",
   "mimetype": "text/x-python",
   "name": "python",
   "nbconvert_exporter": "python",
   "pygments_lexer": "ipython3",
   "version": "3.9.4"
  }
 },
 "nbformat": 4,
 "nbformat_minor": 5
}
