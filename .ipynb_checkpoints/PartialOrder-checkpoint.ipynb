{
 "cells": [
  {
   "cell_type": "code",
   "execution_count": 17,
   "id": "fe2e17d9",
   "metadata": {},
   "outputs": [
    {
     "name": "stdout",
     "output_type": "stream",
     "text": [
      "R = {(1, 4),(1, 5),(2, 4),(3, 6)}\n",
      "S = {(4, 9),(5, 8),(6, 7)}\n",
      "R∘S = {(1, 8),(1, 9),(2, 9),(3, 7)}\n",
      "\n",
      "is binary relation? R = True\n",
      "is binary relation? S = True\n",
      "\n",
      "is homogeneous relation? R = False\n",
      "is homogeneous relation? S = False\n",
      "\n",
      "is identity relation? R = False\n",
      "is identity relation? S = False\n",
      "\n",
      "S[A] = FiniteSet(8, 9)\n",
      "S-1[A] = FiniteSet(5, 6)\n",
      "\n",
      "dom S = FiniteSet(4, 5, 6)\n",
      "rng S = FiniteSet(7, 8, 9)\n",
      "\n",
      "R == S: False\n",
      "R != S: True\n",
      "R < S: False\n",
      "R <= S: False\n",
      "R > S: False\n",
      "R >= S: False\n",
      "\n",
      "R | S = FiniteSet((1, 4), (1, 5), (2, 4), (3, 6), (4, 9), (5, 8), (6, 7))\n",
      "R & S = EmptySet\n",
      "R - S = FiniteSet((1, 4), (1, 5), (2, 4), (3, 6))\n",
      "R ^ S = FiniteSet((1, 4), (1, 5), (2, 4), (3, 6), (4, 9), (5, 8), (6, 7))\n",
      "R * S = ProductSet(FiniteSet((1, 4), (1, 5), (2, 4), (3, 6)), FiniteSet((4, 9), (5, 8), (6, 7)))\n",
      "\n",
      "R complement = {(1, 6),(2, 5),(2, 6),(3, 4),(3, 5)}\n",
      "R∘S converse = {(7, 3),(8, 1),(9, 1),(9, 2)}\n",
      "\n",
      "'1' is in relation with: FiniteSet(4, 5) in R\n",
      "FiniteSet(4, 5)\n",
      "0\n",
      "False\n",
      "False\n",
      "False\n",
      "False\n",
      "True\n"
     ]
    }
   ],
   "source": [
    "%run homogeneousRelation.ipynb"
   ]
  },
  {
   "cell_type": "code",
   "execution_count": 32,
   "id": "a00e35f8",
   "metadata": {},
   "outputs": [],
   "source": [
    "class PartialOrder(HomogeneousRelation):\n",
    "    \n",
    "    def __init__(self,relation=None,domain=None):\n",
    "        super().__init__(relation, domain)\n",
    "        \n",
    "    def greatest_element(self):\n",
    "        maximal_elements = self.maximum()\n",
    "        if len(maximal_elements) != 1:\n",
    "            return None\n",
    "        return maximal_elements[0] if self.in_relation_with(maximal_elements[0]) == self.get_domain() else None  \n",
    "        \n",
    "    def least_element(self):\n",
    "        minimal_elements = self.minimum()\n",
    "        if len(minimal_elements) != 1:\n",
    "            return None\n",
    "        return minimal_elements[0] if self.is_in_relation_with(minimal_elements[0]) == self.get_domain() else None  \n",
    "        \n",
    "    def maximum(self):\n",
    "        maximal_elements = []\n",
    "        for x in self.get_domain():\n",
    "            if self.is_in_relation_with(x) == {x}:\n",
    "                maximal_elements.append(x)\n",
    "        return maximal_elements\n",
    "        \n",
    "    def minimum(self):\n",
    "        minimal_elements = []\n",
    "        for x in self.get_domain():\n",
    "            if self.in_relation_with(x) == {x}:\n",
    "                minimal_elements.append(x)\n",
    "        return minimal_elements\n",
    "    \n",
    "    def is_total_order(self):\n",
    "        for x in self.get_domain():\n",
    "            for y in self.get_domain():\n",
    "                if not((x,y) in self.get_relation() or (y,x) in self.get_relation()):\n",
    "                    return False\n",
    "        return True\n",
    "    \n",
    "    def infimum(self, args):\n",
    "        tc = self.transitive_closure()\n",
    "        print(tc)\n",
    "        result = None\n",
    "        for x in self.get_domain():\n",
    "            h = True\n",
    "            for element in args:\n",
    "                if x not in tc[element]:\n",
    "                    h = False\n",
    "            if h == True:\n",
    "                if result is None:\n",
    "                    result = x\n",
    "                elif x not in tc[result]:\n",
    "                    result = x\n",
    "        return result\n",
    "    \n",
    "    def supremum(self, args):\n",
    "        tc = self.transitive_closure()\n",
    "        print(tc)\n",
    "        result = None\n",
    "        for x in self.get_domain():\n",
    "            h = True\n",
    "            for element in args:\n",
    "                if element not in tc[x]:\n",
    "                    h = False\n",
    "            if h == True:\n",
    "                if result is None:\n",
    "                    result = x\n",
    "                elif result not in tc[x]:\n",
    "                    result = x\n",
    "        return result\n",
    "        \n",
    "    def is_lattice(self):\n",
    "        for x,y in self.cartesian_product():\n",
    "            if self.infimum([x,y]) is None or self.supremum([x,y]) is None:\n",
    "                return False\n",
    "        return True\n",
    "        \n",
    "    def transitive_closure(self):\n",
    "        result = dict()\n",
    "        for x in self.get_domain():\n",
    "            for y in self.in_relation_with(x):\n",
    "                if x in result.keys():\n",
    "                    result[x] = result[x] | FiniteSet(y) | self.in_relation_with(y)\n",
    "                else:\n",
    "                    result[x] = FiniteSet(y) | self.in_relation_with(y)\n",
    "        return result\n",
    "                    \n",
    "                    \n",
    "                    \n",
    "        \n",
    "    "
   ]
  },
  {
   "cell_type": "code",
   "execution_count": 33,
   "id": "ce80edda",
   "metadata": {},
   "outputs": [
    {
     "name": "stdout",
     "output_type": "stream",
     "text": [
      "R = {(1, 1),(2, 1),(2, 2),(3, 1),(3, 2),(3, 3)}\n",
      "[3]\n",
      "[1]\n",
      "3\n",
      "1\n",
      "True\n",
      "True\n"
     ]
    }
   ],
   "source": [
    "r = PartialOrder({(1,1),(2,2),(3,3),(2,1),(3,1),(3,2)},{1,2,3})\n",
    "print(f\"R = {r}\")\n",
    "\n",
    "print(r.maximum())\n",
    "print(r.minimum())\n",
    "print(r.greatest_element())\n",
    "print(r.least_element())\n",
    "print(r.is_partial_order())\n",
    "print(r.is_total_order())"
   ]
  },
  {
   "cell_type": "code",
   "execution_count": 34,
   "id": "c9df4929",
   "metadata": {},
   "outputs": [
    {
     "name": "stdout",
     "output_type": "stream",
     "text": [
      "True\n"
     ]
    }
   ],
   "source": [
    "print(r.in_relation_with(1) == {1})"
   ]
  },
  {
   "cell_type": "code",
   "execution_count": 35,
   "id": "c91415af",
   "metadata": {},
   "outputs": [
    {
     "ename": "KeyError",
     "evalue": "1",
     "output_type": "error",
     "traceback": [
      "\u001b[1;31m---------------------------------------------------------------------------\u001b[0m",
      "\u001b[1;31mKeyError\u001b[0m                                  Traceback (most recent call last)",
      "\u001b[1;32m<ipython-input-35-f0b5447c8212>\u001b[0m in \u001b[0;36m<module>\u001b[1;34m\u001b[0m\n\u001b[0;32m     11\u001b[0m \u001b[1;33m\u001b[0m\u001b[0m\n\u001b[0;32m     12\u001b[0m \u001b[1;33m\u001b[0m\u001b[0m\n\u001b[1;32m---> 13\u001b[1;33m \u001b[0mprint\u001b[0m\u001b[1;33m(\u001b[0m\u001b[0mp\u001b[0m\u001b[1;33m.\u001b[0m\u001b[0minfimum\u001b[0m\u001b[1;33m(\u001b[0m\u001b[1;33m[\u001b[0m\u001b[1;36m4\u001b[0m\u001b[1;33m,\u001b[0m\u001b[1;36m10\u001b[0m\u001b[1;33m]\u001b[0m\u001b[1;33m)\u001b[0m\u001b[1;33m)\u001b[0m\u001b[1;33m\u001b[0m\u001b[1;33m\u001b[0m\u001b[0m\n\u001b[0m\u001b[0;32m     14\u001b[0m \u001b[0mprint\u001b[0m\u001b[1;33m(\u001b[0m\u001b[0mp\u001b[0m\u001b[1;33m.\u001b[0m\u001b[0msupremum\u001b[0m\u001b[1;33m(\u001b[0m\u001b[1;33m[\u001b[0m\u001b[1;36m4\u001b[0m\u001b[1;33m,\u001b[0m\u001b[1;36m10\u001b[0m\u001b[1;33m]\u001b[0m\u001b[1;33m)\u001b[0m\u001b[1;33m)\u001b[0m\u001b[1;33m\u001b[0m\u001b[1;33m\u001b[0m\u001b[0m\n\u001b[0;32m     15\u001b[0m \u001b[1;33m\u001b[0m\u001b[0m\n",
      "\u001b[1;32m<ipython-input-32-1f886bac1651>\u001b[0m in \u001b[0;36minfimum\u001b[1;34m(self, args)\u001b[0m\n\u001b[0;32m     38\u001b[0m \u001b[1;33m\u001b[0m\u001b[0m\n\u001b[0;32m     39\u001b[0m     \u001b[1;32mdef\u001b[0m \u001b[0minfimum\u001b[0m\u001b[1;33m(\u001b[0m\u001b[0mself\u001b[0m\u001b[1;33m,\u001b[0m \u001b[0margs\u001b[0m\u001b[1;33m)\u001b[0m\u001b[1;33m:\u001b[0m\u001b[1;33m\u001b[0m\u001b[1;33m\u001b[0m\u001b[0m\n\u001b[1;32m---> 40\u001b[1;33m         \u001b[0mtc\u001b[0m \u001b[1;33m=\u001b[0m \u001b[0mself\u001b[0m\u001b[1;33m.\u001b[0m\u001b[0mtransitive_closure\u001b[0m\u001b[1;33m(\u001b[0m\u001b[1;33m)\u001b[0m\u001b[1;33m\u001b[0m\u001b[1;33m\u001b[0m\u001b[0m\n\u001b[0m\u001b[0;32m     41\u001b[0m         \u001b[0mprint\u001b[0m\u001b[1;33m(\u001b[0m\u001b[0mtc\u001b[0m\u001b[1;33m)\u001b[0m\u001b[1;33m\u001b[0m\u001b[1;33m\u001b[0m\u001b[0m\n\u001b[0;32m     42\u001b[0m         \u001b[0mresult\u001b[0m \u001b[1;33m=\u001b[0m \u001b[1;32mNone\u001b[0m\u001b[1;33m\u001b[0m\u001b[1;33m\u001b[0m\u001b[0m\n",
      "\u001b[1;32m<ipython-input-32-1f886bac1651>\u001b[0m in \u001b[0;36mtransitive_closure\u001b[1;34m(self)\u001b[0m\n\u001b[0;32m     79\u001b[0m         \u001b[1;32mfor\u001b[0m \u001b[0mx\u001b[0m \u001b[1;32min\u001b[0m \u001b[0mself\u001b[0m\u001b[1;33m.\u001b[0m\u001b[0mget_domain\u001b[0m\u001b[1;33m(\u001b[0m\u001b[1;33m)\u001b[0m\u001b[1;33m:\u001b[0m\u001b[1;33m\u001b[0m\u001b[1;33m\u001b[0m\u001b[0m\n\u001b[0;32m     80\u001b[0m             \u001b[1;32mfor\u001b[0m \u001b[0my\u001b[0m \u001b[1;32min\u001b[0m \u001b[0mself\u001b[0m\u001b[1;33m.\u001b[0m\u001b[0min_relation_with\u001b[0m\u001b[1;33m(\u001b[0m\u001b[0mx\u001b[0m\u001b[1;33m)\u001b[0m\u001b[1;33m:\u001b[0m\u001b[1;33m\u001b[0m\u001b[1;33m\u001b[0m\u001b[0m\n\u001b[1;32m---> 81\u001b[1;33m                 \u001b[0mresult\u001b[0m\u001b[1;33m[\u001b[0m\u001b[0mx\u001b[0m\u001b[1;33m]\u001b[0m \u001b[1;33m=\u001b[0m \u001b[0mresult\u001b[0m\u001b[1;33m[\u001b[0m\u001b[0mx\u001b[0m\u001b[1;33m]\u001b[0m \u001b[1;33m|\u001b[0m \u001b[0mFiniteSet\u001b[0m\u001b[1;33m(\u001b[0m\u001b[0my\u001b[0m\u001b[1;33m)\u001b[0m \u001b[1;33m|\u001b[0m \u001b[0mself\u001b[0m\u001b[1;33m.\u001b[0m\u001b[0min_relation_with\u001b[0m\u001b[1;33m(\u001b[0m\u001b[0my\u001b[0m\u001b[1;33m)\u001b[0m\u001b[1;33m\u001b[0m\u001b[1;33m\u001b[0m\u001b[0m\n\u001b[0m\u001b[0;32m     82\u001b[0m         \u001b[1;32mreturn\u001b[0m \u001b[0mresult\u001b[0m\u001b[1;33m\u001b[0m\u001b[1;33m\u001b[0m\u001b[0m\n\u001b[0;32m     83\u001b[0m \u001b[1;33m\u001b[0m\u001b[0m\n",
      "\u001b[1;31mKeyError\u001b[0m: 1"
     ]
    }
   ],
   "source": [
    "s = FiniteSet(1,2,3,4,5,6,10,12,15,20,30,60)\n",
    "    \n",
    "r = s ** 2\n",
    "\n",
    "br = set()\n",
    "for a,b in r:\n",
    "    if b % a == 0:\n",
    "        br.add((a,b))\n",
    "        \n",
    "p = PartialOrder(br, s)\n",
    "\n",
    "\n",
    "print(p.infimum([4,10]))\n",
    "print(p.supremum([4,10]))\n",
    "\n",
    "print(p.infimum([4,6,10]))\n",
    "print(p.supremum([4,6,10]))\n",
    "\n",
    "print(p.infimum([4,6,10,15]))\n",
    "print(p.supremum([4,6,10,15]))\n",
    "\n",
    "print(f\"lattice? -> {p.is_lattice()}\")\n",
    "\n",
    "print(p.infimum([60,3]))\n",
    "print(p.supremum([60,3]))\n"
   ]
  },
  {
   "cell_type": "code",
   "execution_count": null,
   "id": "cf833f8b",
   "metadata": {},
   "outputs": [],
   "source": []
  },
  {
   "cell_type": "code",
   "execution_count": null,
   "id": "fabb3c17",
   "metadata": {},
   "outputs": [],
   "source": []
  }
 ],
 "metadata": {
  "kernelspec": {
   "display_name": "Python 3",
   "language": "python",
   "name": "python3"
  },
  "language_info": {
   "codemirror_mode": {
    "name": "ipython",
    "version": 3
   },
   "file_extension": ".py",
   "mimetype": "text/x-python",
   "name": "python",
   "nbconvert_exporter": "python",
   "pygments_lexer": "ipython3",
   "version": "3.9.4"
  }
 },
 "nbformat": 4,
 "nbformat_minor": 5
}
