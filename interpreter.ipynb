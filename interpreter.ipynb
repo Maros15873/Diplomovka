{
 "cells": [
  {
   "cell_type": "code",
   "execution_count": 51,
   "id": "c5136ce1",
   "metadata": {
    "collapsed": true
   },
   "outputs": [
    {
     "name": "stdout",
     "output_type": "stream",
     "text": [
      "R = {(1, 4),(1, 5),(2, 4),(3, 6)}\n",
      "S = {(4, 9),(5, 8),(6, 7)}\n",
      "R∘S = {(1, 8),(1, 9),(2, 9),(3, 7)}\n",
      "\n",
      "is binary relation? R = True\n",
      "is binary relation? S = True\n",
      "\n",
      "is homogeneous relation? R = False\n",
      "is homogeneous relation? S = False\n",
      "\n",
      "is identity relation? R = False\n",
      "is identity relation? S = False\n",
      "\n",
      "S[A] = FiniteSet(8, 9)\n",
      "S-1[A] = FiniteSet(5, 6)\n",
      "\n",
      "dom S = FiniteSet(4, 5, 6)\n",
      "rng S = FiniteSet(7, 8, 9)\n",
      "\n",
      "R == S: False\n",
      "R != S: True\n",
      "R < S: False\n",
      "R <= S: False\n",
      "R > S: False\n",
      "R >= S: False\n",
      "\n",
      "R | S = {(1, 4),(1, 5),(2, 4),(3, 6),(4, 9),(5, 8),(6, 7)}\n",
      "R & S = {}\n",
      "R - S = {(1, 4),(1, 5),(2, 4),(3, 6)}\n",
      "R ^ S = {(1, 4),(1, 5),(2, 4),(3, 6),(4, 9),(5, 8),(6, 7)}\n",
      "\n",
      "R complement = {(1, 6),(2, 5),(2, 6),(3, 4),(3, 5)}\n",
      "R∘S converse = {(7, 3),(8, 1),(9, 1),(9, 2)}\n",
      "\n",
      "'1' is in relation with: [4, 5] in R\n",
      "[4, 5]\n",
      "[1, 2]\n",
      "True\n",
      "False\n",
      "False\n",
      "False\n",
      "True\n",
      "R = {(1, 1),(2, 1),(2, 2),(3, 1),(3, 2),(3, 3)}\n",
      "[3]\n",
      "[1]\n",
      "3\n",
      "1\n",
      "True\n",
      "True\n",
      "True\n",
      "2\n",
      "20\n",
      "2\n",
      "60\n",
      "1\n",
      "60\n",
      "3\n",
      "60\n",
      "----------\n",
      "True\n",
      "False\n",
      "[1]\n",
      "1\n",
      "[60]\n",
      "60\n"
     ]
    },
    {
     "ename": "NameError",
     "evalue": "name 'FiniteSet2' is not defined",
     "output_type": "error",
     "traceback": [
      "\u001b[1;31m---------------------------------------------------------------------------\u001b[0m",
      "\u001b[1;31mNameError\u001b[0m                                 Traceback (most recent call last)",
      "\u001b[1;32m~\\Desktop\\Diplomovka\\partialOrder.ipynb\u001b[0m in \u001b[0;36m<module>\u001b[1;34m\u001b[0m\n\u001b[0;32m      5\u001b[0m \u001b[1;31m#A = divisors(n) - {1, n}\u001b[0m\u001b[1;33m\u001b[0m\u001b[1;33m\u001b[0m\u001b[1;33m\u001b[0m\u001b[0m\n\u001b[0;32m      6\u001b[0m \u001b[1;31m#relation = {(x, y) for x in A for y in A if y % x == 0}\u001b[0m\u001b[1;33m\u001b[0m\u001b[1;33m\u001b[0m\u001b[1;33m\u001b[0m\u001b[0m\n\u001b[1;32m----> 7\u001b[1;33m \u001b[0mA\u001b[0m \u001b[1;33m=\u001b[0m \u001b[0mFiniteSet2\u001b[0m\u001b[1;33m(\u001b[0m\u001b[1;33m*\u001b[0m\u001b[0mA\u001b[0m\u001b[1;33m)\u001b[0m\u001b[1;33m\u001b[0m\u001b[1;33m\u001b[0m\u001b[0m\n\u001b[0m\u001b[0;32m      8\u001b[0m \u001b[0mrelation\u001b[0m \u001b[1;33m=\u001b[0m \u001b[1;33m{\u001b[0m\u001b[1;33m(\u001b[0m\u001b[0mx\u001b[0m\u001b[1;33m,\u001b[0m \u001b[0my\u001b[0m\u001b[1;33m)\u001b[0m \u001b[1;32mfor\u001b[0m \u001b[1;33m(\u001b[0m\u001b[0mx\u001b[0m\u001b[1;33m,\u001b[0m \u001b[0my\u001b[0m\u001b[1;33m)\u001b[0m \u001b[1;32min\u001b[0m \u001b[1;33m(\u001b[0m\u001b[0mA\u001b[0m \u001b[1;33m*\u001b[0m \u001b[0mA\u001b[0m\u001b[1;33m)\u001b[0m \u001b[1;32mif\u001b[0m \u001b[0my\u001b[0m \u001b[1;33m%\u001b[0m \u001b[0mx\u001b[0m \u001b[1;33m==\u001b[0m \u001b[1;36m0\u001b[0m\u001b[1;33m}\u001b[0m \u001b[1;31m# ERROR\u001b[0m\u001b[1;33m\u001b[0m\u001b[1;33m\u001b[0m\u001b[0m\n\u001b[0;32m      9\u001b[0m \u001b[0mR\u001b[0m \u001b[1;33m=\u001b[0m \u001b[0mPartialOrder\u001b[0m\u001b[1;33m(\u001b[0m\u001b[0mrelation\u001b[0m\u001b[1;33m,\u001b[0m \u001b[0mA\u001b[0m\u001b[1;33m)\u001b[0m\u001b[1;33m\u001b[0m\u001b[1;33m\u001b[0m\u001b[0m\n",
      "\u001b[1;31mNameError\u001b[0m: name 'FiniteSet2' is not defined"
     ]
    },
    {
     "ename": "NameError",
     "evalue": "name 'FiniteSet2' is not defined",
     "output_type": "error",
     "traceback": [
      "\u001b[1;31m---------------------------------------------------------------------------\u001b[0m",
      "\u001b[1;31mNameError\u001b[0m                                 Traceback (most recent call last)",
      "\u001b[1;32m<ipython-input-51-af16618eaa5d>\u001b[0m in \u001b[0;36m<module>\u001b[1;34m\u001b[0m\n\u001b[1;32m----> 1\u001b[1;33m \u001b[0mget_ipython\u001b[0m\u001b[1;33m(\u001b[0m\u001b[1;33m)\u001b[0m\u001b[1;33m.\u001b[0m\u001b[0mrun_line_magic\u001b[0m\u001b[1;33m(\u001b[0m\u001b[1;34m'run'\u001b[0m\u001b[1;33m,\u001b[0m \u001b[1;34m'partialOrder.ipynb'\u001b[0m\u001b[1;33m)\u001b[0m\u001b[1;33m\u001b[0m\u001b[1;33m\u001b[0m\u001b[0m\n\u001b[0m",
      "\u001b[1;32m~\\anaconda3\\envs\\spdm\\lib\\site-packages\\IPython\\core\\interactiveshell.py\u001b[0m in \u001b[0;36mrun_line_magic\u001b[1;34m(self, magic_name, line, _stack_depth)\u001b[0m\n\u001b[0;32m   2342\u001b[0m                 \u001b[0mkwargs\u001b[0m\u001b[1;33m[\u001b[0m\u001b[1;34m'local_ns'\u001b[0m\u001b[1;33m]\u001b[0m \u001b[1;33m=\u001b[0m \u001b[0mself\u001b[0m\u001b[1;33m.\u001b[0m\u001b[0mget_local_scope\u001b[0m\u001b[1;33m(\u001b[0m\u001b[0mstack_depth\u001b[0m\u001b[1;33m)\u001b[0m\u001b[1;33m\u001b[0m\u001b[1;33m\u001b[0m\u001b[0m\n\u001b[0;32m   2343\u001b[0m             \u001b[1;32mwith\u001b[0m \u001b[0mself\u001b[0m\u001b[1;33m.\u001b[0m\u001b[0mbuiltin_trap\u001b[0m\u001b[1;33m:\u001b[0m\u001b[1;33m\u001b[0m\u001b[1;33m\u001b[0m\u001b[0m\n\u001b[1;32m-> 2344\u001b[1;33m                 \u001b[0mresult\u001b[0m \u001b[1;33m=\u001b[0m \u001b[0mfn\u001b[0m\u001b[1;33m(\u001b[0m\u001b[1;33m*\u001b[0m\u001b[0margs\u001b[0m\u001b[1;33m,\u001b[0m \u001b[1;33m**\u001b[0m\u001b[0mkwargs\u001b[0m\u001b[1;33m)\u001b[0m\u001b[1;33m\u001b[0m\u001b[1;33m\u001b[0m\u001b[0m\n\u001b[0m\u001b[0;32m   2345\u001b[0m             \u001b[1;32mreturn\u001b[0m \u001b[0mresult\u001b[0m\u001b[1;33m\u001b[0m\u001b[1;33m\u001b[0m\u001b[0m\n\u001b[0;32m   2346\u001b[0m \u001b[1;33m\u001b[0m\u001b[0m\n",
      "\u001b[1;32m~\\anaconda3\\envs\\spdm\\lib\\site-packages\\decorator.py\u001b[0m in \u001b[0;36mfun\u001b[1;34m(*args, **kw)\u001b[0m\n\u001b[0;32m    229\u001b[0m             \u001b[1;32mif\u001b[0m \u001b[1;32mnot\u001b[0m \u001b[0mkwsyntax\u001b[0m\u001b[1;33m:\u001b[0m\u001b[1;33m\u001b[0m\u001b[1;33m\u001b[0m\u001b[0m\n\u001b[0;32m    230\u001b[0m                 \u001b[0margs\u001b[0m\u001b[1;33m,\u001b[0m \u001b[0mkw\u001b[0m \u001b[1;33m=\u001b[0m \u001b[0mfix\u001b[0m\u001b[1;33m(\u001b[0m\u001b[0margs\u001b[0m\u001b[1;33m,\u001b[0m \u001b[0mkw\u001b[0m\u001b[1;33m,\u001b[0m \u001b[0msig\u001b[0m\u001b[1;33m)\u001b[0m\u001b[1;33m\u001b[0m\u001b[1;33m\u001b[0m\u001b[0m\n\u001b[1;32m--> 231\u001b[1;33m             \u001b[1;32mreturn\u001b[0m \u001b[0mcaller\u001b[0m\u001b[1;33m(\u001b[0m\u001b[0mfunc\u001b[0m\u001b[1;33m,\u001b[0m \u001b[1;33m*\u001b[0m\u001b[1;33m(\u001b[0m\u001b[0mextras\u001b[0m \u001b[1;33m+\u001b[0m \u001b[0margs\u001b[0m\u001b[1;33m)\u001b[0m\u001b[1;33m,\u001b[0m \u001b[1;33m**\u001b[0m\u001b[0mkw\u001b[0m\u001b[1;33m)\u001b[0m\u001b[1;33m\u001b[0m\u001b[1;33m\u001b[0m\u001b[0m\n\u001b[0m\u001b[0;32m    232\u001b[0m     \u001b[0mfun\u001b[0m\u001b[1;33m.\u001b[0m\u001b[0m__name__\u001b[0m \u001b[1;33m=\u001b[0m \u001b[0mfunc\u001b[0m\u001b[1;33m.\u001b[0m\u001b[0m__name__\u001b[0m\u001b[1;33m\u001b[0m\u001b[1;33m\u001b[0m\u001b[0m\n\u001b[0;32m    233\u001b[0m     \u001b[0mfun\u001b[0m\u001b[1;33m.\u001b[0m\u001b[0m__doc__\u001b[0m \u001b[1;33m=\u001b[0m \u001b[0mfunc\u001b[0m\u001b[1;33m.\u001b[0m\u001b[0m__doc__\u001b[0m\u001b[1;33m\u001b[0m\u001b[1;33m\u001b[0m\u001b[0m\n",
      "\u001b[1;32m~\\anaconda3\\envs\\spdm\\lib\\site-packages\\IPython\\core\\magic.py\u001b[0m in \u001b[0;36m<lambda>\u001b[1;34m(f, *a, **k)\u001b[0m\n\u001b[0;32m    185\u001b[0m     \u001b[1;31m# but it's overkill for just that one bit of state.\u001b[0m\u001b[1;33m\u001b[0m\u001b[1;33m\u001b[0m\u001b[1;33m\u001b[0m\u001b[0m\n\u001b[0;32m    186\u001b[0m     \u001b[1;32mdef\u001b[0m \u001b[0mmagic_deco\u001b[0m\u001b[1;33m(\u001b[0m\u001b[0marg\u001b[0m\u001b[1;33m)\u001b[0m\u001b[1;33m:\u001b[0m\u001b[1;33m\u001b[0m\u001b[1;33m\u001b[0m\u001b[0m\n\u001b[1;32m--> 187\u001b[1;33m         \u001b[0mcall\u001b[0m \u001b[1;33m=\u001b[0m \u001b[1;32mlambda\u001b[0m \u001b[0mf\u001b[0m\u001b[1;33m,\u001b[0m \u001b[1;33m*\u001b[0m\u001b[0ma\u001b[0m\u001b[1;33m,\u001b[0m \u001b[1;33m**\u001b[0m\u001b[0mk\u001b[0m\u001b[1;33m:\u001b[0m \u001b[0mf\u001b[0m\u001b[1;33m(\u001b[0m\u001b[1;33m*\u001b[0m\u001b[0ma\u001b[0m\u001b[1;33m,\u001b[0m \u001b[1;33m**\u001b[0m\u001b[0mk\u001b[0m\u001b[1;33m)\u001b[0m\u001b[1;33m\u001b[0m\u001b[1;33m\u001b[0m\u001b[0m\n\u001b[0m\u001b[0;32m    188\u001b[0m \u001b[1;33m\u001b[0m\u001b[0m\n\u001b[0;32m    189\u001b[0m         \u001b[1;32mif\u001b[0m \u001b[0mcallable\u001b[0m\u001b[1;33m(\u001b[0m\u001b[0marg\u001b[0m\u001b[1;33m)\u001b[0m\u001b[1;33m:\u001b[0m\u001b[1;33m\u001b[0m\u001b[1;33m\u001b[0m\u001b[0m\n",
      "\u001b[1;32m~\\anaconda3\\envs\\spdm\\lib\\site-packages\\IPython\\core\\magics\\execution.py\u001b[0m in \u001b[0;36mrun\u001b[1;34m(self, parameter_s, runner, file_finder)\u001b[0m\n\u001b[0;32m    722\u001b[0m             \u001b[1;32mwith\u001b[0m \u001b[0mpreserve_keys\u001b[0m\u001b[1;33m(\u001b[0m\u001b[0mself\u001b[0m\u001b[1;33m.\u001b[0m\u001b[0mshell\u001b[0m\u001b[1;33m.\u001b[0m\u001b[0muser_ns\u001b[0m\u001b[1;33m,\u001b[0m \u001b[1;34m'__file__'\u001b[0m\u001b[1;33m)\u001b[0m\u001b[1;33m:\u001b[0m\u001b[1;33m\u001b[0m\u001b[1;33m\u001b[0m\u001b[0m\n\u001b[0;32m    723\u001b[0m                 \u001b[0mself\u001b[0m\u001b[1;33m.\u001b[0m\u001b[0mshell\u001b[0m\u001b[1;33m.\u001b[0m\u001b[0muser_ns\u001b[0m\u001b[1;33m[\u001b[0m\u001b[1;34m'__file__'\u001b[0m\u001b[1;33m]\u001b[0m \u001b[1;33m=\u001b[0m \u001b[0mfilename\u001b[0m\u001b[1;33m\u001b[0m\u001b[1;33m\u001b[0m\u001b[0m\n\u001b[1;32m--> 724\u001b[1;33m                 \u001b[0mself\u001b[0m\u001b[1;33m.\u001b[0m\u001b[0mshell\u001b[0m\u001b[1;33m.\u001b[0m\u001b[0msafe_execfile_ipy\u001b[0m\u001b[1;33m(\u001b[0m\u001b[0mfilename\u001b[0m\u001b[1;33m,\u001b[0m \u001b[0mraise_exceptions\u001b[0m\u001b[1;33m=\u001b[0m\u001b[1;32mTrue\u001b[0m\u001b[1;33m)\u001b[0m\u001b[1;33m\u001b[0m\u001b[1;33m\u001b[0m\u001b[0m\n\u001b[0m\u001b[0;32m    725\u001b[0m             \u001b[1;32mreturn\u001b[0m\u001b[1;33m\u001b[0m\u001b[1;33m\u001b[0m\u001b[0m\n\u001b[0;32m    726\u001b[0m \u001b[1;33m\u001b[0m\u001b[0m\n",
      "\u001b[1;32m~\\anaconda3\\envs\\spdm\\lib\\site-packages\\IPython\\core\\interactiveshell.py\u001b[0m in \u001b[0;36msafe_execfile_ipy\u001b[1;34m(self, fname, shell_futures, raise_exceptions)\u001b[0m\n\u001b[0;32m   2829\u001b[0m                     \u001b[0mresult\u001b[0m \u001b[1;33m=\u001b[0m \u001b[0mself\u001b[0m\u001b[1;33m.\u001b[0m\u001b[0mrun_cell\u001b[0m\u001b[1;33m(\u001b[0m\u001b[0mcell\u001b[0m\u001b[1;33m,\u001b[0m \u001b[0msilent\u001b[0m\u001b[1;33m=\u001b[0m\u001b[1;32mTrue\u001b[0m\u001b[1;33m,\u001b[0m \u001b[0mshell_futures\u001b[0m\u001b[1;33m=\u001b[0m\u001b[0mshell_futures\u001b[0m\u001b[1;33m)\u001b[0m\u001b[1;33m\u001b[0m\u001b[1;33m\u001b[0m\u001b[0m\n\u001b[0;32m   2830\u001b[0m                     \u001b[1;32mif\u001b[0m \u001b[0mraise_exceptions\u001b[0m\u001b[1;33m:\u001b[0m\u001b[1;33m\u001b[0m\u001b[1;33m\u001b[0m\u001b[0m\n\u001b[1;32m-> 2831\u001b[1;33m                         \u001b[0mresult\u001b[0m\u001b[1;33m.\u001b[0m\u001b[0mraise_error\u001b[0m\u001b[1;33m(\u001b[0m\u001b[1;33m)\u001b[0m\u001b[1;33m\u001b[0m\u001b[1;33m\u001b[0m\u001b[0m\n\u001b[0m\u001b[0;32m   2832\u001b[0m                     \u001b[1;32melif\u001b[0m \u001b[1;32mnot\u001b[0m \u001b[0mresult\u001b[0m\u001b[1;33m.\u001b[0m\u001b[0msuccess\u001b[0m\u001b[1;33m:\u001b[0m\u001b[1;33m\u001b[0m\u001b[1;33m\u001b[0m\u001b[0m\n\u001b[0;32m   2833\u001b[0m                         \u001b[1;32mbreak\u001b[0m\u001b[1;33m\u001b[0m\u001b[1;33m\u001b[0m\u001b[0m\n",
      "\u001b[1;32m~\\anaconda3\\envs\\spdm\\lib\\site-packages\\IPython\\core\\interactiveshell.py\u001b[0m in \u001b[0;36mraise_error\u001b[1;34m(self)\u001b[0m\n\u001b[0;32m    329\u001b[0m             \u001b[1;32mraise\u001b[0m \u001b[0mself\u001b[0m\u001b[1;33m.\u001b[0m\u001b[0merror_before_exec\u001b[0m\u001b[1;33m\u001b[0m\u001b[1;33m\u001b[0m\u001b[0m\n\u001b[0;32m    330\u001b[0m         \u001b[1;32mif\u001b[0m \u001b[0mself\u001b[0m\u001b[1;33m.\u001b[0m\u001b[0merror_in_exec\u001b[0m \u001b[1;32mis\u001b[0m \u001b[1;32mnot\u001b[0m \u001b[1;32mNone\u001b[0m\u001b[1;33m:\u001b[0m\u001b[1;33m\u001b[0m\u001b[1;33m\u001b[0m\u001b[0m\n\u001b[1;32m--> 331\u001b[1;33m             \u001b[1;32mraise\u001b[0m \u001b[0mself\u001b[0m\u001b[1;33m.\u001b[0m\u001b[0merror_in_exec\u001b[0m\u001b[1;33m\u001b[0m\u001b[1;33m\u001b[0m\u001b[0m\n\u001b[0m\u001b[0;32m    332\u001b[0m \u001b[1;33m\u001b[0m\u001b[0m\n\u001b[0;32m    333\u001b[0m     \u001b[1;32mdef\u001b[0m \u001b[0m__repr__\u001b[0m\u001b[1;33m(\u001b[0m\u001b[0mself\u001b[0m\u001b[1;33m)\u001b[0m\u001b[1;33m:\u001b[0m\u001b[1;33m\u001b[0m\u001b[1;33m\u001b[0m\u001b[0m\n",
      "    \u001b[1;31m[... skipping hidden 1 frame]\u001b[0m\n",
      "\u001b[1;32m<ipython-input-51-9a1a574db60b>\u001b[0m in \u001b[0;36m<module>\u001b[1;34m\u001b[0m\n\u001b[0;32m      5\u001b[0m \u001b[1;31m#A = divisors(n) - {1, n}\u001b[0m\u001b[1;33m\u001b[0m\u001b[1;33m\u001b[0m\u001b[1;33m\u001b[0m\u001b[0m\n\u001b[0;32m      6\u001b[0m \u001b[1;31m#relation = {(x, y) for x in A for y in A if y % x == 0}\u001b[0m\u001b[1;33m\u001b[0m\u001b[1;33m\u001b[0m\u001b[1;33m\u001b[0m\u001b[0m\n\u001b[1;32m----> 7\u001b[1;33m \u001b[0mA\u001b[0m \u001b[1;33m=\u001b[0m \u001b[0mFiniteSet2\u001b[0m\u001b[1;33m(\u001b[0m\u001b[1;33m*\u001b[0m\u001b[0mA\u001b[0m\u001b[1;33m)\u001b[0m\u001b[1;33m\u001b[0m\u001b[1;33m\u001b[0m\u001b[0m\n\u001b[0m\u001b[0;32m      8\u001b[0m \u001b[0mrelation\u001b[0m \u001b[1;33m=\u001b[0m \u001b[1;33m{\u001b[0m\u001b[1;33m(\u001b[0m\u001b[0mx\u001b[0m\u001b[1;33m,\u001b[0m \u001b[0my\u001b[0m\u001b[1;33m)\u001b[0m \u001b[1;32mfor\u001b[0m \u001b[1;33m(\u001b[0m\u001b[0mx\u001b[0m\u001b[1;33m,\u001b[0m \u001b[0my\u001b[0m\u001b[1;33m)\u001b[0m \u001b[1;32min\u001b[0m \u001b[1;33m(\u001b[0m\u001b[0mA\u001b[0m \u001b[1;33m*\u001b[0m \u001b[0mA\u001b[0m\u001b[1;33m)\u001b[0m \u001b[1;32mif\u001b[0m \u001b[0my\u001b[0m \u001b[1;33m%\u001b[0m \u001b[0mx\u001b[0m \u001b[1;33m==\u001b[0m \u001b[1;36m0\u001b[0m\u001b[1;33m}\u001b[0m \u001b[1;31m# ERROR\u001b[0m\u001b[1;33m\u001b[0m\u001b[1;33m\u001b[0m\u001b[0m\n\u001b[0;32m      9\u001b[0m \u001b[0mR\u001b[0m \u001b[1;33m=\u001b[0m \u001b[0mPartialOrder\u001b[0m\u001b[1;33m(\u001b[0m\u001b[0mrelation\u001b[0m\u001b[1;33m,\u001b[0m \u001b[0mA\u001b[0m\u001b[1;33m)\u001b[0m\u001b[1;33m\u001b[0m\u001b[1;33m\u001b[0m\u001b[0m\n",
      "\u001b[1;31mNameError\u001b[0m: name 'FiniteSet2' is not defined"
     ]
    }
   ],
   "source": [
    "%run partialOrder.ipynb"
   ]
  },
  {
   "cell_type": "code",
   "execution_count": 162,
   "id": "e8224766",
   "metadata": {},
   "outputs": [],
   "source": [
    "import logging\n",
    "from lark import Lark, logger, Tree, Token\n",
    "\n",
    "parser = Lark('''\n",
    "                RELATION: \"P\"..\"Z\"\n",
    "                SET: \"A\"..\"O\"\n",
    "                ?logical_operator: set_product\n",
    "                     | logical_operator \"==\"  set_product  -> equal\n",
    "                     | logical_operator \"!=\"  set_product  -> not_equal\n",
    "                     | logical_operator \">\"   set_product  -> greater_than\n",
    "                     | logical_operator \"<\"   set_product  -> lower_than\n",
    "                     | logical_operator \">=\"  set_product  -> greater_equal\n",
    "                     | logical_operator \"<=\"  set_product  -> lower_equal\n",
    "                     | logical_operator \"and\" set_product -> conjunction\n",
    "                     | logical_operator \"or\"  set_product  -> disjunction\n",
    "                     | logical_operator \"->\"  set_product  -> implication\n",
    "                 ?set_product: item\n",
    "                     | set_product \"&\" item   -> intersection\n",
    "                     | set_product \"|\" item   -> union\n",
    "                     | set_product \"-\" item   -> difference\n",
    "                     | set_product \"^\" item   -> symmetric_difference\n",
    "                     | set_product \"*\" item   -> multiplication\n",
    "                 ?item: SET\n",
    "                     | RELATION\n",
    "                     | \"(\"logical_operator\")\"\n",
    "                 %import common.WS\n",
    "                 %ignore WS\n",
    "         ''', start='logical_operator')"
   ]
  },
  {
   "cell_type": "code",
   "execution_count": 163,
   "id": "2963e441",
   "metadata": {},
   "outputs": [],
   "source": [
    "A = FiniteSet(1,2,3,4)\n",
    "B = FiniteSet(3,4,5,6)\n",
    "\n",
    "tree = parser.parse(\"(((A & B) <= (A | B)) or ((A*B) > (A*B))) -> (((A != B) and (B == B)) -> (A >= (B - (A ^ B))))\")        "
   ]
  },
  {
   "cell_type": "code",
   "execution_count": 169,
   "id": "54ae4b9a",
   "metadata": {},
   "outputs": [],
   "source": [
    "def constant(data):\n",
    "        try:\n",
    "            return globals()[data]\n",
    "        except:\n",
    "            raise Exception(f\"Global variable - '{data}' doesn't exist!\")\n",
    "\n",
    "def interpret(node):\n",
    "    if isinstance(node, Tree):\n",
    "        left, right = node.children\n",
    "        if node.data == 'equal':\n",
    "            return interpret(left) == interpret(right)\n",
    "        elif node.data == 'not_equal':\n",
    "            return interpret(left) != interpret(right)\n",
    "        elif node.data == 'greater_than':\n",
    "            return interpret(left) > interpret(right)\n",
    "        elif node.data == 'lower_than':\n",
    "            return interpret(left) < interpret(right)\n",
    "        elif node.data == 'greater_equal':\n",
    "            return interpret(left) >= interpret(right)\n",
    "        elif node.data == 'lower_equal':\n",
    "            return interpret(left) <= interpret(right)\n",
    "        elif node.data == 'conjunction':\n",
    "            return interpret(left) and interpret(right)\n",
    "        elif node.data == 'disjunction':\n",
    "            return interpret(left) or interpret(right)\n",
    "        elif node.data == 'implication':\n",
    "            return (not interpret(left)) or interpret(right)\n",
    "        elif node.data == 'intersection':\n",
    "            return interpret(left) & interpret(right)\n",
    "        elif node.data == 'union':\n",
    "            return interpret(left) | interpret(right)\n",
    "        elif node.data == 'difference':\n",
    "            return interpret(left) - interpret(right)\n",
    "        elif node.data == 'symmetric_difference':\n",
    "            return interpret(left) ^ interpret(right)\n",
    "        elif node.data == 'multiplication':\n",
    "            return interpret(left) * interpret(right)\n",
    "        else:\n",
    "            raise Exception(f\"ERROR! {node.data}\")\n",
    "    elif isinstance(node, Token):\n",
    "        node = constant(node.value)\n",
    "        return node\n",
    "    else:\n",
    "        raise Exception(f\"ERROR! unkonown instance {type(node)}\")"
   ]
  },
  {
   "cell_type": "code",
   "execution_count": 170,
   "id": "f56a35a3",
   "metadata": {},
   "outputs": [
    {
     "name": "stdout",
     "output_type": "stream",
     "text": [
      "Tree('implication', [Tree('disjunction', [Tree('lower_equal', [Tree('intersection', [Token('SET', 'A'), Token('SET', 'B')]), Tree('union', [Token('SET', 'A'), Token('SET', 'B')])]), Tree('greater_than', [Tree('multiplication', [Token('SET', 'A'), Token('SET', 'B')]), Tree('multiplication', [Token('SET', 'A'), Token('SET', 'B')])])]), Tree('implication', [Tree('conjunction', [Tree('not_equal', [Token('SET', 'A'), Token('SET', 'B')]), Tree('equal', [Token('SET', 'B'), Token('SET', 'B')])]), Tree('greater_equal', [Token('SET', 'A'), Tree('difference', [Token('SET', 'B'), Tree('symmetric_difference', [Token('SET', 'A'), Token('SET', 'B')])])])])])\n",
      "Tree('disjunction', [Tree('lower_equal', [Tree('intersection', [Token('SET', 'A'), Token('SET', 'B')]), Tree('union', [Token('SET', 'A'), Token('SET', 'B')])]), Tree('greater_than', [Tree('multiplication', [Token('SET', 'A'), Token('SET', 'B')]), Tree('multiplication', [Token('SET', 'A'), Token('SET', 'B')])])])\n",
      "Tree('lower_equal', [Tree('intersection', [Token('SET', 'A'), Token('SET', 'B')]), Tree('union', [Token('SET', 'A'), Token('SET', 'B')])])\n",
      "Tree('intersection', [Token('SET', 'A'), Token('SET', 'B')])\n",
      "Tree('union', [Token('SET', 'A'), Token('SET', 'B')])\n",
      "Tree('greater_than', [Tree('multiplication', [Token('SET', 'A'), Token('SET', 'B')]), Tree('multiplication', [Token('SET', 'A'), Token('SET', 'B')])])\n",
      "Tree('multiplication', [Token('SET', 'A'), Token('SET', 'B')])\n",
      "Tree('multiplication', [Token('SET', 'A'), Token('SET', 'B')])\n",
      "Tree('implication', [Tree('conjunction', [Tree('not_equal', [Token('SET', 'A'), Token('SET', 'B')]), Tree('equal', [Token('SET', 'B'), Token('SET', 'B')])]), Tree('greater_equal', [Token('SET', 'A'), Tree('difference', [Token('SET', 'B'), Tree('symmetric_difference', [Token('SET', 'A'), Token('SET', 'B')])])])])\n",
      "Tree('conjunction', [Tree('not_equal', [Token('SET', 'A'), Token('SET', 'B')]), Tree('equal', [Token('SET', 'B'), Token('SET', 'B')])])\n",
      "Tree('not_equal', [Token('SET', 'A'), Token('SET', 'B')])\n",
      "Tree('equal', [Token('SET', 'B'), Token('SET', 'B')])\n",
      "Tree('greater_equal', [Token('SET', 'A'), Tree('difference', [Token('SET', 'B'), Tree('symmetric_difference', [Token('SET', 'A'), Token('SET', 'B')])])])\n",
      "Tree('difference', [Token('SET', 'B'), Tree('symmetric_difference', [Token('SET', 'A'), Token('SET', 'B')])])\n",
      "Tree('symmetric_difference', [Token('SET', 'A'), Token('SET', 'B')])\n"
     ]
    }
   ],
   "source": [
    "for p in tree.iter_subtrees_topdown():\n",
    "    print(p)"
   ]
  },
  {
   "cell_type": "code",
   "execution_count": 171,
   "id": "6fa94b72",
   "metadata": {},
   "outputs": [
    {
     "name": "stdout",
     "output_type": "stream",
     "text": [
      "True\n"
     ]
    }
   ],
   "source": [
    "print(interpret(tree))"
   ]
  },
  {
   "cell_type": "code",
   "execution_count": 175,
   "id": "dc2e980f",
   "metadata": {},
   "outputs": [
    {
     "name": "stdout",
     "output_type": "stream",
     "text": [
      "{}\n",
      "{(1, 4),(1, 5),(2, 4),(3, 6),(4, 9),(5, 8),(6, 7)}\n",
      "True\n"
     ]
    }
   ],
   "source": [
    "A = {1,2,3}\n",
    "B = {4,5,6}\n",
    "C = {7,8,9}\n",
    "\n",
    "R = BinaryRelation({(1,4),(1,5),(2,4),(3,6)},A,B)\n",
    "S = BinaryRelation({(4,9),(5,8),(6,7)},B,C)\n",
    "\n",
    "tree1 = parser.parse(\"R & S\")  \n",
    "tree2 = parser.parse(\"R|S\")  \n",
    "tree3 = parser.parse(\"R == R and S != R\")  \n",
    "\n",
    "print(interpret(tree1))\n",
    "print(interpret(tree2))\n",
    "print(interpret(tree3))"
   ]
  },
  {
   "cell_type": "code",
   "execution_count": null,
   "id": "0a7a2e0e",
   "metadata": {},
   "outputs": [],
   "source": []
  }
 ],
 "metadata": {
  "kernelspec": {
   "display_name": "Python 3",
   "language": "python",
   "name": "python3"
  },
  "language_info": {
   "codemirror_mode": {
    "name": "ipython",
    "version": 3
   },
   "file_extension": ".py",
   "mimetype": "text/x-python",
   "name": "python",
   "nbconvert_exporter": "python",
   "pygments_lexer": "ipython3",
   "version": "3.9.4"
  }
 },
 "nbformat": 4,
 "nbformat_minor": 5
}
