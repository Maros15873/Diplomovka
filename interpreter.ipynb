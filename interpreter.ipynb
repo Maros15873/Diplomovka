{
 "cells": [
  {
   "cell_type": "code",
   "execution_count": 1,
   "id": "c5136ce1",
   "metadata": {},
   "outputs": [
    {
     "name": "stderr",
     "output_type": "stream",
     "text": [
      "..........................................................................\n",
      "----------------------------------------------------------------------\n",
      "Ran 74 tests in 0.470s\n",
      "\n",
      "OK\n",
      "................................................................................\n",
      "----------------------------------------------------------------------\n",
      "Ran 80 tests in 0.470s\n",
      "\n",
      "OK\n",
      "..........................................................................................\n",
      "----------------------------------------------------------------------\n",
      "Ran 90 tests in 0.686s\n",
      "\n",
      "OK\n"
     ]
    }
   ],
   "source": [
    "%run partialOrder.ipynb"
   ]
  },
  {
   "cell_type": "code",
   "execution_count": 2,
   "id": "e8224766",
   "metadata": {},
   "outputs": [],
   "source": [
    "from lark import Lark, Tree, Token\n",
    "\n",
    "parser = Lark('''\n",
    "                RELATION: \"P\"..\"Z\"\n",
    "                SET: \"A\"..\"O\"\n",
    "                ?logical_operator: special_operator\n",
    "                     | logical_operator \"and\" special_operator  -> conjunction\n",
    "                     | logical_operator \"or\"  special_operator  -> disjunction                   \n",
    "                     | logical_operator \"->\"  special_operator  -> implication\n",
    "                     | logical_operator \"==\"  special_operator  -> equal\n",
    "                     | logical_operator \"!=\"  special_operator  -> not_equal\n",
    "                     | logical_operator \">\"   special_operator  -> greater_than\n",
    "                     | logical_operator \"<\"   special_operator  -> lower_than\n",
    "                     | logical_operator \">=\"  special_operator  -> greater_equal\n",
    "                     | logical_operator \"<=\"  special_operator  -> lower_equal                   \n",
    "                ?special_operator: properties\n",
    "                     | \"not\" logical_operator      -> negation\n",
    "                     | product \"is\" properties     -> is\n",
    "                     | product \"is not\" properties -> is_not\n",
    "                ?properties: product    \n",
    "                     | \"total_order\"   -> total_order\n",
    "                     | \"transitive\"    -> transitive\n",
    "                     | \"lattice\"       -> lattice\n",
    "                     | \"reflexive\"     -> reflexive\n",
    "                     | \"symmetric\"     -> symmetric\n",
    "                     | \"asymmetric\"    -> asymmetric\n",
    "                     | \"antisymmetric\" -> antisymmetric\n",
    "                ?product: atom\n",
    "                     | product \"°\" atom   -> composition\n",
    "                     | product \"&\" atom   -> intersection\n",
    "                     | product \"|\" atom   -> union\n",
    "                     | product \"-\" atom   -> difference\n",
    "                     | product \"^\" atom   -> symmetric_difference\n",
    "                     | product \"*\" atom   -> multiplication\n",
    "                ?atom: \"(\"logical_operator\")\"\n",
    "                     | SET \n",
    "                     | RELATION\n",
    "                %import common.WS\n",
    "                %ignore WS\n",
    "         ''', start='logical_operator')"
   ]
  },
  {
   "cell_type": "code",
   "execution_count": 3,
   "id": "8f2df9e8",
   "metadata": {},
   "outputs": [],
   "source": [
    "def constant(data):\n",
    "        try:\n",
    "            return globals()[data]\n",
    "        except:\n",
    "            raise Exception(f\"Global variable - '{data}' doesn't exist!\")\n",
    "\n",
    "def interpret(node):\n",
    "    if isinstance(node, Tree):\n",
    "        if node.data == 'negation':\n",
    "            return not interpret(node.children[0])\n",
    "        elif len(node.children) == 2:\n",
    "            left, right = node.children  \n",
    "            if node.data == 'equal':\n",
    "                return interpret(left) == interpret(right)\n",
    "            elif node.data == 'not_equal':\n",
    "                return interpret(left) != interpret(right)\n",
    "            elif node.data == 'greater_than':\n",
    "                return interpret(left) > interpret(right)\n",
    "            elif node.data == 'lower_than':\n",
    "                return interpret(left) < interpret(right)\n",
    "            elif node.data == 'greater_equal':\n",
    "                return interpret(left) >= interpret(right)\n",
    "            elif node.data == 'lower_equal':\n",
    "                return interpret(left) <= interpret(right)\n",
    "            elif node.data == 'conjunction':\n",
    "                return interpret(left) and interpret(right)\n",
    "            elif node.data == 'disjunction':\n",
    "                return interpret(left) or interpret(right)\n",
    "            elif node.data == 'implication':\n",
    "                return (not interpret(left)) or interpret(right)\n",
    "            elif node.data == 'intersection':\n",
    "                return interpret(left) & interpret(right)\n",
    "            elif node.data == 'union':\n",
    "                return interpret(left) | interpret(right)\n",
    "            elif node.data == 'difference':\n",
    "                return interpret(left) - interpret(right)\n",
    "            elif node.data == 'symmetric_difference':\n",
    "                return interpret(left) ^ interpret(right)\n",
    "            elif node.data == 'multiplication':\n",
    "                return interpret(left) * interpret(right)\n",
    "            elif node.data == 'composition':\n",
    "                return interpret(left).composition(interpret(right))\n",
    "            elif node.data == 'is' or node.data == 'is_not':\n",
    "                if right.data == 'lattice':\n",
    "                    return interpret(left).is_lattice() if node.data == 'is' else not interpret(left).is_lattice()\n",
    "                elif right.data == 'total_order':\n",
    "                    return interpret(left).is_total_order() if node.data == 'is' else not interpret(left).is_total_order()\n",
    "                elif right.data == 'reflexive':\n",
    "                    return interpret(left).is_reflexive() if node.data == 'is' else not interpret(left).is_reflexive()\n",
    "                elif right.data == 'symmetric':\n",
    "                    return interpret(left).is_symmetric() if node.data == 'is' else not interpret(left).is_symmetric()\n",
    "                elif right.data == 'asymmetric':\n",
    "                    return interpret(left).is_asymmetric() if node.data == 'is' else not interpret(left).is_asymmetric()\n",
    "                elif right.data == 'antisymmetric':\n",
    "                    return interpret(left).is_antisymmetric() if node.data == 'is' else not interpret(left).is_antisymmetric()\n",
    "                elif right.data == 'transitive':\n",
    "                    return interpret(left).is_transitive() if node.data == 'is' else not interpret(left).is_transitive()\n",
    "            else:\n",
    "                raise Exception(f\"ERROR! {node.data}\")\n",
    "    elif isinstance(node, Token):\n",
    "        node = constant(node.value)\n",
    "        return node\n",
    "    else:\n",
    "        raise Exception(f\"ERROR! unkonown instance {type(node)}\")"
   ]
  },
  {
   "cell_type": "code",
   "execution_count": 4,
   "id": "ec03cdcf",
   "metadata": {
    "scrolled": false
   },
   "outputs": [
    {
     "name": "stdout",
     "output_type": "stream",
     "text": [
      "[TREE]\n",
      "implication\n",
      "  conjunction\n",
      "    is\n",
      "      R\n",
      "      transitive\n",
      "    is\n",
      "      S\n",
      "      transitive\n",
      "  is\n",
      "    union\n",
      "      R\n",
      "      S\n",
      "    transitive\n",
      "[/TREE]\n",
      "\n",
      "[RESULT -> True]\n"
     ]
    }
   ],
   "source": [
    "R = HomogeneousRelation({(1,1),(2,2),(3,3)},{1,2,3}, True)\n",
    "S = HomogeneousRelation({(1,1),(2,2),(3,3)},{1,2,3}, True)\n",
    "\n",
    "tree = parser.parse(\"R is transitive and S is transitive -> R | S is transitive\")\n",
    "\n",
    "print(f\"[TREE]\\n{tree.pretty()}[/TREE]\\n\")\n",
    "print(f\"[RESULT -> {interpret(tree)}]\")"
   ]
  },
  {
   "cell_type": "code",
   "execution_count": 5,
   "id": "20cd9e53",
   "metadata": {},
   "outputs": [
    {
     "name": "stdout",
     "output_type": "stream",
     "text": [
      "[TREE]\n",
      "conjunction\n",
      "  conjunction\n",
      "    is\n",
      "      R\n",
      "      transitive\n",
      "    is\n",
      "      S\n",
      "      transitive\n",
      "  is_not\n",
      "    union\n",
      "      R\n",
      "      S\n",
      "    transitive\n",
      "[/TREE]\n",
      "\n",
      "[RESULT -> False]\n"
     ]
    }
   ],
   "source": [
    "R = HomogeneousRelation({(1,1),(2,2),(3,3)},{1,2,3}, True)\n",
    "S = HomogeneousRelation({(1,1),(2,2),(3,3)},{1,2,3}, True)\n",
    "\n",
    "tree = parser.parse(\"R is transitive and S is transitive and R | S is not transitive\")\n",
    "\n",
    "print(f\"[TREE]\\n{tree.pretty()}[/TREE]\\n\")\n",
    "print(f\"[RESULT -> {interpret(tree)}]\")"
   ]
  },
  {
   "cell_type": "code",
   "execution_count": 6,
   "id": "4415d1f9",
   "metadata": {},
   "outputs": [
    {
     "name": "stdout",
     "output_type": "stream",
     "text": [
      "[TREE]\n",
      "conjunction\n",
      "  conjunction\n",
      "    is\n",
      "      R\n",
      "      transitive\n",
      "    is\n",
      "      S\n",
      "      transitive\n",
      "  negation\n",
      "    is\n",
      "      union\n",
      "        R\n",
      "        S\n",
      "      transitive\n",
      "[/TREE]\n",
      "\n",
      "[RESULT -> False]\n"
     ]
    }
   ],
   "source": [
    "R = HomogeneousRelation({(1,1),(2,2),(3,3)},{1,2,3}, True)\n",
    "S = HomogeneousRelation({(1,1),(2,2),(3,3)},{1,2,3}, True)\n",
    "\n",
    "tree = parser.parse(\"R is transitive and S is transitive and not R | S is transitive\")\n",
    "\n",
    "print(f\"[TREE]\\n{tree.pretty()}[/TREE]\\n\")\n",
    "print(f\"[RESULT -> {interpret(tree)}]\")"
   ]
  },
  {
   "cell_type": "code",
   "execution_count": 7,
   "id": "2963e441",
   "metadata": {},
   "outputs": [
    {
     "name": "stdout",
     "output_type": "stream",
     "text": [
      "[TREE]\n",
      "implication\n",
      "  conjunction\n",
      "    is\n",
      "      S\n",
      "      lattice\n",
      "    is\n",
      "      union\n",
      "        R\n",
      "        S\n",
      "      transitive\n",
      "  is\n",
      "    S\n",
      "    total_order\n",
      "[/TREE]\n",
      "\n",
      "[RESULT -> True]\n"
     ]
    }
   ],
   "source": [
    "A = FiniteSet(1,2,3,4)\n",
    "B = FiniteSet(3,4,5,6)\n",
    "    \n",
    "R = HomogeneousRelation({(1,1),(2,2),(3,3)},{1,2,3}, True)\n",
    "S = PartialOrder({(1,1),(1,2),(1,3),(2,2),(2,3),(3,3)}, {1,2,3},True)\n",
    "\n",
    "tree = parser.parse(\"S is lattice and R|S is transitive ->  S is total_order\")\n",
    "\n",
    "print(f\"[TREE]\\n{tree.pretty()}[/TREE]\\n\")\n",
    "print(f\"[RESULT -> {interpret(tree)}]\")"
   ]
  },
  {
   "cell_type": "code",
   "execution_count": 8,
   "id": "0a7a2e0e",
   "metadata": {},
   "outputs": [
    {
     "name": "stdout",
     "output_type": "stream",
     "text": [
      "[TREE]\n",
      "implication\n",
      "  not_equal\n",
      "    S\n",
      "    S\n",
      "  is\n",
      "    S\n",
      "    total_order\n",
      "[/TREE]\n",
      "\n",
      "[RESULT -> True]\n"
     ]
    }
   ],
   "source": [
    "A = FiniteSet(1,2,3,4)\n",
    "B = FiniteSet(3,4,5,6)\n",
    "    \n",
    "R = HomogeneousRelation({(1,1),(2,2),(3,3)},{1,2,3}, True)\n",
    "S = PartialOrder({(1,1),(1,2),(1,3),(2,2),(2,3),(3,3)}, {1,2,3},True)\n",
    "\n",
    "tree = parser.parse(\"S != S ->  S is total_order\")\n",
    "\n",
    "print(f\"[TREE]\\n{tree.pretty()}[/TREE]\\n\")\n",
    "print(f\"[RESULT -> {interpret(tree)}]\")"
   ]
  },
  {
   "cell_type": "code",
   "execution_count": null,
   "id": "f5c5703f",
   "metadata": {},
   "outputs": [],
   "source": []
  }
 ],
 "metadata": {
  "kernelspec": {
   "display_name": "Python 3",
   "language": "python",
   "name": "python3"
  },
  "language_info": {
   "codemirror_mode": {
    "name": "ipython",
    "version": 3
   },
   "file_extension": ".py",
   "mimetype": "text/x-python",
   "name": "python",
   "nbconvert_exporter": "python",
   "pygments_lexer": "ipython3",
   "version": "3.9.4"
  }
 },
 "nbformat": 4,
 "nbformat_minor": 5
}
