{
 "cells": [
  {
   "cell_type": "code",
   "execution_count": 9,
   "id": "c5136ce1",
   "metadata": {},
   "outputs": [
    {
     "name": "stdout",
     "output_type": "stream",
     "text": [
      "R = {(1, 4),(1, 5),(2, 4),(3, 6)}\n",
      "S = {(4, 9),(5, 8),(6, 7)}\n",
      "R∘S = {(1, 8),(1, 9),(2, 9),(3, 7)}\n",
      "\n",
      "is binary relation? R = True\n",
      "is binary relation? S = True\n",
      "\n",
      "is homogeneous relation? R = False\n",
      "is homogeneous relation? S = False\n",
      "\n",
      "is identity relation? R = False\n",
      "is identity relation? S = False\n",
      "\n",
      "S[A] = FiniteSet(8, 9)\n",
      "S-1[A] = FiniteSet(5, 6)\n",
      "\n",
      "dom S = FiniteSet(4, 5, 6)\n",
      "rng S = FiniteSet(7, 8, 9)\n",
      "\n",
      "R == S: False\n",
      "R != S: True\n",
      "R < S: False\n",
      "R <= S: False\n",
      "R > S: False\n",
      "R >= S: False\n",
      "\n",
      "R | S = {(1, 4),(1, 5),(2, 4),(3, 6),(4, 9),(5, 8),(6, 7)}\n",
      "R & S = {}\n",
      "R - S = {(1, 4),(1, 5),(2, 4),(3, 6)}\n",
      "R ^ S = {(1, 4),(1, 5),(2, 4),(3, 6),(4, 9),(5, 8),(6, 7)}\n",
      "\n",
      "R complement = {(1, 6),(2, 5),(2, 6),(3, 4),(3, 5)}\n",
      "R∘S converse = {(7, 3),(8, 1),(9, 1),(9, 2)}\n",
      "\n",
      "'1' is in relation with: [4, 5] in R\n",
      "[4, 5]\n",
      "[1, 2]\n",
      "True\n",
      "2\n",
      "<class '__main__.Number'>\n",
      "True\n",
      "False\n",
      "False\n",
      "False\n",
      "True\n",
      "R = {(1, 1),(2, 1),(2, 2),(3, 1),(3, 2),(3, 3)}\n",
      "[3]\n",
      "[1]\n",
      "3\n",
      "1\n",
      "True\n",
      "True\n",
      "True\n",
      "2\n",
      "20\n",
      "2\n",
      "60\n",
      "1\n",
      "60\n",
      "3\n",
      "60\n",
      "----------\n",
      "True\n",
      "False\n",
      "[1]\n",
      "1\n",
      "[60]\n",
      "60\n",
      "True\n",
      "False\n",
      "[1]\n",
      "1\n",
      "[24]\n",
      "24\n",
      "2\n",
      "24\n",
      "{(1, 1),(2, 1),(2, 2),(3, 1),(3, 2),(3, 3)}\n",
      "2\n",
      "1\n",
      "{(2, 4), (3, 4), (1, 5), (1, 4), (2, 6), (3, 6), (1, 6), (2, 5), (3, 5)}\n"
     ]
    }
   ],
   "source": [
    "%run partialOrder.ipynb"
   ]
  },
  {
   "cell_type": "code",
   "execution_count": 2,
   "id": "e8224766",
   "metadata": {},
   "outputs": [],
   "source": [
    "import logging\n",
    "from lark import Lark, logger, Tree, Token\n",
    "\n",
    "parser = Lark('''\n",
    "                RELATION: \"P\"..\"Z\"\n",
    "                SET: \"A\"..\"O\"\n",
    "                ?logical_operator: set_product\n",
    "                     | logical_operator \"==\"  set_product  -> equal\n",
    "                     | logical_operator \"!=\"  set_product  -> not_equal\n",
    "                     | logical_operator \">\"   set_product  -> greater_than\n",
    "                     | logical_operator \"<\"   set_product  -> lower_than\n",
    "                     | logical_operator \">=\"  set_product  -> greater_equal\n",
    "                     | logical_operator \"<=\"  set_product  -> lower_equal\n",
    "                     | logical_operator \"and\" set_product -> conjunction\n",
    "                     | logical_operator \"or\"  set_product  -> disjunction\n",
    "                     | logical_operator \"->\"  set_product  -> implication\n",
    "                 ?set_product: item\n",
    "                     | set_product \"&\" item   -> intersection\n",
    "                     | set_product \"|\" item   -> union\n",
    "                     | set_product \"-\" item   -> difference\n",
    "                     | set_product \"^\" item   -> symmetric_difference\n",
    "                     | set_product \"*\" item   -> multiplication\n",
    "                 ?item: SET\n",
    "                     | RELATION\n",
    "                     | \"(\"logical_operator\")\"\n",
    "                 %import common.WS\n",
    "                 %ignore WS\n",
    "         ''', start='logical_operator')"
   ]
  },
  {
   "cell_type": "code",
   "execution_count": 3,
   "id": "2963e441",
   "metadata": {},
   "outputs": [],
   "source": [
    "A = FiniteSet(1,2,3,4)\n",
    "B = FiniteSet(3,4,5,6)\n",
    "\n",
    "tree = parser.parse(\"(((A & B) <= (A | B)) or ((A*B) > (A*B))) -> (((A != B) and (B == B)) -> (A >= (B - (A ^ B))))\")        "
   ]
  },
  {
   "cell_type": "code",
   "execution_count": 4,
   "id": "54ae4b9a",
   "metadata": {},
   "outputs": [],
   "source": [
    "def constant(data):\n",
    "        try:\n",
    "            return globals()[data]\n",
    "        except:\n",
    "            raise Exception(f\"Global variable - '{data}' doesn't exist!\")\n",
    "\n",
    "def interpret(node):\n",
    "    if isinstance(node, Tree):\n",
    "        left, right = node.children\n",
    "        if node.data == 'equal':\n",
    "            return interpret(left) == interpret(right)\n",
    "        elif node.data == 'not_equal':\n",
    "            return interpret(left) != interpret(right)\n",
    "        elif node.data == 'greater_than':\n",
    "            return interpret(left) > interpret(right)\n",
    "        elif node.data == 'lower_than':\n",
    "            return interpret(left) < interpret(right)\n",
    "        elif node.data == 'greater_equal':\n",
    "            return interpret(left) >= interpret(right)\n",
    "        elif node.data == 'lower_equal':\n",
    "            return interpret(left) <= interpret(right)\n",
    "        elif node.data == 'conjunction':\n",
    "            return interpret(left) and interpret(right)\n",
    "        elif node.data == 'disjunction':\n",
    "            return interpret(left) or interpret(right)\n",
    "        elif node.data == 'implication':\n",
    "            return (not interpret(left)) or interpret(right)\n",
    "        elif node.data == 'intersection':\n",
    "            return interpret(left) & interpret(right)\n",
    "        elif node.data == 'union':\n",
    "            return interpret(left) | interpret(right)\n",
    "        elif node.data == 'difference':\n",
    "            return interpret(left) - interpret(right)\n",
    "        elif node.data == 'symmetric_difference':\n",
    "            return interpret(left) ^ interpret(right)\n",
    "        elif node.data == 'multiplication':\n",
    "            return interpret(left) * interpret(right)\n",
    "        else:\n",
    "            raise Exception(f\"ERROR! {node.data}\")\n",
    "    elif isinstance(node, Token):\n",
    "        node = constant(node.value)\n",
    "        return node\n",
    "    else:\n",
    "        raise Exception(f\"ERROR! unkonown instance {type(node)}\")"
   ]
  },
  {
   "cell_type": "code",
   "execution_count": 5,
   "id": "f56a35a3",
   "metadata": {},
   "outputs": [
    {
     "name": "stdout",
     "output_type": "stream",
     "text": [
      "Tree('implication', [Tree('disjunction', [Tree('lower_equal', [Tree('intersection', [Token('SET', 'A'), Token('SET', 'B')]), Tree('union', [Token('SET', 'A'), Token('SET', 'B')])]), Tree('greater_than', [Tree('multiplication', [Token('SET', 'A'), Token('SET', 'B')]), Tree('multiplication', [Token('SET', 'A'), Token('SET', 'B')])])]), Tree('implication', [Tree('conjunction', [Tree('not_equal', [Token('SET', 'A'), Token('SET', 'B')]), Tree('equal', [Token('SET', 'B'), Token('SET', 'B')])]), Tree('greater_equal', [Token('SET', 'A'), Tree('difference', [Token('SET', 'B'), Tree('symmetric_difference', [Token('SET', 'A'), Token('SET', 'B')])])])])])\n",
      "Tree('disjunction', [Tree('lower_equal', [Tree('intersection', [Token('SET', 'A'), Token('SET', 'B')]), Tree('union', [Token('SET', 'A'), Token('SET', 'B')])]), Tree('greater_than', [Tree('multiplication', [Token('SET', 'A'), Token('SET', 'B')]), Tree('multiplication', [Token('SET', 'A'), Token('SET', 'B')])])])\n",
      "Tree('lower_equal', [Tree('intersection', [Token('SET', 'A'), Token('SET', 'B')]), Tree('union', [Token('SET', 'A'), Token('SET', 'B')])])\n",
      "Tree('intersection', [Token('SET', 'A'), Token('SET', 'B')])\n",
      "Tree('union', [Token('SET', 'A'), Token('SET', 'B')])\n",
      "Tree('greater_than', [Tree('multiplication', [Token('SET', 'A'), Token('SET', 'B')]), Tree('multiplication', [Token('SET', 'A'), Token('SET', 'B')])])\n",
      "Tree('multiplication', [Token('SET', 'A'), Token('SET', 'B')])\n",
      "Tree('multiplication', [Token('SET', 'A'), Token('SET', 'B')])\n",
      "Tree('implication', [Tree('conjunction', [Tree('not_equal', [Token('SET', 'A'), Token('SET', 'B')]), Tree('equal', [Token('SET', 'B'), Token('SET', 'B')])]), Tree('greater_equal', [Token('SET', 'A'), Tree('difference', [Token('SET', 'B'), Tree('symmetric_difference', [Token('SET', 'A'), Token('SET', 'B')])])])])\n",
      "Tree('conjunction', [Tree('not_equal', [Token('SET', 'A'), Token('SET', 'B')]), Tree('equal', [Token('SET', 'B'), Token('SET', 'B')])])\n",
      "Tree('not_equal', [Token('SET', 'A'), Token('SET', 'B')])\n",
      "Tree('equal', [Token('SET', 'B'), Token('SET', 'B')])\n",
      "Tree('greater_equal', [Token('SET', 'A'), Tree('difference', [Token('SET', 'B'), Tree('symmetric_difference', [Token('SET', 'A'), Token('SET', 'B')])])])\n",
      "Tree('difference', [Token('SET', 'B'), Tree('symmetric_difference', [Token('SET', 'A'), Token('SET', 'B')])])\n",
      "Tree('symmetric_difference', [Token('SET', 'A'), Token('SET', 'B')])\n"
     ]
    }
   ],
   "source": [
    "for p in tree.iter_subtrees_topdown():\n",
    "    print(p)"
   ]
  },
  {
   "cell_type": "code",
   "execution_count": 6,
   "id": "6fa94b72",
   "metadata": {},
   "outputs": [
    {
     "name": "stdout",
     "output_type": "stream",
     "text": [
      "True\n"
     ]
    }
   ],
   "source": [
    "print(interpret(tree))"
   ]
  },
  {
   "cell_type": "code",
   "execution_count": 7,
   "id": "dc2e980f",
   "metadata": {},
   "outputs": [
    {
     "name": "stdout",
     "output_type": "stream",
     "text": [
      "{}\n",
      "{(1, 4),(1, 5),(2, 4),(3, 6),(4, 9),(5, 8),(6, 7)}\n",
      "True\n"
     ]
    }
   ],
   "source": [
    "A = {1,2,3}\n",
    "B = {4,5,6}\n",
    "C = {7,8,9}\n",
    "\n",
    "R = BinaryRelation({(1,4),(1,5),(2,4),(3,6)},A,B)\n",
    "S = BinaryRelation({(4,9),(5,8),(6,7)},B,C)\n",
    "\n",
    "tree1 = parser.parse(\"R & S\")  \n",
    "tree2 = parser.parse(\"R|S\")  \n",
    "tree3 = parser.parse(\"R == R and S != R\")  \n",
    "\n",
    "print(interpret(tree1))\n",
    "print(interpret(tree2))\n",
    "print(interpret(tree3))"
   ]
  },
  {
   "cell_type": "code",
   "execution_count": null,
   "id": "0a7a2e0e",
   "metadata": {},
   "outputs": [],
   "source": []
  }
 ],
 "metadata": {
  "kernelspec": {
   "display_name": "Python 3",
   "language": "python",
   "name": "python3"
  },
  "language_info": {
   "codemirror_mode": {
    "name": "ipython",
    "version": 3
   },
   "file_extension": ".py",
   "mimetype": "text/x-python",
   "name": "python",
   "nbconvert_exporter": "python",
   "pygments_lexer": "ipython3",
   "version": "3.9.4"
  }
 },
 "nbformat": 4,
 "nbformat_minor": 5
}
