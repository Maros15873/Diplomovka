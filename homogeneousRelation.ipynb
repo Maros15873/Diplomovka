{
 "cells": [
  {
   "cell_type": "code",
   "execution_count": 8,
   "id": "ec264616",
   "metadata": {
    "collapsed": true
   },
   "outputs": [
    {
     "name": "stdout",
     "output_type": "stream",
     "text": [
      "R = {(1, 4),(1, 5),(2, 4),(3, 6)}\n",
      "S = {(4, 9),(5, 8),(6, 7)}\n",
      "R∘S = {(1, 8),(1, 9),(2, 9),(3, 7)}\n",
      "\n",
      "is binary relation? R = True\n",
      "is binary relation? S = True\n",
      "\n",
      "is homogeneous relation? R = False\n",
      "is homogeneous relation? S = False\n",
      "\n",
      "is identity relation? R = False\n",
      "is identity relation? S = False\n",
      "\n",
      "S[A] = FiniteSet(8, 9)\n",
      "S-1[A] = FiniteSet(5, 6)\n",
      "\n",
      "dom S = FiniteSet(4, 5, 6)\n",
      "rng S = FiniteSet(7, 8, 9)\n",
      "\n",
      "R == S: False\n",
      "R != S: True\n",
      "R < S: False\n",
      "R <= S: False\n",
      "R > S: False\n",
      "R >= S: False\n",
      "\n",
      "R | S = {(1, 4),(1, 5),(2, 4),(3, 6),(4, 9),(5, 8),(6, 7)}\n",
      "R & S = {}\n",
      "R - S = {(1, 4),(1, 5),(2, 4),(3, 6)}\n",
      "R ^ S = {(1, 4),(1, 5),(2, 4),(3, 6),(4, 9),(5, 8),(6, 7)}\n",
      "\n",
      "R complement = {(1, 6),(2, 5),(2, 6),(3, 4),(3, 5)}\n",
      "R∘S converse = {(7, 3),(8, 1),(9, 1),(9, 2)}\n",
      "\n",
      "'1' is in relation with: [4, 5] in R\n",
      "[4, 5]\n",
      "[1, 2]\n",
      "True\n",
      "2\n",
      "<class '__main__.Number'>\n"
     ]
    }
   ],
   "source": [
    "%run binaryRelation.ipynb"
   ]
  },
  {
   "cell_type": "code",
   "execution_count": 9,
   "id": "67a234b6",
   "metadata": {},
   "outputs": [],
   "source": [
    "class HomogeneousRelation(BinaryRelation):\n",
    "    \n",
    "    def __init__(self,relation=None,domain=None):\n",
    "        super().__init__(relation, domain, domain)\n",
    "        \n",
    "    def __binary_to_homogeneous(self, other):\n",
    "        return HomogeneousRelation(other.get_relation(), other.get_domain())\n",
    "\n",
    "    def __or__(self, other):\n",
    "        return self.union(other)\n",
    "\n",
    "    def __and__(self, other):\n",
    "        return self.intersection(other)\n",
    "\n",
    "    def __sub__(self, other):\n",
    "        return self.difference(other)\n",
    "\n",
    "    def __xor__(self, other):\n",
    "        return self.symmetric_difference(other)\n",
    "    \n",
    "    def union(self, other):\n",
    "        return self.__binary_to_homogeneous(super().union(other))\n",
    "        \n",
    "    def intersection(self, other):\n",
    "        return self.__binary_to_homogeneous(super().intersection(other))\n",
    "        \n",
    "    def difference(self, other):\n",
    "        return self.__binary_to_homogeneous(super().difference(other))\n",
    "    \n",
    "    def symmetric_difference(self, other):\n",
    "        return self.__binary_to_homogeneous(super().symmetric_difference(other))\n",
    "        \n",
    "    def complement(self):\n",
    "        return self.__binary_to_homogeneous(super().complement(other))\n",
    "    \n",
    "    def composition(self, other):\n",
    "        return self.__binary_to_homogeneous(super().composition(other))\n",
    "    \n",
    "    def converse(self):\n",
    "        return self.__binary_to_homogeneous(super().converse(other))\n",
    "        \n",
    "    def is_reflexive(self):\n",
    "        for x in self.get_domain():\n",
    "            if (x,x) not in self.get_relation():\n",
    "                return False\n",
    "        return True\n",
    "    \n",
    "    def is_symmetric(self):\n",
    "        for x,y in self.get_relation():\n",
    "            if (y,x) not in self.get_relation():\n",
    "                return False\n",
    "        return True\n",
    "    \n",
    "    def is_asymmetric(self):\n",
    "        for x,y in self.get_relation():\n",
    "            if (y,x) in self.get_relation():\n",
    "                return False\n",
    "        return True\n",
    "        \n",
    "    def is_antisymmetric(self):\n",
    "        for x,y in self.get_relation():\n",
    "            if (y,x) in self.get_relation() and (x != y):\n",
    "                return False\n",
    "        return True\n",
    "    \n",
    "    def is_transitive(self):\n",
    "        for x in self.get_domain():\n",
    "            for y in self.is_out_relation_with(x):\n",
    "                for z in self.is_out_relation_with(y):\n",
    "                    if (x,z) not in self.get_relation():\n",
    "                        return False\n",
    "        return True\n",
    "        \n",
    "    def is_partial_order(self):\n",
    "        return self.is_reflexive() and self.is_antisymmetric() and self.is_transitive()\n",
    "\n"
   ]
  },
  {
   "cell_type": "code",
   "execution_count": 10,
   "id": "16e64e4b",
   "metadata": {},
   "outputs": [
    {
     "name": "stdout",
     "output_type": "stream",
     "text": [
      "True\n",
      "False\n",
      "False\n",
      "False\n",
      "True\n"
     ]
    }
   ],
   "source": [
    "r = HomogeneousRelation({(1,2),(2,3),(2,1),(1,3),(1,1),(2,2),(3,3)},{1,2,3})\n",
    "print(r.is_reflexive())\n",
    "print(r.is_symmetric())\n",
    "print(r.is_asymmetric())\n",
    "print(r.is_antisymmetric())\n",
    "print(r.is_transitive())"
   ]
  },
  {
   "cell_type": "code",
   "execution_count": null,
   "id": "c70302c9",
   "metadata": {},
   "outputs": [],
   "source": []
  }
 ],
 "metadata": {
  "kernelspec": {
   "display_name": "Python 3",
   "language": "python",
   "name": "python3"
  },
  "language_info": {
   "codemirror_mode": {
    "name": "ipython",
    "version": 3
   },
   "file_extension": ".py",
   "mimetype": "text/x-python",
   "name": "python",
   "nbconvert_exporter": "python",
   "pygments_lexer": "ipython3",
   "version": "3.9.4"
  }
 },
 "nbformat": 4,
 "nbformat_minor": 5
}
