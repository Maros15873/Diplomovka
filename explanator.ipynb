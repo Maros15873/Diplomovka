{
 "cells": [
  {
   "cell_type": "code",
   "execution_count": 235,
   "id": "dda42e17",
   "metadata": {},
   "outputs": [
    {
     "name": "stderr",
     "output_type": "stream",
     "text": [
      "........................................................................................................\n",
      "----------------------------------------------------------------------\n",
      "Ran 104 tests in 1.263s\n",
      "\n",
      "OK\n",
      "........................................................................................................\n",
      "----------------------------------------------------------------------\n",
      "Ran 104 tests in 1.207s\n",
      "\n",
      "OK\n",
      "........................................................................................................\n",
      "----------------------------------------------------------------------\n",
      "Ran 104 tests in 1.189s\n",
      "\n",
      "OK\n",
      "........................................................................................................\n",
      "----------------------------------------------------------------------\n",
      "Ran 104 tests in 1.251s\n",
      "\n",
      "OK\n"
     ]
    },
    {
     "name": "stdout",
     "output_type": "stream",
     "text": [
      "[TREE]\n",
      "implication\n",
      "  conjunction\n",
      "    is\n",
      "      R\n",
      "      transitive\n",
      "    is\n",
      "      S\n",
      "      transitive\n",
      "  is\n",
      "    union\n",
      "      R\n",
      "      S\n",
      "    transitive\n",
      "[/TREE]\n",
      "\n",
      "[RESULT -> True]\n"
     ]
    }
   ],
   "source": [
    "%run interpreter.ipynb"
   ]
  },
  {
   "cell_type": "code",
   "execution_count": 256,
   "id": "a353f55f",
   "metadata": {},
   "outputs": [],
   "source": [
    "relation1 = HomogeneousRelation({(1,2),(2,3)},{1,2,3}, True)\n",
    "# relation2 = HomogeneousRelation({(2,1),(1,3),(2,3)},{1,2,3}, True)\n",
    "\n",
    "#relation1 = HomogeneousRelation({(1,1),(2,2),(3,3)},{1,2,3}, True)\n",
    "relation2 = HomogeneousRelation({(1,1),(2,2),(3,3)},{1,2,3}, True)\n",
    "\n",
    "interpreter = Interpreter({'R':relation1,'S':relation2}, {1,2,3}, True)\n",
    "statement = \"R is transitive and S is transitive -> R | S is transitive\"\n",
    "#statement = \"R is transitive or (S is transitive and (S is not transitive or R is transitive)) -> R | S is transitive\""
   ]
  },
  {
   "cell_type": "code",
   "execution_count": 257,
   "id": "078dad93",
   "metadata": {},
   "outputs": [],
   "source": [
    "def identify(statement):\n",
    "    node = interpreter.parse(statement)\n",
    "    if isinstance(node, Tree):\n",
    "        if node.data == 'implication':\n",
    "            condition, conclusion = node.children  \n",
    "            return (condition, conclusion)\n",
    "        else:\n",
    "            raise Exception(\"Couldn't find condition and conclusion! Statement is not implication!\")\n",
    "    else:\n",
    "        raise Exception(\"Couldn't find condition and conclusion! Statement is not Tree!\")"
   ]
  },
  {
   "cell_type": "code",
   "execution_count": 258,
   "id": "1db87d33",
   "metadata": {},
   "outputs": [],
   "source": [
    "condition, conclusion = identify(statement)"
   ]
  },
  {
   "cell_type": "code",
   "execution_count": 259,
   "id": "d0d56d60",
   "metadata": {},
   "outputs": [
    {
     "name": "stdout",
     "output_type": "stream",
     "text": [
      "Tree('conjunction', [Tree('is', [Token('RELATION', 'R'), Tree('transitive', [])]), Tree('is', [Token('RELATION', 'S'), Tree('transitive', [])])]) Tree('is', [Tree('union', [Token('RELATION', 'R'), Token('RELATION', 'S')]), Tree('transitive', [])])\n"
     ]
    }
   ],
   "source": [
    "print(condition, conclusion)"
   ]
  },
  {
   "cell_type": "code",
   "execution_count": 260,
   "id": "647baa05",
   "metadata": {},
   "outputs": [],
   "source": [
    "def explain(statement, interpreter):\n",
    "    condition, conclusion = identify(statement)\n",
    "    if interpreter.interpret(condition) == False:\n",
    "        print(f\"You made mistake in condition! Condition can not be False!\")\n",
    "        return (condition, True)\n",
    "    elif interpreter.interpret(conclusion) == True:\n",
    "        print(f\"You made mistake in conclusion! Conclusion can not be True!\")\n",
    "        return (conclusion, False)\n",
    "    else:\n",
    "        print(f\"There is nothing wrong! You found good counterexample!\")\n",
    "        return None"
   ]
  },
  {
   "cell_type": "code",
   "execution_count": 261,
   "id": "0a95d586",
   "metadata": {},
   "outputs": [
    {
     "name": "stdout",
     "output_type": "stream",
     "text": [
      "You made mistake in condition! Condition can not be False!\n"
     ]
    },
    {
     "data": {
      "text/plain": [
       "(Tree('conjunction', [Tree('is', [Token('RELATION', 'R'), Tree('transitive', [])]), Tree('is', [Token('RELATION', 'S'), Tree('transitive', [])])]),\n",
       " True)"
      ]
     },
     "execution_count": 261,
     "metadata": {},
     "output_type": "execute_result"
    }
   ],
   "source": [
    "explain(statement, interpreter)"
   ]
  },
  {
   "cell_type": "code",
   "execution_count": 262,
   "id": "4da2bc17",
   "metadata": {},
   "outputs": [],
   "source": [
    "def explain_more(node, desired_boolean_value, interpreter):\n",
    "    if isinstance(node, Tree):\n",
    "        if node.data == 'negation':\n",
    "            return explain_more(node.children[0], not desired_boolean_value, interpreter)\n",
    "        elif len(node.children) == 2:\n",
    "            left, right = node.children \n",
    "            if node.data == 'equal':\n",
    "                if (interpreter.interpret(left) == interpreter.interpret(right)) != desired_boolean_value:\n",
    "                    return [explain_more(left, desired_boolean_value, interpreter), \\\n",
    "                            explain_more(right, desired_boolean_value, interpreter)]\n",
    "            elif node.data == 'not_equal':\n",
    "                if (interpreter.interpret(left) != interpreter.interpret(right)) != desired_boolean_value:\n",
    "                    return [explain_more(left, desired_boolean_value, interpreter), \\\n",
    "                            explain_more(right, desired_boolean_value, interpreter)]\n",
    "            elif node.data == 'greater_than':\n",
    "                if (interpreter.interpret(left) > interpreter.interpret(right)) != desired_boolean_value:\n",
    "                    return [explain_more(left, desired_boolean_value, interpreter), \\\n",
    "                            explain_more(right, desired_boolean_value, interpreter)]\n",
    "            elif node.data == 'lower_than':\n",
    "                if (interpreter.interpret(left) < interpreter.interpret(right)) != desired_boolean_value:\n",
    "                    return [explain_more(left, desired_boolean_value, interpreter), \\\n",
    "                            explain_more(right, desired_boolean_value, interpreter)]\n",
    "            elif node.data == 'greater_equal':\n",
    "                if (interpreter.interpret(left) >= interpreter.interpret(right)) != desired_boolean_value:\n",
    "                    return [explain_more(left, desired_boolean_value, interpreter), \\\n",
    "                            explain_more(right, desired_boolean_value, interpreter)]\n",
    "            elif node.data == 'lower_equal':\n",
    "                if (interpreter.interpret(left) <= interpreter.interpret(right)) != desired_boolean_value:\n",
    "                    return [explain_more(left, desired_boolean_value, interpreter), \\\n",
    "                            explain_more(right, desired_boolean_value, interpreter)]\n",
    "            elif node.data == 'conjunction':\n",
    "                if (interpreter.interpret(left) and interpreter.interpret(right)) != desired_boolean_value:\n",
    "                    return [explain_more(left, desired_boolean_value, interpreter), \\\n",
    "                            explain_more(right, desired_boolean_value, interpreter)]\n",
    "            elif node.data == 'disjunction':\n",
    "                if (interpreter.interpret(left) or interpreter.interpret(right)) != desired_boolean_value:\n",
    "                    return [explain_more(left, desired_boolean_value, interpreter), \\\n",
    "                            explain_more(right, desired_boolean_value, interpreter)]\n",
    "                    \n",
    "            elif node.data == 'implication':\n",
    "                if ((not interpreter.interpret(left)) or interpreter.interpret(right)) != desired_boolean_value:\n",
    "                    return [explain_more(left, desired_boolean_value, interpreter), \\\n",
    "                            explain_more(right, desired_boolean_value, interpreter)]\n",
    "            elif node.data == 'intersection':\n",
    "                if (interpreter.interpret(left) & interpreter.interpret(right)) != desired_boolean_value:\n",
    "                    return [explain_more(left, desired_boolean_value, interpreter), \\\n",
    "                            explain_more(right, desired_boolean_value, interpreter)]\n",
    "            elif node.data == 'union':\n",
    "                if (interpreter.interpret(left) | interpreter.interpret(right)) != desired_boolean_value:\n",
    "                    return [explain_more(left, desired_boolean_value, interpreter), \\\n",
    "                            explain_more(right, desired_boolean_value, interpreter)]\n",
    "            elif node.data == 'difference':\n",
    "                if (interpreter.interpret(left) - interpreter.interpret(right)) != desired_boolean_value:\n",
    "                    return [explain_more(left, desired_boolean_value, interpreter), \\\n",
    "                            explain_more(right, desired_boolean_value, interpreter)]\n",
    "            elif node.data == 'symmetric_difference':\n",
    "                if (interpreter.interpret(left) ^ interpreter.interpret(right)) != desired_boolean_value:\n",
    "                    return [explain_more(left, desired_boolean_value, interpreter), \\\n",
    "                            explain_more(right, desired_boolean_value, interpreter)]\n",
    "            elif node.data == 'multiplication':\n",
    "                if (interpreter.interpret(left) * interpreter.interpret(right)) != desired_boolean_value:\n",
    "                    return [explain_more(left, desired_boolean_value, interpreter), \\\n",
    "                            explain_more(right, desired_boolean_value, interpreter)]\n",
    "            elif node.data == 'composition':\n",
    "                if (interpreter.interpret(left).composition(interpreter.interpret(right))) != desired_boolean_value:\n",
    "                    return [explain_more(left, desired_boolean_value, interpreter), \\\n",
    "                            explain_more(right, desired_boolean_value, interpreter)]\n",
    "            elif node.data == 'is' or node.data == 'is_not':\n",
    "                if node.data == 'is_not':\n",
    "                    desired_boolean_value = not desired_boolean_value\n",
    "                if right.data == 'lattice':            \n",
    "                    if interpreter.interpret(left).is_lattice() != desired_boolean_value:\n",
    "                        #print(f\"Statement\\n{node.pretty()} should be {desired_boolean_value}, but is {not desired_boolean_value}!\")\n",
    "                        return (node, desired_boolean_value)\n",
    "                    else:\n",
    "                        return None             \n",
    "                elif right.data == 'total_order':\n",
    "                    if interpreter.interpret(left).is_total_order() != desired_boolean_value:\n",
    "                        #print(f\"Statement\\n{node.pretty()} should be {desired_boolean_value}, but is {not desired_boolean_value}!\")\n",
    "                        return (node, desired_boolean_value)\n",
    "                    else:\n",
    "                        return None\n",
    "                elif right.data == 'reflexive':\n",
    "                    if interpreter.interpret(left).is_reflexive() != desired_boolean_value:\n",
    "                        #print(f\"Statement\\n{node.pretty()} should be {desired_boolean_value}, but is {not desired_boolean_value}!\")\n",
    "                        return (node, desired_boolean_value)\n",
    "                    else:\n",
    "                        return None\n",
    "                elif right.data == 'symmetric':\n",
    "                    if interpreter.interpret(left).is_symmetric() != desired_boolean_value:\n",
    "                        #print(f\"Statement\\n{node.pretty()} should be {desired_boolean_value}, but is {not desired_boolean_value}!\")\n",
    "                        return (node, desired_boolean_value)\n",
    "                    else:\n",
    "                        return None\n",
    "                elif right.data == 'asymmetric':\n",
    "                    if interpreter.interpret(left).is_assymmetric() != desired_boolean_value:\n",
    "                        #print(f\"Statement\\n{node.pretty()} should be {desired_boolean_value}, but is {not desired_boolean_value}!\")\n",
    "                        return (node, desired_boolean_value)\n",
    "                    else:\n",
    "                        return None\n",
    "                elif right.data == 'antisymmetric':\n",
    "                    if interpreter.interpret(left).is_antisymmetric() != desired_boolean_value:\n",
    "                        #print(f\"Statement\\n{node.pretty()} should be {desired_boolean_value}, but is {not desired_boolean_value}!\")\n",
    "                        return (node, desired_boolean_value)\n",
    "                    else:\n",
    "                        return None\n",
    "                elif right.data == 'transitive':\n",
    "                    if interpreter.interpret(left).is_transitive() != desired_boolean_value:\n",
    "                        #print(f\"Statement\\n{node.pretty()} should be {desired_boolean_value}, but is {not desired_boolean_value}!\")\n",
    "                        return (node, desired_boolean_value)\n",
    "                    else:\n",
    "                        return None\n",
    "        else:\n",
    "            raise Exception(\"ERROR! Unexpected input!\")\n",
    "    else:\n",
    "        raise Exception(\"Can't explain more! You have bad input! I always expect Tree!\")\n",
    "    "
   ]
  },
  {
   "cell_type": "code",
   "execution_count": 263,
   "id": "0a04155d",
   "metadata": {},
   "outputs": [
    {
     "name": "stdout",
     "output_type": "stream",
     "text": [
      "You made mistake in condition! Condition can not be False!\n"
     ]
    }
   ],
   "source": [
    "node, desired_boolean_value = explain(statement, interpreter)"
   ]
  },
  {
   "cell_type": "code",
   "execution_count": 264,
   "id": "c0a5cdfe",
   "metadata": {},
   "outputs": [],
   "source": [
    "return_value = explain_more(node, desired_boolean_value, interpreter)"
   ]
  },
  {
   "cell_type": "code",
   "execution_count": 265,
   "id": "5c42c29b",
   "metadata": {},
   "outputs": [
    {
     "name": "stdout",
     "output_type": "stream",
     "text": [
      "(Tree('is', [Token('RELATION', 'R'), Tree('transitive', [])]), True)\n",
      "None\n"
     ]
    }
   ],
   "source": [
    "for p in return_value:\n",
    "    print(p)"
   ]
  },
  {
   "cell_type": "code",
   "execution_count": 266,
   "id": "69fbea7b",
   "metadata": {},
   "outputs": [
    {
     "data": {
      "text/plain": [
       "2"
      ]
     },
     "execution_count": 266,
     "metadata": {},
     "output_type": "execute_result"
    }
   ],
   "source": [
    "len(return_value)"
   ]
  },
  {
   "cell_type": "code",
   "execution_count": 267,
   "id": "384204d2",
   "metadata": {},
   "outputs": [
    {
     "data": {
      "text/plain": [
       "[(Tree('is', [Token('RELATION', 'R'), Tree('transitive', [])]), True), None]"
      ]
     },
     "execution_count": 267,
     "metadata": {},
     "output_type": "execute_result"
    }
   ],
   "source": [
    "return_value"
   ]
  },
  {
   "cell_type": "code",
   "execution_count": 269,
   "id": "6843962d",
   "metadata": {},
   "outputs": [
    {
     "name": "stdout",
     "output_type": "stream",
     "text": [
      "\n",
      "[(Tree('is', [Token('RELATION', 'R'), Tree('transitive', [])]), True), None]\n"
     ]
    }
   ],
   "source": [
    "return_value = explain_more(node, desired_boolean_value, interpreter)\n",
    "while len(return_value) == 2:\n",
    "    a, b = return_value\n",
    "    print()\n",
    "    if b == True or b == False or b is None:\n",
    "        print(return_value)\n",
    "        break\n",
    "    else:\n",
    "        print(a)\n",
    "        return_value = b"
   ]
  },
  {
   "cell_type": "code",
   "execution_count": null,
   "id": "2f5c0d63",
   "metadata": {},
   "outputs": [],
   "source": []
  },
  {
   "cell_type": "code",
   "execution_count": null,
   "id": "bfb3cb28",
   "metadata": {},
   "outputs": [],
   "source": []
  }
 ],
 "metadata": {
  "kernelspec": {
   "display_name": "Python 3",
   "language": "python",
   "name": "python3"
  },
  "language_info": {
   "codemirror_mode": {
    "name": "ipython",
    "version": 3
   },
   "file_extension": ".py",
   "mimetype": "text/x-python",
   "name": "python",
   "nbconvert_exporter": "python",
   "pygments_lexer": "ipython3",
   "version": "3.9.4"
  }
 },
 "nbformat": 4,
 "nbformat_minor": 5
}
